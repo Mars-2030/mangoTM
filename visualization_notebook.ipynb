{
 "cells": [
  {
   "cell_type": "markdown",
   "id": "2c5df2a3-a3a1-452e-bcad-9e5b52274734",
   "metadata": {},
   "source": [
    "# Topic Modeling Visualization Notebook\n",
    "\n",
    "This notebook provides interactive visualization of LDA topic modeling results.\n",
    "\n",
    "## Running this Notebook\n",
    "\n",
    "To run this notebook:\n",
    "\n",
    "1. Make sure you have run the topic modeling system first to generate the necessary output files\n",
    "2. Install the required packages: `pip install pandas numpy matplotlib seaborn plotly ipywidgets wordcloud scikit-learn networkx`\n",
    "3. Start Jupyter: `jupyter notebook` or `jupyter lab`\n",
    "4. Open this notebook and run all cells\n",
    "\n",
    "## Customization\n",
    "\n",
    "You can customize this notebook by:\n",
    "\n",
    "- Changing the file paths at the top if your results are in a different location\n",
    "- Adjusting the visualization parameters (colors, sizes, etc.)\n",
    "- Adding new visualizations based on your specific analysis needs\n",
    "\n",
    "\n"
   ]
  },
  {
   "cell_type": "code",
   "execution_count": 1,
   "id": "5030db88-6c7d-4e70-b9c8-9774b1f2d0f5",
   "metadata": {},
   "outputs": [],
   "source": [
    "import pandas as pd\n",
    "import numpy as np\n",
    "import matplotlib.pyplot as plt\n",
    "import seaborn as sns\n",
    "import plotly.express as px\n",
    "import plotly.graph_objects as go\n",
    "from plotly.subplots import make_subplots\n",
    "from IPython.display import display, HTML\n",
    "import ipywidgets as widgets\n",
    "from wordcloud import WordCloud\n",
    "import datetime\n",
    "import os"
   ]
  },
  {
   "cell_type": "code",
   "execution_count": 2,
   "id": "80c19c12-d1cd-4c85-97c1-a2922e1e113a",
   "metadata": {},
   "outputs": [
    {
     "name": "stdout",
     "output_type": "stream",
     "text": [
      "Loaded topic data for 443 users across 12 topics\n",
      "Found 438 suspicious users\n"
     ]
    }
   ],
   "source": [
    "# Load the user topic data\n",
    "USER_TOPIC_DATA_PATH = \"topic_analysis_results/streamlined_tweets_analysis/lda_results/user_topic_data.csv\"\n",
    "SUSPICIOUS_USERS_PATH = \"topic_analysis_results/streamlined_tweets_analysis/lda_results/suspicious_users.csv\"\n",
    "\n",
    "# USER_TOPIC_DATA_PATH = \"topic_analysis_results/streamlined_tweets_analysis/bertopic_results/user_topic_data.csv\"\n",
    "# SUSPICIOUS_USERS_PATH = \"topic_analysis_results/streamlined_tweets_analysis/bertopic_results/suspicious_users.csv\"\n",
    "\n",
    "\n",
    "# Load data\n",
    "user_topic_df = pd.read_csv(USER_TOPIC_DATA_PATH)\n",
    "suspicious_df = pd.read_csv(SUSPICIOUS_USERS_PATH)\n",
    "\n",
    "# Count number of topics\n",
    "topic_cols = [col for col in user_topic_df.columns if col.startswith('Topic_')]\n",
    "num_topics = len(topic_cols)\n",
    "\n",
    "# Count users and suspicious users\n",
    "total_users = len(user_topic_df)\n",
    "suspicious_users = sum(suspicious_df['suspicious'])\n",
    "\n",
    "print(f\"Loaded topic data for {total_users} users across {num_topics} topics\")\n",
    "print(f\"Found {suspicious_users} suspicious users\")\n"
   ]
  },
  {
   "cell_type": "markdown",
   "id": "7b408f99-b4a8-4c5d-91a3-383966af9550",
   "metadata": {},
   "source": [
    "# 1. Topic Word Distributions (if available)"
   ]
  },
  {
   "cell_type": "code",
   "execution_count": 3,
   "id": "f40b14d8-137f-47df-b8f9-150def63dd9f",
   "metadata": {},
   "outputs": [
    {
     "data": {
      "application/vnd.jupyter.widget-view+json": {
       "model_id": "f7c22d00e91846d983179cf43225fc69",
       "version_major": 2,
       "version_minor": 0
      },
      "text/plain": [
       "VBox(children=(HTML(value='<h3>Topic Word Distributions</h3>'), IntSlider(value=0, continuous_update=False, de…"
      ]
     },
     "metadata": {},
     "output_type": "display_data"
    }
   ],
   "source": [
    "# We'll assume you have a topics.csv file with top words per topic\n",
    "topics_file = \"topic_analysis_results/streamlined_tweets_analysis/lda_results/topic_words.csv\"\n",
    "\n",
    "# topics_file = \"topic_analysis_results/streamlined_tweets_analysis_8_week/bertopic_results/topic_words.csv\"\n",
    "\n",
    "if os.path.exists(topics_file):\n",
    "    topics_df = pd.read_csv(topics_file)\n",
    "    \n",
    "    def display_topic_words(topic_id):\n",
    "        topic_id = topic_selector.value\n",
    "        topic_words = topics_df[topics_df['topic_id'] == topic_id]\n",
    "        \n",
    "        # Create word cloud\n",
    "        word_dict = dict(zip(topic_words['word'], topic_words['weight']))\n",
    "        wc = WordCloud(width=800, height=400, background_color='white', \n",
    "                      colormap='viridis', max_words=30)\n",
    "        wc.generate_from_frequencies(word_dict)\n",
    "        \n",
    "        # Display\n",
    "        plt.figure(figsize=(10, 5))\n",
    "        plt.imshow(wc, interpolation='bilinear')\n",
    "        plt.axis('off')\n",
    "        plt.title(f'Top Words for Topic {topic_id}')\n",
    "        plt.show()\n",
    "        \n",
    "        # Also show as a bar chart\n",
    "        plt.figure(figsize=(12, 5))\n",
    "        sns.barplot(x='weight', y='word', data=topic_words.sort_values('weight', ascending=False).head(15))\n",
    "        plt.title(f'Top 15 Words for Topic {topic_id}')\n",
    "        plt.tight_layout()\n",
    "        plt.show()\n",
    "    \n",
    "    # Create a topic selector widget\n",
    "    topic_selector = widgets.IntSlider(\n",
    "        value=0,\n",
    "        min=0,\n",
    "        max=num_topics-1,\n",
    "        step=1,\n",
    "        description='Topic:',\n",
    "        continuous_update=False\n",
    "    )\n",
    "    \n",
    "    # Display interactive widget\n",
    "    display(widgets.VBox([\n",
    "        widgets.HTML('<h3>Topic Word Distributions</h3>'),\n",
    "        topic_selector,\n",
    "        widgets.interactive_output(display_topic_words, {'topic_id': topic_selector})\n",
    "    ]))\n",
    "else:\n",
    "    print(\"Topics file not found. Skipping topic word visualization.\")\n"
   ]
  },
  {
   "cell_type": "markdown",
   "id": "04901fde-5fab-4630-97ae-067c3fc02d9d",
   "metadata": {},
   "source": [
    "# 2. User Topic Distribution Visualization\n"
   ]
  },
  {
   "cell_type": "code",
   "execution_count": 4,
   "id": "3c7d3c4d-94ba-4d58-bddb-3fc174287266",
   "metadata": {},
   "outputs": [
    {
     "data": {
      "application/vnd.plotly.v1+json": {
       "config": {
        "plotlyServerURL": "https://plot.ly"
       },
       "data": [
        {
         "hole": 0.3,
         "hoverinfo": "label+percent",
         "labels": [
          "Topic 4 (0.52)",
          "Topic 8 (0.27)",
          "Topic 10 (0.15)",
          "Other (0.06)"
         ],
         "textinfo": "percent",
         "type": "pie",
         "values": [
          0.519749,
          0.271306,
          0.147496,
          0.06145000000000001
         ]
        }
       ],
       "layout": {
        "height": 500,
        "template": {
         "data": {
          "bar": [
           {
            "error_x": {
             "color": "#2a3f5f"
            },
            "error_y": {
             "color": "#2a3f5f"
            },
            "marker": {
             "line": {
              "color": "#E5ECF6",
              "width": 0.5
             },
             "pattern": {
              "fillmode": "overlay",
              "size": 10,
              "solidity": 0.2
             }
            },
            "type": "bar"
           }
          ],
          "barpolar": [
           {
            "marker": {
             "line": {
              "color": "#E5ECF6",
              "width": 0.5
             },
             "pattern": {
              "fillmode": "overlay",
              "size": 10,
              "solidity": 0.2
             }
            },
            "type": "barpolar"
           }
          ],
          "carpet": [
           {
            "aaxis": {
             "endlinecolor": "#2a3f5f",
             "gridcolor": "white",
             "linecolor": "white",
             "minorgridcolor": "white",
             "startlinecolor": "#2a3f5f"
            },
            "baxis": {
             "endlinecolor": "#2a3f5f",
             "gridcolor": "white",
             "linecolor": "white",
             "minorgridcolor": "white",
             "startlinecolor": "#2a3f5f"
            },
            "type": "carpet"
           }
          ],
          "choropleth": [
           {
            "colorbar": {
             "outlinewidth": 0,
             "ticks": ""
            },
            "type": "choropleth"
           }
          ],
          "contour": [
           {
            "colorbar": {
             "outlinewidth": 0,
             "ticks": ""
            },
            "colorscale": [
             [
              0,
              "#0d0887"
             ],
             [
              0.1111111111111111,
              "#46039f"
             ],
             [
              0.2222222222222222,
              "#7201a8"
             ],
             [
              0.3333333333333333,
              "#9c179e"
             ],
             [
              0.4444444444444444,
              "#bd3786"
             ],
             [
              0.5555555555555556,
              "#d8576b"
             ],
             [
              0.6666666666666666,
              "#ed7953"
             ],
             [
              0.7777777777777778,
              "#fb9f3a"
             ],
             [
              0.8888888888888888,
              "#fdca26"
             ],
             [
              1,
              "#f0f921"
             ]
            ],
            "type": "contour"
           }
          ],
          "contourcarpet": [
           {
            "colorbar": {
             "outlinewidth": 0,
             "ticks": ""
            },
            "type": "contourcarpet"
           }
          ],
          "heatmap": [
           {
            "colorbar": {
             "outlinewidth": 0,
             "ticks": ""
            },
            "colorscale": [
             [
              0,
              "#0d0887"
             ],
             [
              0.1111111111111111,
              "#46039f"
             ],
             [
              0.2222222222222222,
              "#7201a8"
             ],
             [
              0.3333333333333333,
              "#9c179e"
             ],
             [
              0.4444444444444444,
              "#bd3786"
             ],
             [
              0.5555555555555556,
              "#d8576b"
             ],
             [
              0.6666666666666666,
              "#ed7953"
             ],
             [
              0.7777777777777778,
              "#fb9f3a"
             ],
             [
              0.8888888888888888,
              "#fdca26"
             ],
             [
              1,
              "#f0f921"
             ]
            ],
            "type": "heatmap"
           }
          ],
          "heatmapgl": [
           {
            "colorbar": {
             "outlinewidth": 0,
             "ticks": ""
            },
            "colorscale": [
             [
              0,
              "#0d0887"
             ],
             [
              0.1111111111111111,
              "#46039f"
             ],
             [
              0.2222222222222222,
              "#7201a8"
             ],
             [
              0.3333333333333333,
              "#9c179e"
             ],
             [
              0.4444444444444444,
              "#bd3786"
             ],
             [
              0.5555555555555556,
              "#d8576b"
             ],
             [
              0.6666666666666666,
              "#ed7953"
             ],
             [
              0.7777777777777778,
              "#fb9f3a"
             ],
             [
              0.8888888888888888,
              "#fdca26"
             ],
             [
              1,
              "#f0f921"
             ]
            ],
            "type": "heatmapgl"
           }
          ],
          "histogram": [
           {
            "marker": {
             "pattern": {
              "fillmode": "overlay",
              "size": 10,
              "solidity": 0.2
             }
            },
            "type": "histogram"
           }
          ],
          "histogram2d": [
           {
            "colorbar": {
             "outlinewidth": 0,
             "ticks": ""
            },
            "colorscale": [
             [
              0,
              "#0d0887"
             ],
             [
              0.1111111111111111,
              "#46039f"
             ],
             [
              0.2222222222222222,
              "#7201a8"
             ],
             [
              0.3333333333333333,
              "#9c179e"
             ],
             [
              0.4444444444444444,
              "#bd3786"
             ],
             [
              0.5555555555555556,
              "#d8576b"
             ],
             [
              0.6666666666666666,
              "#ed7953"
             ],
             [
              0.7777777777777778,
              "#fb9f3a"
             ],
             [
              0.8888888888888888,
              "#fdca26"
             ],
             [
              1,
              "#f0f921"
             ]
            ],
            "type": "histogram2d"
           }
          ],
          "histogram2dcontour": [
           {
            "colorbar": {
             "outlinewidth": 0,
             "ticks": ""
            },
            "colorscale": [
             [
              0,
              "#0d0887"
             ],
             [
              0.1111111111111111,
              "#46039f"
             ],
             [
              0.2222222222222222,
              "#7201a8"
             ],
             [
              0.3333333333333333,
              "#9c179e"
             ],
             [
              0.4444444444444444,
              "#bd3786"
             ],
             [
              0.5555555555555556,
              "#d8576b"
             ],
             [
              0.6666666666666666,
              "#ed7953"
             ],
             [
              0.7777777777777778,
              "#fb9f3a"
             ],
             [
              0.8888888888888888,
              "#fdca26"
             ],
             [
              1,
              "#f0f921"
             ]
            ],
            "type": "histogram2dcontour"
           }
          ],
          "mesh3d": [
           {
            "colorbar": {
             "outlinewidth": 0,
             "ticks": ""
            },
            "type": "mesh3d"
           }
          ],
          "parcoords": [
           {
            "line": {
             "colorbar": {
              "outlinewidth": 0,
              "ticks": ""
             }
            },
            "type": "parcoords"
           }
          ],
          "pie": [
           {
            "automargin": true,
            "type": "pie"
           }
          ],
          "scatter": [
           {
            "fillpattern": {
             "fillmode": "overlay",
             "size": 10,
             "solidity": 0.2
            },
            "type": "scatter"
           }
          ],
          "scatter3d": [
           {
            "line": {
             "colorbar": {
              "outlinewidth": 0,
              "ticks": ""
             }
            },
            "marker": {
             "colorbar": {
              "outlinewidth": 0,
              "ticks": ""
             }
            },
            "type": "scatter3d"
           }
          ],
          "scattercarpet": [
           {
            "marker": {
             "colorbar": {
              "outlinewidth": 0,
              "ticks": ""
             }
            },
            "type": "scattercarpet"
           }
          ],
          "scattergeo": [
           {
            "marker": {
             "colorbar": {
              "outlinewidth": 0,
              "ticks": ""
             }
            },
            "type": "scattergeo"
           }
          ],
          "scattergl": [
           {
            "marker": {
             "colorbar": {
              "outlinewidth": 0,
              "ticks": ""
             }
            },
            "type": "scattergl"
           }
          ],
          "scattermapbox": [
           {
            "marker": {
             "colorbar": {
              "outlinewidth": 0,
              "ticks": ""
             }
            },
            "type": "scattermapbox"
           }
          ],
          "scatterpolar": [
           {
            "marker": {
             "colorbar": {
              "outlinewidth": 0,
              "ticks": ""
             }
            },
            "type": "scatterpolar"
           }
          ],
          "scatterpolargl": [
           {
            "marker": {
             "colorbar": {
              "outlinewidth": 0,
              "ticks": ""
             }
            },
            "type": "scatterpolargl"
           }
          ],
          "scatterternary": [
           {
            "marker": {
             "colorbar": {
              "outlinewidth": 0,
              "ticks": ""
             }
            },
            "type": "scatterternary"
           }
          ],
          "surface": [
           {
            "colorbar": {
             "outlinewidth": 0,
             "ticks": ""
            },
            "colorscale": [
             [
              0,
              "#0d0887"
             ],
             [
              0.1111111111111111,
              "#46039f"
             ],
             [
              0.2222222222222222,
              "#7201a8"
             ],
             [
              0.3333333333333333,
              "#9c179e"
             ],
             [
              0.4444444444444444,
              "#bd3786"
             ],
             [
              0.5555555555555556,
              "#d8576b"
             ],
             [
              0.6666666666666666,
              "#ed7953"
             ],
             [
              0.7777777777777778,
              "#fb9f3a"
             ],
             [
              0.8888888888888888,
              "#fdca26"
             ],
             [
              1,
              "#f0f921"
             ]
            ],
            "type": "surface"
           }
          ],
          "table": [
           {
            "cells": {
             "fill": {
              "color": "#EBF0F8"
             },
             "line": {
              "color": "white"
             }
            },
            "header": {
             "fill": {
              "color": "#C8D4E3"
             },
             "line": {
              "color": "white"
             }
            },
            "type": "table"
           }
          ]
         },
         "layout": {
          "annotationdefaults": {
           "arrowcolor": "#2a3f5f",
           "arrowhead": 0,
           "arrowwidth": 1
          },
          "autotypenumbers": "strict",
          "coloraxis": {
           "colorbar": {
            "outlinewidth": 0,
            "ticks": ""
           }
          },
          "colorscale": {
           "diverging": [
            [
             0,
             "#8e0152"
            ],
            [
             0.1,
             "#c51b7d"
            ],
            [
             0.2,
             "#de77ae"
            ],
            [
             0.3,
             "#f1b6da"
            ],
            [
             0.4,
             "#fde0ef"
            ],
            [
             0.5,
             "#f7f7f7"
            ],
            [
             0.6,
             "#e6f5d0"
            ],
            [
             0.7,
             "#b8e186"
            ],
            [
             0.8,
             "#7fbc41"
            ],
            [
             0.9,
             "#4d9221"
            ],
            [
             1,
             "#276419"
            ]
           ],
           "sequential": [
            [
             0,
             "#0d0887"
            ],
            [
             0.1111111111111111,
             "#46039f"
            ],
            [
             0.2222222222222222,
             "#7201a8"
            ],
            [
             0.3333333333333333,
             "#9c179e"
            ],
            [
             0.4444444444444444,
             "#bd3786"
            ],
            [
             0.5555555555555556,
             "#d8576b"
            ],
            [
             0.6666666666666666,
             "#ed7953"
            ],
            [
             0.7777777777777778,
             "#fb9f3a"
            ],
            [
             0.8888888888888888,
             "#fdca26"
            ],
            [
             1,
             "#f0f921"
            ]
           ],
           "sequentialminus": [
            [
             0,
             "#0d0887"
            ],
            [
             0.1111111111111111,
             "#46039f"
            ],
            [
             0.2222222222222222,
             "#7201a8"
            ],
            [
             0.3333333333333333,
             "#9c179e"
            ],
            [
             0.4444444444444444,
             "#bd3786"
            ],
            [
             0.5555555555555556,
             "#d8576b"
            ],
            [
             0.6666666666666666,
             "#ed7953"
            ],
            [
             0.7777777777777778,
             "#fb9f3a"
            ],
            [
             0.8888888888888888,
             "#fdca26"
            ],
            [
             1,
             "#f0f921"
            ]
           ]
          },
          "colorway": [
           "#636efa",
           "#EF553B",
           "#00cc96",
           "#ab63fa",
           "#FFA15A",
           "#19d3f3",
           "#FF6692",
           "#B6E880",
           "#FF97FF",
           "#FECB52"
          ],
          "font": {
           "color": "#2a3f5f"
          },
          "geo": {
           "bgcolor": "white",
           "lakecolor": "white",
           "landcolor": "#E5ECF6",
           "showlakes": true,
           "showland": true,
           "subunitcolor": "white"
          },
          "hoverlabel": {
           "align": "left"
          },
          "hovermode": "closest",
          "mapbox": {
           "style": "light"
          },
          "paper_bgcolor": "white",
          "plot_bgcolor": "#E5ECF6",
          "polar": {
           "angularaxis": {
            "gridcolor": "white",
            "linecolor": "white",
            "ticks": ""
           },
           "bgcolor": "#E5ECF6",
           "radialaxis": {
            "gridcolor": "white",
            "linecolor": "white",
            "ticks": ""
           }
          },
          "scene": {
           "xaxis": {
            "backgroundcolor": "#E5ECF6",
            "gridcolor": "white",
            "gridwidth": 2,
            "linecolor": "white",
            "showbackground": true,
            "ticks": "",
            "zerolinecolor": "white"
           },
           "yaxis": {
            "backgroundcolor": "#E5ECF6",
            "gridcolor": "white",
            "gridwidth": 2,
            "linecolor": "white",
            "showbackground": true,
            "ticks": "",
            "zerolinecolor": "white"
           },
           "zaxis": {
            "backgroundcolor": "#E5ECF6",
            "gridcolor": "white",
            "gridwidth": 2,
            "linecolor": "white",
            "showbackground": true,
            "ticks": "",
            "zerolinecolor": "white"
           }
          },
          "shapedefaults": {
           "line": {
            "color": "#2a3f5f"
           }
          },
          "ternary": {
           "aaxis": {
            "gridcolor": "white",
            "linecolor": "white",
            "ticks": ""
           },
           "baxis": {
            "gridcolor": "white",
            "linecolor": "white",
            "ticks": ""
           },
           "bgcolor": "#E5ECF6",
           "caxis": {
            "gridcolor": "white",
            "linecolor": "white",
            "ticks": ""
           }
          },
          "title": {
           "x": 0.05
          },
          "xaxis": {
           "automargin": true,
           "gridcolor": "white",
           "linecolor": "white",
           "ticks": "",
           "title": {
            "standoff": 15
           },
           "zerolinecolor": "white",
           "zerolinewidth": 2
          },
          "yaxis": {
           "automargin": true,
           "gridcolor": "white",
           "linecolor": "white",
           "ticks": "",
           "title": {
            "standoff": 15
           },
           "zerolinecolor": "white",
           "zerolinewidth": 2
          }
         }
        },
        "title": {
         "text": "Topic Distribution for User 4ever1937"
        }
       }
      }
     },
     "metadata": {},
     "output_type": "display_data"
    },
    {
     "data": {
      "application/vnd.jupyter.widget-view+json": {
       "model_id": "5d850d075c124071bd9b47a3a64b2b5f",
       "version_major": 2,
       "version_minor": 0
      },
      "text/plain": [
       "VBox(children=(HTML(value='<h3>User Topic Distribution</h3>'), Dropdown(description='User:', options=('4ever19…"
      ]
     },
     "metadata": {},
     "output_type": "display_data"
    },
    {
     "data": {
      "application/vnd.plotly.v1+json": {
       "config": {
        "plotlyServerURL": "https://plot.ly"
       },
       "data": [
        {
         "hole": 0.3,
         "hoverinfo": "label+percent",
         "labels": [
          "Topic 8 (0.53)",
          "Topic 10 (0.14)",
          "Topic 4 (0.14)",
          "Topic 0 (0.12)",
          "Other (0.07)"
         ],
         "textinfo": "percent",
         "type": "pie",
         "values": [
          0.534837,
          0.13742,
          0.136048,
          0.118221,
          0.073474
         ]
        }
       ],
       "layout": {
        "height": 500,
        "template": {
         "data": {
          "bar": [
           {
            "error_x": {
             "color": "#2a3f5f"
            },
            "error_y": {
             "color": "#2a3f5f"
            },
            "marker": {
             "line": {
              "color": "#E5ECF6",
              "width": 0.5
             },
             "pattern": {
              "fillmode": "overlay",
              "size": 10,
              "solidity": 0.2
             }
            },
            "type": "bar"
           }
          ],
          "barpolar": [
           {
            "marker": {
             "line": {
              "color": "#E5ECF6",
              "width": 0.5
             },
             "pattern": {
              "fillmode": "overlay",
              "size": 10,
              "solidity": 0.2
             }
            },
            "type": "barpolar"
           }
          ],
          "carpet": [
           {
            "aaxis": {
             "endlinecolor": "#2a3f5f",
             "gridcolor": "white",
             "linecolor": "white",
             "minorgridcolor": "white",
             "startlinecolor": "#2a3f5f"
            },
            "baxis": {
             "endlinecolor": "#2a3f5f",
             "gridcolor": "white",
             "linecolor": "white",
             "minorgridcolor": "white",
             "startlinecolor": "#2a3f5f"
            },
            "type": "carpet"
           }
          ],
          "choropleth": [
           {
            "colorbar": {
             "outlinewidth": 0,
             "ticks": ""
            },
            "type": "choropleth"
           }
          ],
          "contour": [
           {
            "colorbar": {
             "outlinewidth": 0,
             "ticks": ""
            },
            "colorscale": [
             [
              0,
              "#0d0887"
             ],
             [
              0.1111111111111111,
              "#46039f"
             ],
             [
              0.2222222222222222,
              "#7201a8"
             ],
             [
              0.3333333333333333,
              "#9c179e"
             ],
             [
              0.4444444444444444,
              "#bd3786"
             ],
             [
              0.5555555555555556,
              "#d8576b"
             ],
             [
              0.6666666666666666,
              "#ed7953"
             ],
             [
              0.7777777777777778,
              "#fb9f3a"
             ],
             [
              0.8888888888888888,
              "#fdca26"
             ],
             [
              1,
              "#f0f921"
             ]
            ],
            "type": "contour"
           }
          ],
          "contourcarpet": [
           {
            "colorbar": {
             "outlinewidth": 0,
             "ticks": ""
            },
            "type": "contourcarpet"
           }
          ],
          "heatmap": [
           {
            "colorbar": {
             "outlinewidth": 0,
             "ticks": ""
            },
            "colorscale": [
             [
              0,
              "#0d0887"
             ],
             [
              0.1111111111111111,
              "#46039f"
             ],
             [
              0.2222222222222222,
              "#7201a8"
             ],
             [
              0.3333333333333333,
              "#9c179e"
             ],
             [
              0.4444444444444444,
              "#bd3786"
             ],
             [
              0.5555555555555556,
              "#d8576b"
             ],
             [
              0.6666666666666666,
              "#ed7953"
             ],
             [
              0.7777777777777778,
              "#fb9f3a"
             ],
             [
              0.8888888888888888,
              "#fdca26"
             ],
             [
              1,
              "#f0f921"
             ]
            ],
            "type": "heatmap"
           }
          ],
          "heatmapgl": [
           {
            "colorbar": {
             "outlinewidth": 0,
             "ticks": ""
            },
            "colorscale": [
             [
              0,
              "#0d0887"
             ],
             [
              0.1111111111111111,
              "#46039f"
             ],
             [
              0.2222222222222222,
              "#7201a8"
             ],
             [
              0.3333333333333333,
              "#9c179e"
             ],
             [
              0.4444444444444444,
              "#bd3786"
             ],
             [
              0.5555555555555556,
              "#d8576b"
             ],
             [
              0.6666666666666666,
              "#ed7953"
             ],
             [
              0.7777777777777778,
              "#fb9f3a"
             ],
             [
              0.8888888888888888,
              "#fdca26"
             ],
             [
              1,
              "#f0f921"
             ]
            ],
            "type": "heatmapgl"
           }
          ],
          "histogram": [
           {
            "marker": {
             "pattern": {
              "fillmode": "overlay",
              "size": 10,
              "solidity": 0.2
             }
            },
            "type": "histogram"
           }
          ],
          "histogram2d": [
           {
            "colorbar": {
             "outlinewidth": 0,
             "ticks": ""
            },
            "colorscale": [
             [
              0,
              "#0d0887"
             ],
             [
              0.1111111111111111,
              "#46039f"
             ],
             [
              0.2222222222222222,
              "#7201a8"
             ],
             [
              0.3333333333333333,
              "#9c179e"
             ],
             [
              0.4444444444444444,
              "#bd3786"
             ],
             [
              0.5555555555555556,
              "#d8576b"
             ],
             [
              0.6666666666666666,
              "#ed7953"
             ],
             [
              0.7777777777777778,
              "#fb9f3a"
             ],
             [
              0.8888888888888888,
              "#fdca26"
             ],
             [
              1,
              "#f0f921"
             ]
            ],
            "type": "histogram2d"
           }
          ],
          "histogram2dcontour": [
           {
            "colorbar": {
             "outlinewidth": 0,
             "ticks": ""
            },
            "colorscale": [
             [
              0,
              "#0d0887"
             ],
             [
              0.1111111111111111,
              "#46039f"
             ],
             [
              0.2222222222222222,
              "#7201a8"
             ],
             [
              0.3333333333333333,
              "#9c179e"
             ],
             [
              0.4444444444444444,
              "#bd3786"
             ],
             [
              0.5555555555555556,
              "#d8576b"
             ],
             [
              0.6666666666666666,
              "#ed7953"
             ],
             [
              0.7777777777777778,
              "#fb9f3a"
             ],
             [
              0.8888888888888888,
              "#fdca26"
             ],
             [
              1,
              "#f0f921"
             ]
            ],
            "type": "histogram2dcontour"
           }
          ],
          "mesh3d": [
           {
            "colorbar": {
             "outlinewidth": 0,
             "ticks": ""
            },
            "type": "mesh3d"
           }
          ],
          "parcoords": [
           {
            "line": {
             "colorbar": {
              "outlinewidth": 0,
              "ticks": ""
             }
            },
            "type": "parcoords"
           }
          ],
          "pie": [
           {
            "automargin": true,
            "type": "pie"
           }
          ],
          "scatter": [
           {
            "fillpattern": {
             "fillmode": "overlay",
             "size": 10,
             "solidity": 0.2
            },
            "type": "scatter"
           }
          ],
          "scatter3d": [
           {
            "line": {
             "colorbar": {
              "outlinewidth": 0,
              "ticks": ""
             }
            },
            "marker": {
             "colorbar": {
              "outlinewidth": 0,
              "ticks": ""
             }
            },
            "type": "scatter3d"
           }
          ],
          "scattercarpet": [
           {
            "marker": {
             "colorbar": {
              "outlinewidth": 0,
              "ticks": ""
             }
            },
            "type": "scattercarpet"
           }
          ],
          "scattergeo": [
           {
            "marker": {
             "colorbar": {
              "outlinewidth": 0,
              "ticks": ""
             }
            },
            "type": "scattergeo"
           }
          ],
          "scattergl": [
           {
            "marker": {
             "colorbar": {
              "outlinewidth": 0,
              "ticks": ""
             }
            },
            "type": "scattergl"
           }
          ],
          "scattermapbox": [
           {
            "marker": {
             "colorbar": {
              "outlinewidth": 0,
              "ticks": ""
             }
            },
            "type": "scattermapbox"
           }
          ],
          "scatterpolar": [
           {
            "marker": {
             "colorbar": {
              "outlinewidth": 0,
              "ticks": ""
             }
            },
            "type": "scatterpolar"
           }
          ],
          "scatterpolargl": [
           {
            "marker": {
             "colorbar": {
              "outlinewidth": 0,
              "ticks": ""
             }
            },
            "type": "scatterpolargl"
           }
          ],
          "scatterternary": [
           {
            "marker": {
             "colorbar": {
              "outlinewidth": 0,
              "ticks": ""
             }
            },
            "type": "scatterternary"
           }
          ],
          "surface": [
           {
            "colorbar": {
             "outlinewidth": 0,
             "ticks": ""
            },
            "colorscale": [
             [
              0,
              "#0d0887"
             ],
             [
              0.1111111111111111,
              "#46039f"
             ],
             [
              0.2222222222222222,
              "#7201a8"
             ],
             [
              0.3333333333333333,
              "#9c179e"
             ],
             [
              0.4444444444444444,
              "#bd3786"
             ],
             [
              0.5555555555555556,
              "#d8576b"
             ],
             [
              0.6666666666666666,
              "#ed7953"
             ],
             [
              0.7777777777777778,
              "#fb9f3a"
             ],
             [
              0.8888888888888888,
              "#fdca26"
             ],
             [
              1,
              "#f0f921"
             ]
            ],
            "type": "surface"
           }
          ],
          "table": [
           {
            "cells": {
             "fill": {
              "color": "#EBF0F8"
             },
             "line": {
              "color": "white"
             }
            },
            "header": {
             "fill": {
              "color": "#C8D4E3"
             },
             "line": {
              "color": "white"
             }
            },
            "type": "table"
           }
          ]
         },
         "layout": {
          "annotationdefaults": {
           "arrowcolor": "#2a3f5f",
           "arrowhead": 0,
           "arrowwidth": 1
          },
          "autotypenumbers": "strict",
          "coloraxis": {
           "colorbar": {
            "outlinewidth": 0,
            "ticks": ""
           }
          },
          "colorscale": {
           "diverging": [
            [
             0,
             "#8e0152"
            ],
            [
             0.1,
             "#c51b7d"
            ],
            [
             0.2,
             "#de77ae"
            ],
            [
             0.3,
             "#f1b6da"
            ],
            [
             0.4,
             "#fde0ef"
            ],
            [
             0.5,
             "#f7f7f7"
            ],
            [
             0.6,
             "#e6f5d0"
            ],
            [
             0.7,
             "#b8e186"
            ],
            [
             0.8,
             "#7fbc41"
            ],
            [
             0.9,
             "#4d9221"
            ],
            [
             1,
             "#276419"
            ]
           ],
           "sequential": [
            [
             0,
             "#0d0887"
            ],
            [
             0.1111111111111111,
             "#46039f"
            ],
            [
             0.2222222222222222,
             "#7201a8"
            ],
            [
             0.3333333333333333,
             "#9c179e"
            ],
            [
             0.4444444444444444,
             "#bd3786"
            ],
            [
             0.5555555555555556,
             "#d8576b"
            ],
            [
             0.6666666666666666,
             "#ed7953"
            ],
            [
             0.7777777777777778,
             "#fb9f3a"
            ],
            [
             0.8888888888888888,
             "#fdca26"
            ],
            [
             1,
             "#f0f921"
            ]
           ],
           "sequentialminus": [
            [
             0,
             "#0d0887"
            ],
            [
             0.1111111111111111,
             "#46039f"
            ],
            [
             0.2222222222222222,
             "#7201a8"
            ],
            [
             0.3333333333333333,
             "#9c179e"
            ],
            [
             0.4444444444444444,
             "#bd3786"
            ],
            [
             0.5555555555555556,
             "#d8576b"
            ],
            [
             0.6666666666666666,
             "#ed7953"
            ],
            [
             0.7777777777777778,
             "#fb9f3a"
            ],
            [
             0.8888888888888888,
             "#fdca26"
            ],
            [
             1,
             "#f0f921"
            ]
           ]
          },
          "colorway": [
           "#636efa",
           "#EF553B",
           "#00cc96",
           "#ab63fa",
           "#FFA15A",
           "#19d3f3",
           "#FF6692",
           "#B6E880",
           "#FF97FF",
           "#FECB52"
          ],
          "font": {
           "color": "#2a3f5f"
          },
          "geo": {
           "bgcolor": "white",
           "lakecolor": "white",
           "landcolor": "#E5ECF6",
           "showlakes": true,
           "showland": true,
           "subunitcolor": "white"
          },
          "hoverlabel": {
           "align": "left"
          },
          "hovermode": "closest",
          "mapbox": {
           "style": "light"
          },
          "paper_bgcolor": "white",
          "plot_bgcolor": "#E5ECF6",
          "polar": {
           "angularaxis": {
            "gridcolor": "white",
            "linecolor": "white",
            "ticks": ""
           },
           "bgcolor": "#E5ECF6",
           "radialaxis": {
            "gridcolor": "white",
            "linecolor": "white",
            "ticks": ""
           }
          },
          "scene": {
           "xaxis": {
            "backgroundcolor": "#E5ECF6",
            "gridcolor": "white",
            "gridwidth": 2,
            "linecolor": "white",
            "showbackground": true,
            "ticks": "",
            "zerolinecolor": "white"
           },
           "yaxis": {
            "backgroundcolor": "#E5ECF6",
            "gridcolor": "white",
            "gridwidth": 2,
            "linecolor": "white",
            "showbackground": true,
            "ticks": "",
            "zerolinecolor": "white"
           },
           "zaxis": {
            "backgroundcolor": "#E5ECF6",
            "gridcolor": "white",
            "gridwidth": 2,
            "linecolor": "white",
            "showbackground": true,
            "ticks": "",
            "zerolinecolor": "white"
           }
          },
          "shapedefaults": {
           "line": {
            "color": "#2a3f5f"
           }
          },
          "ternary": {
           "aaxis": {
            "gridcolor": "white",
            "linecolor": "white",
            "ticks": ""
           },
           "baxis": {
            "gridcolor": "white",
            "linecolor": "white",
            "ticks": ""
           },
           "bgcolor": "#E5ECF6",
           "caxis": {
            "gridcolor": "white",
            "linecolor": "white",
            "ticks": ""
           }
          },
          "title": {
           "x": 0.05
          },
          "xaxis": {
           "automargin": true,
           "gridcolor": "white",
           "linecolor": "white",
           "ticks": "",
           "title": {
            "standoff": 15
           },
           "zerolinecolor": "white",
           "zerolinewidth": 2
          },
          "yaxis": {
           "automargin": true,
           "gridcolor": "white",
           "linecolor": "white",
           "ticks": "",
           "title": {
            "standoff": 15
           },
           "zerolinecolor": "white",
           "zerolinewidth": 2
          }
         }
        },
        "title": {
         "text": "Topic Distribution for User agnesgrhm"
        }
       }
      }
     },
     "metadata": {},
     "output_type": "display_data"
    },
    {
     "data": {
      "application/vnd.plotly.v1+json": {
       "config": {
        "plotlyServerURL": "https://plot.ly"
       },
       "data": [
        {
         "hole": 0.3,
         "hoverinfo": "label+percent",
         "labels": [
          "Topic 4 (0.38)",
          "Topic 8 (0.35)",
          "Topic 10 (0.09)",
          "Topic 2 (0.08)",
          "Topic 5 (0.03)",
          "Other (0.06)"
         ],
         "textinfo": "percent",
         "type": "pie",
         "values": [
          0.378534,
          0.351177,
          0.094022,
          0.082661,
          0.033095,
          0.060511
         ]
        }
       ],
       "layout": {
        "height": 500,
        "template": {
         "data": {
          "bar": [
           {
            "error_x": {
             "color": "#2a3f5f"
            },
            "error_y": {
             "color": "#2a3f5f"
            },
            "marker": {
             "line": {
              "color": "#E5ECF6",
              "width": 0.5
             },
             "pattern": {
              "fillmode": "overlay",
              "size": 10,
              "solidity": 0.2
             }
            },
            "type": "bar"
           }
          ],
          "barpolar": [
           {
            "marker": {
             "line": {
              "color": "#E5ECF6",
              "width": 0.5
             },
             "pattern": {
              "fillmode": "overlay",
              "size": 10,
              "solidity": 0.2
             }
            },
            "type": "barpolar"
           }
          ],
          "carpet": [
           {
            "aaxis": {
             "endlinecolor": "#2a3f5f",
             "gridcolor": "white",
             "linecolor": "white",
             "minorgridcolor": "white",
             "startlinecolor": "#2a3f5f"
            },
            "baxis": {
             "endlinecolor": "#2a3f5f",
             "gridcolor": "white",
             "linecolor": "white",
             "minorgridcolor": "white",
             "startlinecolor": "#2a3f5f"
            },
            "type": "carpet"
           }
          ],
          "choropleth": [
           {
            "colorbar": {
             "outlinewidth": 0,
             "ticks": ""
            },
            "type": "choropleth"
           }
          ],
          "contour": [
           {
            "colorbar": {
             "outlinewidth": 0,
             "ticks": ""
            },
            "colorscale": [
             [
              0,
              "#0d0887"
             ],
             [
              0.1111111111111111,
              "#46039f"
             ],
             [
              0.2222222222222222,
              "#7201a8"
             ],
             [
              0.3333333333333333,
              "#9c179e"
             ],
             [
              0.4444444444444444,
              "#bd3786"
             ],
             [
              0.5555555555555556,
              "#d8576b"
             ],
             [
              0.6666666666666666,
              "#ed7953"
             ],
             [
              0.7777777777777778,
              "#fb9f3a"
             ],
             [
              0.8888888888888888,
              "#fdca26"
             ],
             [
              1,
              "#f0f921"
             ]
            ],
            "type": "contour"
           }
          ],
          "contourcarpet": [
           {
            "colorbar": {
             "outlinewidth": 0,
             "ticks": ""
            },
            "type": "contourcarpet"
           }
          ],
          "heatmap": [
           {
            "colorbar": {
             "outlinewidth": 0,
             "ticks": ""
            },
            "colorscale": [
             [
              0,
              "#0d0887"
             ],
             [
              0.1111111111111111,
              "#46039f"
             ],
             [
              0.2222222222222222,
              "#7201a8"
             ],
             [
              0.3333333333333333,
              "#9c179e"
             ],
             [
              0.4444444444444444,
              "#bd3786"
             ],
             [
              0.5555555555555556,
              "#d8576b"
             ],
             [
              0.6666666666666666,
              "#ed7953"
             ],
             [
              0.7777777777777778,
              "#fb9f3a"
             ],
             [
              0.8888888888888888,
              "#fdca26"
             ],
             [
              1,
              "#f0f921"
             ]
            ],
            "type": "heatmap"
           }
          ],
          "heatmapgl": [
           {
            "colorbar": {
             "outlinewidth": 0,
             "ticks": ""
            },
            "colorscale": [
             [
              0,
              "#0d0887"
             ],
             [
              0.1111111111111111,
              "#46039f"
             ],
             [
              0.2222222222222222,
              "#7201a8"
             ],
             [
              0.3333333333333333,
              "#9c179e"
             ],
             [
              0.4444444444444444,
              "#bd3786"
             ],
             [
              0.5555555555555556,
              "#d8576b"
             ],
             [
              0.6666666666666666,
              "#ed7953"
             ],
             [
              0.7777777777777778,
              "#fb9f3a"
             ],
             [
              0.8888888888888888,
              "#fdca26"
             ],
             [
              1,
              "#f0f921"
             ]
            ],
            "type": "heatmapgl"
           }
          ],
          "histogram": [
           {
            "marker": {
             "pattern": {
              "fillmode": "overlay",
              "size": 10,
              "solidity": 0.2
             }
            },
            "type": "histogram"
           }
          ],
          "histogram2d": [
           {
            "colorbar": {
             "outlinewidth": 0,
             "ticks": ""
            },
            "colorscale": [
             [
              0,
              "#0d0887"
             ],
             [
              0.1111111111111111,
              "#46039f"
             ],
             [
              0.2222222222222222,
              "#7201a8"
             ],
             [
              0.3333333333333333,
              "#9c179e"
             ],
             [
              0.4444444444444444,
              "#bd3786"
             ],
             [
              0.5555555555555556,
              "#d8576b"
             ],
             [
              0.6666666666666666,
              "#ed7953"
             ],
             [
              0.7777777777777778,
              "#fb9f3a"
             ],
             [
              0.8888888888888888,
              "#fdca26"
             ],
             [
              1,
              "#f0f921"
             ]
            ],
            "type": "histogram2d"
           }
          ],
          "histogram2dcontour": [
           {
            "colorbar": {
             "outlinewidth": 0,
             "ticks": ""
            },
            "colorscale": [
             [
              0,
              "#0d0887"
             ],
             [
              0.1111111111111111,
              "#46039f"
             ],
             [
              0.2222222222222222,
              "#7201a8"
             ],
             [
              0.3333333333333333,
              "#9c179e"
             ],
             [
              0.4444444444444444,
              "#bd3786"
             ],
             [
              0.5555555555555556,
              "#d8576b"
             ],
             [
              0.6666666666666666,
              "#ed7953"
             ],
             [
              0.7777777777777778,
              "#fb9f3a"
             ],
             [
              0.8888888888888888,
              "#fdca26"
             ],
             [
              1,
              "#f0f921"
             ]
            ],
            "type": "histogram2dcontour"
           }
          ],
          "mesh3d": [
           {
            "colorbar": {
             "outlinewidth": 0,
             "ticks": ""
            },
            "type": "mesh3d"
           }
          ],
          "parcoords": [
           {
            "line": {
             "colorbar": {
              "outlinewidth": 0,
              "ticks": ""
             }
            },
            "type": "parcoords"
           }
          ],
          "pie": [
           {
            "automargin": true,
            "type": "pie"
           }
          ],
          "scatter": [
           {
            "fillpattern": {
             "fillmode": "overlay",
             "size": 10,
             "solidity": 0.2
            },
            "type": "scatter"
           }
          ],
          "scatter3d": [
           {
            "line": {
             "colorbar": {
              "outlinewidth": 0,
              "ticks": ""
             }
            },
            "marker": {
             "colorbar": {
              "outlinewidth": 0,
              "ticks": ""
             }
            },
            "type": "scatter3d"
           }
          ],
          "scattercarpet": [
           {
            "marker": {
             "colorbar": {
              "outlinewidth": 0,
              "ticks": ""
             }
            },
            "type": "scattercarpet"
           }
          ],
          "scattergeo": [
           {
            "marker": {
             "colorbar": {
              "outlinewidth": 0,
              "ticks": ""
             }
            },
            "type": "scattergeo"
           }
          ],
          "scattergl": [
           {
            "marker": {
             "colorbar": {
              "outlinewidth": 0,
              "ticks": ""
             }
            },
            "type": "scattergl"
           }
          ],
          "scattermapbox": [
           {
            "marker": {
             "colorbar": {
              "outlinewidth": 0,
              "ticks": ""
             }
            },
            "type": "scattermapbox"
           }
          ],
          "scatterpolar": [
           {
            "marker": {
             "colorbar": {
              "outlinewidth": 0,
              "ticks": ""
             }
            },
            "type": "scatterpolar"
           }
          ],
          "scatterpolargl": [
           {
            "marker": {
             "colorbar": {
              "outlinewidth": 0,
              "ticks": ""
             }
            },
            "type": "scatterpolargl"
           }
          ],
          "scatterternary": [
           {
            "marker": {
             "colorbar": {
              "outlinewidth": 0,
              "ticks": ""
             }
            },
            "type": "scatterternary"
           }
          ],
          "surface": [
           {
            "colorbar": {
             "outlinewidth": 0,
             "ticks": ""
            },
            "colorscale": [
             [
              0,
              "#0d0887"
             ],
             [
              0.1111111111111111,
              "#46039f"
             ],
             [
              0.2222222222222222,
              "#7201a8"
             ],
             [
              0.3333333333333333,
              "#9c179e"
             ],
             [
              0.4444444444444444,
              "#bd3786"
             ],
             [
              0.5555555555555556,
              "#d8576b"
             ],
             [
              0.6666666666666666,
              "#ed7953"
             ],
             [
              0.7777777777777778,
              "#fb9f3a"
             ],
             [
              0.8888888888888888,
              "#fdca26"
             ],
             [
              1,
              "#f0f921"
             ]
            ],
            "type": "surface"
           }
          ],
          "table": [
           {
            "cells": {
             "fill": {
              "color": "#EBF0F8"
             },
             "line": {
              "color": "white"
             }
            },
            "header": {
             "fill": {
              "color": "#C8D4E3"
             },
             "line": {
              "color": "white"
             }
            },
            "type": "table"
           }
          ]
         },
         "layout": {
          "annotationdefaults": {
           "arrowcolor": "#2a3f5f",
           "arrowhead": 0,
           "arrowwidth": 1
          },
          "autotypenumbers": "strict",
          "coloraxis": {
           "colorbar": {
            "outlinewidth": 0,
            "ticks": ""
           }
          },
          "colorscale": {
           "diverging": [
            [
             0,
             "#8e0152"
            ],
            [
             0.1,
             "#c51b7d"
            ],
            [
             0.2,
             "#de77ae"
            ],
            [
             0.3,
             "#f1b6da"
            ],
            [
             0.4,
             "#fde0ef"
            ],
            [
             0.5,
             "#f7f7f7"
            ],
            [
             0.6,
             "#e6f5d0"
            ],
            [
             0.7,
             "#b8e186"
            ],
            [
             0.8,
             "#7fbc41"
            ],
            [
             0.9,
             "#4d9221"
            ],
            [
             1,
             "#276419"
            ]
           ],
           "sequential": [
            [
             0,
             "#0d0887"
            ],
            [
             0.1111111111111111,
             "#46039f"
            ],
            [
             0.2222222222222222,
             "#7201a8"
            ],
            [
             0.3333333333333333,
             "#9c179e"
            ],
            [
             0.4444444444444444,
             "#bd3786"
            ],
            [
             0.5555555555555556,
             "#d8576b"
            ],
            [
             0.6666666666666666,
             "#ed7953"
            ],
            [
             0.7777777777777778,
             "#fb9f3a"
            ],
            [
             0.8888888888888888,
             "#fdca26"
            ],
            [
             1,
             "#f0f921"
            ]
           ],
           "sequentialminus": [
            [
             0,
             "#0d0887"
            ],
            [
             0.1111111111111111,
             "#46039f"
            ],
            [
             0.2222222222222222,
             "#7201a8"
            ],
            [
             0.3333333333333333,
             "#9c179e"
            ],
            [
             0.4444444444444444,
             "#bd3786"
            ],
            [
             0.5555555555555556,
             "#d8576b"
            ],
            [
             0.6666666666666666,
             "#ed7953"
            ],
            [
             0.7777777777777778,
             "#fb9f3a"
            ],
            [
             0.8888888888888888,
             "#fdca26"
            ],
            [
             1,
             "#f0f921"
            ]
           ]
          },
          "colorway": [
           "#636efa",
           "#EF553B",
           "#00cc96",
           "#ab63fa",
           "#FFA15A",
           "#19d3f3",
           "#FF6692",
           "#B6E880",
           "#FF97FF",
           "#FECB52"
          ],
          "font": {
           "color": "#2a3f5f"
          },
          "geo": {
           "bgcolor": "white",
           "lakecolor": "white",
           "landcolor": "#E5ECF6",
           "showlakes": true,
           "showland": true,
           "subunitcolor": "white"
          },
          "hoverlabel": {
           "align": "left"
          },
          "hovermode": "closest",
          "mapbox": {
           "style": "light"
          },
          "paper_bgcolor": "white",
          "plot_bgcolor": "#E5ECF6",
          "polar": {
           "angularaxis": {
            "gridcolor": "white",
            "linecolor": "white",
            "ticks": ""
           },
           "bgcolor": "#E5ECF6",
           "radialaxis": {
            "gridcolor": "white",
            "linecolor": "white",
            "ticks": ""
           }
          },
          "scene": {
           "xaxis": {
            "backgroundcolor": "#E5ECF6",
            "gridcolor": "white",
            "gridwidth": 2,
            "linecolor": "white",
            "showbackground": true,
            "ticks": "",
            "zerolinecolor": "white"
           },
           "yaxis": {
            "backgroundcolor": "#E5ECF6",
            "gridcolor": "white",
            "gridwidth": 2,
            "linecolor": "white",
            "showbackground": true,
            "ticks": "",
            "zerolinecolor": "white"
           },
           "zaxis": {
            "backgroundcolor": "#E5ECF6",
            "gridcolor": "white",
            "gridwidth": 2,
            "linecolor": "white",
            "showbackground": true,
            "ticks": "",
            "zerolinecolor": "white"
           }
          },
          "shapedefaults": {
           "line": {
            "color": "#2a3f5f"
           }
          },
          "ternary": {
           "aaxis": {
            "gridcolor": "white",
            "linecolor": "white",
            "ticks": ""
           },
           "baxis": {
            "gridcolor": "white",
            "linecolor": "white",
            "ticks": ""
           },
           "bgcolor": "#E5ECF6",
           "caxis": {
            "gridcolor": "white",
            "linecolor": "white",
            "ticks": ""
           }
          },
          "title": {
           "x": 0.05
          },
          "xaxis": {
           "automargin": true,
           "gridcolor": "white",
           "linecolor": "white",
           "ticks": "",
           "title": {
            "standoff": 15
           },
           "zerolinecolor": "white",
           "zerolinewidth": 2
          },
          "yaxis": {
           "automargin": true,
           "gridcolor": "white",
           "linecolor": "white",
           "ticks": "",
           "title": {
            "standoff": 15
           },
           "zerolinecolor": "white",
           "zerolinewidth": 2
          }
         }
        },
        "title": {
         "text": "Topic Distribution for User alexsvladimirov"
        }
       }
      }
     },
     "metadata": {},
     "output_type": "display_data"
    }
   ],
   "source": [
    "def plot_user_topics(user_id):\n",
    "    user_id = user_selector.value\n",
    "    \n",
    "    # Get topic distribution for this user\n",
    "    user_data = user_topic_df[user_topic_df['user_id'] == user_id].iloc[0]\n",
    "    \n",
    "    # Extract topic proportions\n",
    "    topic_props = [user_data[f'Topic_{i}'] for i in range(num_topics)]\n",
    "    \n",
    "    # Only include topics with significant contribution\n",
    "    threshold = 0.03\n",
    "    significant_topics = [(i, prop) for i, prop in enumerate(topic_props) if prop > threshold]\n",
    "    other_prop = sum(prop for i, prop in enumerate(topic_props) if prop <= threshold)\n",
    "    \n",
    "    # Sort by proportion\n",
    "    significant_topics.sort(key=lambda x: x[1], reverse=True)\n",
    "    \n",
    "    # Create labels and values\n",
    "    labels = [f'Topic {i} ({prop:.2f})' for i, prop in significant_topics]\n",
    "    if other_prop > 0:\n",
    "        labels.append(f'Other ({other_prop:.2f})')\n",
    "        \n",
    "    values = [prop for _, prop in significant_topics]\n",
    "    if other_prop > 0:\n",
    "        values.append(other_prop)\n",
    "    \n",
    "    # Create pie chart with Plotly\n",
    "    fig = go.Figure(data=[go.Pie(\n",
    "        labels=labels,\n",
    "        values=values,\n",
    "        textinfo='percent',\n",
    "        hoverinfo='label+percent',\n",
    "        hole=0.3\n",
    "    )])\n",
    "    \n",
    "    fig.update_layout(\n",
    "        title=f'Topic Distribution for User {user_id}',\n",
    "        height=500\n",
    "    )\n",
    "    \n",
    "    fig.show()\n",
    "    \n",
    "    # Display user metrics\n",
    "    print(f\"User: {user_id}\")\n",
    "    print(f\"Post count: {user_data['post_count']}\")\n",
    "    print(f\"Gini coefficient: {user_data['gini_coefficient']:.4f}\")\n",
    "    print(f\"Shannon entropy: {user_data['shannon_entropy']:.4f}\")\n",
    "    print(f\"Top-1 topic ratio: {user_data['top1_ratio']:.4f}\")\n",
    "    print(f\"Top-2 topics ratio: {user_data['top2_ratio']:.4f}\")\n",
    "    \n",
    "    # Check if user is suspicious\n",
    "    if user_id in suspicious_df['user_id'].values:\n",
    "        susp_data = suspicious_df[suspicious_df['user_id'] == user_id].iloc[0]\n",
    "        if susp_data['suspicious']:\n",
    "            print(\"⚠️ This user has been flagged as suspicious\")\n",
    "            reasons = []\n",
    "            if susp_data['suspicious_post_freq']:\n",
    "                reasons.append(\"unusually high posting frequency\")\n",
    "            if susp_data['suspicious_narrowness']:\n",
    "                reasons.append(\"extremely narrow topic focus\")\n",
    "            if susp_data['suspicious_duplicates']:\n",
    "                reasons.append(\"high rate of similar/duplicate content\")\n",
    "            print(f\"Reasons: {', '.join(reasons)}\")\n",
    "\n",
    "# Create user selector\n",
    "user_list = sorted(user_topic_df['user_id'].unique())\n",
    "user_selector = widgets.Dropdown(\n",
    "    options=user_list,\n",
    "    value=user_list[0],\n",
    "    description='User:',\n",
    "    style={'description_width': 'initial'}\n",
    ")\n",
    "\n",
    "# Display interactive widget\n",
    "display(widgets.VBox([\n",
    "    widgets.HTML('<h3>User Topic Distribution</h3>'),\n",
    "    user_selector,\n",
    "    widgets.interactive_output(plot_user_topics, {'user_id': user_selector})\n",
    "]))\n"
   ]
  },
  {
   "cell_type": "markdown",
   "id": "8d7b643e-caca-4813-a212-4e8c8f80ea6c",
   "metadata": {},
   "source": [
    "# 3. Topic Concentration Visualization\n"
   ]
  },
  {
   "cell_type": "code",
   "execution_count": 5,
   "id": "4b6d4336-91b2-4fd1-b65b-c56c939cbb00",
   "metadata": {},
   "outputs": [
    {
     "data": {
      "application/vnd.plotly.v1+json": {
       "config": {
        "plotlyServerURL": "https://plot.ly"
       },
       "data": [
        {
         "customdata": [
          [
           "worldnewspoli",
           1.276771,
           0.74871
          ],
          [
           "jrrbrtt",
           1.521502,
           0.628416
          ],
          [
           "danny_turner_1",
           1.635927,
           0.51003
          ],
          [
           "finley1589",
           1.706605,
           0.551229
          ],
          [
           "heyitsglor",
           1.728624,
           0.515071
          ],
          [
           "orrclay",
           1.731837,
           0.577716
          ],
          [
           "kelvsok",
           1.705275,
           0.474487
          ],
          [
           "kenzdonovan",
           1.757874,
           0.51157
          ],
          [
           "kateritterrrr",
           1.787053,
           0.531667
          ],
          [
           "warfareww",
           1.76401,
           0.635414
          ],
          [
           "yattvrussia",
           1.78471,
           0.53184
          ],
          [
           "patriotblake",
           1.786393,
           0.496821
          ],
          [
           "lgbtuni",
           1.789995,
           0.505557
          ],
          [
           "kristyanann",
           1.780521,
           0.608079
          ],
          [
           "missourinewsus",
           1.841637,
           0.551244
          ],
          [
           "cynthiamhunter",
           1.83145,
           0.522245
          ],
          [
           "4ever1937",
           1.83932,
           0.519749
          ],
          [
           "usa_gunslinger",
           1.822694,
           0.479885
          ],
          [
           "pamela_moore13",
           1.823872,
           0.472487
          ],
          [
           "ameliebaldwin",
           1.792362,
           0.460348
          ],
          [
           "andrebeauleger",
           1.83524,
           0.602566
          ],
          [
           "luke_jones13",
           1.84507,
           0.458786
          ],
          [
           "albertmorenmore",
           1.793824,
           0.447639
          ],
          [
           "israel_wills",
           1.825923,
           0.408465
          ],
          [
           "dannymaslov",
           1.811416,
           0.472151
          ],
          [
           "interfischer",
           1.900486,
           0.570719
          ],
          [
           "todayinsyria",
           1.837261,
           0.616073
          ],
          [
           "southlonestar",
           1.837359,
           0.460634
          ],
          [
           "redlanews",
           1.878031,
           0.511441
          ],
          [
           "hyddrox",
           1.81382,
           0.430286
          ],
          [
           "dailysanfran",
           1.922206,
           0.533897
          ],
          [
           "newarkvoice",
           1.900684,
           0.574753
          ],
          [
           "williams_diana_",
           1.834589,
           0.633109
          ],
          [
           "rogovilia",
           1.914734,
           0.514764
          ],
          [
           "happkendrahappy",
           1.854084,
           0.531242
          ],
          [
           "paulinett",
           1.915931,
           0.535572
          ],
          [
           "ten_gop",
           1.825602,
           0.422578
          ],
          [
           "donnabrivera",
           1.895108,
           0.518455
          ],
          [
           "nojonathonno",
           1.888799,
           0.449963
          ],
          [
           "newspeakdaily",
           1.921301,
           0.469681
          ],
          [
           "patriototus",
           1.892627,
           0.491639
          ],
          [
           "arkadii_trofim",
           1.903366,
           0.460906
          ],
          [
           "wadeharriot",
           1.892861,
           0.495568
          ],
          [
           "thefoundingson",
           1.869321,
           0.460457
          ],
          [
           "arturburanof",
           1.905533,
           0.473542
          ],
          [
           "ttsvetkov",
           1.858001,
           0.418019
          ],
          [
           "williams8kalvin",
           1.907683,
           0.492512
          ],
          [
           "darrell_h_hunt",
           1.898979,
           0.426497
          ],
          [
           "realrobert1987",
           1.948547,
           0.554052
          ],
          [
           "zubovnik",
           1.851646,
           0.424617
          ],
          [
           "rightnpr",
           1.913832,
           0.457399
          ],
          [
           "watchmewalkin",
           1.931704,
           0.448559
          ],
          [
           "j0hnlarsen",
           1.90756,
           0.47063
          ],
          [
           "realten_gop",
           1.930093,
           0.501267
          ],
          [
           "march_for_trump",
           1.939024,
           0.456248
          ],
          [
           "gibbs_jeremy_",
           1.977206,
           0.484035
          ],
          [
           "prettylaraplace",
           1.934125,
           0.484695
          ],
          [
           "hollydler",
           1.947882,
           0.492559
          ],
          [
           "onlinecleveland",
           2.01117,
           0.449055
          ],
          [
           "cookncooks",
           1.950787,
           0.501493
          ],
          [
           "stepansazono",
           1.989637,
           0.488222
          ],
          [
           "politweecs",
           1.972824,
           0.490411
          ],
          [
           "sylvielefevrier",
           1.986399,
           0.573257
          ],
          [
           "t0nyasinclair",
           2.00456,
           0.486914
          ],
          [
           "melanymelanin",
           2.008849,
           0.507875
          ],
          [
           "javonhidp",
           1.996389,
           0.430144
          ],
          [
           "kansasdailynews",
           2.001269,
           0.443305
          ],
          [
           "carriethornthon",
           1.952502,
           0.51742
          ],
          [
           "riafanru",
           1.968103,
           0.59068
          ],
          [
           "karolineauge",
           1.985214,
           0.585143
          ],
          [
           "rh0lbr00k",
           2.034404,
           0.48553
          ],
          [
           "tpartynews",
           2.019591,
           0.447045
          ],
          [
           "staywoke88",
           1.970503,
           0.410635
          ],
          [
           "drmichaelgarcia",
           1.98651,
           0.422644
          ],
          [
           "itstimetosecede",
           1.990728,
           0.478064
          ],
          [
           "washingtonline",
           2.013964,
           0.454333
          ],
          [
           "jaydaastonishin",
           2.017678,
           0.433016
          ],
          [
           "ninonderrien",
           2.020407,
           0.572939
          ],
          [
           "srahse",
           1.962372,
           0.401041
          ],
          [
           "ravenicholson",
           2.000447,
           0.416609
          ],
          [
           "darknally",
           2.041526,
           0.47476
          ],
          [
           "dorothiebell",
           2.046659,
           0.486411
          ],
          [
           "garrettsimpson_",
           2.037856,
           0.514795
          ],
          [
           "patriotka_rusi",
           2.03678,
           0.422306
          ],
          [
           "chadsloyer",
           2.01261,
           0.421508
          ],
          [
           "jacquelinisbest",
           2.044171,
           0.468866
          ],
          [
           "emileewaren",
           2.032207,
           0.485594
          ],
          [
           "margarethkurz",
           1.905472,
           0.655798
          ],
          [
           "janelperkinson",
           2.014602,
           0.391908
          ],
          [
           "jeffreykahunas",
           2.034832,
           0.513361
          ],
          [
           "anthonywoodboy",
           2.059428,
           0.511204
          ],
          [
           "lelandgraves_",
           2.07979,
           0.44773
          ],
          [
           "instotus",
           2.029691,
           0.451036
          ],
          [
           "_sashalapin",
           2.037226,
           0.434688
          ],
          [
           "alecmooooody",
           2.074095,
           0.433104
          ],
          [
           "onemightyfish",
           2.019581,
           0.381287
          ],
          [
           "camosaseko",
           2.021726,
           0.40176
          ],
          [
           "jihadist2ndwife",
           2.047487,
           0.457051
          ],
          [
           "ramonasnails",
           2.073081,
           0.42861
          ],
          [
           "muslims_in_usa",
           2.047258,
           0.41754
          ],
          [
           "anzgri",
           2.057236,
           0.483229
          ],
          [
           "regieblackmon",
           2.047672,
           0.400917
          ],
          [
           "pati_cooper",
           2.100111,
           0.456972
          ],
          [
           "leroylovesusa",
           2.062326,
           0.476137
          ],
          [
           "jamie_mccarthy_",
           2.086357,
           0.455074
          ],
          [
           "tezaharov",
           2.108268,
           0.438774
          ],
          [
           "shocko_10",
           2.029282,
           0.400762
          ],
          [
           "laurabaeley",
           2.084481,
           0.534367
          ],
          [
           "wildharee",
           2.088253,
           0.508402
          ],
          [
           "devinedevinbr",
           2.076871,
           0.544316
          ],
          [
           "sergbriantsev",
           2.122615,
           0.41902
          ],
          [
           "karenparker93",
           2.079257,
           0.47699
          ],
          [
           "pigeontoday",
           2.037822,
           0.38728
          ],
          [
           "mmmdarya",
           2.103888,
           0.426843
          ],
          [
           "valeyina_dm",
           2.106935,
           0.463829
          ],
          [
           "joseph_jenks",
           2.048507,
           0.447319
          ],
          [
           "siccerthanyou",
           2.035323,
           0.424077
          ],
          [
           "ogdeandre",
           2.081374,
           0.402318
          ],
          [
           "zzzacharyzzz",
           2.111698,
           0.427356
          ],
          [
           "richmondvoice",
           2.116749,
           0.462762
          ],
          [
           "banttanantta",
           2.067595,
           0.421308
          ],
          [
           "krustyps",
           2.067653,
           0.421115
          ],
          [
           "cassieweltch",
           2.080884,
           0.534283
          ],
          [
           "crystal1johnson",
           2.07755,
           0.536106
          ],
          [
           "neworleanson",
           2.142111,
           0.484821
          ],
          [
           "puredavie",
           2.077637,
           0.529949
          ],
          [
           "policestateme",
           2.113385,
           0.407353
          ],
          [
           "traceyhappymom",
           2.044116,
           0.564733
          ],
          [
           "finnaglo",
           2.101003,
           0.403594
          ],
          [
           "phoenixdailynew",
           2.102921,
           0.426569
          ],
          [
           "hollandpatrickk",
           2.095723,
           0.502686
          ],
          [
           "jani_s_jac",
           2.1024,
           0.419489
          ],
          [
           "glebnikon",
           2.100621,
           0.504732
          ],
          [
           "oaklandonline",
           2.12358,
           0.436841
          ],
          [
           "maksblaginin",
           2.105113,
           0.397742
          ],
          [
           "philadelphiaon",
           2.139382,
           0.46637
          ],
          [
           "lysikvinkova",
           2.050309,
           0.406979
          ],
          [
           "romangorolov",
           2.073575,
           0.374206
          ],
          [
           "robbydelaware",
           2.120037,
           0.414023
          ],
          [
           "blacktivists",
           2.079326,
           0.481164
          ],
          [
           "pamblmdaniels",
           2.123066,
           0.427047
          ],
          [
           "ostrovofficer",
           2.14852,
           0.490518
          ],
          [
           "lila_gorila",
           2.148524,
           0.490518
          ],
          [
           "oooonlyone",
           2.148525,
           0.490518
          ],
          [
           "horrorki",
           2.148527,
           0.490518
          ],
          [
           "zistti",
           2.148528,
           0.490518
          ],
          [
           "sovetnikstatski",
           2.127382,
           0.460875
          ],
          [
           "inst_vets",
           2.080428,
           0.405188
          ],
          [
           "tebepizdec",
           2.110814,
           0.446302
          ],
          [
           "bricegeller",
           2.164811,
           0.441828
          ],
          [
           "todaybostonma",
           2.137929,
           0.424559
          ],
          [
           "mr_clampin",
           2.107372,
           0.541464
          ],
          [
           "lazykstafford",
           2.123902,
           0.473224
          ],
          [
           "gwennythot",
           2.144202,
           0.396428
          ],
          [
           "paolakinck",
           2.164858,
           0.450747
          ],
          [
           "roscoe_riddle",
           2.118739,
           0.465142
          ],
          [
           "samirgooden",
           2.13498,
           0.399565
          ],
          [
           "clydedaws0n",
           2.168914,
           0.412206
          ],
          [
           "notritahart",
           2.124681,
           0.533134
          ],
          [
           "austinlovesbeer",
           2.144961,
           0.365691
          ],
          [
           "archieolivers",
           2.173917,
           0.462184
          ],
          [
           "agnesgrhm",
           2.113752,
           0.534837
          ],
          [
           "johnievogue",
           2.13647,
           0.431219
          ],
          [
           "batonrougevoice",
           2.164483,
           0.429319
          ],
          [
           "youjustctrlc",
           2.159586,
           0.414481
          ],
          [
           "iiddaamarks",
           2.162303,
           0.423153
          ],
          [
           "acejinev",
           2.150842,
           0.410724
          ],
          [
           "logan_whatsup",
           2.183314,
           0.432853
          ],
          [
           "gvardeykalena",
           2.167063,
           0.461966
          ],
          [
           "chaneutral",
           2.133505,
           0.413489
          ],
          [
           "riogithief",
           2.187824,
           0.437121
          ],
          [
           "michellearry",
           2.169506,
           0.489874
          ],
          [
           "todaymiami",
           2.180548,
           0.427971
          ],
          [
           "ilovesarahrich",
           2.119505,
           0.360815
          ],
          [
           "jasper_fly",
           2.113609,
           0.553564
          ],
          [
           "chesplayschess",
           2.190147,
           0.467227
          ],
          [
           "eliasbrick",
           2.158784,
           0.40364
          ],
          [
           "verrellportier",
           2.197491,
           0.488162
          ],
          [
           "jery_robertsyo",
           2.131687,
           0.385081
          ],
          [
           "erofeenkoanton",
           2.194105,
           0.428461
          ],
          [
           "mil0blake",
           2.150174,
           0.465346
          ],
          [
           "corynaenae",
           2.193656,
           0.434483
          ],
          [
           "todaycincinnati",
           2.184266,
           0.418535
          ],
          [
           "todaynycity",
           2.171888,
           0.403903
          ],
          [
           "kotovamarys",
           2.141708,
           0.409023
          ],
          [
           "jenn_abrams",
           2.123902,
           0.383674
          ],
          [
           "damanimiles",
           2.195664,
           0.43634
          ],
          [
           "stanleyparris",
           2.127388,
           0.361774
          ],
          [
           "johnnymarch_",
           2.175865,
           0.372937
          ],
          [
           "queenofthewo",
           2.139132,
           0.536222
          ],
          [
           "melvinsroberts",
           2.120335,
           0.54435
          ],
          [
           "cassishere",
           2.163135,
           0.479413
          ],
          [
           "adamchapmanjr",
           2.171267,
           0.371547
          ],
          [
           "georevieweurope",
           2.115601,
           0.37772
          ],
          [
           "randolphburrr",
           2.111188,
           0.353127
          ],
          [
           "giselleevns",
           2.119444,
           0.523963
          ],
          [
           "taraformation",
           2.224589,
           0.449316
          ],
          [
           "imissobama",
           2.170887,
           0.381987
          ],
          [
           "errivvvvers",
           2.16698,
           0.379632
          ],
          [
           "westernwindwes",
           2.17412,
           0.465299
          ],
          [
           "jon_underwood_",
           2.1095,
           0.362624
          ],
          [
           "handsome_henson",
           2.148351,
           0.538123
          ],
          [
           "onlinememphis",
           2.175182,
           0.362732
          ],
          [
           "kathiemrr",
           2.153744,
           0.526063
          ],
          [
           "imapharrelfake",
           2.103205,
           0.368432
          ],
          [
           "peytoncashout",
           2.142945,
           0.368161
          ],
          [
           "bydrbre_",
           2.196797,
           0.42826
          ],
          [
           "houstontopnews",
           2.199981,
           0.436715
          ],
          [
           "claypaigeboo",
           2.192778,
           0.383718
          ],
          [
           "micparrish",
           2.203005,
           0.455152
          ],
          [
           "evagreen69",
           2.171544,
           0.474386
          ],
          [
           "entatjanamax",
           2.139939,
           0.390525
          ],
          [
           "priceforpierce",
           2.182024,
           0.45733
          ],
          [
           "mihanovikov",
           2.181247,
           0.400833
          ],
          [
           "sternandreas404",
           2.130265,
           0.575672
          ],
          [
           "jadonhutchinson",
           2.171437,
           0.386163
          ],
          [
           "hiimkhloe",
           2.219623,
           0.410474
          ],
          [
           "cookiiieeessss",
           2.219513,
           0.434548
          ],
          [
           "nataturn",
           2.222135,
           0.490395
          ],
          [
           "stlouisonline",
           2.200288,
           0.402882
          ],
          [
           "dailysandiego",
           2.190997,
           0.394405
          ],
          [
           "vasilichvasili",
           2.219173,
           0.475437
          ],
          [
           "jassscott",
           2.154554,
           0.409841
          ],
          [
           "blacktolive",
           2.173545,
           0.421262
          ],
          [
           "gallowayeliana",
           2.193259,
           0.378649
          ],
          [
           "jaedenmassey",
           2.176896,
           0.511385
          ],
          [
           "screamymonkey",
           2.174529,
           0.346515
          ],
          [
           "dallastopnews",
           2.18658,
           0.390269
          ],
          [
           "blk_voice",
           2.226481,
           0.473045
          ],
          [
           "willisbonnerr",
           2.176556,
           0.336108
          ],
          [
           "blacknewsoutlet",
           2.216108,
           0.452902
          ],
          [
           "stanley_cox_",
           2.223587,
           0.400227
          ],
          [
           "travisrespek",
           2.177447,
           0.361725
          ],
          [
           "detroitdailynew",
           2.225354,
           0.440277
          ],
          [
           "daileyjadon",
           2.16311,
           0.534087
          ],
          [
           "taisiaavdeeva",
           2.192431,
           0.390735
          ],
          [
           "jeanuttella",
           2.228113,
           0.415493
          ],
          [
           "klara_sauber",
           2.160265,
           0.567478
          ],
          [
           "lagonehoe",
           2.16322,
           0.361057
          ],
          [
           "scottgohard",
           2.120461,
           0.343307
          ],
          [
           "christinapool61",
           2.224496,
           0.514773
          ],
          [
           "malloryjared",
           2.232211,
           0.404805
          ],
          [
           "kaydenmelton",
           2.228002,
           0.372014
          ],
          [
           "krasilnikovbor",
           2.204957,
           0.406063
          ],
          [
           "heyits_toby",
           2.200673,
           0.513262
          ],
          [
           "leecory",
           2.175519,
           0.380643
          ],
          [
           "sergeev_tolik",
           2.204744,
           0.407521
          ],
          [
           "dailylosangeles",
           2.262575,
           0.444364
          ],
          [
           "johnbranchh",
           2.252209,
           0.43547
          ],
          [
           "rosieonfleek",
           2.196491,
           0.384565
          ],
          [
           "mrmoraan",
           2.188819,
           0.370156
          ],
          [
           "jeblary2016",
           2.159722,
           0.402672
          ],
          [
           "hunteroddddom",
           2.148546,
           0.345553
          ],
          [
           "romanagafonovv",
           2.249037,
           0.422513
          ],
          [
           "boriseleseev",
           2.253827,
           0.393364
          ],
          [
           "nj_blacknews",
           2.193679,
           0.386661
          ],
          [
           "jeannemccarthy0",
           2.242693,
           0.470385
          ],
          [
           "skatewake1994",
           2.207515,
           0.353027
          ],
          [
           "internalmemer",
           2.193453,
           0.405007
          ],
          [
           "mwiqcen",
           2.247386,
           0.437441
          ],
          [
           "gorelkinnn",
           2.247386,
           0.437441
          ],
          [
           "shikarnoel",
           2.247387,
           0.437442
          ],
          [
           "jorda_morgan",
           2.247388,
           0.437442
          ],
          [
           "lmarinays",
           2.247388,
           0.437442
          ],
          [
           "moda_barina",
           2.247396,
           0.437446
          ],
          [
           "brianaregland",
           2.185133,
           0.333507
          ],
          [
           "alexsvladimirov",
           2.240202,
           0.378534
          ],
          [
           "razvedchica_",
           2.22568,
           0.435509
          ],
          [
           "bogdankravcov",
           2.240224,
           0.427077
          ],
          [
           "blmsoldier",
           2.253322,
           0.378553
          ],
          [
           "sanantotopnews",
           2.236148,
           0.375838
          ],
          [
           "ryanmaxwell_1",
           2.24646,
           0.466583
          ],
          [
           "chernenkonikola",
           2.244715,
           0.4326
          ],
          [
           "fightm_d_b",
           2.256288,
           0.364351
          ],
          [
           "judelambertusa",
           2.214565,
           0.478528
          ],
          [
           "portmela",
           2.191364,
           0.389411
          ],
          [
           "kolradskiy_zhuk",
           2.253421,
           0.42118
          ],
          [
           "specialaffair",
           2.170925,
           0.338721
          ],
          [
           "sindyblossom",
           2.26459,
           0.389969
          ],
          [
           "tessyelmore",
           2.257896,
           0.365936
          ],
          [
           "chicagodailynew",
           2.27698,
           0.384749
          ],
          [
           "kelvin_chambers",
           2.249195,
           0.392287
          ],
          [
           "cornellburchet",
           2.237356,
           0.385382
          ],
          [
           "globalfoe",
           2.27141,
           0.370487
          ],
          [
           "dontshootcom",
           2.252456,
           0.443379
          ],
          [
           "patriotraphael",
           2.257762,
           0.468098
          ],
          [
           "kimberleighlamb",
           2.19703,
           0.352256
          ],
          [
           "patriot_archive",
           2.311446,
           0.412963
          ],
          [
           "cannonsher",
           2.26567,
           0.387841
          ],
          [
           "puddin_leto",
           2.266189,
           0.385824
          ],
          [
           "imaswerve",
           2.287903,
           0.386487
          ],
          [
           "milwaukeevoice",
           2.158736,
           0.330235
          ],
          [
           "queennarielle",
           2.293521,
           0.377153
          ],
          [
           "antonhayhay",
           2.267864,
           0.411888
          ],
          [
           "russilanrogov",
           2.29357,
           0.395842
          ],
          [
           "gloed_up",
           2.211494,
           0.414958
          ],
          [
           "atlanta_online",
           2.292787,
           0.435258
          ],
          [
           "bigboyjasiah",
           2.24908,
           0.389036
          ],
          [
           "iris0_o",
           2.245723,
           0.413409
          ],
          [
           "ericarutter",
           2.292014,
           0.390509
          ],
          [
           "viborisova",
           2.298001,
           0.361532
          ],
          [
           "marianeuberg1",
           2.24757,
           0.545879
          ],
          [
           "_nickluna_",
           2.25078,
           0.468529
          ],
          [
           "blackmattersus",
           2.288333,
           0.434217
          ],
          [
           "wonderhann",
           2.329264,
           0.399219
          ],
          [
           "c__wells",
           2.301128,
           0.401958
          ],
          [
           "cliftonhughes_",
           2.316279,
           0.392337
          ],
          [
           "datwisenigga",
           2.289373,
           0.328903
          ],
          [
           "baobaeham",
           2.307997,
           0.375299
          ],
          [
           "gwen_garland",
           2.211755,
           0.335975
          ],
          [
           "fischermaria933",
           2.298105,
           0.341982
          ],
          [
           "sonderkatharina",
           2.298109,
           0.34198
          ],
          [
           "tinatkurtz1222",
           2.298125,
           0.341976
          ],
          [
           "blackeyeblog",
           2.330976,
           0.369416
          ],
          [
           "christinacrisss",
           2.156614,
           0.302477
          ],
          [
           "evewebster373",
           2.351599,
           0.374941
          ],
          [
           "gracelilstar",
           2.245129,
           0.373692
          ],
          [
           "ponomarevslav",
           2.297314,
           0.373944
          ],
          [
           "trayneshacole",
           2.269746,
           0.371901
          ],
          [
           "rus_in_usa",
           2.33626,
           0.400059
          ],
          [
           "bleepthepolice",
           2.307914,
           0.460285
          ],
          [
           "berkhoff85",
           2.349688,
           0.448417
          ],
          [
           "4mysquad",
           2.368251,
           0.402405
          ],
          [
           "notballinyet",
           2.342846,
           0.365149
          ],
          [
           "deusxyx",
           2.349778,
           0.391377
          ],
          [
           "boryabuchin",
           2.363748,
           0.452482
          ],
          [
           "shapka_mono",
           2.316079,
           0.354036
          ],
          [
           "whitehousecards",
           2.355211,
           0.467183
          ],
          [
           "peeonhillary",
           2.225011,
           0.311474
          ],
          [
           "lilylilyhasse",
           2.271763,
           0.545407
          ],
          [
           "bigboysneed",
           2.368324,
           0.341001
          ],
          [
           "brianthelifter",
           2.361302,
           0.43497
          ],
          [
           "liljordamn",
           2.347851,
           0.361246
          ],
          [
           "nehemiahx",
           2.363353,
           0.366502
          ],
          [
           "robertebonyking",
           2.394206,
           0.391569
          ],
          [
           "briys_valera",
           2.266388,
           0.310738
          ],
          [
           "edmundrjr",
           2.363252,
           0.408462
          ],
          [
           "mrclydepratt",
           2.318802,
           0.316469
          ],
          [
           "lapinolegg",
           2.364097,
           0.475502
          ],
          [
           "colbyst1",
           2.325298,
           0.305857
          ],
          [
           "jacksoncitypost",
           2.339568,
           0.325484
          ],
          [
           "elpasotopnews",
           2.373414,
           0.355282
          ],
          [
           "alexharritonov",
           2.370879,
           0.418226
          ],
          [
           "cascaseyp",
           2.376633,
           0.39702
          ],
          [
           "beckster319",
           2.299812,
           0.317734
          ],
          [
           "maximgaron1",
           2.39622,
           0.378079
          ],
          [
           "manuelkrosss",
           2.326143,
           0.533184
          ],
          [
           "politopros",
           2.355199,
           0.310226
          ],
          [
           "ssus_panther",
           2.353321,
           0.31653
          ],
          [
           "beverlybalsom",
           2.376042,
           0.369564
          ],
          [
           "blacneighbor",
           2.392084,
           0.390628
          ],
          [
           "erdollum",
           2.430373,
           0.352149
          ],
          [
           "donnielmiller",
           2.407208,
           0.336056
          ],
          [
           "chrixmorgan",
           2.342476,
           0.421333
          ],
          [
           "marissaimstrong",
           2.424854,
           0.386089
          ],
          [
           "ryanncooperwood",
           2.379731,
           0.322746
          ],
          [
           "aleksey_sokol_",
           2.431196,
           0.362172
          ],
          [
           "bocharnikov_v",
           2.401226,
           0.354914
          ],
          [
           "baltimore0nline",
           2.404766,
           0.337085
          ],
          [
           "danageezus",
           2.355913,
           0.430777
          ],
          [
           "todaypittsburgh",
           2.432059,
           0.321183
          ],
          [
           "toneporter",
           2.431568,
           0.347903
          ],
          [
           "maymaymyy",
           2.43045,
           0.33436
          ],
          [
           "yaeltrouble",
           2.410382,
           0.33789
          ],
          [
           "mbrownhere",
           2.448739,
           0.332348
          ],
          [
           "fishalexanderr",
           2.405272,
           0.505648
          ],
          [
           "jerstoner",
           2.45407,
           0.348699
          ],
          [
           "worldofhashtags",
           2.397355,
           0.353094
          ],
          [
           "joachimbuchwitz",
           2.463039,
           0.424948
          ],
          [
           "iancalh0un",
           2.484448,
           0.407815
          ],
          [
           "reachitdoit",
           2.337527,
           0.290621
          ],
          [
           "aantiracist",
           2.482734,
           0.33386
          ],
          [
           "jarrardnorman",
           2.445076,
           0.350039
          ],
          [
           "peterkistner",
           2.373365,
           0.530002
          ],
          [
           "seattle_post",
           2.445979,
           0.286722
          ],
          [
           "lukas_rosler",
           2.495881,
           0.306633
          ],
          [
           "_billy_moyer_",
           2.447813,
           0.422301
          ],
          [
           "curtisbigman",
           2.457177,
           0.351722
          ],
          [
           "todaycleveland",
           2.502189,
           0.382717
          ],
          [
           "abigailssilk",
           2.53502,
           0.381718
          ],
          [
           "mtthsberger",
           2.539988,
           0.355934
          ],
          [
           "hipppo_",
           2.529582,
           0.38065
          ],
          [
           "johnieboycooks",
           2.522863,
           0.326381
          ],
          [
           "chrisuport_port",
           2.538546,
           0.350059
          ],
          [
           "calebpaar",
           2.497088,
           0.342692
          ],
          [
           "glennharper_",
           2.490192,
           0.290355
          ],
          [
           "schultei2",
           2.50847,
           0.295877
          ],
          [
           "angela_lattke",
           2.50849,
           0.295863
          ],
          [
           "russianallies",
           2.493013,
           0.346501
          ],
          [
           "aiden7757",
           2.546499,
           0.352202
          ],
          [
           "charlesrespeck",
           2.530853,
           0.283784
          ],
          [
           "andreaseulitz",
           2.536467,
           0.277106
          ],
          [
           "dannythehappies",
           2.499628,
           0.309266
          ],
          [
           "kirstenladaniel",
           2.515077,
           0.316899
          ],
          [
           "lynsrodriguez",
           2.582886,
           0.291873
          ],
          [
           "sincerepruitt",
           2.532227,
           0.342676
          ],
          [
           "erdollum666",
           2.611943,
           0.361525
          ],
          [
           "jsncarey",
           2.579026,
           0.298167
          ],
          [
           "dominicvalent",
           2.486147,
           0.337178
          ],
          [
           "jmscoxxx",
           2.560038,
           0.408348
          ],
          [
           "kencannone",
           2.623489,
           0.328099
          ],
          [
           "holycrapchrix",
           2.6115,
           0.390694
          ],
          [
           "meggieoneil",
           2.553403,
           0.280569
          ],
          [
           "adrienne_gg",
           2.606493,
           0.341136
          ],
          [
           "bigseanbeast",
           2.643886,
           0.342752
          ],
          [
           "charlesjharper",
           2.650205,
           0.367801
          ],
          [
           "heyheyhailey",
           2.596892,
           0.385793
          ],
          [
           "wokefromday1",
           2.623181,
           0.337336
          ],
          [
           "susayung",
           2.649695,
           0.293139
          ],
          [
           "catelinewatkins",
           2.658636,
           0.315302
          ],
          [
           "bgarner2107",
           2.650092,
           0.327868
          ],
          [
           "loragreeen",
           2.624119,
           0.336125
          ],
          [
           "gab1aldana",
           2.657767,
           0.33522
          ],
          [
           "novostidamask",
           2.665304,
           0.306063
          ],
          [
           "rusnevrotik",
           2.601358,
           0.247433
          ],
          [
           "msm0re",
           2.601336,
           0.247432
          ],
          [
           "hellieedwards",
           2.649123,
           0.338416
          ],
          [
           "ilikebigbuttand",
           2.645747,
           0.310089
          ],
          [
           "sovasof",
           2.59833,
           0.23917
          ],
          [
           "mikkyrurk",
           2.619084,
           0.247901
          ],
          [
           "oh_frida",
           2.619081,
           0.247901
          ],
          [
           "bruciedublin",
           2.683776,
           0.377831
          ],
          [
           "aldrich420",
           2.676178,
           0.329604
          ],
          [
           "coldwar20_ru",
           2.702511,
           0.298271
          ],
          [
           "margosavazh",
           2.681153,
           0.280569
          ],
          [
           "angelabach991",
           2.666923,
           0.411673
          ],
          [
           "maxdementiev",
           2.651633,
           0.274613
          ],
          [
           "adrgreerr",
           2.708936,
           0.276097
          ],
          [
           "lavrovmuesli",
           2.713328,
           0.262829
          ],
          [
           "amandavgreen",
           2.680452,
           0.343166
          ],
          [
           "klausfinker",
           2.704585,
           0.283582
          ],
          [
           "hamburgbote",
           2.704855,
           0.283518
          ],
          [
           "sto_christi",
           2.717451,
           0.283478
          ],
          [
           "edmundc0oke",
           2.705532,
           0.268746
          ],
          [
           "margoberoeva",
           2.733829,
           0.251024
          ],
          [
           "brentmcclure275",
           2.784866,
           0.314092
          ],
          [
           "6druz",
           2.752256,
           0.249889
          ],
          [
           "denn_nikitin",
           2.752278,
           0.24985
          ],
          [
           "dickyirwin",
           2.738711,
           0.345363
          ],
          [
           "gffgfsfgfsdffjj",
           2.681019,
           0.252567
          ],
          [
           "brightandglory",
           2.719355,
           0.318379
          ],
          [
           "claudia42kern",
           2.739554,
           0.285709
          ],
          [
           "kadirovrussia",
           2.809892,
           0.263703
          ]
         ],
         "hovertemplate": "post_count=%{marker.size}<br>gini_coefficient=%{y}<br>user_id=%{customdata[0]}<br>shannon_entropy=%{customdata[1]}<br>top1_ratio=%{customdata[2]}<br>dominant_topic=%{marker.color}<extra></extra>",
         "legendgroup": "",
         "marker": {
          "color": [
           4,
           10,
           8,
           4,
           8,
           8,
           4,
           4,
           4,
           8,
           4,
           8,
           8,
           10,
           4,
           4,
           4,
           4,
           4,
           4,
           6,
           4,
           10,
           8,
           8,
           4,
           8,
           4,
           4,
           8,
           4,
           4,
           8,
           4,
           4,
           8,
           4,
           4,
           4,
           4,
           8,
           8,
           4,
           8,
           8,
           4,
           4,
           4,
           4,
           4,
           4,
           4,
           4,
           4,
           4,
           10,
           4,
           4,
           4,
           8,
           4,
           4,
           6,
           10,
           8,
           4,
           4,
           4,
           9,
           6,
           4,
           8,
           4,
           4,
           8,
           4,
           4,
           6,
           10,
           4,
           4,
           8,
           8,
           4,
           4,
           8,
           8,
           9,
           4,
           8,
           8,
           10,
           8,
           8,
           4,
           4,
           4,
           8,
           4,
           8,
           8,
           4,
           4,
           8,
           8,
           4,
           8,
           8,
           10,
           4,
           4,
           4,
           4,
           8,
           4,
           8,
           4,
           4,
           4,
           4,
           8,
           8,
           10,
           8,
           4,
           10,
           8,
           10,
           4,
           4,
           8,
           4,
           4,
           4,
           4,
           4,
           8,
           8,
           8,
           8,
           4,
           11,
           11,
           11,
           11,
           11,
           4,
           4,
           8,
           4,
           4,
           10,
           8,
           4,
           4,
           8,
           4,
           10,
           10,
           10,
           4,
           8,
           4,
           4,
           4,
           4,
           4,
           8,
           4,
           4,
           8,
           8,
           4,
           4,
           10,
           4,
           4,
           6,
           4,
           4,
           8,
           4,
           4,
           8,
           4,
           8,
           4,
           4,
           4,
           10,
           10,
           4,
           4,
           4,
           4,
           10,
           4,
           4,
           4,
           8,
           10,
           8,
           8,
           10,
           4,
           8,
           4,
           4,
           4,
           8,
           8,
           4,
           8,
           8,
           9,
           4,
           8,
           4,
           8,
           4,
           4,
           4,
           4,
           8,
           4,
           8,
           8,
           4,
           8,
           10,
           8,
           4,
           4,
           4,
           10,
           4,
           4,
           9,
           4,
           8,
           9,
           8,
           8,
           4,
           8,
           4,
           4,
           8,
           8,
           4,
           4,
           8,
           4,
           4,
           4,
           8,
           8,
           4,
           4,
           1,
           1,
           1,
           1,
           1,
           1,
           10,
           4,
           4,
           4,
           4,
           4,
           8,
           4,
           4,
           8,
           10,
           4,
           4,
           8,
           8,
           4,
           4,
           8,
           8,
           8,
           8,
           4,
           4,
           4,
           10,
           4,
           10,
           4,
           4,
           4,
           8,
           4,
           4,
           8,
           10,
           4,
           9,
           8,
           8,
           8,
           8,
           4,
           10,
           8,
           4,
           4,
           4,
           4,
           4,
           8,
           8,
           8,
           8,
           8,
           4,
           8,
           4,
           8,
           4,
           4,
           4,
           4,
           9,
           4,
           9,
           4,
           4,
           4,
           4,
           4,
           10,
           4,
           10,
           4,
           8,
           4,
           4,
           4,
           4,
           4,
           4,
           9,
           4,
           0,
           8,
           8,
           9,
           10,
           10,
           4,
           8,
           4,
           4,
           8,
           10,
           4,
           4,
           4,
           10,
           3,
           9,
           4,
           10,
           9,
           8,
           8,
           4,
           4,
           9,
           2,
           4,
           8,
           4,
           8,
           4,
           9,
           4,
           8,
           4,
           4,
           10,
           9,
           9,
           8,
           4,
           8,
           5,
           4,
           8,
           4,
           8,
           9,
           8,
           10,
           4,
           4,
           4,
           4,
           4,
           4,
           4,
           4,
           4,
           4,
           4,
           4,
           4,
           4,
           8,
           11,
           11,
           4,
           4,
           10,
           11,
           11,
           4,
           4,
           9,
           9,
           9,
           8,
           4,
           9,
           4,
           9,
           9,
           9,
           8,
           8,
           4,
           8,
           8,
           4,
           8,
           4,
           4,
           9
          ],
          "coloraxis": "coloraxis",
          "opacity": 0.7,
          "size": [
           21,
           1,
           1,
           66,
           1,
           2,
           1,
           58,
           68,
           27,
           1,
           191,
           2,
           1,
           28,
           68,
           4,
           71,
           135,
           109,
           3,
           45,
           1,
           1,
           1,
           5,
           66,
           90,
           51,
           148,
           94,
           100,
           1,
           4,
           63,
           246,
           215,
           65,
           56,
           107,
           64,
           5,
           70,
           242,
           5,
           4,
           3,
           1,
           9,
           1,
           74,
           59,
           61,
           61,
           40,
           1,
           74,
           76,
           104,
           193,
           5,
           100,
           3,
           1,
           206,
           60,
           119,
           71,
           1,
           3,
           20,
           298,
           49,
           53,
           31,
           105,
           50,
           3,
           1,
           54,
           39,
           192,
           219,
           5,
           53,
           178,
           190,
           91,
           10,
           221,
           9,
           4,
           3,
           9,
           55,
           53,
           53,
           9,
           50,
           8,
           2,
           48,
           10,
           202,
           36,
           6,
           4,
           209,
           1,
           7,
           6,
           12,
           18,
           2,
           12,
           1,
           31,
           52,
           31,
           56,
           1,
           1,
           162,
           123,
           69,
           121,
           2,
           87,
           11,
           95,
           123,
           58,
           11,
           73,
           5,
           64,
           3,
           7,
           23,
           11,
           53,
           1,
           1,
           1,
           1,
           1,
           15,
           4,
           1,
           7,
           81,
           113,
           236,
           38,
           25,
           1,
           37,
           1,
           122,
           7,
           9,
           1,
           10,
           93,
           36,
           47,
           40,
           64,
           10,
           2,
           3,
           247,
           68,
           46,
           93,
           13,
           39,
           3,
           53,
           10,
           196,
           10,
           72,
           45,
           15,
           182,
           13,
           52,
           9,
           111,
           92,
           38,
           9,
           1,
           46,
           93,
           8,
           56,
           29,
           150,
           1,
           1,
           24,
           122,
           47,
           33,
           1,
           39,
           10,
           92,
           224,
           30,
           157,
           14,
           34,
           51,
           247,
           12,
           12,
           76,
           54,
           18,
           41,
           93,
           12,
           1,
           105,
           24,
           41,
           133,
           39,
           15,
           41,
           65,
           87,
           19,
           12,
           44,
           36,
           30,
           7,
           215,
           8,
           10,
           207,
           1,
           10,
           29,
           177,
           30,
           37,
           53,
           33,
           10,
           8,
           12,
           176,
           15,
           35,
           1,
           1,
           1,
           1,
           1,
           1,
           105,
           8,
           15,
           13,
           39,
           48,
           197,
           14,
           10,
           180,
           1,
           12,
           103,
           1,
           9,
           105,
           9,
           26,
           1,
           10,
           187,
           1,
           2,
           45,
           1,
           9,
           1,
           12,
           38,
           10,
           96,
           63,
           40,
           1,
           5,
           6,
           12,
           240,
           46,
           5,
           62,
           12,
           172,
           177,
           1,
           1,
           1,
           1,
           6,
           1,
           81,
           1,
           16,
           73,
           2,
           86,
           9,
           20,
           7,
           16,
           8,
           2,
           60,
           1,
           6,
           12,
           10,
           41,
           11,
           11,
           1,
           3,
           122,
           9,
           3,
           40,
           3,
           19,
           20,
           39,
           2,
           29,
           1,
           1,
           1,
           13,
           16,
           4,
           59,
           19,
           1,
           12,
           18,
           105,
           53,
           66,
           21,
           11,
           1,
           1,
           12,
           8,
           52,
           1,
           2,
           1,
           14,
           24,
           14,
           36,
           6,
           88,
           28,
           19,
           7,
           4,
           23,
           10,
           9,
           23,
           4,
           1,
           1,
           1,
           22,
           5,
           1,
           25,
           1,
           7,
           11,
           4,
           4,
           37,
           23,
           16,
           24,
           6,
           23,
           11,
           26,
           17,
           15,
           13,
           11,
           27,
           33,
           27,
           6,
           2,
           2,
           27,
           33,
           2,
           2,
           2,
           25,
           13,
           4,
           5,
           22,
           4,
           9,
           9,
           26,
           1,
           1,
           1,
           1,
           2,
           13,
           4,
           4,
           21,
           3,
           30,
           23,
           5
          ],
          "sizemode": "area",
          "sizeref": 0.33111111111111113,
          "symbol": "circle"
         },
         "mode": "markers",
         "name": "",
         "orientation": "v",
         "showlegend": false,
         "type": "scatter",
         "x": [
          21,
          1,
          1,
          66,
          1,
          2,
          1,
          58,
          68,
          27,
          1,
          191,
          2,
          1,
          28,
          68,
          4,
          71,
          135,
          109,
          3,
          45,
          1,
          1,
          1,
          5,
          66,
          90,
          51,
          148,
          94,
          100,
          1,
          4,
          63,
          246,
          215,
          65,
          56,
          107,
          64,
          5,
          70,
          242,
          5,
          4,
          3,
          1,
          9,
          1,
          74,
          59,
          61,
          61,
          40,
          1,
          74,
          76,
          104,
          193,
          5,
          100,
          3,
          1,
          206,
          60,
          119,
          71,
          1,
          3,
          20,
          298,
          49,
          53,
          31,
          105,
          50,
          3,
          1,
          54,
          39,
          192,
          219,
          5,
          53,
          178,
          190,
          91,
          10,
          221,
          9,
          4,
          3,
          9,
          55,
          53,
          53,
          9,
          50,
          8,
          2,
          48,
          10,
          202,
          36,
          6,
          4,
          209,
          1,
          7,
          6,
          12,
          18,
          2,
          12,
          1,
          31,
          52,
          31,
          56,
          1,
          1,
          162,
          123,
          69,
          121,
          2,
          87,
          11,
          95,
          123,
          58,
          11,
          73,
          5,
          64,
          3,
          7,
          23,
          11,
          53,
          1,
          1,
          1,
          1,
          1,
          15,
          4,
          1,
          7,
          81,
          113,
          236,
          38,
          25,
          1,
          37,
          1,
          122,
          7,
          9,
          1,
          10,
          93,
          36,
          47,
          40,
          64,
          10,
          2,
          3,
          247,
          68,
          46,
          93,
          13,
          39,
          3,
          53,
          10,
          196,
          10,
          72,
          45,
          15,
          182,
          13,
          52,
          9,
          111,
          92,
          38,
          9,
          1,
          46,
          93,
          8,
          56,
          29,
          150,
          1,
          1,
          24,
          122,
          47,
          33,
          1,
          39,
          10,
          92,
          224,
          30,
          157,
          14,
          34,
          51,
          247,
          12,
          12,
          76,
          54,
          18,
          41,
          93,
          12,
          1,
          105,
          24,
          41,
          133,
          39,
          15,
          41,
          65,
          87,
          19,
          12,
          44,
          36,
          30,
          7,
          215,
          8,
          10,
          207,
          1,
          10,
          29,
          177,
          30,
          37,
          53,
          33,
          10,
          8,
          12,
          176,
          15,
          35,
          1,
          1,
          1,
          1,
          1,
          1,
          105,
          8,
          15,
          13,
          39,
          48,
          197,
          14,
          10,
          180,
          1,
          12,
          103,
          1,
          9,
          105,
          9,
          26,
          1,
          10,
          187,
          1,
          2,
          45,
          1,
          9,
          1,
          12,
          38,
          10,
          96,
          63,
          40,
          1,
          5,
          6,
          12,
          240,
          46,
          5,
          62,
          12,
          172,
          177,
          1,
          1,
          1,
          1,
          6,
          1,
          81,
          1,
          16,
          73,
          2,
          86,
          9,
          20,
          7,
          16,
          8,
          2,
          60,
          1,
          6,
          12,
          10,
          41,
          11,
          11,
          1,
          3,
          122,
          9,
          3,
          40,
          3,
          19,
          20,
          39,
          2,
          29,
          1,
          1,
          1,
          13,
          16,
          4,
          59,
          19,
          1,
          12,
          18,
          105,
          53,
          66,
          21,
          11,
          1,
          1,
          12,
          8,
          52,
          1,
          2,
          1,
          14,
          24,
          14,
          36,
          6,
          88,
          28,
          19,
          7,
          4,
          23,
          10,
          9,
          23,
          4,
          1,
          1,
          1,
          22,
          5,
          1,
          25,
          1,
          7,
          11,
          4,
          4,
          37,
          23,
          16,
          24,
          6,
          23,
          11,
          26,
          17,
          15,
          13,
          11,
          27,
          33,
          27,
          6,
          2,
          2,
          27,
          33,
          2,
          2,
          2,
          25,
          13,
          4,
          5,
          22,
          4,
          9,
          9,
          26,
          1,
          1,
          1,
          1,
          2,
          13,
          4,
          4,
          21,
          3,
          30,
          23,
          5
         ],
         "xaxis": "x",
         "y": [
          0.836373,
          0.810083,
          0.788269,
          0.785216,
          0.78285,
          0.780319,
          0.778644,
          0.775,
          0.773055,
          0.771109,
          0.769944,
          0.769362,
          0.768894,
          0.768803,
          0.768707,
          0.763998,
          0.763479,
          0.763415,
          0.76336,
          0.762862,
          0.762541,
          0.761932,
          0.761801,
          0.76129,
          0.760397,
          0.759399,
          0.758903,
          0.757867,
          0.757854,
          0.757606,
          0.757593,
          0.757505,
          0.757136,
          0.756735,
          0.756594,
          0.756473,
          0.75634,
          0.75611,
          0.75526,
          0.754823,
          0.754468,
          0.754433,
          0.753874,
          0.753596,
          0.752884,
          0.752103,
          0.750887,
          0.750697,
          0.75049,
          0.750096,
          0.749146,
          0.749015,
          0.748743,
          0.748705,
          0.747598,
          0.74677,
          0.744694,
          0.744323,
          0.743682,
          0.743295,
          0.743224,
          0.743112,
          0.743017,
          0.742954,
          0.741551,
          0.740602,
          0.740257,
          0.740145,
          0.739656,
          0.739641,
          0.73943,
          0.738304,
          0.737874,
          0.737705,
          0.737436,
          0.737208,
          0.73529,
          0.734432,
          0.733908,
          0.733513,
          0.733299,
          0.733233,
          0.733075,
          0.73222,
          0.732059,
          0.731773,
          0.731665,
          0.731387,
          0.731229,
          0.730742,
          0.730002,
          0.729664,
          0.728765,
          0.728221,
          0.728176,
          0.727307,
          0.726774,
          0.726532,
          0.726524,
          0.726406,
          0.726343,
          0.725626,
          0.725466,
          0.72522,
          0.724615,
          0.723548,
          0.723498,
          0.723397,
          0.722929,
          0.722633,
          0.722411,
          0.722328,
          0.721894,
          0.721814,
          0.721777,
          0.721691,
          0.721611,
          0.721545,
          0.721502,
          0.721058,
          0.720636,
          0.720605,
          0.720509,
          0.720402,
          0.720375,
          0.720207,
          0.719543,
          0.719268,
          0.719214,
          0.718775,
          0.71842,
          0.718368,
          0.718248,
          0.71814,
          0.718031,
          0.717981,
          0.717727,
          0.717444,
          0.717103,
          0.717003,
          0.716962,
          0.716524,
          0.716524,
          0.716524,
          0.716523,
          0.716523,
          0.71645,
          0.716413,
          0.71543,
          0.71525,
          0.715203,
          0.71505,
          0.714794,
          0.714067,
          0.714037,
          0.713915,
          0.713878,
          0.71357,
          0.713422,
          0.71314,
          0.713022,
          0.711957,
          0.711904,
          0.711851,
          0.711476,
          0.711425,
          0.711405,
          0.711071,
          0.710715,
          0.710463,
          0.710459,
          0.710322,
          0.710101,
          0.709952,
          0.709784,
          0.709256,
          0.70906,
          0.708927,
          0.70866,
          0.708653,
          0.70859,
          0.708096,
          0.708014,
          0.707936,
          0.70772,
          0.707645,
          0.70749,
          0.707469,
          0.707377,
          0.707321,
          0.707198,
          0.707076,
          0.707048,
          0.707027,
          0.706698,
          0.706526,
          0.706501,
          0.706357,
          0.706068,
          0.706032,
          0.705842,
          0.705803,
          0.705637,
          0.705618,
          0.705309,
          0.705297,
          0.705277,
          0.70525,
          0.705223,
          0.704882,
          0.70478,
          0.704655,
          0.704144,
          0.704045,
          0.703922,
          0.703673,
          0.703429,
          0.703349,
          0.703073,
          0.70304,
          0.702467,
          0.702368,
          0.70227,
          0.70204,
          0.701913,
          0.701554,
          0.701529,
          0.70144,
          0.701322,
          0.701301,
          0.701184,
          0.700949,
          0.70093,
          0.700871,
          0.700768,
          0.700567,
          0.700333,
          0.700248,
          0.700156,
          0.700096,
          0.699779,
          0.698998,
          0.698746,
          0.698394,
          0.697587,
          0.697385,
          0.697209,
          0.697061,
          0.69681,
          0.696759,
          0.696666,
          0.696629,
          0.696441,
          0.695617,
          0.695499,
          0.695335,
          0.695312,
          0.69527,
          0.694911,
          0.694887,
          0.694887,
          0.694885,
          0.694884,
          0.694883,
          0.694868,
          0.694641,
          0.694355,
          0.694212,
          0.694043,
          0.693566,
          0.693388,
          0.693329,
          0.693271,
          0.693068,
          0.69306,
          0.692387,
          0.692268,
          0.691807,
          0.691763,
          0.691662,
          0.69044,
          0.69015,
          0.69014,
          0.689704,
          0.689472,
          0.688485,
          0.688473,
          0.68797,
          0.687798,
          0.687751,
          0.687472,
          0.687189,
          0.687123,
          0.686533,
          0.686463,
          0.686106,
          0.68518,
          0.684945,
          0.684587,
          0.684506,
          0.684383,
          0.684336,
          0.683639,
          0.68328,
          0.682816,
          0.681997,
          0.681938,
          0.681658,
          0.681233,
          0.681195,
          0.680794,
          0.680793,
          0.68079,
          0.680021,
          0.680002,
          0.678347,
          0.678346,
          0.67823,
          0.678105,
          0.677552,
          0.676743,
          0.676629,
          0.675841,
          0.67566,
          0.675403,
          0.674762,
          0.674239,
          0.672511,
          0.671903,
          0.671567,
          0.671073,
          0.670841,
          0.670636,
          0.670136,
          0.669317,
          0.669087,
          0.669042,
          0.668974,
          0.668601,
          0.66846,
          0.668343,
          0.667329,
          0.667119,
          0.665787,
          0.66443,
          0.662379,
          0.662218,
          0.661447,
          0.660529,
          0.66052,
          0.659914,
          0.659678,
          0.657973,
          0.657453,
          0.65658,
          0.655919,
          0.655556,
          0.655288,
          0.654591,
          0.654134,
          0.653079,
          0.652978,
          0.652229,
          0.65085,
          0.650788,
          0.650025,
          0.649564,
          0.649245,
          0.64817,
          0.647932,
          0.64755,
          0.647053,
          0.646157,
          0.643651,
          0.642715,
          0.64193,
          0.641615,
          0.641441,
          0.639729,
          0.637289,
          0.636586,
          0.63603,
          0.635923,
          0.635563,
          0.634311,
          0.633588,
          0.632277,
          0.632268,
          0.631255,
          0.629173,
          0.626549,
          0.624346,
          0.620204,
          0.618529,
          0.618233,
          0.617866,
          0.616691,
          0.615872,
          0.615507,
          0.615016,
          0.613242,
          0.612729,
          0.610021,
          0.606866,
          0.60586,
          0.603798,
          0.602708,
          0.602187,
          0.601223,
          0.600596,
          0.600404,
          0.597988,
          0.596828,
          0.596032,
          0.595519,
          0.595514,
          0.594984,
          0.593486,
          0.592553,
          0.592081,
          0.59208,
          0.590532,
          0.590506,
          0.589406,
          0.589328,
          0.588504,
          0.587921,
          0.582176,
          0.581281,
          0.580048,
          0.577377,
          0.57736,
          0.574555,
          0.572271,
          0.567848,
          0.566656,
          0.564981,
          0.564967,
          0.564844,
          0.563224,
          0.562864,
          0.562803,
          0.548104
         ],
         "yaxis": "y"
        },
        {
         "hoverinfo": "text",
         "marker": {
          "color": "red",
          "line": {
           "color": "black",
           "width": 2
          },
          "size": 15
         },
         "mode": "markers",
         "name": "Suspicious",
         "text": [
          "worldnewspoli",
          "jrrbrtt",
          "danny_turner_1",
          "finley1589",
          "heyitsglor",
          "orrclay",
          "kelvsok",
          "kenzdonovan",
          "kateritterrrr",
          "warfareww",
          "yattvrussia",
          "patriotblake",
          "lgbtuni",
          "kristyanann",
          "missourinewsus",
          "cynthiamhunter",
          "4ever1937",
          "usa_gunslinger",
          "pamela_moore13",
          "ameliebaldwin",
          "andrebeauleger",
          "luke_jones13",
          "albertmorenmore",
          "israel_wills",
          "dannymaslov",
          "interfischer",
          "todayinsyria",
          "southlonestar",
          "redlanews",
          "hyddrox",
          "dailysanfran",
          "newarkvoice",
          "williams_diana_",
          "rogovilia",
          "happkendrahappy",
          "paulinett",
          "ten_gop",
          "donnabrivera",
          "nojonathonno",
          "newspeakdaily",
          "patriototus",
          "arkadii_trofim",
          "wadeharriot",
          "thefoundingson",
          "arturburanof",
          "ttsvetkov",
          "williams8kalvin",
          "darrell_h_hunt",
          "realrobert1987",
          "zubovnik",
          "rightnpr",
          "watchmewalkin",
          "j0hnlarsen",
          "realten_gop",
          "march_for_trump",
          "gibbs_jeremy_",
          "prettylaraplace",
          "hollydler",
          "onlinecleveland",
          "cookncooks",
          "stepansazono",
          "politweecs",
          "sylvielefevrier",
          "t0nyasinclair",
          "melanymelanin",
          "javonhidp",
          "kansasdailynews",
          "carriethornthon",
          "riafanru",
          "karolineauge",
          "rh0lbr00k",
          "tpartynews",
          "staywoke88",
          "drmichaelgarcia",
          "itstimetosecede",
          "washingtonline",
          "jaydaastonishin",
          "ninonderrien",
          "srahse",
          "ravenicholson",
          "darknally",
          "dorothiebell",
          "garrettsimpson_",
          "patriotka_rusi",
          "chadsloyer",
          "jacquelinisbest",
          "emileewaren",
          "margarethkurz",
          "janelperkinson",
          "jeffreykahunas",
          "anthonywoodboy",
          "lelandgraves_",
          "instotus",
          "_sashalapin",
          "alecmooooody",
          "onemightyfish",
          "camosaseko",
          "jihadist2ndwife",
          "ramonasnails",
          "muslims_in_usa",
          "anzgri",
          "regieblackmon",
          "pati_cooper",
          "leroylovesusa",
          "jamie_mccarthy_",
          "tezaharov",
          "shocko_10",
          "laurabaeley",
          "wildharee",
          "devinedevinbr",
          "sergbriantsev",
          "karenparker93",
          "pigeontoday",
          "mmmdarya",
          "valeyina_dm",
          "joseph_jenks",
          "siccerthanyou",
          "ogdeandre",
          "zzzacharyzzz",
          "richmondvoice",
          "banttanantta",
          "krustyps",
          "cassieweltch",
          "crystal1johnson",
          "neworleanson",
          "puredavie",
          "policestateme",
          "traceyhappymom",
          "finnaglo",
          "phoenixdailynew",
          "hollandpatrickk",
          "jani_s_jac",
          "glebnikon",
          "oaklandonline",
          "maksblaginin",
          "philadelphiaon",
          "lysikvinkova",
          "romangorolov",
          "robbydelaware",
          "blacktivists",
          "pamblmdaniels",
          "ostrovofficer",
          "lila_gorila",
          "oooonlyone",
          "horrorki",
          "zistti",
          "sovetnikstatski",
          "inst_vets",
          "tebepizdec",
          "bricegeller",
          "todaybostonma",
          "mr_clampin",
          "lazykstafford",
          "gwennythot",
          "paolakinck",
          "roscoe_riddle",
          "samirgooden",
          "clydedaws0n",
          "notritahart",
          "austinlovesbeer",
          "archieolivers",
          "agnesgrhm",
          "johnievogue",
          "batonrougevoice",
          "youjustctrlc",
          "iiddaamarks",
          "acejinev",
          "logan_whatsup",
          "gvardeykalena",
          "chaneutral",
          "riogithief",
          "michellearry",
          "todaymiami",
          "ilovesarahrich",
          "jasper_fly",
          "chesplayschess",
          "eliasbrick",
          "verrellportier",
          "jery_robertsyo",
          "erofeenkoanton",
          "mil0blake",
          "corynaenae",
          "todaycincinnati",
          "todaynycity",
          "kotovamarys",
          "jenn_abrams",
          "damanimiles",
          "stanleyparris",
          "johnnymarch_",
          "queenofthewo",
          "melvinsroberts",
          "cassishere",
          "adamchapmanjr",
          "georevieweurope",
          "randolphburrr",
          "giselleevns",
          "taraformation",
          "imissobama",
          "errivvvvers",
          "westernwindwes",
          "jon_underwood_",
          "handsome_henson",
          "onlinememphis",
          "kathiemrr",
          "imapharrelfake",
          "peytoncashout",
          "bydrbre_",
          "houstontopnews",
          "claypaigeboo",
          "micparrish",
          "evagreen69",
          "entatjanamax",
          "priceforpierce",
          "mihanovikov",
          "sternandreas404",
          "jadonhutchinson",
          "hiimkhloe",
          "cookiiieeessss",
          "nataturn",
          "stlouisonline",
          "dailysandiego",
          "vasilichvasili",
          "jassscott",
          "blacktolive",
          "gallowayeliana",
          "jaedenmassey",
          "screamymonkey",
          "dallastopnews",
          "blk_voice",
          "willisbonnerr",
          "blacknewsoutlet",
          "stanley_cox_",
          "travisrespek",
          "detroitdailynew",
          "daileyjadon",
          "taisiaavdeeva",
          "jeanuttella",
          "klara_sauber",
          "lagonehoe",
          "scottgohard",
          "christinapool61",
          "malloryjared",
          "kaydenmelton",
          "krasilnikovbor",
          "heyits_toby",
          "leecory",
          "sergeev_tolik",
          "dailylosangeles",
          "johnbranchh",
          "rosieonfleek",
          "mrmoraan",
          "jeblary2016",
          "hunteroddddom",
          "romanagafonovv",
          "boriseleseev",
          "nj_blacknews",
          "jeannemccarthy0",
          "skatewake1994",
          "internalmemer",
          "mwiqcen",
          "gorelkinnn",
          "shikarnoel",
          "jorda_morgan",
          "lmarinays",
          "moda_barina",
          "brianaregland",
          "alexsvladimirov",
          "razvedchica_",
          "bogdankravcov",
          "blmsoldier",
          "sanantotopnews",
          "ryanmaxwell_1",
          "chernenkonikola",
          "fightm_d_b",
          "judelambertusa",
          "portmela",
          "kolradskiy_zhuk",
          "specialaffair",
          "sindyblossom",
          "tessyelmore",
          "chicagodailynew",
          "kelvin_chambers",
          "cornellburchet",
          "globalfoe",
          "dontshootcom",
          "patriotraphael",
          "kimberleighlamb",
          "patriot_archive",
          "cannonsher",
          "puddin_leto",
          "imaswerve",
          "milwaukeevoice",
          "queennarielle",
          "antonhayhay",
          "russilanrogov",
          "gloed_up",
          "atlanta_online",
          "bigboyjasiah",
          "iris0_o",
          "ericarutter",
          "viborisova",
          "marianeuberg1",
          "_nickluna_",
          "blackmattersus",
          "wonderhann",
          "c__wells",
          "cliftonhughes_",
          "datwisenigga",
          "baobaeham",
          "gwen_garland",
          "fischermaria933",
          "sonderkatharina",
          "tinatkurtz1222",
          "blackeyeblog",
          "christinacrisss",
          "evewebster373",
          "gracelilstar",
          "ponomarevslav",
          "trayneshacole",
          "rus_in_usa",
          "bleepthepolice",
          "berkhoff85",
          "4mysquad",
          "notballinyet",
          "deusxyx",
          "boryabuchin",
          "shapka_mono",
          "whitehousecards",
          "peeonhillary",
          "lilylilyhasse",
          "bigboysneed",
          "brianthelifter",
          "liljordamn",
          "nehemiahx",
          "robertebonyking",
          "briys_valera",
          "edmundrjr",
          "mrclydepratt",
          "lapinolegg",
          "colbyst1",
          "jacksoncitypost",
          "elpasotopnews",
          "alexharritonov",
          "cascaseyp",
          "beckster319",
          "maximgaron1",
          "manuelkrosss",
          "politopros",
          "ssus_panther",
          "beverlybalsom",
          "blacneighbor",
          "erdollum",
          "donnielmiller",
          "chrixmorgan",
          "marissaimstrong",
          "ryanncooperwood",
          "aleksey_sokol_",
          "bocharnikov_v",
          "baltimore0nline",
          "danageezus",
          "todaypittsburgh",
          "toneporter",
          "maymaymyy",
          "yaeltrouble",
          "mbrownhere",
          "fishalexanderr",
          "jerstoner",
          "worldofhashtags",
          "joachimbuchwitz",
          "iancalh0un",
          "reachitdoit",
          "aantiracist",
          "jarrardnorman",
          "peterkistner",
          "seattle_post",
          "lukas_rosler",
          "_billy_moyer_",
          "curtisbigman",
          "todaycleveland",
          "abigailssilk",
          "mtthsberger",
          "hipppo_",
          "johnieboycooks",
          "chrisuport_port",
          "calebpaar",
          "glennharper_",
          "schultei2",
          "angela_lattke",
          "russianallies",
          "aiden7757",
          "charlesrespeck",
          "andreaseulitz",
          "dannythehappies",
          "kirstenladaniel",
          "lynsrodriguez",
          "sincerepruitt",
          "erdollum666",
          "jsncarey",
          "dominicvalent",
          "jmscoxxx",
          "kencannone",
          "holycrapchrix",
          "meggieoneil",
          "adrienne_gg",
          "bigseanbeast",
          "charlesjharper",
          "heyheyhailey",
          "wokefromday1",
          "susayung",
          "catelinewatkins",
          "bgarner2107",
          "loragreeen",
          "gab1aldana",
          "novostidamask",
          "rusnevrotik",
          "msm0re",
          "hellieedwards",
          "ilikebigbuttand",
          "sovasof",
          "mikkyrurk",
          "oh_frida",
          "bruciedublin",
          "aldrich420",
          "coldwar20_ru",
          "margosavazh",
          "angelabach991",
          "maxdementiev",
          "adrgreerr",
          "lavrovmuesli",
          "amandavgreen",
          "klausfinker",
          "hamburgbote",
          "sto_christi",
          "edmundc0oke",
          "margoberoeva",
          "brentmcclure275",
          "6druz",
          "denn_nikitin"
         ],
         "type": "scatter",
         "x": [
          21,
          1,
          1,
          66,
          1,
          2,
          1,
          58,
          68,
          27,
          1,
          191,
          2,
          1,
          28,
          68,
          4,
          71,
          135,
          109,
          3,
          45,
          1,
          1,
          1,
          5,
          66,
          90,
          51,
          148,
          94,
          100,
          1,
          4,
          63,
          246,
          215,
          65,
          56,
          107,
          64,
          5,
          70,
          242,
          5,
          4,
          3,
          1,
          9,
          1,
          74,
          59,
          61,
          61,
          40,
          1,
          74,
          76,
          104,
          193,
          5,
          100,
          3,
          1,
          206,
          60,
          119,
          71,
          1,
          3,
          20,
          298,
          49,
          53,
          31,
          105,
          50,
          3,
          1,
          54,
          39,
          192,
          219,
          5,
          53,
          178,
          190,
          91,
          10,
          221,
          9,
          4,
          3,
          9,
          55,
          53,
          53,
          9,
          50,
          8,
          2,
          48,
          10,
          202,
          36,
          6,
          4,
          209,
          1,
          7,
          6,
          12,
          18,
          2,
          12,
          1,
          31,
          52,
          31,
          56,
          1,
          1,
          162,
          123,
          69,
          121,
          2,
          87,
          11,
          95,
          123,
          58,
          11,
          73,
          5,
          64,
          3,
          7,
          23,
          11,
          53,
          1,
          1,
          1,
          1,
          1,
          15,
          4,
          1,
          7,
          81,
          113,
          236,
          38,
          25,
          1,
          37,
          1,
          122,
          7,
          9,
          1,
          10,
          93,
          36,
          47,
          40,
          64,
          10,
          2,
          3,
          247,
          68,
          46,
          93,
          13,
          39,
          3,
          53,
          10,
          196,
          10,
          72,
          45,
          15,
          182,
          13,
          52,
          9,
          111,
          92,
          38,
          9,
          1,
          46,
          93,
          8,
          56,
          29,
          150,
          1,
          1,
          24,
          122,
          47,
          33,
          1,
          39,
          10,
          92,
          224,
          30,
          157,
          14,
          34,
          51,
          247,
          12,
          12,
          76,
          54,
          18,
          41,
          93,
          12,
          1,
          105,
          24,
          41,
          133,
          39,
          15,
          41,
          65,
          87,
          19,
          12,
          44,
          36,
          30,
          7,
          215,
          8,
          10,
          207,
          1,
          10,
          29,
          177,
          30,
          37,
          53,
          33,
          10,
          8,
          12,
          176,
          15,
          35,
          1,
          1,
          1,
          1,
          1,
          1,
          105,
          8,
          15,
          13,
          39,
          48,
          197,
          14,
          10,
          180,
          1,
          12,
          103,
          1,
          9,
          105,
          9,
          26,
          1,
          10,
          187,
          1,
          2,
          45,
          1,
          9,
          1,
          12,
          38,
          10,
          96,
          63,
          40,
          1,
          5,
          6,
          12,
          240,
          46,
          5,
          62,
          12,
          172,
          177,
          1,
          1,
          1,
          1,
          6,
          1,
          81,
          1,
          16,
          73,
          2,
          86,
          9,
          20,
          7,
          16,
          8,
          2,
          60,
          1,
          6,
          12,
          10,
          41,
          11,
          11,
          1,
          3,
          122,
          9,
          3,
          40,
          3,
          19,
          20,
          39,
          2,
          29,
          1,
          1,
          1,
          13,
          16,
          4,
          59,
          19,
          1,
          12,
          18,
          105,
          53,
          66,
          21,
          11,
          1,
          1,
          12,
          8,
          52,
          1,
          2,
          1,
          14,
          24,
          14,
          36,
          6,
          88,
          28,
          19,
          7,
          4,
          23,
          10,
          9,
          23,
          4,
          1,
          1,
          1,
          22,
          5,
          1,
          25,
          1,
          7,
          11,
          4,
          4,
          37,
          23,
          16,
          24,
          6,
          23,
          11,
          26,
          17,
          15,
          13,
          11,
          27,
          33,
          27,
          6,
          2,
          2,
          27,
          33,
          2,
          2,
          2,
          25,
          13,
          4,
          5,
          22,
          4,
          9,
          9,
          26,
          1,
          1,
          1,
          1,
          2,
          13,
          4,
          4
         ],
         "y": [
          0.836373,
          0.810083,
          0.788269,
          0.785216,
          0.78285,
          0.780319,
          0.778644,
          0.775,
          0.773055,
          0.771109,
          0.769944,
          0.769362,
          0.768894,
          0.768803,
          0.768707,
          0.763998,
          0.763479,
          0.763415,
          0.76336,
          0.762862,
          0.762541,
          0.761932,
          0.761801,
          0.76129,
          0.760397,
          0.759399,
          0.758903,
          0.757867,
          0.757854,
          0.757606,
          0.757593,
          0.757505,
          0.757136,
          0.756735,
          0.756594,
          0.756473,
          0.75634,
          0.75611,
          0.75526,
          0.754823,
          0.754468,
          0.754433,
          0.753874,
          0.753596,
          0.752884,
          0.752103,
          0.750887,
          0.750697,
          0.75049,
          0.750096,
          0.749146,
          0.749015,
          0.748743,
          0.748705,
          0.747598,
          0.74677,
          0.744694,
          0.744323,
          0.743682,
          0.743295,
          0.743224,
          0.743112,
          0.743017,
          0.742954,
          0.741551,
          0.740602,
          0.740257,
          0.740145,
          0.739656,
          0.739641,
          0.73943,
          0.738304,
          0.737874,
          0.737705,
          0.737436,
          0.737208,
          0.73529,
          0.734432,
          0.733908,
          0.733513,
          0.733299,
          0.733233,
          0.733075,
          0.73222,
          0.732059,
          0.731773,
          0.731665,
          0.731387,
          0.731229,
          0.730742,
          0.730002,
          0.729664,
          0.728765,
          0.728221,
          0.728176,
          0.727307,
          0.726774,
          0.726532,
          0.726524,
          0.726406,
          0.726343,
          0.725626,
          0.725466,
          0.72522,
          0.724615,
          0.723548,
          0.723498,
          0.723397,
          0.722929,
          0.722633,
          0.722411,
          0.722328,
          0.721894,
          0.721814,
          0.721777,
          0.721691,
          0.721611,
          0.721545,
          0.721502,
          0.721058,
          0.720636,
          0.720605,
          0.720509,
          0.720402,
          0.720375,
          0.720207,
          0.719543,
          0.719268,
          0.719214,
          0.718775,
          0.71842,
          0.718368,
          0.718248,
          0.71814,
          0.718031,
          0.717981,
          0.717727,
          0.717444,
          0.717103,
          0.717003,
          0.716962,
          0.716524,
          0.716524,
          0.716524,
          0.716523,
          0.716523,
          0.71645,
          0.716413,
          0.71543,
          0.71525,
          0.715203,
          0.71505,
          0.714794,
          0.714067,
          0.714037,
          0.713915,
          0.713878,
          0.71357,
          0.713422,
          0.71314,
          0.713022,
          0.711957,
          0.711904,
          0.711851,
          0.711476,
          0.711425,
          0.711405,
          0.711071,
          0.710715,
          0.710463,
          0.710459,
          0.710322,
          0.710101,
          0.709952,
          0.709784,
          0.709256,
          0.70906,
          0.708927,
          0.70866,
          0.708653,
          0.70859,
          0.708096,
          0.708014,
          0.707936,
          0.70772,
          0.707645,
          0.70749,
          0.707469,
          0.707377,
          0.707321,
          0.707198,
          0.707076,
          0.707048,
          0.707027,
          0.706698,
          0.706526,
          0.706501,
          0.706357,
          0.706068,
          0.706032,
          0.705842,
          0.705803,
          0.705637,
          0.705618,
          0.705309,
          0.705297,
          0.705277,
          0.70525,
          0.705223,
          0.704882,
          0.70478,
          0.704655,
          0.704144,
          0.704045,
          0.703922,
          0.703673,
          0.703429,
          0.703349,
          0.703073,
          0.70304,
          0.702467,
          0.702368,
          0.70227,
          0.70204,
          0.701913,
          0.701554,
          0.701529,
          0.70144,
          0.701322,
          0.701301,
          0.701184,
          0.700949,
          0.70093,
          0.700871,
          0.700768,
          0.700567,
          0.700333,
          0.700248,
          0.700156,
          0.700096,
          0.699779,
          0.698998,
          0.698746,
          0.698394,
          0.697587,
          0.697385,
          0.697209,
          0.697061,
          0.69681,
          0.696759,
          0.696666,
          0.696629,
          0.696441,
          0.695617,
          0.695499,
          0.695335,
          0.695312,
          0.69527,
          0.694911,
          0.694887,
          0.694887,
          0.694885,
          0.694884,
          0.694883,
          0.694868,
          0.694641,
          0.694355,
          0.694212,
          0.694043,
          0.693566,
          0.693388,
          0.693329,
          0.693271,
          0.693068,
          0.69306,
          0.692387,
          0.692268,
          0.691807,
          0.691763,
          0.691662,
          0.69044,
          0.69015,
          0.69014,
          0.689704,
          0.689472,
          0.688485,
          0.688473,
          0.68797,
          0.687798,
          0.687751,
          0.687472,
          0.687189,
          0.687123,
          0.686533,
          0.686463,
          0.686106,
          0.68518,
          0.684945,
          0.684587,
          0.684506,
          0.684383,
          0.684336,
          0.683639,
          0.68328,
          0.682816,
          0.681997,
          0.681938,
          0.681658,
          0.681233,
          0.681195,
          0.680794,
          0.680793,
          0.68079,
          0.680021,
          0.680002,
          0.678347,
          0.678346,
          0.67823,
          0.678105,
          0.677552,
          0.676743,
          0.676629,
          0.675841,
          0.67566,
          0.675403,
          0.674762,
          0.674239,
          0.672511,
          0.671903,
          0.671567,
          0.671073,
          0.670841,
          0.670636,
          0.670136,
          0.669317,
          0.669087,
          0.669042,
          0.668974,
          0.668601,
          0.66846,
          0.668343,
          0.667329,
          0.667119,
          0.665787,
          0.66443,
          0.662379,
          0.662218,
          0.661447,
          0.660529,
          0.66052,
          0.659914,
          0.659678,
          0.657973,
          0.657453,
          0.65658,
          0.655919,
          0.655556,
          0.655288,
          0.654591,
          0.654134,
          0.653079,
          0.652978,
          0.652229,
          0.65085,
          0.650788,
          0.650025,
          0.649564,
          0.649245,
          0.64817,
          0.647932,
          0.64755,
          0.647053,
          0.646157,
          0.643651,
          0.642715,
          0.64193,
          0.641615,
          0.641441,
          0.639729,
          0.637289,
          0.636586,
          0.63603,
          0.635923,
          0.635563,
          0.634311,
          0.633588,
          0.632277,
          0.632268,
          0.631255,
          0.629173,
          0.626549,
          0.624346,
          0.620204,
          0.618529,
          0.618233,
          0.617866,
          0.616691,
          0.615872,
          0.615507,
          0.615016,
          0.613242,
          0.612729,
          0.610021,
          0.606866,
          0.60586,
          0.603798,
          0.602708,
          0.602187,
          0.601223,
          0.600596,
          0.600404,
          0.597988,
          0.596828,
          0.596032,
          0.595519,
          0.595514,
          0.594984,
          0.593486,
          0.592553,
          0.592081,
          0.59208,
          0.590532,
          0.590506,
          0.589406,
          0.589328,
          0.588504,
          0.587921,
          0.582176,
          0.581281,
          0.580048,
          0.577377,
          0.57736,
          0.574555,
          0.572271,
          0.567848,
          0.566656,
          0.564981,
          0.564967
         ]
        }
       ],
       "layout": {
        "annotations": [
         {
          "showarrow": false,
          "text": "Mean: 0.694",
          "x": 1,
          "xanchor": "right",
          "xref": "x domain",
          "y": 0.693519480812641,
          "yanchor": "bottom",
          "yref": "y"
         }
        ],
        "coloraxis": {
         "colorbar": {
          "title": {
           "text": "dominant_topic"
          }
         },
         "colorscale": [
          [
           0,
           "#0d0887"
          ],
          [
           0.1111111111111111,
           "#46039f"
          ],
          [
           0.2222222222222222,
           "#7201a8"
          ],
          [
           0.3333333333333333,
           "#9c179e"
          ],
          [
           0.4444444444444444,
           "#bd3786"
          ],
          [
           0.5555555555555556,
           "#d8576b"
          ],
          [
           0.6666666666666666,
           "#ed7953"
          ],
          [
           0.7777777777777778,
           "#fb9f3a"
          ],
          [
           0.8888888888888888,
           "#fdca26"
          ],
          [
           1,
           "#f0f921"
          ]
         ]
        },
        "height": 600,
        "legend": {
         "itemsizing": "constant",
         "tracegroupgap": 0
        },
        "shapes": [
         {
          "line": {
           "color": "red",
           "dash": "dash"
          },
          "type": "line",
          "x0": 0,
          "x1": 1,
          "xref": "x domain",
          "y0": 0.693519480812641,
          "y1": 0.693519480812641,
          "yref": "y"
         }
        ],
        "template": {
         "data": {
          "bar": [
           {
            "error_x": {
             "color": "#2a3f5f"
            },
            "error_y": {
             "color": "#2a3f5f"
            },
            "marker": {
             "line": {
              "color": "#E5ECF6",
              "width": 0.5
             },
             "pattern": {
              "fillmode": "overlay",
              "size": 10,
              "solidity": 0.2
             }
            },
            "type": "bar"
           }
          ],
          "barpolar": [
           {
            "marker": {
             "line": {
              "color": "#E5ECF6",
              "width": 0.5
             },
             "pattern": {
              "fillmode": "overlay",
              "size": 10,
              "solidity": 0.2
             }
            },
            "type": "barpolar"
           }
          ],
          "carpet": [
           {
            "aaxis": {
             "endlinecolor": "#2a3f5f",
             "gridcolor": "white",
             "linecolor": "white",
             "minorgridcolor": "white",
             "startlinecolor": "#2a3f5f"
            },
            "baxis": {
             "endlinecolor": "#2a3f5f",
             "gridcolor": "white",
             "linecolor": "white",
             "minorgridcolor": "white",
             "startlinecolor": "#2a3f5f"
            },
            "type": "carpet"
           }
          ],
          "choropleth": [
           {
            "colorbar": {
             "outlinewidth": 0,
             "ticks": ""
            },
            "type": "choropleth"
           }
          ],
          "contour": [
           {
            "colorbar": {
             "outlinewidth": 0,
             "ticks": ""
            },
            "colorscale": [
             [
              0,
              "#0d0887"
             ],
             [
              0.1111111111111111,
              "#46039f"
             ],
             [
              0.2222222222222222,
              "#7201a8"
             ],
             [
              0.3333333333333333,
              "#9c179e"
             ],
             [
              0.4444444444444444,
              "#bd3786"
             ],
             [
              0.5555555555555556,
              "#d8576b"
             ],
             [
              0.6666666666666666,
              "#ed7953"
             ],
             [
              0.7777777777777778,
              "#fb9f3a"
             ],
             [
              0.8888888888888888,
              "#fdca26"
             ],
             [
              1,
              "#f0f921"
             ]
            ],
            "type": "contour"
           }
          ],
          "contourcarpet": [
           {
            "colorbar": {
             "outlinewidth": 0,
             "ticks": ""
            },
            "type": "contourcarpet"
           }
          ],
          "heatmap": [
           {
            "colorbar": {
             "outlinewidth": 0,
             "ticks": ""
            },
            "colorscale": [
             [
              0,
              "#0d0887"
             ],
             [
              0.1111111111111111,
              "#46039f"
             ],
             [
              0.2222222222222222,
              "#7201a8"
             ],
             [
              0.3333333333333333,
              "#9c179e"
             ],
             [
              0.4444444444444444,
              "#bd3786"
             ],
             [
              0.5555555555555556,
              "#d8576b"
             ],
             [
              0.6666666666666666,
              "#ed7953"
             ],
             [
              0.7777777777777778,
              "#fb9f3a"
             ],
             [
              0.8888888888888888,
              "#fdca26"
             ],
             [
              1,
              "#f0f921"
             ]
            ],
            "type": "heatmap"
           }
          ],
          "heatmapgl": [
           {
            "colorbar": {
             "outlinewidth": 0,
             "ticks": ""
            },
            "colorscale": [
             [
              0,
              "#0d0887"
             ],
             [
              0.1111111111111111,
              "#46039f"
             ],
             [
              0.2222222222222222,
              "#7201a8"
             ],
             [
              0.3333333333333333,
              "#9c179e"
             ],
             [
              0.4444444444444444,
              "#bd3786"
             ],
             [
              0.5555555555555556,
              "#d8576b"
             ],
             [
              0.6666666666666666,
              "#ed7953"
             ],
             [
              0.7777777777777778,
              "#fb9f3a"
             ],
             [
              0.8888888888888888,
              "#fdca26"
             ],
             [
              1,
              "#f0f921"
             ]
            ],
            "type": "heatmapgl"
           }
          ],
          "histogram": [
           {
            "marker": {
             "pattern": {
              "fillmode": "overlay",
              "size": 10,
              "solidity": 0.2
             }
            },
            "type": "histogram"
           }
          ],
          "histogram2d": [
           {
            "colorbar": {
             "outlinewidth": 0,
             "ticks": ""
            },
            "colorscale": [
             [
              0,
              "#0d0887"
             ],
             [
              0.1111111111111111,
              "#46039f"
             ],
             [
              0.2222222222222222,
              "#7201a8"
             ],
             [
              0.3333333333333333,
              "#9c179e"
             ],
             [
              0.4444444444444444,
              "#bd3786"
             ],
             [
              0.5555555555555556,
              "#d8576b"
             ],
             [
              0.6666666666666666,
              "#ed7953"
             ],
             [
              0.7777777777777778,
              "#fb9f3a"
             ],
             [
              0.8888888888888888,
              "#fdca26"
             ],
             [
              1,
              "#f0f921"
             ]
            ],
            "type": "histogram2d"
           }
          ],
          "histogram2dcontour": [
           {
            "colorbar": {
             "outlinewidth": 0,
             "ticks": ""
            },
            "colorscale": [
             [
              0,
              "#0d0887"
             ],
             [
              0.1111111111111111,
              "#46039f"
             ],
             [
              0.2222222222222222,
              "#7201a8"
             ],
             [
              0.3333333333333333,
              "#9c179e"
             ],
             [
              0.4444444444444444,
              "#bd3786"
             ],
             [
              0.5555555555555556,
              "#d8576b"
             ],
             [
              0.6666666666666666,
              "#ed7953"
             ],
             [
              0.7777777777777778,
              "#fb9f3a"
             ],
             [
              0.8888888888888888,
              "#fdca26"
             ],
             [
              1,
              "#f0f921"
             ]
            ],
            "type": "histogram2dcontour"
           }
          ],
          "mesh3d": [
           {
            "colorbar": {
             "outlinewidth": 0,
             "ticks": ""
            },
            "type": "mesh3d"
           }
          ],
          "parcoords": [
           {
            "line": {
             "colorbar": {
              "outlinewidth": 0,
              "ticks": ""
             }
            },
            "type": "parcoords"
           }
          ],
          "pie": [
           {
            "automargin": true,
            "type": "pie"
           }
          ],
          "scatter": [
           {
            "fillpattern": {
             "fillmode": "overlay",
             "size": 10,
             "solidity": 0.2
            },
            "type": "scatter"
           }
          ],
          "scatter3d": [
           {
            "line": {
             "colorbar": {
              "outlinewidth": 0,
              "ticks": ""
             }
            },
            "marker": {
             "colorbar": {
              "outlinewidth": 0,
              "ticks": ""
             }
            },
            "type": "scatter3d"
           }
          ],
          "scattercarpet": [
           {
            "marker": {
             "colorbar": {
              "outlinewidth": 0,
              "ticks": ""
             }
            },
            "type": "scattercarpet"
           }
          ],
          "scattergeo": [
           {
            "marker": {
             "colorbar": {
              "outlinewidth": 0,
              "ticks": ""
             }
            },
            "type": "scattergeo"
           }
          ],
          "scattergl": [
           {
            "marker": {
             "colorbar": {
              "outlinewidth": 0,
              "ticks": ""
             }
            },
            "type": "scattergl"
           }
          ],
          "scattermapbox": [
           {
            "marker": {
             "colorbar": {
              "outlinewidth": 0,
              "ticks": ""
             }
            },
            "type": "scattermapbox"
           }
          ],
          "scatterpolar": [
           {
            "marker": {
             "colorbar": {
              "outlinewidth": 0,
              "ticks": ""
             }
            },
            "type": "scatterpolar"
           }
          ],
          "scatterpolargl": [
           {
            "marker": {
             "colorbar": {
              "outlinewidth": 0,
              "ticks": ""
             }
            },
            "type": "scatterpolargl"
           }
          ],
          "scatterternary": [
           {
            "marker": {
             "colorbar": {
              "outlinewidth": 0,
              "ticks": ""
             }
            },
            "type": "scatterternary"
           }
          ],
          "surface": [
           {
            "colorbar": {
             "outlinewidth": 0,
             "ticks": ""
            },
            "colorscale": [
             [
              0,
              "#0d0887"
             ],
             [
              0.1111111111111111,
              "#46039f"
             ],
             [
              0.2222222222222222,
              "#7201a8"
             ],
             [
              0.3333333333333333,
              "#9c179e"
             ],
             [
              0.4444444444444444,
              "#bd3786"
             ],
             [
              0.5555555555555556,
              "#d8576b"
             ],
             [
              0.6666666666666666,
              "#ed7953"
             ],
             [
              0.7777777777777778,
              "#fb9f3a"
             ],
             [
              0.8888888888888888,
              "#fdca26"
             ],
             [
              1,
              "#f0f921"
             ]
            ],
            "type": "surface"
           }
          ],
          "table": [
           {
            "cells": {
             "fill": {
              "color": "#EBF0F8"
             },
             "line": {
              "color": "white"
             }
            },
            "header": {
             "fill": {
              "color": "#C8D4E3"
             },
             "line": {
              "color": "white"
             }
            },
            "type": "table"
           }
          ]
         },
         "layout": {
          "annotationdefaults": {
           "arrowcolor": "#2a3f5f",
           "arrowhead": 0,
           "arrowwidth": 1
          },
          "autotypenumbers": "strict",
          "coloraxis": {
           "colorbar": {
            "outlinewidth": 0,
            "ticks": ""
           }
          },
          "colorscale": {
           "diverging": [
            [
             0,
             "#8e0152"
            ],
            [
             0.1,
             "#c51b7d"
            ],
            [
             0.2,
             "#de77ae"
            ],
            [
             0.3,
             "#f1b6da"
            ],
            [
             0.4,
             "#fde0ef"
            ],
            [
             0.5,
             "#f7f7f7"
            ],
            [
             0.6,
             "#e6f5d0"
            ],
            [
             0.7,
             "#b8e186"
            ],
            [
             0.8,
             "#7fbc41"
            ],
            [
             0.9,
             "#4d9221"
            ],
            [
             1,
             "#276419"
            ]
           ],
           "sequential": [
            [
             0,
             "#0d0887"
            ],
            [
             0.1111111111111111,
             "#46039f"
            ],
            [
             0.2222222222222222,
             "#7201a8"
            ],
            [
             0.3333333333333333,
             "#9c179e"
            ],
            [
             0.4444444444444444,
             "#bd3786"
            ],
            [
             0.5555555555555556,
             "#d8576b"
            ],
            [
             0.6666666666666666,
             "#ed7953"
            ],
            [
             0.7777777777777778,
             "#fb9f3a"
            ],
            [
             0.8888888888888888,
             "#fdca26"
            ],
            [
             1,
             "#f0f921"
            ]
           ],
           "sequentialminus": [
            [
             0,
             "#0d0887"
            ],
            [
             0.1111111111111111,
             "#46039f"
            ],
            [
             0.2222222222222222,
             "#7201a8"
            ],
            [
             0.3333333333333333,
             "#9c179e"
            ],
            [
             0.4444444444444444,
             "#bd3786"
            ],
            [
             0.5555555555555556,
             "#d8576b"
            ],
            [
             0.6666666666666666,
             "#ed7953"
            ],
            [
             0.7777777777777778,
             "#fb9f3a"
            ],
            [
             0.8888888888888888,
             "#fdca26"
            ],
            [
             1,
             "#f0f921"
            ]
           ]
          },
          "colorway": [
           "#636efa",
           "#EF553B",
           "#00cc96",
           "#ab63fa",
           "#FFA15A",
           "#19d3f3",
           "#FF6692",
           "#B6E880",
           "#FF97FF",
           "#FECB52"
          ],
          "font": {
           "color": "#2a3f5f"
          },
          "geo": {
           "bgcolor": "white",
           "lakecolor": "white",
           "landcolor": "#E5ECF6",
           "showlakes": true,
           "showland": true,
           "subunitcolor": "white"
          },
          "hoverlabel": {
           "align": "left"
          },
          "hovermode": "closest",
          "mapbox": {
           "style": "light"
          },
          "paper_bgcolor": "white",
          "plot_bgcolor": "#E5ECF6",
          "polar": {
           "angularaxis": {
            "gridcolor": "white",
            "linecolor": "white",
            "ticks": ""
           },
           "bgcolor": "#E5ECF6",
           "radialaxis": {
            "gridcolor": "white",
            "linecolor": "white",
            "ticks": ""
           }
          },
          "scene": {
           "xaxis": {
            "backgroundcolor": "#E5ECF6",
            "gridcolor": "white",
            "gridwidth": 2,
            "linecolor": "white",
            "showbackground": true,
            "ticks": "",
            "zerolinecolor": "white"
           },
           "yaxis": {
            "backgroundcolor": "#E5ECF6",
            "gridcolor": "white",
            "gridwidth": 2,
            "linecolor": "white",
            "showbackground": true,
            "ticks": "",
            "zerolinecolor": "white"
           },
           "zaxis": {
            "backgroundcolor": "#E5ECF6",
            "gridcolor": "white",
            "gridwidth": 2,
            "linecolor": "white",
            "showbackground": true,
            "ticks": "",
            "zerolinecolor": "white"
           }
          },
          "shapedefaults": {
           "line": {
            "color": "#2a3f5f"
           }
          },
          "ternary": {
           "aaxis": {
            "gridcolor": "white",
            "linecolor": "white",
            "ticks": ""
           },
           "baxis": {
            "gridcolor": "white",
            "linecolor": "white",
            "ticks": ""
           },
           "bgcolor": "#E5ECF6",
           "caxis": {
            "gridcolor": "white",
            "linecolor": "white",
            "ticks": ""
           }
          },
          "title": {
           "x": 0.05
          },
          "xaxis": {
           "automargin": true,
           "gridcolor": "white",
           "linecolor": "white",
           "ticks": "",
           "title": {
            "standoff": 15
           },
           "zerolinecolor": "white",
           "zerolinewidth": 2
          },
          "yaxis": {
           "automargin": true,
           "gridcolor": "white",
           "linecolor": "white",
           "ticks": "",
           "title": {
            "standoff": 15
           },
           "zerolinecolor": "white",
           "zerolinewidth": 2
          }
         }
        },
        "title": {
         "text": "User Topic Concentration (Gini Coefficient) vs Post Frequency"
        },
        "width": 900,
        "xaxis": {
         "anchor": "y",
         "domain": [
          0,
          1
         ],
         "title": {
          "text": "Number of Posts"
         }
        },
        "yaxis": {
         "anchor": "x",
         "domain": [
          0,
          1
         ],
         "title": {
          "text": "Gini Coefficient"
         }
        }
       }
      }
     },
     "metadata": {},
     "output_type": "display_data"
    },
    {
     "data": {
      "application/vnd.jupyter.widget-view+json": {
       "model_id": "5a9b9f01dea3440cbecf3a87e1926213",
       "version_major": 2,
       "version_minor": 0
      },
      "text/plain": [
       "VBox(children=(HTML(value='<h3>Topic Concentration Analysis</h3>'), HBox(children=(Dropdown(description='Metri…"
      ]
     },
     "metadata": {},
     "output_type": "display_data"
    },
    {
     "data": {
      "application/vnd.plotly.v1+json": {
       "config": {
        "plotlyServerURL": "https://plot.ly"
       },
       "data": [
        {
         "customdata": [
          [
           "worldnewspoli",
           0.836373,
           0.74871
          ],
          [
           "jrrbrtt",
           0.810083,
           0.628416
          ],
          [
           "danny_turner_1",
           0.788269,
           0.51003
          ],
          [
           "finley1589",
           0.785216,
           0.551229
          ],
          [
           "heyitsglor",
           0.78285,
           0.515071
          ],
          [
           "orrclay",
           0.780319,
           0.577716
          ],
          [
           "kelvsok",
           0.778644,
           0.474487
          ],
          [
           "kenzdonovan",
           0.775,
           0.51157
          ],
          [
           "kateritterrrr",
           0.773055,
           0.531667
          ],
          [
           "warfareww",
           0.771109,
           0.635414
          ],
          [
           "yattvrussia",
           0.769944,
           0.53184
          ],
          [
           "patriotblake",
           0.769362,
           0.496821
          ],
          [
           "lgbtuni",
           0.768894,
           0.505557
          ],
          [
           "kristyanann",
           0.768803,
           0.608079
          ],
          [
           "missourinewsus",
           0.768707,
           0.551244
          ],
          [
           "cynthiamhunter",
           0.763998,
           0.522245
          ],
          [
           "4ever1937",
           0.763479,
           0.519749
          ],
          [
           "usa_gunslinger",
           0.763415,
           0.479885
          ],
          [
           "pamela_moore13",
           0.76336,
           0.472487
          ],
          [
           "ameliebaldwin",
           0.762862,
           0.460348
          ],
          [
           "andrebeauleger",
           0.762541,
           0.602566
          ],
          [
           "luke_jones13",
           0.761932,
           0.458786
          ],
          [
           "albertmorenmore",
           0.761801,
           0.447639
          ],
          [
           "israel_wills",
           0.76129,
           0.408465
          ],
          [
           "dannymaslov",
           0.760397,
           0.472151
          ],
          [
           "interfischer",
           0.759399,
           0.570719
          ],
          [
           "todayinsyria",
           0.758903,
           0.616073
          ],
          [
           "southlonestar",
           0.757867,
           0.460634
          ],
          [
           "redlanews",
           0.757854,
           0.511441
          ],
          [
           "hyddrox",
           0.757606,
           0.430286
          ],
          [
           "dailysanfran",
           0.757593,
           0.533897
          ],
          [
           "newarkvoice",
           0.757505,
           0.574753
          ],
          [
           "williams_diana_",
           0.757136,
           0.633109
          ],
          [
           "rogovilia",
           0.756735,
           0.514764
          ],
          [
           "happkendrahappy",
           0.756594,
           0.531242
          ],
          [
           "paulinett",
           0.756473,
           0.535572
          ],
          [
           "ten_gop",
           0.75634,
           0.422578
          ],
          [
           "donnabrivera",
           0.75611,
           0.518455
          ],
          [
           "nojonathonno",
           0.75526,
           0.449963
          ],
          [
           "newspeakdaily",
           0.754823,
           0.469681
          ],
          [
           "patriototus",
           0.754468,
           0.491639
          ],
          [
           "arkadii_trofim",
           0.754433,
           0.460906
          ],
          [
           "wadeharriot",
           0.753874,
           0.495568
          ],
          [
           "thefoundingson",
           0.753596,
           0.460457
          ],
          [
           "arturburanof",
           0.752884,
           0.473542
          ],
          [
           "ttsvetkov",
           0.752103,
           0.418019
          ],
          [
           "williams8kalvin",
           0.750887,
           0.492512
          ],
          [
           "darrell_h_hunt",
           0.750697,
           0.426497
          ],
          [
           "realrobert1987",
           0.75049,
           0.554052
          ],
          [
           "zubovnik",
           0.750096,
           0.424617
          ],
          [
           "rightnpr",
           0.749146,
           0.457399
          ],
          [
           "watchmewalkin",
           0.749015,
           0.448559
          ],
          [
           "j0hnlarsen",
           0.748743,
           0.47063
          ],
          [
           "realten_gop",
           0.748705,
           0.501267
          ],
          [
           "march_for_trump",
           0.747598,
           0.456248
          ],
          [
           "gibbs_jeremy_",
           0.74677,
           0.484035
          ],
          [
           "prettylaraplace",
           0.744694,
           0.484695
          ],
          [
           "hollydler",
           0.744323,
           0.492559
          ],
          [
           "onlinecleveland",
           0.743682,
           0.449055
          ],
          [
           "cookncooks",
           0.743295,
           0.501493
          ],
          [
           "stepansazono",
           0.743224,
           0.488222
          ],
          [
           "politweecs",
           0.743112,
           0.490411
          ],
          [
           "sylvielefevrier",
           0.743017,
           0.573257
          ],
          [
           "t0nyasinclair",
           0.742954,
           0.486914
          ],
          [
           "melanymelanin",
           0.741551,
           0.507875
          ],
          [
           "javonhidp",
           0.740602,
           0.430144
          ],
          [
           "kansasdailynews",
           0.740257,
           0.443305
          ],
          [
           "carriethornthon",
           0.740145,
           0.51742
          ],
          [
           "riafanru",
           0.739656,
           0.59068
          ],
          [
           "karolineauge",
           0.739641,
           0.585143
          ],
          [
           "rh0lbr00k",
           0.73943,
           0.48553
          ],
          [
           "tpartynews",
           0.738304,
           0.447045
          ],
          [
           "staywoke88",
           0.737874,
           0.410635
          ],
          [
           "drmichaelgarcia",
           0.737705,
           0.422644
          ],
          [
           "itstimetosecede",
           0.737436,
           0.478064
          ],
          [
           "washingtonline",
           0.737208,
           0.454333
          ],
          [
           "jaydaastonishin",
           0.73529,
           0.433016
          ],
          [
           "ninonderrien",
           0.734432,
           0.572939
          ],
          [
           "srahse",
           0.733908,
           0.401041
          ],
          [
           "ravenicholson",
           0.733513,
           0.416609
          ],
          [
           "darknally",
           0.733299,
           0.47476
          ],
          [
           "dorothiebell",
           0.733233,
           0.486411
          ],
          [
           "garrettsimpson_",
           0.733075,
           0.514795
          ],
          [
           "patriotka_rusi",
           0.73222,
           0.422306
          ],
          [
           "chadsloyer",
           0.732059,
           0.421508
          ],
          [
           "jacquelinisbest",
           0.731773,
           0.468866
          ],
          [
           "emileewaren",
           0.731665,
           0.485594
          ],
          [
           "margarethkurz",
           0.731387,
           0.655798
          ],
          [
           "janelperkinson",
           0.731229,
           0.391908
          ],
          [
           "jeffreykahunas",
           0.730742,
           0.513361
          ],
          [
           "anthonywoodboy",
           0.730002,
           0.511204
          ],
          [
           "lelandgraves_",
           0.729664,
           0.44773
          ],
          [
           "instotus",
           0.728765,
           0.451036
          ],
          [
           "_sashalapin",
           0.728221,
           0.434688
          ],
          [
           "alecmooooody",
           0.728176,
           0.433104
          ],
          [
           "onemightyfish",
           0.727307,
           0.381287
          ],
          [
           "camosaseko",
           0.726774,
           0.40176
          ],
          [
           "jihadist2ndwife",
           0.726532,
           0.457051
          ],
          [
           "ramonasnails",
           0.726524,
           0.42861
          ],
          [
           "muslims_in_usa",
           0.726406,
           0.41754
          ],
          [
           "anzgri",
           0.726343,
           0.483229
          ],
          [
           "regieblackmon",
           0.725626,
           0.400917
          ],
          [
           "pati_cooper",
           0.725466,
           0.456972
          ],
          [
           "leroylovesusa",
           0.72522,
           0.476137
          ],
          [
           "jamie_mccarthy_",
           0.724615,
           0.455074
          ],
          [
           "tezaharov",
           0.723548,
           0.438774
          ],
          [
           "shocko_10",
           0.723498,
           0.400762
          ],
          [
           "laurabaeley",
           0.723397,
           0.534367
          ],
          [
           "wildharee",
           0.722929,
           0.508402
          ],
          [
           "devinedevinbr",
           0.722633,
           0.544316
          ],
          [
           "sergbriantsev",
           0.722411,
           0.41902
          ],
          [
           "karenparker93",
           0.722328,
           0.47699
          ],
          [
           "pigeontoday",
           0.721894,
           0.38728
          ],
          [
           "mmmdarya",
           0.721814,
           0.426843
          ],
          [
           "valeyina_dm",
           0.721777,
           0.463829
          ],
          [
           "joseph_jenks",
           0.721691,
           0.447319
          ],
          [
           "siccerthanyou",
           0.721611,
           0.424077
          ],
          [
           "ogdeandre",
           0.721545,
           0.402318
          ],
          [
           "zzzacharyzzz",
           0.721502,
           0.427356
          ],
          [
           "richmondvoice",
           0.721058,
           0.462762
          ],
          [
           "banttanantta",
           0.720636,
           0.421308
          ],
          [
           "krustyps",
           0.720605,
           0.421115
          ],
          [
           "cassieweltch",
           0.720509,
           0.534283
          ],
          [
           "crystal1johnson",
           0.720402,
           0.536106
          ],
          [
           "neworleanson",
           0.720375,
           0.484821
          ],
          [
           "puredavie",
           0.720207,
           0.529949
          ],
          [
           "policestateme",
           0.719543,
           0.407353
          ],
          [
           "traceyhappymom",
           0.719268,
           0.564733
          ],
          [
           "finnaglo",
           0.719214,
           0.403594
          ],
          [
           "phoenixdailynew",
           0.718775,
           0.426569
          ],
          [
           "hollandpatrickk",
           0.71842,
           0.502686
          ],
          [
           "jani_s_jac",
           0.718368,
           0.419489
          ],
          [
           "glebnikon",
           0.718248,
           0.504732
          ],
          [
           "oaklandonline",
           0.71814,
           0.436841
          ],
          [
           "maksblaginin",
           0.718031,
           0.397742
          ],
          [
           "philadelphiaon",
           0.717981,
           0.46637
          ],
          [
           "lysikvinkova",
           0.717727,
           0.406979
          ],
          [
           "romangorolov",
           0.717444,
           0.374206
          ],
          [
           "robbydelaware",
           0.717103,
           0.414023
          ],
          [
           "blacktivists",
           0.717003,
           0.481164
          ],
          [
           "pamblmdaniels",
           0.716962,
           0.427047
          ],
          [
           "ostrovofficer",
           0.716524,
           0.490518
          ],
          [
           "lila_gorila",
           0.716524,
           0.490518
          ],
          [
           "oooonlyone",
           0.716524,
           0.490518
          ],
          [
           "horrorki",
           0.716523,
           0.490518
          ],
          [
           "zistti",
           0.716523,
           0.490518
          ],
          [
           "sovetnikstatski",
           0.71645,
           0.460875
          ],
          [
           "inst_vets",
           0.716413,
           0.405188
          ],
          [
           "tebepizdec",
           0.71543,
           0.446302
          ],
          [
           "bricegeller",
           0.71525,
           0.441828
          ],
          [
           "todaybostonma",
           0.715203,
           0.424559
          ],
          [
           "mr_clampin",
           0.71505,
           0.541464
          ],
          [
           "lazykstafford",
           0.714794,
           0.473224
          ],
          [
           "gwennythot",
           0.714067,
           0.396428
          ],
          [
           "paolakinck",
           0.714037,
           0.450747
          ],
          [
           "roscoe_riddle",
           0.713915,
           0.465142
          ],
          [
           "samirgooden",
           0.713878,
           0.399565
          ],
          [
           "clydedaws0n",
           0.71357,
           0.412206
          ],
          [
           "notritahart",
           0.713422,
           0.533134
          ],
          [
           "austinlovesbeer",
           0.71314,
           0.365691
          ],
          [
           "archieolivers",
           0.713022,
           0.462184
          ],
          [
           "agnesgrhm",
           0.711957,
           0.534837
          ],
          [
           "johnievogue",
           0.711904,
           0.431219
          ],
          [
           "batonrougevoice",
           0.711851,
           0.429319
          ],
          [
           "youjustctrlc",
           0.711476,
           0.414481
          ],
          [
           "iiddaamarks",
           0.711425,
           0.423153
          ],
          [
           "acejinev",
           0.711405,
           0.410724
          ],
          [
           "logan_whatsup",
           0.711071,
           0.432853
          ],
          [
           "gvardeykalena",
           0.710715,
           0.461966
          ],
          [
           "chaneutral",
           0.710463,
           0.413489
          ],
          [
           "riogithief",
           0.710459,
           0.437121
          ],
          [
           "michellearry",
           0.710322,
           0.489874
          ],
          [
           "todaymiami",
           0.710101,
           0.427971
          ],
          [
           "ilovesarahrich",
           0.709952,
           0.360815
          ],
          [
           "jasper_fly",
           0.709784,
           0.553564
          ],
          [
           "chesplayschess",
           0.709256,
           0.467227
          ],
          [
           "eliasbrick",
           0.70906,
           0.40364
          ],
          [
           "verrellportier",
           0.708927,
           0.488162
          ],
          [
           "jery_robertsyo",
           0.70866,
           0.385081
          ],
          [
           "erofeenkoanton",
           0.708653,
           0.428461
          ],
          [
           "mil0blake",
           0.70859,
           0.465346
          ],
          [
           "corynaenae",
           0.708096,
           0.434483
          ],
          [
           "todaycincinnati",
           0.708014,
           0.418535
          ],
          [
           "todaynycity",
           0.707936,
           0.403903
          ],
          [
           "kotovamarys",
           0.70772,
           0.409023
          ],
          [
           "jenn_abrams",
           0.707645,
           0.383674
          ],
          [
           "damanimiles",
           0.70749,
           0.43634
          ],
          [
           "stanleyparris",
           0.707469,
           0.361774
          ],
          [
           "johnnymarch_",
           0.707377,
           0.372937
          ],
          [
           "queenofthewo",
           0.707321,
           0.536222
          ],
          [
           "melvinsroberts",
           0.707198,
           0.54435
          ],
          [
           "cassishere",
           0.707076,
           0.479413
          ],
          [
           "adamchapmanjr",
           0.707048,
           0.371547
          ],
          [
           "georevieweurope",
           0.707027,
           0.37772
          ],
          [
           "randolphburrr",
           0.706698,
           0.353127
          ],
          [
           "giselleevns",
           0.706526,
           0.523963
          ],
          [
           "taraformation",
           0.706501,
           0.449316
          ],
          [
           "imissobama",
           0.706357,
           0.381987
          ],
          [
           "errivvvvers",
           0.706068,
           0.379632
          ],
          [
           "westernwindwes",
           0.706032,
           0.465299
          ],
          [
           "jon_underwood_",
           0.705842,
           0.362624
          ],
          [
           "handsome_henson",
           0.705803,
           0.538123
          ],
          [
           "onlinememphis",
           0.705637,
           0.362732
          ],
          [
           "kathiemrr",
           0.705618,
           0.526063
          ],
          [
           "imapharrelfake",
           0.705309,
           0.368432
          ],
          [
           "peytoncashout",
           0.705297,
           0.368161
          ],
          [
           "bydrbre_",
           0.705277,
           0.42826
          ],
          [
           "houstontopnews",
           0.70525,
           0.436715
          ],
          [
           "claypaigeboo",
           0.705223,
           0.383718
          ],
          [
           "micparrish",
           0.704882,
           0.455152
          ],
          [
           "evagreen69",
           0.70478,
           0.474386
          ],
          [
           "entatjanamax",
           0.704655,
           0.390525
          ],
          [
           "priceforpierce",
           0.704144,
           0.45733
          ],
          [
           "mihanovikov",
           0.704045,
           0.400833
          ],
          [
           "sternandreas404",
           0.703922,
           0.575672
          ],
          [
           "jadonhutchinson",
           0.703673,
           0.386163
          ],
          [
           "hiimkhloe",
           0.703429,
           0.410474
          ],
          [
           "cookiiieeessss",
           0.703349,
           0.434548
          ],
          [
           "nataturn",
           0.703073,
           0.490395
          ],
          [
           "stlouisonline",
           0.70304,
           0.402882
          ],
          [
           "dailysandiego",
           0.702467,
           0.394405
          ],
          [
           "vasilichvasili",
           0.702368,
           0.475437
          ],
          [
           "jassscott",
           0.70227,
           0.409841
          ],
          [
           "blacktolive",
           0.70204,
           0.421262
          ],
          [
           "gallowayeliana",
           0.701913,
           0.378649
          ],
          [
           "jaedenmassey",
           0.701554,
           0.511385
          ],
          [
           "screamymonkey",
           0.701529,
           0.346515
          ],
          [
           "dallastopnews",
           0.70144,
           0.390269
          ],
          [
           "blk_voice",
           0.701322,
           0.473045
          ],
          [
           "willisbonnerr",
           0.701301,
           0.336108
          ],
          [
           "blacknewsoutlet",
           0.701184,
           0.452902
          ],
          [
           "stanley_cox_",
           0.700949,
           0.400227
          ],
          [
           "travisrespek",
           0.70093,
           0.361725
          ],
          [
           "detroitdailynew",
           0.700871,
           0.440277
          ],
          [
           "daileyjadon",
           0.700768,
           0.534087
          ],
          [
           "taisiaavdeeva",
           0.700567,
           0.390735
          ],
          [
           "jeanuttella",
           0.700333,
           0.415493
          ],
          [
           "klara_sauber",
           0.700248,
           0.567478
          ],
          [
           "lagonehoe",
           0.700156,
           0.361057
          ],
          [
           "scottgohard",
           0.700096,
           0.343307
          ],
          [
           "christinapool61",
           0.699779,
           0.514773
          ],
          [
           "malloryjared",
           0.698998,
           0.404805
          ],
          [
           "kaydenmelton",
           0.698746,
           0.372014
          ],
          [
           "krasilnikovbor",
           0.698394,
           0.406063
          ],
          [
           "heyits_toby",
           0.697587,
           0.513262
          ],
          [
           "leecory",
           0.697385,
           0.380643
          ],
          [
           "sergeev_tolik",
           0.697209,
           0.407521
          ],
          [
           "dailylosangeles",
           0.697061,
           0.444364
          ],
          [
           "johnbranchh",
           0.69681,
           0.43547
          ],
          [
           "rosieonfleek",
           0.696759,
           0.384565
          ],
          [
           "mrmoraan",
           0.696666,
           0.370156
          ],
          [
           "jeblary2016",
           0.696629,
           0.402672
          ],
          [
           "hunteroddddom",
           0.696441,
           0.345553
          ],
          [
           "romanagafonovv",
           0.695617,
           0.422513
          ],
          [
           "boriseleseev",
           0.695499,
           0.393364
          ],
          [
           "nj_blacknews",
           0.695335,
           0.386661
          ],
          [
           "jeannemccarthy0",
           0.695312,
           0.470385
          ],
          [
           "skatewake1994",
           0.69527,
           0.353027
          ],
          [
           "internalmemer",
           0.694911,
           0.405007
          ],
          [
           "mwiqcen",
           0.694887,
           0.437441
          ],
          [
           "gorelkinnn",
           0.694887,
           0.437441
          ],
          [
           "shikarnoel",
           0.694885,
           0.437442
          ],
          [
           "jorda_morgan",
           0.694884,
           0.437442
          ],
          [
           "lmarinays",
           0.694883,
           0.437442
          ],
          [
           "moda_barina",
           0.694868,
           0.437446
          ],
          [
           "brianaregland",
           0.694641,
           0.333507
          ],
          [
           "alexsvladimirov",
           0.694355,
           0.378534
          ],
          [
           "razvedchica_",
           0.694212,
           0.435509
          ],
          [
           "bogdankravcov",
           0.694043,
           0.427077
          ],
          [
           "blmsoldier",
           0.693566,
           0.378553
          ],
          [
           "sanantotopnews",
           0.693388,
           0.375838
          ],
          [
           "ryanmaxwell_1",
           0.693329,
           0.466583
          ],
          [
           "chernenkonikola",
           0.693271,
           0.4326
          ],
          [
           "fightm_d_b",
           0.693068,
           0.364351
          ],
          [
           "judelambertusa",
           0.69306,
           0.478528
          ],
          [
           "portmela",
           0.692387,
           0.389411
          ],
          [
           "kolradskiy_zhuk",
           0.692268,
           0.42118
          ],
          [
           "specialaffair",
           0.691807,
           0.338721
          ],
          [
           "sindyblossom",
           0.691763,
           0.389969
          ],
          [
           "tessyelmore",
           0.691662,
           0.365936
          ],
          [
           "chicagodailynew",
           0.69044,
           0.384749
          ],
          [
           "kelvin_chambers",
           0.69015,
           0.392287
          ],
          [
           "cornellburchet",
           0.69014,
           0.385382
          ],
          [
           "globalfoe",
           0.689704,
           0.370487
          ],
          [
           "dontshootcom",
           0.689472,
           0.443379
          ],
          [
           "patriotraphael",
           0.688485,
           0.468098
          ],
          [
           "kimberleighlamb",
           0.688473,
           0.352256
          ],
          [
           "patriot_archive",
           0.68797,
           0.412963
          ],
          [
           "cannonsher",
           0.687798,
           0.387841
          ],
          [
           "puddin_leto",
           0.687751,
           0.385824
          ],
          [
           "imaswerve",
           0.687472,
           0.386487
          ],
          [
           "milwaukeevoice",
           0.687189,
           0.330235
          ],
          [
           "queennarielle",
           0.687123,
           0.377153
          ],
          [
           "antonhayhay",
           0.686533,
           0.411888
          ],
          [
           "russilanrogov",
           0.686463,
           0.395842
          ],
          [
           "gloed_up",
           0.686106,
           0.414958
          ],
          [
           "atlanta_online",
           0.68518,
           0.435258
          ],
          [
           "bigboyjasiah",
           0.684945,
           0.389036
          ],
          [
           "iris0_o",
           0.684587,
           0.413409
          ],
          [
           "ericarutter",
           0.684506,
           0.390509
          ],
          [
           "viborisova",
           0.684383,
           0.361532
          ],
          [
           "marianeuberg1",
           0.684336,
           0.545879
          ],
          [
           "_nickluna_",
           0.683639,
           0.468529
          ],
          [
           "blackmattersus",
           0.68328,
           0.434217
          ],
          [
           "wonderhann",
           0.682816,
           0.399219
          ],
          [
           "c__wells",
           0.681997,
           0.401958
          ],
          [
           "cliftonhughes_",
           0.681938,
           0.392337
          ],
          [
           "datwisenigga",
           0.681658,
           0.328903
          ],
          [
           "baobaeham",
           0.681233,
           0.375299
          ],
          [
           "gwen_garland",
           0.681195,
           0.335975
          ],
          [
           "fischermaria933",
           0.680794,
           0.341982
          ],
          [
           "sonderkatharina",
           0.680793,
           0.34198
          ],
          [
           "tinatkurtz1222",
           0.68079,
           0.341976
          ],
          [
           "blackeyeblog",
           0.680021,
           0.369416
          ],
          [
           "christinacrisss",
           0.680002,
           0.302477
          ],
          [
           "evewebster373",
           0.678347,
           0.374941
          ],
          [
           "gracelilstar",
           0.678346,
           0.373692
          ],
          [
           "ponomarevslav",
           0.67823,
           0.373944
          ],
          [
           "trayneshacole",
           0.678105,
           0.371901
          ],
          [
           "rus_in_usa",
           0.677552,
           0.400059
          ],
          [
           "bleepthepolice",
           0.676743,
           0.460285
          ],
          [
           "berkhoff85",
           0.676629,
           0.448417
          ],
          [
           "4mysquad",
           0.675841,
           0.402405
          ],
          [
           "notballinyet",
           0.67566,
           0.365149
          ],
          [
           "deusxyx",
           0.675403,
           0.391377
          ],
          [
           "boryabuchin",
           0.674762,
           0.452482
          ],
          [
           "shapka_mono",
           0.674239,
           0.354036
          ],
          [
           "whitehousecards",
           0.672511,
           0.467183
          ],
          [
           "peeonhillary",
           0.671903,
           0.311474
          ],
          [
           "lilylilyhasse",
           0.671567,
           0.545407
          ],
          [
           "bigboysneed",
           0.671073,
           0.341001
          ],
          [
           "brianthelifter",
           0.670841,
           0.43497
          ],
          [
           "liljordamn",
           0.670636,
           0.361246
          ],
          [
           "nehemiahx",
           0.670136,
           0.366502
          ],
          [
           "robertebonyking",
           0.669317,
           0.391569
          ],
          [
           "briys_valera",
           0.669087,
           0.310738
          ],
          [
           "edmundrjr",
           0.669042,
           0.408462
          ],
          [
           "mrclydepratt",
           0.668974,
           0.316469
          ],
          [
           "lapinolegg",
           0.668601,
           0.475502
          ],
          [
           "colbyst1",
           0.66846,
           0.305857
          ],
          [
           "jacksoncitypost",
           0.668343,
           0.325484
          ],
          [
           "elpasotopnews",
           0.667329,
           0.355282
          ],
          [
           "alexharritonov",
           0.667119,
           0.418226
          ],
          [
           "cascaseyp",
           0.665787,
           0.39702
          ],
          [
           "beckster319",
           0.66443,
           0.317734
          ],
          [
           "maximgaron1",
           0.662379,
           0.378079
          ],
          [
           "manuelkrosss",
           0.662218,
           0.533184
          ],
          [
           "politopros",
           0.661447,
           0.310226
          ],
          [
           "ssus_panther",
           0.660529,
           0.31653
          ],
          [
           "beverlybalsom",
           0.66052,
           0.369564
          ],
          [
           "blacneighbor",
           0.659914,
           0.390628
          ],
          [
           "erdollum",
           0.659678,
           0.352149
          ],
          [
           "donnielmiller",
           0.657973,
           0.336056
          ],
          [
           "chrixmorgan",
           0.657453,
           0.421333
          ],
          [
           "marissaimstrong",
           0.65658,
           0.386089
          ],
          [
           "ryanncooperwood",
           0.655919,
           0.322746
          ],
          [
           "aleksey_sokol_",
           0.655556,
           0.362172
          ],
          [
           "bocharnikov_v",
           0.655288,
           0.354914
          ],
          [
           "baltimore0nline",
           0.654591,
           0.337085
          ],
          [
           "danageezus",
           0.654134,
           0.430777
          ],
          [
           "todaypittsburgh",
           0.653079,
           0.321183
          ],
          [
           "toneporter",
           0.652978,
           0.347903
          ],
          [
           "maymaymyy",
           0.652229,
           0.33436
          ],
          [
           "yaeltrouble",
           0.65085,
           0.33789
          ],
          [
           "mbrownhere",
           0.650788,
           0.332348
          ],
          [
           "fishalexanderr",
           0.650025,
           0.505648
          ],
          [
           "jerstoner",
           0.649564,
           0.348699
          ],
          [
           "worldofhashtags",
           0.649245,
           0.353094
          ],
          [
           "joachimbuchwitz",
           0.64817,
           0.424948
          ],
          [
           "iancalh0un",
           0.647932,
           0.407815
          ],
          [
           "reachitdoit",
           0.64755,
           0.290621
          ],
          [
           "aantiracist",
           0.647053,
           0.33386
          ],
          [
           "jarrardnorman",
           0.646157,
           0.350039
          ],
          [
           "peterkistner",
           0.643651,
           0.530002
          ],
          [
           "seattle_post",
           0.642715,
           0.286722
          ],
          [
           "lukas_rosler",
           0.64193,
           0.306633
          ],
          [
           "_billy_moyer_",
           0.641615,
           0.422301
          ],
          [
           "curtisbigman",
           0.641441,
           0.351722
          ],
          [
           "todaycleveland",
           0.639729,
           0.382717
          ],
          [
           "abigailssilk",
           0.637289,
           0.381718
          ],
          [
           "mtthsberger",
           0.636586,
           0.355934
          ],
          [
           "hipppo_",
           0.63603,
           0.38065
          ],
          [
           "johnieboycooks",
           0.635923,
           0.326381
          ],
          [
           "chrisuport_port",
           0.635563,
           0.350059
          ],
          [
           "calebpaar",
           0.634311,
           0.342692
          ],
          [
           "glennharper_",
           0.633588,
           0.290355
          ],
          [
           "schultei2",
           0.632277,
           0.295877
          ],
          [
           "angela_lattke",
           0.632268,
           0.295863
          ],
          [
           "russianallies",
           0.631255,
           0.346501
          ],
          [
           "aiden7757",
           0.629173,
           0.352202
          ],
          [
           "charlesrespeck",
           0.626549,
           0.283784
          ],
          [
           "andreaseulitz",
           0.624346,
           0.277106
          ],
          [
           "dannythehappies",
           0.620204,
           0.309266
          ],
          [
           "kirstenladaniel",
           0.618529,
           0.316899
          ],
          [
           "lynsrodriguez",
           0.618233,
           0.291873
          ],
          [
           "sincerepruitt",
           0.617866,
           0.342676
          ],
          [
           "erdollum666",
           0.616691,
           0.361525
          ],
          [
           "jsncarey",
           0.615872,
           0.298167
          ],
          [
           "dominicvalent",
           0.615507,
           0.337178
          ],
          [
           "jmscoxxx",
           0.615016,
           0.408348
          ],
          [
           "kencannone",
           0.613242,
           0.328099
          ],
          [
           "holycrapchrix",
           0.612729,
           0.390694
          ],
          [
           "meggieoneil",
           0.610021,
           0.280569
          ],
          [
           "adrienne_gg",
           0.606866,
           0.341136
          ],
          [
           "bigseanbeast",
           0.60586,
           0.342752
          ],
          [
           "charlesjharper",
           0.603798,
           0.367801
          ],
          [
           "heyheyhailey",
           0.602708,
           0.385793
          ],
          [
           "wokefromday1",
           0.602187,
           0.337336
          ],
          [
           "susayung",
           0.601223,
           0.293139
          ],
          [
           "catelinewatkins",
           0.600596,
           0.315302
          ],
          [
           "bgarner2107",
           0.600404,
           0.327868
          ],
          [
           "loragreeen",
           0.597988,
           0.336125
          ],
          [
           "gab1aldana",
           0.596828,
           0.33522
          ],
          [
           "novostidamask",
           0.596032,
           0.306063
          ],
          [
           "rusnevrotik",
           0.595519,
           0.247433
          ],
          [
           "msm0re",
           0.595514,
           0.247432
          ],
          [
           "hellieedwards",
           0.594984,
           0.338416
          ],
          [
           "ilikebigbuttand",
           0.593486,
           0.310089
          ],
          [
           "sovasof",
           0.592553,
           0.23917
          ],
          [
           "mikkyrurk",
           0.592081,
           0.247901
          ],
          [
           "oh_frida",
           0.59208,
           0.247901
          ],
          [
           "bruciedublin",
           0.590532,
           0.377831
          ],
          [
           "aldrich420",
           0.590506,
           0.329604
          ],
          [
           "coldwar20_ru",
           0.589406,
           0.298271
          ],
          [
           "margosavazh",
           0.589328,
           0.280569
          ],
          [
           "angelabach991",
           0.588504,
           0.411673
          ],
          [
           "maxdementiev",
           0.587921,
           0.274613
          ],
          [
           "adrgreerr",
           0.582176,
           0.276097
          ],
          [
           "lavrovmuesli",
           0.581281,
           0.262829
          ],
          [
           "amandavgreen",
           0.580048,
           0.343166
          ],
          [
           "klausfinker",
           0.577377,
           0.283582
          ],
          [
           "hamburgbote",
           0.57736,
           0.283518
          ],
          [
           "sto_christi",
           0.574555,
           0.283478
          ],
          [
           "edmundc0oke",
           0.572271,
           0.268746
          ],
          [
           "margoberoeva",
           0.567848,
           0.251024
          ],
          [
           "brentmcclure275",
           0.566656,
           0.314092
          ],
          [
           "6druz",
           0.564981,
           0.249889
          ],
          [
           "denn_nikitin",
           0.564967,
           0.24985
          ],
          [
           "dickyirwin",
           0.564844,
           0.345363
          ],
          [
           "gffgfsfgfsdffjj",
           0.563224,
           0.252567
          ],
          [
           "brightandglory",
           0.562864,
           0.318379
          ],
          [
           "claudia42kern",
           0.562803,
           0.285709
          ],
          [
           "kadirovrussia",
           0.548104,
           0.263703
          ]
         ],
         "hovertemplate": "post_count=%{marker.size}<br>shannon_entropy=%{y}<br>user_id=%{customdata[0]}<br>gini_coefficient=%{customdata[1]}<br>top1_ratio=%{customdata[2]}<br>dominant_topic=%{marker.color}<extra></extra>",
         "legendgroup": "",
         "marker": {
          "color": [
           4,
           10,
           8,
           4,
           8,
           8,
           4,
           4,
           4,
           8,
           4,
           8,
           8,
           10,
           4,
           4,
           4,
           4,
           4,
           4,
           6,
           4,
           10,
           8,
           8,
           4,
           8,
           4,
           4,
           8,
           4,
           4,
           8,
           4,
           4,
           8,
           4,
           4,
           4,
           4,
           8,
           8,
           4,
           8,
           8,
           4,
           4,
           4,
           4,
           4,
           4,
           4,
           4,
           4,
           4,
           10,
           4,
           4,
           4,
           8,
           4,
           4,
           6,
           10,
           8,
           4,
           4,
           4,
           9,
           6,
           4,
           8,
           4,
           4,
           8,
           4,
           4,
           6,
           10,
           4,
           4,
           8,
           8,
           4,
           4,
           8,
           8,
           9,
           4,
           8,
           8,
           10,
           8,
           8,
           4,
           4,
           4,
           8,
           4,
           8,
           8,
           4,
           4,
           8,
           8,
           4,
           8,
           8,
           10,
           4,
           4,
           4,
           4,
           8,
           4,
           8,
           4,
           4,
           4,
           4,
           8,
           8,
           10,
           8,
           4,
           10,
           8,
           10,
           4,
           4,
           8,
           4,
           4,
           4,
           4,
           4,
           8,
           8,
           8,
           8,
           4,
           11,
           11,
           11,
           11,
           11,
           4,
           4,
           8,
           4,
           4,
           10,
           8,
           4,
           4,
           8,
           4,
           10,
           10,
           10,
           4,
           8,
           4,
           4,
           4,
           4,
           4,
           8,
           4,
           4,
           8,
           8,
           4,
           4,
           10,
           4,
           4,
           6,
           4,
           4,
           8,
           4,
           4,
           8,
           4,
           8,
           4,
           4,
           4,
           10,
           10,
           4,
           4,
           4,
           4,
           10,
           4,
           4,
           4,
           8,
           10,
           8,
           8,
           10,
           4,
           8,
           4,
           4,
           4,
           8,
           8,
           4,
           8,
           8,
           9,
           4,
           8,
           4,
           8,
           4,
           4,
           4,
           4,
           8,
           4,
           8,
           8,
           4,
           8,
           10,
           8,
           4,
           4,
           4,
           10,
           4,
           4,
           9,
           4,
           8,
           9,
           8,
           8,
           4,
           8,
           4,
           4,
           8,
           8,
           4,
           4,
           8,
           4,
           4,
           4,
           8,
           8,
           4,
           4,
           1,
           1,
           1,
           1,
           1,
           1,
           10,
           4,
           4,
           4,
           4,
           4,
           8,
           4,
           4,
           8,
           10,
           4,
           4,
           8,
           8,
           4,
           4,
           8,
           8,
           8,
           8,
           4,
           4,
           4,
           10,
           4,
           10,
           4,
           4,
           4,
           8,
           4,
           4,
           8,
           10,
           4,
           9,
           8,
           8,
           8,
           8,
           4,
           10,
           8,
           4,
           4,
           4,
           4,
           4,
           8,
           8,
           8,
           8,
           8,
           4,
           8,
           4,
           8,
           4,
           4,
           4,
           4,
           9,
           4,
           9,
           4,
           4,
           4,
           4,
           4,
           10,
           4,
           10,
           4,
           8,
           4,
           4,
           4,
           4,
           4,
           4,
           9,
           4,
           0,
           8,
           8,
           9,
           10,
           10,
           4,
           8,
           4,
           4,
           8,
           10,
           4,
           4,
           4,
           10,
           3,
           9,
           4,
           10,
           9,
           8,
           8,
           4,
           4,
           9,
           2,
           4,
           8,
           4,
           8,
           4,
           9,
           4,
           8,
           4,
           4,
           10,
           9,
           9,
           8,
           4,
           8,
           5,
           4,
           8,
           4,
           8,
           9,
           8,
           10,
           4,
           4,
           4,
           4,
           4,
           4,
           4,
           4,
           4,
           4,
           4,
           4,
           4,
           4,
           8,
           11,
           11,
           4,
           4,
           10,
           11,
           11,
           4,
           4,
           9,
           9,
           9,
           8,
           4,
           9,
           4,
           9,
           9,
           9,
           8,
           8,
           4,
           8,
           8,
           4,
           8,
           4,
           4,
           9
          ],
          "coloraxis": "coloraxis",
          "opacity": 0.7,
          "size": [
           21,
           1,
           1,
           66,
           1,
           2,
           1,
           58,
           68,
           27,
           1,
           191,
           2,
           1,
           28,
           68,
           4,
           71,
           135,
           109,
           3,
           45,
           1,
           1,
           1,
           5,
           66,
           90,
           51,
           148,
           94,
           100,
           1,
           4,
           63,
           246,
           215,
           65,
           56,
           107,
           64,
           5,
           70,
           242,
           5,
           4,
           3,
           1,
           9,
           1,
           74,
           59,
           61,
           61,
           40,
           1,
           74,
           76,
           104,
           193,
           5,
           100,
           3,
           1,
           206,
           60,
           119,
           71,
           1,
           3,
           20,
           298,
           49,
           53,
           31,
           105,
           50,
           3,
           1,
           54,
           39,
           192,
           219,
           5,
           53,
           178,
           190,
           91,
           10,
           221,
           9,
           4,
           3,
           9,
           55,
           53,
           53,
           9,
           50,
           8,
           2,
           48,
           10,
           202,
           36,
           6,
           4,
           209,
           1,
           7,
           6,
           12,
           18,
           2,
           12,
           1,
           31,
           52,
           31,
           56,
           1,
           1,
           162,
           123,
           69,
           121,
           2,
           87,
           11,
           95,
           123,
           58,
           11,
           73,
           5,
           64,
           3,
           7,
           23,
           11,
           53,
           1,
           1,
           1,
           1,
           1,
           15,
           4,
           1,
           7,
           81,
           113,
           236,
           38,
           25,
           1,
           37,
           1,
           122,
           7,
           9,
           1,
           10,
           93,
           36,
           47,
           40,
           64,
           10,
           2,
           3,
           247,
           68,
           46,
           93,
           13,
           39,
           3,
           53,
           10,
           196,
           10,
           72,
           45,
           15,
           182,
           13,
           52,
           9,
           111,
           92,
           38,
           9,
           1,
           46,
           93,
           8,
           56,
           29,
           150,
           1,
           1,
           24,
           122,
           47,
           33,
           1,
           39,
           10,
           92,
           224,
           30,
           157,
           14,
           34,
           51,
           247,
           12,
           12,
           76,
           54,
           18,
           41,
           93,
           12,
           1,
           105,
           24,
           41,
           133,
           39,
           15,
           41,
           65,
           87,
           19,
           12,
           44,
           36,
           30,
           7,
           215,
           8,
           10,
           207,
           1,
           10,
           29,
           177,
           30,
           37,
           53,
           33,
           10,
           8,
           12,
           176,
           15,
           35,
           1,
           1,
           1,
           1,
           1,
           1,
           105,
           8,
           15,
           13,
           39,
           48,
           197,
           14,
           10,
           180,
           1,
           12,
           103,
           1,
           9,
           105,
           9,
           26,
           1,
           10,
           187,
           1,
           2,
           45,
           1,
           9,
           1,
           12,
           38,
           10,
           96,
           63,
           40,
           1,
           5,
           6,
           12,
           240,
           46,
           5,
           62,
           12,
           172,
           177,
           1,
           1,
           1,
           1,
           6,
           1,
           81,
           1,
           16,
           73,
           2,
           86,
           9,
           20,
           7,
           16,
           8,
           2,
           60,
           1,
           6,
           12,
           10,
           41,
           11,
           11,
           1,
           3,
           122,
           9,
           3,
           40,
           3,
           19,
           20,
           39,
           2,
           29,
           1,
           1,
           1,
           13,
           16,
           4,
           59,
           19,
           1,
           12,
           18,
           105,
           53,
           66,
           21,
           11,
           1,
           1,
           12,
           8,
           52,
           1,
           2,
           1,
           14,
           24,
           14,
           36,
           6,
           88,
           28,
           19,
           7,
           4,
           23,
           10,
           9,
           23,
           4,
           1,
           1,
           1,
           22,
           5,
           1,
           25,
           1,
           7,
           11,
           4,
           4,
           37,
           23,
           16,
           24,
           6,
           23,
           11,
           26,
           17,
           15,
           13,
           11,
           27,
           33,
           27,
           6,
           2,
           2,
           27,
           33,
           2,
           2,
           2,
           25,
           13,
           4,
           5,
           22,
           4,
           9,
           9,
           26,
           1,
           1,
           1,
           1,
           2,
           13,
           4,
           4,
           21,
           3,
           30,
           23,
           5
          ],
          "sizemode": "area",
          "sizeref": 0.33111111111111113,
          "symbol": "circle"
         },
         "mode": "markers",
         "name": "",
         "orientation": "v",
         "showlegend": false,
         "type": "scatter",
         "x": [
          21,
          1,
          1,
          66,
          1,
          2,
          1,
          58,
          68,
          27,
          1,
          191,
          2,
          1,
          28,
          68,
          4,
          71,
          135,
          109,
          3,
          45,
          1,
          1,
          1,
          5,
          66,
          90,
          51,
          148,
          94,
          100,
          1,
          4,
          63,
          246,
          215,
          65,
          56,
          107,
          64,
          5,
          70,
          242,
          5,
          4,
          3,
          1,
          9,
          1,
          74,
          59,
          61,
          61,
          40,
          1,
          74,
          76,
          104,
          193,
          5,
          100,
          3,
          1,
          206,
          60,
          119,
          71,
          1,
          3,
          20,
          298,
          49,
          53,
          31,
          105,
          50,
          3,
          1,
          54,
          39,
          192,
          219,
          5,
          53,
          178,
          190,
          91,
          10,
          221,
          9,
          4,
          3,
          9,
          55,
          53,
          53,
          9,
          50,
          8,
          2,
          48,
          10,
          202,
          36,
          6,
          4,
          209,
          1,
          7,
          6,
          12,
          18,
          2,
          12,
          1,
          31,
          52,
          31,
          56,
          1,
          1,
          162,
          123,
          69,
          121,
          2,
          87,
          11,
          95,
          123,
          58,
          11,
          73,
          5,
          64,
          3,
          7,
          23,
          11,
          53,
          1,
          1,
          1,
          1,
          1,
          15,
          4,
          1,
          7,
          81,
          113,
          236,
          38,
          25,
          1,
          37,
          1,
          122,
          7,
          9,
          1,
          10,
          93,
          36,
          47,
          40,
          64,
          10,
          2,
          3,
          247,
          68,
          46,
          93,
          13,
          39,
          3,
          53,
          10,
          196,
          10,
          72,
          45,
          15,
          182,
          13,
          52,
          9,
          111,
          92,
          38,
          9,
          1,
          46,
          93,
          8,
          56,
          29,
          150,
          1,
          1,
          24,
          122,
          47,
          33,
          1,
          39,
          10,
          92,
          224,
          30,
          157,
          14,
          34,
          51,
          247,
          12,
          12,
          76,
          54,
          18,
          41,
          93,
          12,
          1,
          105,
          24,
          41,
          133,
          39,
          15,
          41,
          65,
          87,
          19,
          12,
          44,
          36,
          30,
          7,
          215,
          8,
          10,
          207,
          1,
          10,
          29,
          177,
          30,
          37,
          53,
          33,
          10,
          8,
          12,
          176,
          15,
          35,
          1,
          1,
          1,
          1,
          1,
          1,
          105,
          8,
          15,
          13,
          39,
          48,
          197,
          14,
          10,
          180,
          1,
          12,
          103,
          1,
          9,
          105,
          9,
          26,
          1,
          10,
          187,
          1,
          2,
          45,
          1,
          9,
          1,
          12,
          38,
          10,
          96,
          63,
          40,
          1,
          5,
          6,
          12,
          240,
          46,
          5,
          62,
          12,
          172,
          177,
          1,
          1,
          1,
          1,
          6,
          1,
          81,
          1,
          16,
          73,
          2,
          86,
          9,
          20,
          7,
          16,
          8,
          2,
          60,
          1,
          6,
          12,
          10,
          41,
          11,
          11,
          1,
          3,
          122,
          9,
          3,
          40,
          3,
          19,
          20,
          39,
          2,
          29,
          1,
          1,
          1,
          13,
          16,
          4,
          59,
          19,
          1,
          12,
          18,
          105,
          53,
          66,
          21,
          11,
          1,
          1,
          12,
          8,
          52,
          1,
          2,
          1,
          14,
          24,
          14,
          36,
          6,
          88,
          28,
          19,
          7,
          4,
          23,
          10,
          9,
          23,
          4,
          1,
          1,
          1,
          22,
          5,
          1,
          25,
          1,
          7,
          11,
          4,
          4,
          37,
          23,
          16,
          24,
          6,
          23,
          11,
          26,
          17,
          15,
          13,
          11,
          27,
          33,
          27,
          6,
          2,
          2,
          27,
          33,
          2,
          2,
          2,
          25,
          13,
          4,
          5,
          22,
          4,
          9,
          9,
          26,
          1,
          1,
          1,
          1,
          2,
          13,
          4,
          4,
          21,
          3,
          30,
          23,
          5
         ],
         "xaxis": "x",
         "y": [
          1.276771,
          1.521502,
          1.635927,
          1.706605,
          1.728624,
          1.731837,
          1.705275,
          1.757874,
          1.787053,
          1.76401,
          1.78471,
          1.786393,
          1.789995,
          1.780521,
          1.841637,
          1.83145,
          1.83932,
          1.822694,
          1.823872,
          1.792362,
          1.83524,
          1.84507,
          1.793824,
          1.825923,
          1.811416,
          1.900486,
          1.837261,
          1.837359,
          1.878031,
          1.81382,
          1.922206,
          1.900684,
          1.834589,
          1.914734,
          1.854084,
          1.915931,
          1.825602,
          1.895108,
          1.888799,
          1.921301,
          1.892627,
          1.903366,
          1.892861,
          1.869321,
          1.905533,
          1.858001,
          1.907683,
          1.898979,
          1.948547,
          1.851646,
          1.913832,
          1.931704,
          1.90756,
          1.930093,
          1.939024,
          1.977206,
          1.934125,
          1.947882,
          2.01117,
          1.950787,
          1.989637,
          1.972824,
          1.986399,
          2.00456,
          2.008849,
          1.996389,
          2.001269,
          1.952502,
          1.968103,
          1.985214,
          2.034404,
          2.019591,
          1.970503,
          1.98651,
          1.990728,
          2.013964,
          2.017678,
          2.020407,
          1.962372,
          2.000447,
          2.041526,
          2.046659,
          2.037856,
          2.03678,
          2.01261,
          2.044171,
          2.032207,
          1.905472,
          2.014602,
          2.034832,
          2.059428,
          2.07979,
          2.029691,
          2.037226,
          2.074095,
          2.019581,
          2.021726,
          2.047487,
          2.073081,
          2.047258,
          2.057236,
          2.047672,
          2.100111,
          2.062326,
          2.086357,
          2.108268,
          2.029282,
          2.084481,
          2.088253,
          2.076871,
          2.122615,
          2.079257,
          2.037822,
          2.103888,
          2.106935,
          2.048507,
          2.035323,
          2.081374,
          2.111698,
          2.116749,
          2.067595,
          2.067653,
          2.080884,
          2.07755,
          2.142111,
          2.077637,
          2.113385,
          2.044116,
          2.101003,
          2.102921,
          2.095723,
          2.1024,
          2.100621,
          2.12358,
          2.105113,
          2.139382,
          2.050309,
          2.073575,
          2.120037,
          2.079326,
          2.123066,
          2.14852,
          2.148524,
          2.148525,
          2.148527,
          2.148528,
          2.127382,
          2.080428,
          2.110814,
          2.164811,
          2.137929,
          2.107372,
          2.123902,
          2.144202,
          2.164858,
          2.118739,
          2.13498,
          2.168914,
          2.124681,
          2.144961,
          2.173917,
          2.113752,
          2.13647,
          2.164483,
          2.159586,
          2.162303,
          2.150842,
          2.183314,
          2.167063,
          2.133505,
          2.187824,
          2.169506,
          2.180548,
          2.119505,
          2.113609,
          2.190147,
          2.158784,
          2.197491,
          2.131687,
          2.194105,
          2.150174,
          2.193656,
          2.184266,
          2.171888,
          2.141708,
          2.123902,
          2.195664,
          2.127388,
          2.175865,
          2.139132,
          2.120335,
          2.163135,
          2.171267,
          2.115601,
          2.111188,
          2.119444,
          2.224589,
          2.170887,
          2.16698,
          2.17412,
          2.1095,
          2.148351,
          2.175182,
          2.153744,
          2.103205,
          2.142945,
          2.196797,
          2.199981,
          2.192778,
          2.203005,
          2.171544,
          2.139939,
          2.182024,
          2.181247,
          2.130265,
          2.171437,
          2.219623,
          2.219513,
          2.222135,
          2.200288,
          2.190997,
          2.219173,
          2.154554,
          2.173545,
          2.193259,
          2.176896,
          2.174529,
          2.18658,
          2.226481,
          2.176556,
          2.216108,
          2.223587,
          2.177447,
          2.225354,
          2.16311,
          2.192431,
          2.228113,
          2.160265,
          2.16322,
          2.120461,
          2.224496,
          2.232211,
          2.228002,
          2.204957,
          2.200673,
          2.175519,
          2.204744,
          2.262575,
          2.252209,
          2.196491,
          2.188819,
          2.159722,
          2.148546,
          2.249037,
          2.253827,
          2.193679,
          2.242693,
          2.207515,
          2.193453,
          2.247386,
          2.247386,
          2.247387,
          2.247388,
          2.247388,
          2.247396,
          2.185133,
          2.240202,
          2.22568,
          2.240224,
          2.253322,
          2.236148,
          2.24646,
          2.244715,
          2.256288,
          2.214565,
          2.191364,
          2.253421,
          2.170925,
          2.26459,
          2.257896,
          2.27698,
          2.249195,
          2.237356,
          2.27141,
          2.252456,
          2.257762,
          2.19703,
          2.311446,
          2.26567,
          2.266189,
          2.287903,
          2.158736,
          2.293521,
          2.267864,
          2.29357,
          2.211494,
          2.292787,
          2.24908,
          2.245723,
          2.292014,
          2.298001,
          2.24757,
          2.25078,
          2.288333,
          2.329264,
          2.301128,
          2.316279,
          2.289373,
          2.307997,
          2.211755,
          2.298105,
          2.298109,
          2.298125,
          2.330976,
          2.156614,
          2.351599,
          2.245129,
          2.297314,
          2.269746,
          2.33626,
          2.307914,
          2.349688,
          2.368251,
          2.342846,
          2.349778,
          2.363748,
          2.316079,
          2.355211,
          2.225011,
          2.271763,
          2.368324,
          2.361302,
          2.347851,
          2.363353,
          2.394206,
          2.266388,
          2.363252,
          2.318802,
          2.364097,
          2.325298,
          2.339568,
          2.373414,
          2.370879,
          2.376633,
          2.299812,
          2.39622,
          2.326143,
          2.355199,
          2.353321,
          2.376042,
          2.392084,
          2.430373,
          2.407208,
          2.342476,
          2.424854,
          2.379731,
          2.431196,
          2.401226,
          2.404766,
          2.355913,
          2.432059,
          2.431568,
          2.43045,
          2.410382,
          2.448739,
          2.405272,
          2.45407,
          2.397355,
          2.463039,
          2.484448,
          2.337527,
          2.482734,
          2.445076,
          2.373365,
          2.445979,
          2.495881,
          2.447813,
          2.457177,
          2.502189,
          2.53502,
          2.539988,
          2.529582,
          2.522863,
          2.538546,
          2.497088,
          2.490192,
          2.50847,
          2.50849,
          2.493013,
          2.546499,
          2.530853,
          2.536467,
          2.499628,
          2.515077,
          2.582886,
          2.532227,
          2.611943,
          2.579026,
          2.486147,
          2.560038,
          2.623489,
          2.6115,
          2.553403,
          2.606493,
          2.643886,
          2.650205,
          2.596892,
          2.623181,
          2.649695,
          2.658636,
          2.650092,
          2.624119,
          2.657767,
          2.665304,
          2.601358,
          2.601336,
          2.649123,
          2.645747,
          2.59833,
          2.619084,
          2.619081,
          2.683776,
          2.676178,
          2.702511,
          2.681153,
          2.666923,
          2.651633,
          2.708936,
          2.713328,
          2.680452,
          2.704585,
          2.704855,
          2.717451,
          2.705532,
          2.733829,
          2.784866,
          2.752256,
          2.752278,
          2.738711,
          2.681019,
          2.719355,
          2.739554,
          2.809892
         ],
         "yaxis": "y"
        },
        {
         "hoverinfo": "text",
         "marker": {
          "color": "red",
          "line": {
           "color": "black",
           "width": 2
          },
          "size": 15
         },
         "mode": "markers",
         "name": "Suspicious",
         "text": [
          "worldnewspoli",
          "jrrbrtt",
          "danny_turner_1",
          "finley1589",
          "heyitsglor",
          "orrclay",
          "kelvsok",
          "kenzdonovan",
          "kateritterrrr",
          "warfareww",
          "yattvrussia",
          "patriotblake",
          "lgbtuni",
          "kristyanann",
          "missourinewsus",
          "cynthiamhunter",
          "4ever1937",
          "usa_gunslinger",
          "pamela_moore13",
          "ameliebaldwin",
          "andrebeauleger",
          "luke_jones13",
          "albertmorenmore",
          "israel_wills",
          "dannymaslov",
          "interfischer",
          "todayinsyria",
          "southlonestar",
          "redlanews",
          "hyddrox",
          "dailysanfran",
          "newarkvoice",
          "williams_diana_",
          "rogovilia",
          "happkendrahappy",
          "paulinett",
          "ten_gop",
          "donnabrivera",
          "nojonathonno",
          "newspeakdaily",
          "patriototus",
          "arkadii_trofim",
          "wadeharriot",
          "thefoundingson",
          "arturburanof",
          "ttsvetkov",
          "williams8kalvin",
          "darrell_h_hunt",
          "realrobert1987",
          "zubovnik",
          "rightnpr",
          "watchmewalkin",
          "j0hnlarsen",
          "realten_gop",
          "march_for_trump",
          "gibbs_jeremy_",
          "prettylaraplace",
          "hollydler",
          "onlinecleveland",
          "cookncooks",
          "stepansazono",
          "politweecs",
          "sylvielefevrier",
          "t0nyasinclair",
          "melanymelanin",
          "javonhidp",
          "kansasdailynews",
          "carriethornthon",
          "riafanru",
          "karolineauge",
          "rh0lbr00k",
          "tpartynews",
          "staywoke88",
          "drmichaelgarcia",
          "itstimetosecede",
          "washingtonline",
          "jaydaastonishin",
          "ninonderrien",
          "srahse",
          "ravenicholson",
          "darknally",
          "dorothiebell",
          "garrettsimpson_",
          "patriotka_rusi",
          "chadsloyer",
          "jacquelinisbest",
          "emileewaren",
          "margarethkurz",
          "janelperkinson",
          "jeffreykahunas",
          "anthonywoodboy",
          "lelandgraves_",
          "instotus",
          "_sashalapin",
          "alecmooooody",
          "onemightyfish",
          "camosaseko",
          "jihadist2ndwife",
          "ramonasnails",
          "muslims_in_usa",
          "anzgri",
          "regieblackmon",
          "pati_cooper",
          "leroylovesusa",
          "jamie_mccarthy_",
          "tezaharov",
          "shocko_10",
          "laurabaeley",
          "wildharee",
          "devinedevinbr",
          "sergbriantsev",
          "karenparker93",
          "pigeontoday",
          "mmmdarya",
          "valeyina_dm",
          "joseph_jenks",
          "siccerthanyou",
          "ogdeandre",
          "zzzacharyzzz",
          "richmondvoice",
          "banttanantta",
          "krustyps",
          "cassieweltch",
          "crystal1johnson",
          "neworleanson",
          "puredavie",
          "policestateme",
          "traceyhappymom",
          "finnaglo",
          "phoenixdailynew",
          "hollandpatrickk",
          "jani_s_jac",
          "glebnikon",
          "oaklandonline",
          "maksblaginin",
          "philadelphiaon",
          "lysikvinkova",
          "romangorolov",
          "robbydelaware",
          "blacktivists",
          "pamblmdaniels",
          "ostrovofficer",
          "lila_gorila",
          "oooonlyone",
          "horrorki",
          "zistti",
          "sovetnikstatski",
          "inst_vets",
          "tebepizdec",
          "bricegeller",
          "todaybostonma",
          "mr_clampin",
          "lazykstafford",
          "gwennythot",
          "paolakinck",
          "roscoe_riddle",
          "samirgooden",
          "clydedaws0n",
          "notritahart",
          "austinlovesbeer",
          "archieolivers",
          "agnesgrhm",
          "johnievogue",
          "batonrougevoice",
          "youjustctrlc",
          "iiddaamarks",
          "acejinev",
          "logan_whatsup",
          "gvardeykalena",
          "chaneutral",
          "riogithief",
          "michellearry",
          "todaymiami",
          "ilovesarahrich",
          "jasper_fly",
          "chesplayschess",
          "eliasbrick",
          "verrellportier",
          "jery_robertsyo",
          "erofeenkoanton",
          "mil0blake",
          "corynaenae",
          "todaycincinnati",
          "todaynycity",
          "kotovamarys",
          "jenn_abrams",
          "damanimiles",
          "stanleyparris",
          "johnnymarch_",
          "queenofthewo",
          "melvinsroberts",
          "cassishere",
          "adamchapmanjr",
          "georevieweurope",
          "randolphburrr",
          "giselleevns",
          "taraformation",
          "imissobama",
          "errivvvvers",
          "westernwindwes",
          "jon_underwood_",
          "handsome_henson",
          "onlinememphis",
          "kathiemrr",
          "imapharrelfake",
          "peytoncashout",
          "bydrbre_",
          "houstontopnews",
          "claypaigeboo",
          "micparrish",
          "evagreen69",
          "entatjanamax",
          "priceforpierce",
          "mihanovikov",
          "sternandreas404",
          "jadonhutchinson",
          "hiimkhloe",
          "cookiiieeessss",
          "nataturn",
          "stlouisonline",
          "dailysandiego",
          "vasilichvasili",
          "jassscott",
          "blacktolive",
          "gallowayeliana",
          "jaedenmassey",
          "screamymonkey",
          "dallastopnews",
          "blk_voice",
          "willisbonnerr",
          "blacknewsoutlet",
          "stanley_cox_",
          "travisrespek",
          "detroitdailynew",
          "daileyjadon",
          "taisiaavdeeva",
          "jeanuttella",
          "klara_sauber",
          "lagonehoe",
          "scottgohard",
          "christinapool61",
          "malloryjared",
          "kaydenmelton",
          "krasilnikovbor",
          "heyits_toby",
          "leecory",
          "sergeev_tolik",
          "dailylosangeles",
          "johnbranchh",
          "rosieonfleek",
          "mrmoraan",
          "jeblary2016",
          "hunteroddddom",
          "romanagafonovv",
          "boriseleseev",
          "nj_blacknews",
          "jeannemccarthy0",
          "skatewake1994",
          "internalmemer",
          "mwiqcen",
          "gorelkinnn",
          "shikarnoel",
          "jorda_morgan",
          "lmarinays",
          "moda_barina",
          "brianaregland",
          "alexsvladimirov",
          "razvedchica_",
          "bogdankravcov",
          "blmsoldier",
          "sanantotopnews",
          "ryanmaxwell_1",
          "chernenkonikola",
          "fightm_d_b",
          "judelambertusa",
          "portmela",
          "kolradskiy_zhuk",
          "specialaffair",
          "sindyblossom",
          "tessyelmore",
          "chicagodailynew",
          "kelvin_chambers",
          "cornellburchet",
          "globalfoe",
          "dontshootcom",
          "patriotraphael",
          "kimberleighlamb",
          "patriot_archive",
          "cannonsher",
          "puddin_leto",
          "imaswerve",
          "milwaukeevoice",
          "queennarielle",
          "antonhayhay",
          "russilanrogov",
          "gloed_up",
          "atlanta_online",
          "bigboyjasiah",
          "iris0_o",
          "ericarutter",
          "viborisova",
          "marianeuberg1",
          "_nickluna_",
          "blackmattersus",
          "wonderhann",
          "c__wells",
          "cliftonhughes_",
          "datwisenigga",
          "baobaeham",
          "gwen_garland",
          "fischermaria933",
          "sonderkatharina",
          "tinatkurtz1222",
          "blackeyeblog",
          "christinacrisss",
          "evewebster373",
          "gracelilstar",
          "ponomarevslav",
          "trayneshacole",
          "rus_in_usa",
          "bleepthepolice",
          "berkhoff85",
          "4mysquad",
          "notballinyet",
          "deusxyx",
          "boryabuchin",
          "shapka_mono",
          "whitehousecards",
          "peeonhillary",
          "lilylilyhasse",
          "bigboysneed",
          "brianthelifter",
          "liljordamn",
          "nehemiahx",
          "robertebonyking",
          "briys_valera",
          "edmundrjr",
          "mrclydepratt",
          "lapinolegg",
          "colbyst1",
          "jacksoncitypost",
          "elpasotopnews",
          "alexharritonov",
          "cascaseyp",
          "beckster319",
          "maximgaron1",
          "manuelkrosss",
          "politopros",
          "ssus_panther",
          "beverlybalsom",
          "blacneighbor",
          "erdollum",
          "donnielmiller",
          "chrixmorgan",
          "marissaimstrong",
          "ryanncooperwood",
          "aleksey_sokol_",
          "bocharnikov_v",
          "baltimore0nline",
          "danageezus",
          "todaypittsburgh",
          "toneporter",
          "maymaymyy",
          "yaeltrouble",
          "mbrownhere",
          "fishalexanderr",
          "jerstoner",
          "worldofhashtags",
          "joachimbuchwitz",
          "iancalh0un",
          "reachitdoit",
          "aantiracist",
          "jarrardnorman",
          "peterkistner",
          "seattle_post",
          "lukas_rosler",
          "_billy_moyer_",
          "curtisbigman",
          "todaycleveland",
          "abigailssilk",
          "mtthsberger",
          "hipppo_",
          "johnieboycooks",
          "chrisuport_port",
          "calebpaar",
          "glennharper_",
          "schultei2",
          "angela_lattke",
          "russianallies",
          "aiden7757",
          "charlesrespeck",
          "andreaseulitz",
          "dannythehappies",
          "kirstenladaniel",
          "lynsrodriguez",
          "sincerepruitt",
          "erdollum666",
          "jsncarey",
          "dominicvalent",
          "jmscoxxx",
          "kencannone",
          "holycrapchrix",
          "meggieoneil",
          "adrienne_gg",
          "bigseanbeast",
          "charlesjharper",
          "heyheyhailey",
          "wokefromday1",
          "susayung",
          "catelinewatkins",
          "bgarner2107",
          "loragreeen",
          "gab1aldana",
          "novostidamask",
          "rusnevrotik",
          "msm0re",
          "hellieedwards",
          "ilikebigbuttand",
          "sovasof",
          "mikkyrurk",
          "oh_frida",
          "bruciedublin",
          "aldrich420",
          "coldwar20_ru",
          "margosavazh",
          "angelabach991",
          "maxdementiev",
          "adrgreerr",
          "lavrovmuesli",
          "amandavgreen",
          "klausfinker",
          "hamburgbote",
          "sto_christi",
          "edmundc0oke",
          "margoberoeva",
          "brentmcclure275",
          "6druz",
          "denn_nikitin"
         ],
         "type": "scatter",
         "x": [
          21,
          1,
          1,
          66,
          1,
          2,
          1,
          58,
          68,
          27,
          1,
          191,
          2,
          1,
          28,
          68,
          4,
          71,
          135,
          109,
          3,
          45,
          1,
          1,
          1,
          5,
          66,
          90,
          51,
          148,
          94,
          100,
          1,
          4,
          63,
          246,
          215,
          65,
          56,
          107,
          64,
          5,
          70,
          242,
          5,
          4,
          3,
          1,
          9,
          1,
          74,
          59,
          61,
          61,
          40,
          1,
          74,
          76,
          104,
          193,
          5,
          100,
          3,
          1,
          206,
          60,
          119,
          71,
          1,
          3,
          20,
          298,
          49,
          53,
          31,
          105,
          50,
          3,
          1,
          54,
          39,
          192,
          219,
          5,
          53,
          178,
          190,
          91,
          10,
          221,
          9,
          4,
          3,
          9,
          55,
          53,
          53,
          9,
          50,
          8,
          2,
          48,
          10,
          202,
          36,
          6,
          4,
          209,
          1,
          7,
          6,
          12,
          18,
          2,
          12,
          1,
          31,
          52,
          31,
          56,
          1,
          1,
          162,
          123,
          69,
          121,
          2,
          87,
          11,
          95,
          123,
          58,
          11,
          73,
          5,
          64,
          3,
          7,
          23,
          11,
          53,
          1,
          1,
          1,
          1,
          1,
          15,
          4,
          1,
          7,
          81,
          113,
          236,
          38,
          25,
          1,
          37,
          1,
          122,
          7,
          9,
          1,
          10,
          93,
          36,
          47,
          40,
          64,
          10,
          2,
          3,
          247,
          68,
          46,
          93,
          13,
          39,
          3,
          53,
          10,
          196,
          10,
          72,
          45,
          15,
          182,
          13,
          52,
          9,
          111,
          92,
          38,
          9,
          1,
          46,
          93,
          8,
          56,
          29,
          150,
          1,
          1,
          24,
          122,
          47,
          33,
          1,
          39,
          10,
          92,
          224,
          30,
          157,
          14,
          34,
          51,
          247,
          12,
          12,
          76,
          54,
          18,
          41,
          93,
          12,
          1,
          105,
          24,
          41,
          133,
          39,
          15,
          41,
          65,
          87,
          19,
          12,
          44,
          36,
          30,
          7,
          215,
          8,
          10,
          207,
          1,
          10,
          29,
          177,
          30,
          37,
          53,
          33,
          10,
          8,
          12,
          176,
          15,
          35,
          1,
          1,
          1,
          1,
          1,
          1,
          105,
          8,
          15,
          13,
          39,
          48,
          197,
          14,
          10,
          180,
          1,
          12,
          103,
          1,
          9,
          105,
          9,
          26,
          1,
          10,
          187,
          1,
          2,
          45,
          1,
          9,
          1,
          12,
          38,
          10,
          96,
          63,
          40,
          1,
          5,
          6,
          12,
          240,
          46,
          5,
          62,
          12,
          172,
          177,
          1,
          1,
          1,
          1,
          6,
          1,
          81,
          1,
          16,
          73,
          2,
          86,
          9,
          20,
          7,
          16,
          8,
          2,
          60,
          1,
          6,
          12,
          10,
          41,
          11,
          11,
          1,
          3,
          122,
          9,
          3,
          40,
          3,
          19,
          20,
          39,
          2,
          29,
          1,
          1,
          1,
          13,
          16,
          4,
          59,
          19,
          1,
          12,
          18,
          105,
          53,
          66,
          21,
          11,
          1,
          1,
          12,
          8,
          52,
          1,
          2,
          1,
          14,
          24,
          14,
          36,
          6,
          88,
          28,
          19,
          7,
          4,
          23,
          10,
          9,
          23,
          4,
          1,
          1,
          1,
          22,
          5,
          1,
          25,
          1,
          7,
          11,
          4,
          4,
          37,
          23,
          16,
          24,
          6,
          23,
          11,
          26,
          17,
          15,
          13,
          11,
          27,
          33,
          27,
          6,
          2,
          2,
          27,
          33,
          2,
          2,
          2,
          25,
          13,
          4,
          5,
          22,
          4,
          9,
          9,
          26,
          1,
          1,
          1,
          1,
          2,
          13,
          4,
          4
         ],
         "y": [
          1.276771,
          1.521502,
          1.635927,
          1.706605,
          1.728624,
          1.731837,
          1.705275,
          1.757874,
          1.787053,
          1.76401,
          1.78471,
          1.786393,
          1.789995,
          1.780521,
          1.841637,
          1.83145,
          1.83932,
          1.822694,
          1.823872,
          1.792362,
          1.83524,
          1.84507,
          1.793824,
          1.825923,
          1.811416,
          1.900486,
          1.837261,
          1.837359,
          1.878031,
          1.81382,
          1.922206,
          1.900684,
          1.834589,
          1.914734,
          1.854084,
          1.915931,
          1.825602,
          1.895108,
          1.888799,
          1.921301,
          1.892627,
          1.903366,
          1.892861,
          1.869321,
          1.905533,
          1.858001,
          1.907683,
          1.898979,
          1.948547,
          1.851646,
          1.913832,
          1.931704,
          1.90756,
          1.930093,
          1.939024,
          1.977206,
          1.934125,
          1.947882,
          2.01117,
          1.950787,
          1.989637,
          1.972824,
          1.986399,
          2.00456,
          2.008849,
          1.996389,
          2.001269,
          1.952502,
          1.968103,
          1.985214,
          2.034404,
          2.019591,
          1.970503,
          1.98651,
          1.990728,
          2.013964,
          2.017678,
          2.020407,
          1.962372,
          2.000447,
          2.041526,
          2.046659,
          2.037856,
          2.03678,
          2.01261,
          2.044171,
          2.032207,
          1.905472,
          2.014602,
          2.034832,
          2.059428,
          2.07979,
          2.029691,
          2.037226,
          2.074095,
          2.019581,
          2.021726,
          2.047487,
          2.073081,
          2.047258,
          2.057236,
          2.047672,
          2.100111,
          2.062326,
          2.086357,
          2.108268,
          2.029282,
          2.084481,
          2.088253,
          2.076871,
          2.122615,
          2.079257,
          2.037822,
          2.103888,
          2.106935,
          2.048507,
          2.035323,
          2.081374,
          2.111698,
          2.116749,
          2.067595,
          2.067653,
          2.080884,
          2.07755,
          2.142111,
          2.077637,
          2.113385,
          2.044116,
          2.101003,
          2.102921,
          2.095723,
          2.1024,
          2.100621,
          2.12358,
          2.105113,
          2.139382,
          2.050309,
          2.073575,
          2.120037,
          2.079326,
          2.123066,
          2.14852,
          2.148524,
          2.148525,
          2.148527,
          2.148528,
          2.127382,
          2.080428,
          2.110814,
          2.164811,
          2.137929,
          2.107372,
          2.123902,
          2.144202,
          2.164858,
          2.118739,
          2.13498,
          2.168914,
          2.124681,
          2.144961,
          2.173917,
          2.113752,
          2.13647,
          2.164483,
          2.159586,
          2.162303,
          2.150842,
          2.183314,
          2.167063,
          2.133505,
          2.187824,
          2.169506,
          2.180548,
          2.119505,
          2.113609,
          2.190147,
          2.158784,
          2.197491,
          2.131687,
          2.194105,
          2.150174,
          2.193656,
          2.184266,
          2.171888,
          2.141708,
          2.123902,
          2.195664,
          2.127388,
          2.175865,
          2.139132,
          2.120335,
          2.163135,
          2.171267,
          2.115601,
          2.111188,
          2.119444,
          2.224589,
          2.170887,
          2.16698,
          2.17412,
          2.1095,
          2.148351,
          2.175182,
          2.153744,
          2.103205,
          2.142945,
          2.196797,
          2.199981,
          2.192778,
          2.203005,
          2.171544,
          2.139939,
          2.182024,
          2.181247,
          2.130265,
          2.171437,
          2.219623,
          2.219513,
          2.222135,
          2.200288,
          2.190997,
          2.219173,
          2.154554,
          2.173545,
          2.193259,
          2.176896,
          2.174529,
          2.18658,
          2.226481,
          2.176556,
          2.216108,
          2.223587,
          2.177447,
          2.225354,
          2.16311,
          2.192431,
          2.228113,
          2.160265,
          2.16322,
          2.120461,
          2.224496,
          2.232211,
          2.228002,
          2.204957,
          2.200673,
          2.175519,
          2.204744,
          2.262575,
          2.252209,
          2.196491,
          2.188819,
          2.159722,
          2.148546,
          2.249037,
          2.253827,
          2.193679,
          2.242693,
          2.207515,
          2.193453,
          2.247386,
          2.247386,
          2.247387,
          2.247388,
          2.247388,
          2.247396,
          2.185133,
          2.240202,
          2.22568,
          2.240224,
          2.253322,
          2.236148,
          2.24646,
          2.244715,
          2.256288,
          2.214565,
          2.191364,
          2.253421,
          2.170925,
          2.26459,
          2.257896,
          2.27698,
          2.249195,
          2.237356,
          2.27141,
          2.252456,
          2.257762,
          2.19703,
          2.311446,
          2.26567,
          2.266189,
          2.287903,
          2.158736,
          2.293521,
          2.267864,
          2.29357,
          2.211494,
          2.292787,
          2.24908,
          2.245723,
          2.292014,
          2.298001,
          2.24757,
          2.25078,
          2.288333,
          2.329264,
          2.301128,
          2.316279,
          2.289373,
          2.307997,
          2.211755,
          2.298105,
          2.298109,
          2.298125,
          2.330976,
          2.156614,
          2.351599,
          2.245129,
          2.297314,
          2.269746,
          2.33626,
          2.307914,
          2.349688,
          2.368251,
          2.342846,
          2.349778,
          2.363748,
          2.316079,
          2.355211,
          2.225011,
          2.271763,
          2.368324,
          2.361302,
          2.347851,
          2.363353,
          2.394206,
          2.266388,
          2.363252,
          2.318802,
          2.364097,
          2.325298,
          2.339568,
          2.373414,
          2.370879,
          2.376633,
          2.299812,
          2.39622,
          2.326143,
          2.355199,
          2.353321,
          2.376042,
          2.392084,
          2.430373,
          2.407208,
          2.342476,
          2.424854,
          2.379731,
          2.431196,
          2.401226,
          2.404766,
          2.355913,
          2.432059,
          2.431568,
          2.43045,
          2.410382,
          2.448739,
          2.405272,
          2.45407,
          2.397355,
          2.463039,
          2.484448,
          2.337527,
          2.482734,
          2.445076,
          2.373365,
          2.445979,
          2.495881,
          2.447813,
          2.457177,
          2.502189,
          2.53502,
          2.539988,
          2.529582,
          2.522863,
          2.538546,
          2.497088,
          2.490192,
          2.50847,
          2.50849,
          2.493013,
          2.546499,
          2.530853,
          2.536467,
          2.499628,
          2.515077,
          2.582886,
          2.532227,
          2.611943,
          2.579026,
          2.486147,
          2.560038,
          2.623489,
          2.6115,
          2.553403,
          2.606493,
          2.643886,
          2.650205,
          2.596892,
          2.623181,
          2.649695,
          2.658636,
          2.650092,
          2.624119,
          2.657767,
          2.665304,
          2.601358,
          2.601336,
          2.649123,
          2.645747,
          2.59833,
          2.619084,
          2.619081,
          2.683776,
          2.676178,
          2.702511,
          2.681153,
          2.666923,
          2.651633,
          2.708936,
          2.713328,
          2.680452,
          2.704585,
          2.704855,
          2.717451,
          2.705532,
          2.733829,
          2.784866,
          2.752256,
          2.752278
         ]
        }
       ],
       "layout": {
        "annotations": [
         {
          "showarrow": false,
          "text": "Mean: 2.210",
          "x": 1,
          "xanchor": "right",
          "xref": "x domain",
          "y": 2.2101759322799093,
          "yanchor": "bottom",
          "yref": "y"
         }
        ],
        "coloraxis": {
         "colorbar": {
          "title": {
           "text": "dominant_topic"
          }
         },
         "colorscale": [
          [
           0,
           "#0d0887"
          ],
          [
           0.1111111111111111,
           "#46039f"
          ],
          [
           0.2222222222222222,
           "#7201a8"
          ],
          [
           0.3333333333333333,
           "#9c179e"
          ],
          [
           0.4444444444444444,
           "#bd3786"
          ],
          [
           0.5555555555555556,
           "#d8576b"
          ],
          [
           0.6666666666666666,
           "#ed7953"
          ],
          [
           0.7777777777777778,
           "#fb9f3a"
          ],
          [
           0.8888888888888888,
           "#fdca26"
          ],
          [
           1,
           "#f0f921"
          ]
         ]
        },
        "height": 600,
        "legend": {
         "itemsizing": "constant",
         "tracegroupgap": 0
        },
        "shapes": [
         {
          "line": {
           "color": "red",
           "dash": "dash"
          },
          "type": "line",
          "x0": 0,
          "x1": 1,
          "xref": "x domain",
          "y0": 2.2101759322799093,
          "y1": 2.2101759322799093,
          "yref": "y"
         }
        ],
        "template": {
         "data": {
          "bar": [
           {
            "error_x": {
             "color": "#2a3f5f"
            },
            "error_y": {
             "color": "#2a3f5f"
            },
            "marker": {
             "line": {
              "color": "#E5ECF6",
              "width": 0.5
             },
             "pattern": {
              "fillmode": "overlay",
              "size": 10,
              "solidity": 0.2
             }
            },
            "type": "bar"
           }
          ],
          "barpolar": [
           {
            "marker": {
             "line": {
              "color": "#E5ECF6",
              "width": 0.5
             },
             "pattern": {
              "fillmode": "overlay",
              "size": 10,
              "solidity": 0.2
             }
            },
            "type": "barpolar"
           }
          ],
          "carpet": [
           {
            "aaxis": {
             "endlinecolor": "#2a3f5f",
             "gridcolor": "white",
             "linecolor": "white",
             "minorgridcolor": "white",
             "startlinecolor": "#2a3f5f"
            },
            "baxis": {
             "endlinecolor": "#2a3f5f",
             "gridcolor": "white",
             "linecolor": "white",
             "minorgridcolor": "white",
             "startlinecolor": "#2a3f5f"
            },
            "type": "carpet"
           }
          ],
          "choropleth": [
           {
            "colorbar": {
             "outlinewidth": 0,
             "ticks": ""
            },
            "type": "choropleth"
           }
          ],
          "contour": [
           {
            "colorbar": {
             "outlinewidth": 0,
             "ticks": ""
            },
            "colorscale": [
             [
              0,
              "#0d0887"
             ],
             [
              0.1111111111111111,
              "#46039f"
             ],
             [
              0.2222222222222222,
              "#7201a8"
             ],
             [
              0.3333333333333333,
              "#9c179e"
             ],
             [
              0.4444444444444444,
              "#bd3786"
             ],
             [
              0.5555555555555556,
              "#d8576b"
             ],
             [
              0.6666666666666666,
              "#ed7953"
             ],
             [
              0.7777777777777778,
              "#fb9f3a"
             ],
             [
              0.8888888888888888,
              "#fdca26"
             ],
             [
              1,
              "#f0f921"
             ]
            ],
            "type": "contour"
           }
          ],
          "contourcarpet": [
           {
            "colorbar": {
             "outlinewidth": 0,
             "ticks": ""
            },
            "type": "contourcarpet"
           }
          ],
          "heatmap": [
           {
            "colorbar": {
             "outlinewidth": 0,
             "ticks": ""
            },
            "colorscale": [
             [
              0,
              "#0d0887"
             ],
             [
              0.1111111111111111,
              "#46039f"
             ],
             [
              0.2222222222222222,
              "#7201a8"
             ],
             [
              0.3333333333333333,
              "#9c179e"
             ],
             [
              0.4444444444444444,
              "#bd3786"
             ],
             [
              0.5555555555555556,
              "#d8576b"
             ],
             [
              0.6666666666666666,
              "#ed7953"
             ],
             [
              0.7777777777777778,
              "#fb9f3a"
             ],
             [
              0.8888888888888888,
              "#fdca26"
             ],
             [
              1,
              "#f0f921"
             ]
            ],
            "type": "heatmap"
           }
          ],
          "heatmapgl": [
           {
            "colorbar": {
             "outlinewidth": 0,
             "ticks": ""
            },
            "colorscale": [
             [
              0,
              "#0d0887"
             ],
             [
              0.1111111111111111,
              "#46039f"
             ],
             [
              0.2222222222222222,
              "#7201a8"
             ],
             [
              0.3333333333333333,
              "#9c179e"
             ],
             [
              0.4444444444444444,
              "#bd3786"
             ],
             [
              0.5555555555555556,
              "#d8576b"
             ],
             [
              0.6666666666666666,
              "#ed7953"
             ],
             [
              0.7777777777777778,
              "#fb9f3a"
             ],
             [
              0.8888888888888888,
              "#fdca26"
             ],
             [
              1,
              "#f0f921"
             ]
            ],
            "type": "heatmapgl"
           }
          ],
          "histogram": [
           {
            "marker": {
             "pattern": {
              "fillmode": "overlay",
              "size": 10,
              "solidity": 0.2
             }
            },
            "type": "histogram"
           }
          ],
          "histogram2d": [
           {
            "colorbar": {
             "outlinewidth": 0,
             "ticks": ""
            },
            "colorscale": [
             [
              0,
              "#0d0887"
             ],
             [
              0.1111111111111111,
              "#46039f"
             ],
             [
              0.2222222222222222,
              "#7201a8"
             ],
             [
              0.3333333333333333,
              "#9c179e"
             ],
             [
              0.4444444444444444,
              "#bd3786"
             ],
             [
              0.5555555555555556,
              "#d8576b"
             ],
             [
              0.6666666666666666,
              "#ed7953"
             ],
             [
              0.7777777777777778,
              "#fb9f3a"
             ],
             [
              0.8888888888888888,
              "#fdca26"
             ],
             [
              1,
              "#f0f921"
             ]
            ],
            "type": "histogram2d"
           }
          ],
          "histogram2dcontour": [
           {
            "colorbar": {
             "outlinewidth": 0,
             "ticks": ""
            },
            "colorscale": [
             [
              0,
              "#0d0887"
             ],
             [
              0.1111111111111111,
              "#46039f"
             ],
             [
              0.2222222222222222,
              "#7201a8"
             ],
             [
              0.3333333333333333,
              "#9c179e"
             ],
             [
              0.4444444444444444,
              "#bd3786"
             ],
             [
              0.5555555555555556,
              "#d8576b"
             ],
             [
              0.6666666666666666,
              "#ed7953"
             ],
             [
              0.7777777777777778,
              "#fb9f3a"
             ],
             [
              0.8888888888888888,
              "#fdca26"
             ],
             [
              1,
              "#f0f921"
             ]
            ],
            "type": "histogram2dcontour"
           }
          ],
          "mesh3d": [
           {
            "colorbar": {
             "outlinewidth": 0,
             "ticks": ""
            },
            "type": "mesh3d"
           }
          ],
          "parcoords": [
           {
            "line": {
             "colorbar": {
              "outlinewidth": 0,
              "ticks": ""
             }
            },
            "type": "parcoords"
           }
          ],
          "pie": [
           {
            "automargin": true,
            "type": "pie"
           }
          ],
          "scatter": [
           {
            "fillpattern": {
             "fillmode": "overlay",
             "size": 10,
             "solidity": 0.2
            },
            "type": "scatter"
           }
          ],
          "scatter3d": [
           {
            "line": {
             "colorbar": {
              "outlinewidth": 0,
              "ticks": ""
             }
            },
            "marker": {
             "colorbar": {
              "outlinewidth": 0,
              "ticks": ""
             }
            },
            "type": "scatter3d"
           }
          ],
          "scattercarpet": [
           {
            "marker": {
             "colorbar": {
              "outlinewidth": 0,
              "ticks": ""
             }
            },
            "type": "scattercarpet"
           }
          ],
          "scattergeo": [
           {
            "marker": {
             "colorbar": {
              "outlinewidth": 0,
              "ticks": ""
             }
            },
            "type": "scattergeo"
           }
          ],
          "scattergl": [
           {
            "marker": {
             "colorbar": {
              "outlinewidth": 0,
              "ticks": ""
             }
            },
            "type": "scattergl"
           }
          ],
          "scattermapbox": [
           {
            "marker": {
             "colorbar": {
              "outlinewidth": 0,
              "ticks": ""
             }
            },
            "type": "scattermapbox"
           }
          ],
          "scatterpolar": [
           {
            "marker": {
             "colorbar": {
              "outlinewidth": 0,
              "ticks": ""
             }
            },
            "type": "scatterpolar"
           }
          ],
          "scatterpolargl": [
           {
            "marker": {
             "colorbar": {
              "outlinewidth": 0,
              "ticks": ""
             }
            },
            "type": "scatterpolargl"
           }
          ],
          "scatterternary": [
           {
            "marker": {
             "colorbar": {
              "outlinewidth": 0,
              "ticks": ""
             }
            },
            "type": "scatterternary"
           }
          ],
          "surface": [
           {
            "colorbar": {
             "outlinewidth": 0,
             "ticks": ""
            },
            "colorscale": [
             [
              0,
              "#0d0887"
             ],
             [
              0.1111111111111111,
              "#46039f"
             ],
             [
              0.2222222222222222,
              "#7201a8"
             ],
             [
              0.3333333333333333,
              "#9c179e"
             ],
             [
              0.4444444444444444,
              "#bd3786"
             ],
             [
              0.5555555555555556,
              "#d8576b"
             ],
             [
              0.6666666666666666,
              "#ed7953"
             ],
             [
              0.7777777777777778,
              "#fb9f3a"
             ],
             [
              0.8888888888888888,
              "#fdca26"
             ],
             [
              1,
              "#f0f921"
             ]
            ],
            "type": "surface"
           }
          ],
          "table": [
           {
            "cells": {
             "fill": {
              "color": "#EBF0F8"
             },
             "line": {
              "color": "white"
             }
            },
            "header": {
             "fill": {
              "color": "#C8D4E3"
             },
             "line": {
              "color": "white"
             }
            },
            "type": "table"
           }
          ]
         },
         "layout": {
          "annotationdefaults": {
           "arrowcolor": "#2a3f5f",
           "arrowhead": 0,
           "arrowwidth": 1
          },
          "autotypenumbers": "strict",
          "coloraxis": {
           "colorbar": {
            "outlinewidth": 0,
            "ticks": ""
           }
          },
          "colorscale": {
           "diverging": [
            [
             0,
             "#8e0152"
            ],
            [
             0.1,
             "#c51b7d"
            ],
            [
             0.2,
             "#de77ae"
            ],
            [
             0.3,
             "#f1b6da"
            ],
            [
             0.4,
             "#fde0ef"
            ],
            [
             0.5,
             "#f7f7f7"
            ],
            [
             0.6,
             "#e6f5d0"
            ],
            [
             0.7,
             "#b8e186"
            ],
            [
             0.8,
             "#7fbc41"
            ],
            [
             0.9,
             "#4d9221"
            ],
            [
             1,
             "#276419"
            ]
           ],
           "sequential": [
            [
             0,
             "#0d0887"
            ],
            [
             0.1111111111111111,
             "#46039f"
            ],
            [
             0.2222222222222222,
             "#7201a8"
            ],
            [
             0.3333333333333333,
             "#9c179e"
            ],
            [
             0.4444444444444444,
             "#bd3786"
            ],
            [
             0.5555555555555556,
             "#d8576b"
            ],
            [
             0.6666666666666666,
             "#ed7953"
            ],
            [
             0.7777777777777778,
             "#fb9f3a"
            ],
            [
             0.8888888888888888,
             "#fdca26"
            ],
            [
             1,
             "#f0f921"
            ]
           ],
           "sequentialminus": [
            [
             0,
             "#0d0887"
            ],
            [
             0.1111111111111111,
             "#46039f"
            ],
            [
             0.2222222222222222,
             "#7201a8"
            ],
            [
             0.3333333333333333,
             "#9c179e"
            ],
            [
             0.4444444444444444,
             "#bd3786"
            ],
            [
             0.5555555555555556,
             "#d8576b"
            ],
            [
             0.6666666666666666,
             "#ed7953"
            ],
            [
             0.7777777777777778,
             "#fb9f3a"
            ],
            [
             0.8888888888888888,
             "#fdca26"
            ],
            [
             1,
             "#f0f921"
            ]
           ]
          },
          "colorway": [
           "#636efa",
           "#EF553B",
           "#00cc96",
           "#ab63fa",
           "#FFA15A",
           "#19d3f3",
           "#FF6692",
           "#B6E880",
           "#FF97FF",
           "#FECB52"
          ],
          "font": {
           "color": "#2a3f5f"
          },
          "geo": {
           "bgcolor": "white",
           "lakecolor": "white",
           "landcolor": "#E5ECF6",
           "showlakes": true,
           "showland": true,
           "subunitcolor": "white"
          },
          "hoverlabel": {
           "align": "left"
          },
          "hovermode": "closest",
          "mapbox": {
           "style": "light"
          },
          "paper_bgcolor": "white",
          "plot_bgcolor": "#E5ECF6",
          "polar": {
           "angularaxis": {
            "gridcolor": "white",
            "linecolor": "white",
            "ticks": ""
           },
           "bgcolor": "#E5ECF6",
           "radialaxis": {
            "gridcolor": "white",
            "linecolor": "white",
            "ticks": ""
           }
          },
          "scene": {
           "xaxis": {
            "backgroundcolor": "#E5ECF6",
            "gridcolor": "white",
            "gridwidth": 2,
            "linecolor": "white",
            "showbackground": true,
            "ticks": "",
            "zerolinecolor": "white"
           },
           "yaxis": {
            "backgroundcolor": "#E5ECF6",
            "gridcolor": "white",
            "gridwidth": 2,
            "linecolor": "white",
            "showbackground": true,
            "ticks": "",
            "zerolinecolor": "white"
           },
           "zaxis": {
            "backgroundcolor": "#E5ECF6",
            "gridcolor": "white",
            "gridwidth": 2,
            "linecolor": "white",
            "showbackground": true,
            "ticks": "",
            "zerolinecolor": "white"
           }
          },
          "shapedefaults": {
           "line": {
            "color": "#2a3f5f"
           }
          },
          "ternary": {
           "aaxis": {
            "gridcolor": "white",
            "linecolor": "white",
            "ticks": ""
           },
           "baxis": {
            "gridcolor": "white",
            "linecolor": "white",
            "ticks": ""
           },
           "bgcolor": "#E5ECF6",
           "caxis": {
            "gridcolor": "white",
            "linecolor": "white",
            "ticks": ""
           }
          },
          "title": {
           "x": 0.05
          },
          "xaxis": {
           "automargin": true,
           "gridcolor": "white",
           "linecolor": "white",
           "ticks": "",
           "title": {
            "standoff": 15
           },
           "zerolinecolor": "white",
           "zerolinewidth": 2
          },
          "yaxis": {
           "automargin": true,
           "gridcolor": "white",
           "linecolor": "white",
           "ticks": "",
           "title": {
            "standoff": 15
           },
           "zerolinecolor": "white",
           "zerolinewidth": 2
          }
         }
        },
        "title": {
         "text": "User Topic Concentration (Shannon Entropy) vs Post Frequency"
        },
        "width": 900,
        "xaxis": {
         "anchor": "y",
         "domain": [
          0,
          1
         ],
         "title": {
          "text": "Number of Posts"
         }
        },
        "yaxis": {
         "anchor": "x",
         "domain": [
          0,
          1
         ],
         "title": {
          "text": "Shannon Entropy"
         }
        }
       }
      }
     },
     "metadata": {},
     "output_type": "display_data"
    }
   ],
   "source": [
    "# Create scatter plot of Gini coefficient vs post count\n",
    "def plot_topic_concentration(metric,log_scale):\n",
    "    metric = metric_selector.value\n",
    "    \n",
    "    # Create figure\n",
    "    fig = px.scatter(\n",
    "        user_topic_df, \n",
    "        x='post_count', \n",
    "        y=metric,\n",
    "        hover_data=['user_id', 'post_count', 'gini_coefficient', 'shannon_entropy', 'top1_ratio'],\n",
    "        color='dominant_topic',\n",
    "        size='post_count',\n",
    "        size_max=30,\n",
    "        opacity=0.7,\n",
    "        log_x=log_scale,\n",
    "        title=f'User Topic Concentration ({metric.replace(\"_\", \" \").title()}) vs Post Frequency'\n",
    "    )\n",
    "    \n",
    "    # Add reference line for mean\n",
    "    mean_val = user_topic_df[metric].mean()\n",
    "    fig.add_hline(y=mean_val, line_dash=\"dash\", line_color=\"red\",\n",
    "                 annotation_text=f\"Mean: {mean_val:.3f}\", \n",
    "                 annotation_position=\"top right\")\n",
    "    \n",
    "    # Highlight suspicious users if available\n",
    "    if 'suspicious' in suspicious_df.columns:\n",
    "        susp_users = suspicious_df[suspicious_df['suspicious']]['user_id'].tolist()\n",
    "        susp_df = user_topic_df[user_topic_df['user_id'].isin(susp_users)]\n",
    "        \n",
    "        fig.add_trace(\n",
    "            go.Scatter(\n",
    "                x=susp_df['post_count'],\n",
    "                y=susp_df[metric],\n",
    "                mode='markers',\n",
    "                marker=dict(\n",
    "                    color='red',\n",
    "                    size=15,\n",
    "                    line=dict(color='black', width=2)\n",
    "                ),\n",
    "                name='Suspicious',\n",
    "                text=susp_df['user_id'],\n",
    "                hoverinfo='text'\n",
    "            )\n",
    "        )\n",
    "    \n",
    "    fig.update_layout(\n",
    "        xaxis_title=\"Number of Posts\",\n",
    "        yaxis_title=f\"{metric.replace('_', ' ').title()}\",\n",
    "        height=600,\n",
    "        width=900\n",
    "    )\n",
    "    \n",
    "    fig.show()\n",
    "\n",
    "# Create metric selector\n",
    "metric_selector = widgets.Dropdown(\n",
    "    options=[\n",
    "        ('Gini Coefficient', 'gini_coefficient'),\n",
    "        ('Shannon Entropy', 'shannon_entropy'),\n",
    "        ('Top-1 Topic Ratio', 'top1_ratio'),\n",
    "        ('Top-2 Topics Ratio', 'top2_ratio')\n",
    "    ],\n",
    "    value='gini_coefficient',\n",
    "    description='Metric:',\n",
    "    style={'description_width': 'initial'}\n",
    ")\n",
    "\n",
    "# Create log scale toggle\n",
    "log_scale = widgets.Checkbox(\n",
    "    value=False,\n",
    "    description='Log Scale for Post Count',\n",
    "    style={'description_width': 'initial'}\n",
    ")\n",
    "\n",
    "# Display interactive widget\n",
    "display(widgets.VBox([\n",
    "    widgets.HTML('<h3>Topic Concentration Analysis</h3>'),\n",
    "    widgets.HBox([metric_selector, log_scale]),\n",
    "    widgets.interactive_output(plot_topic_concentration, {\n",
    "        'metric': metric_selector,\n",
    "        'log_scale': log_scale\n",
    "    })\n",
    "]))"
   ]
  },
  {
   "cell_type": "markdown",
   "id": "dbbcbda2-d282-45fc-8a97-8b3750f46fd4",
   "metadata": {},
   "source": [
    "# 4. Suspicious Users Analysis\n"
   ]
  },
  {
   "cell_type": "code",
   "execution_count": 6,
   "id": "d1f8fd0c-c0b1-45ad-9b8a-e1966bbb2c25",
   "metadata": {},
   "outputs": [
    {
     "data": {
      "application/vnd.jupyter.widget-view+json": {
       "model_id": "200007056bce4b8b9682af7171713124",
       "version_major": 2,
       "version_minor": 0
      },
      "text/plain": [
       "HTML(value='<h3>Suspicious User Analysis</h3>')"
      ]
     },
     "metadata": {},
     "output_type": "display_data"
    },
    {
     "data": {
      "text/html": [
       "<style type=\"text/css\">\n",
       "#T_cd952_row0_col2, #T_cd952_row0_col3, #T_cd952_row7_col4 {\n",
       "  background-color: #67000d;\n",
       "  color: #f1f1f1;\n",
       "}\n",
       "#T_cd952_row0_col4, #T_cd952_row1_col4, #T_cd952_row2_col4, #T_cd952_row4_col4, #T_cd952_row5_col4, #T_cd952_row6_col3, #T_cd952_row6_col4, #T_cd952_row9_col2, #T_cd952_row9_col4 {\n",
       "  background-color: #fff5f0;\n",
       "  color: #000000;\n",
       "}\n",
       "#T_cd952_row1_col2 {\n",
       "  background-color: #f24633;\n",
       "  color: #f1f1f1;\n",
       "}\n",
       "#T_cd952_row1_col3 {\n",
       "  background-color: #f5533b;\n",
       "  color: #f1f1f1;\n",
       "}\n",
       "#T_cd952_row2_col2 {\n",
       "  background-color: #fcb79c;\n",
       "  color: #000000;\n",
       "}\n",
       "#T_cd952_row2_col3 {\n",
       "  background-color: #fedfd0;\n",
       "  color: #000000;\n",
       "}\n",
       "#T_cd952_row3_col2 {\n",
       "  background-color: #fdc5ae;\n",
       "  color: #000000;\n",
       "}\n",
       "#T_cd952_row3_col3 {\n",
       "  background-color: #fcb296;\n",
       "  color: #000000;\n",
       "}\n",
       "#T_cd952_row3_col4 {\n",
       "  background-color: #ffede5;\n",
       "  color: #000000;\n",
       "}\n",
       "#T_cd952_row4_col2 {\n",
       "  background-color: #fdd0bc;\n",
       "  color: #000000;\n",
       "}\n",
       "#T_cd952_row4_col3 {\n",
       "  background-color: #fedaca;\n",
       "  color: #000000;\n",
       "}\n",
       "#T_cd952_row5_col2 {\n",
       "  background-color: #fedbcc;\n",
       "  color: #000000;\n",
       "}\n",
       "#T_cd952_row5_col3 {\n",
       "  background-color: #fc9272;\n",
       "  color: #000000;\n",
       "}\n",
       "#T_cd952_row6_col2 {\n",
       "  background-color: #fee2d5;\n",
       "  color: #000000;\n",
       "}\n",
       "#T_cd952_row7_col2 {\n",
       "  background-color: #ffebe2;\n",
       "  color: #000000;\n",
       "}\n",
       "#T_cd952_row7_col3 {\n",
       "  background-color: #fedecf;\n",
       "  color: #000000;\n",
       "}\n",
       "#T_cd952_row8_col2, #T_cd952_row8_col4 {\n",
       "  background-color: #fff0e9;\n",
       "  color: #000000;\n",
       "}\n",
       "#T_cd952_row8_col3 {\n",
       "  background-color: #fdc7b2;\n",
       "  color: #000000;\n",
       "}\n",
       "#T_cd952_row9_col3 {\n",
       "  background-color: #f34935;\n",
       "  color: #f1f1f1;\n",
       "}\n",
       "</style>\n",
       "<table id=\"T_cd952\">\n",
       "  <thead>\n",
       "    <tr>\n",
       "      <th class=\"blank level0\" >&nbsp;</th>\n",
       "      <th id=\"T_cd952_level0_col0\" class=\"col_heading level0 col0\" >user_id</th>\n",
       "      <th id=\"T_cd952_level0_col1\" class=\"col_heading level0 col1\" >post_count</th>\n",
       "      <th id=\"T_cd952_level0_col2\" class=\"col_heading level0 col2\" >gini_coefficient</th>\n",
       "      <th id=\"T_cd952_level0_col3\" class=\"col_heading level0 col3\" >top1_ratio</th>\n",
       "      <th id=\"T_cd952_level0_col4\" class=\"col_heading level0 col4\" >duplicate_post_ratio</th>\n",
       "    </tr>\n",
       "  </thead>\n",
       "  <tbody>\n",
       "    <tr>\n",
       "      <th id=\"T_cd952_level0_row0\" class=\"row_heading level0 row0\" >0</th>\n",
       "      <td id=\"T_cd952_row0_col0\" class=\"data row0 col0\" >worldnewspoli</td>\n",
       "      <td id=\"T_cd952_row0_col1\" class=\"data row0 col1\" >21</td>\n",
       "      <td id=\"T_cd952_row0_col2\" class=\"data row0 col2\" >0.836373</td>\n",
       "      <td id=\"T_cd952_row0_col3\" class=\"data row0 col3\" >0.748710</td>\n",
       "      <td id=\"T_cd952_row0_col4\" class=\"data row0 col4\" >0.000000</td>\n",
       "    </tr>\n",
       "    <tr>\n",
       "      <th id=\"T_cd952_level0_row1\" class=\"row_heading level0 row1\" >1</th>\n",
       "      <td id=\"T_cd952_row1_col0\" class=\"data row1 col0\" >jrrbrtt</td>\n",
       "      <td id=\"T_cd952_row1_col1\" class=\"data row1 col1\" >1</td>\n",
       "      <td id=\"T_cd952_row1_col2\" class=\"data row1 col2\" >0.810083</td>\n",
       "      <td id=\"T_cd952_row1_col3\" class=\"data row1 col3\" >0.628416</td>\n",
       "      <td id=\"T_cd952_row1_col4\" class=\"data row1 col4\" >0.000000</td>\n",
       "    </tr>\n",
       "    <tr>\n",
       "      <th id=\"T_cd952_level0_row2\" class=\"row_heading level0 row2\" >2</th>\n",
       "      <td id=\"T_cd952_row2_col0\" class=\"data row2 col0\" >danny_turner_1</td>\n",
       "      <td id=\"T_cd952_row2_col1\" class=\"data row2 col1\" >1</td>\n",
       "      <td id=\"T_cd952_row2_col2\" class=\"data row2 col2\" >0.788269</td>\n",
       "      <td id=\"T_cd952_row2_col3\" class=\"data row2 col3\" >0.510030</td>\n",
       "      <td id=\"T_cd952_row2_col4\" class=\"data row2 col4\" >0.000000</td>\n",
       "    </tr>\n",
       "    <tr>\n",
       "      <th id=\"T_cd952_level0_row3\" class=\"row_heading level0 row3\" >3</th>\n",
       "      <td id=\"T_cd952_row3_col0\" class=\"data row3 col0\" >finley1589</td>\n",
       "      <td id=\"T_cd952_row3_col1\" class=\"data row3 col1\" >66</td>\n",
       "      <td id=\"T_cd952_row3_col2\" class=\"data row3 col2\" >0.785216</td>\n",
       "      <td id=\"T_cd952_row3_col3\" class=\"data row3 col3\" >0.551229</td>\n",
       "      <td id=\"T_cd952_row3_col4\" class=\"data row3 col4\" >0.000025</td>\n",
       "    </tr>\n",
       "    <tr>\n",
       "      <th id=\"T_cd952_level0_row4\" class=\"row_heading level0 row4\" >4</th>\n",
       "      <td id=\"T_cd952_row4_col0\" class=\"data row4 col0\" >heyitsglor</td>\n",
       "      <td id=\"T_cd952_row4_col1\" class=\"data row4 col1\" >1</td>\n",
       "      <td id=\"T_cd952_row4_col2\" class=\"data row4 col2\" >0.782850</td>\n",
       "      <td id=\"T_cd952_row4_col3\" class=\"data row4 col3\" >0.515071</td>\n",
       "      <td id=\"T_cd952_row4_col4\" class=\"data row4 col4\" >0.000000</td>\n",
       "    </tr>\n",
       "    <tr>\n",
       "      <th id=\"T_cd952_level0_row5\" class=\"row_heading level0 row5\" >5</th>\n",
       "      <td id=\"T_cd952_row5_col0\" class=\"data row5 col0\" >orrclay</td>\n",
       "      <td id=\"T_cd952_row5_col1\" class=\"data row5 col1\" >2</td>\n",
       "      <td id=\"T_cd952_row5_col2\" class=\"data row5 col2\" >0.780319</td>\n",
       "      <td id=\"T_cd952_row5_col3\" class=\"data row5 col3\" >0.577716</td>\n",
       "      <td id=\"T_cd952_row5_col4\" class=\"data row5 col4\" >0.000000</td>\n",
       "    </tr>\n",
       "    <tr>\n",
       "      <th id=\"T_cd952_level0_row6\" class=\"row_heading level0 row6\" >6</th>\n",
       "      <td id=\"T_cd952_row6_col0\" class=\"data row6 col0\" >kelvsok</td>\n",
       "      <td id=\"T_cd952_row6_col1\" class=\"data row6 col1\" >1</td>\n",
       "      <td id=\"T_cd952_row6_col2\" class=\"data row6 col2\" >0.778644</td>\n",
       "      <td id=\"T_cd952_row6_col3\" class=\"data row6 col3\" >0.474487</td>\n",
       "      <td id=\"T_cd952_row6_col4\" class=\"data row6 col4\" >0.000000</td>\n",
       "    </tr>\n",
       "    <tr>\n",
       "      <th id=\"T_cd952_level0_row7\" class=\"row_heading level0 row7\" >7</th>\n",
       "      <td id=\"T_cd952_row7_col0\" class=\"data row7 col0\" >kenzdonovan</td>\n",
       "      <td id=\"T_cd952_row7_col1\" class=\"data row7 col1\" >58</td>\n",
       "      <td id=\"T_cd952_row7_col2\" class=\"data row7 col2\" >0.775000</td>\n",
       "      <td id=\"T_cd952_row7_col3\" class=\"data row7 col3\" >0.511570</td>\n",
       "      <td id=\"T_cd952_row7_col4\" class=\"data row7 col4\" >0.000507</td>\n",
       "    </tr>\n",
       "    <tr>\n",
       "      <th id=\"T_cd952_level0_row8\" class=\"row_heading level0 row8\" >8</th>\n",
       "      <td id=\"T_cd952_row8_col0\" class=\"data row8 col0\" >kateritterrrr</td>\n",
       "      <td id=\"T_cd952_row8_col1\" class=\"data row8 col1\" >68</td>\n",
       "      <td id=\"T_cd952_row8_col2\" class=\"data row8 col2\" >0.773055</td>\n",
       "      <td id=\"T_cd952_row8_col3\" class=\"data row8 col3\" >0.531667</td>\n",
       "      <td id=\"T_cd952_row8_col4\" class=\"data row8 col4\" >0.000014</td>\n",
       "    </tr>\n",
       "    <tr>\n",
       "      <th id=\"T_cd952_level0_row9\" class=\"row_heading level0 row9\" >9</th>\n",
       "      <td id=\"T_cd952_row9_col0\" class=\"data row9 col0\" >warfareww</td>\n",
       "      <td id=\"T_cd952_row9_col1\" class=\"data row9 col1\" >27</td>\n",
       "      <td id=\"T_cd952_row9_col2\" class=\"data row9 col2\" >0.771109</td>\n",
       "      <td id=\"T_cd952_row9_col3\" class=\"data row9 col3\" >0.635414</td>\n",
       "      <td id=\"T_cd952_row9_col4\" class=\"data row9 col4\" >0.000000</td>\n",
       "    </tr>\n",
       "  </tbody>\n",
       "</table>\n"
      ],
      "text/plain": [
       "<pandas.io.formats.style.Styler at 0x13f5d4ca0>"
      ]
     },
     "metadata": {},
     "output_type": "display_data"
    },
    {
     "data": {
      "application/vnd.plotly.v1+json": {
       "config": {
        "plotlyServerURL": "https://plot.ly"
       },
       "data": [
        {
         "alignmentgroup": "True",
         "box": {
          "visible": true
         },
         "customdata": [
          [
           "worldnewspoli",
           21
          ],
          [
           "jrrbrtt",
           1
          ],
          [
           "danny_turner_1",
           1
          ],
          [
           "finley1589",
           66
          ],
          [
           "heyitsglor",
           1
          ],
          [
           "orrclay",
           2
          ],
          [
           "kelvsok",
           1
          ],
          [
           "kenzdonovan",
           58
          ],
          [
           "kateritterrrr",
           68
          ],
          [
           "warfareww",
           27
          ],
          [
           "yattvrussia",
           1
          ],
          [
           "patriotblake",
           191
          ],
          [
           "lgbtuni",
           2
          ],
          [
           "kristyanann",
           1
          ],
          [
           "missourinewsus",
           28
          ],
          [
           "cynthiamhunter",
           68
          ],
          [
           "4ever1937",
           4
          ],
          [
           "usa_gunslinger",
           71
          ],
          [
           "pamela_moore13",
           135
          ],
          [
           "ameliebaldwin",
           109
          ],
          [
           "andrebeauleger",
           3
          ],
          [
           "luke_jones13",
           45
          ],
          [
           "albertmorenmore",
           1
          ],
          [
           "israel_wills",
           1
          ],
          [
           "dannymaslov",
           1
          ],
          [
           "interfischer",
           5
          ],
          [
           "todayinsyria",
           66
          ],
          [
           "southlonestar",
           90
          ],
          [
           "redlanews",
           51
          ],
          [
           "hyddrox",
           148
          ],
          [
           "dailysanfran",
           94
          ],
          [
           "newarkvoice",
           100
          ],
          [
           "williams_diana_",
           1
          ],
          [
           "rogovilia",
           4
          ],
          [
           "happkendrahappy",
           63
          ],
          [
           "paulinett",
           246
          ],
          [
           "ten_gop",
           215
          ],
          [
           "donnabrivera",
           65
          ],
          [
           "nojonathonno",
           56
          ],
          [
           "newspeakdaily",
           107
          ],
          [
           "patriototus",
           64
          ],
          [
           "arkadii_trofim",
           5
          ],
          [
           "wadeharriot",
           70
          ],
          [
           "thefoundingson",
           242
          ],
          [
           "arturburanof",
           5
          ],
          [
           "ttsvetkov",
           4
          ],
          [
           "williams8kalvin",
           3
          ],
          [
           "darrell_h_hunt",
           1
          ],
          [
           "realrobert1987",
           9
          ],
          [
           "zubovnik",
           1
          ],
          [
           "rightnpr",
           74
          ],
          [
           "watchmewalkin",
           59
          ],
          [
           "j0hnlarsen",
           61
          ],
          [
           "realten_gop",
           61
          ],
          [
           "march_for_trump",
           40
          ],
          [
           "gibbs_jeremy_",
           1
          ],
          [
           "prettylaraplace",
           74
          ],
          [
           "hollydler",
           76
          ],
          [
           "onlinecleveland",
           104
          ],
          [
           "cookncooks",
           193
          ],
          [
           "stepansazono",
           5
          ],
          [
           "politweecs",
           100
          ],
          [
           "sylvielefevrier",
           3
          ],
          [
           "t0nyasinclair",
           1
          ],
          [
           "melanymelanin",
           206
          ],
          [
           "javonhidp",
           60
          ],
          [
           "kansasdailynews",
           119
          ],
          [
           "carriethornthon",
           71
          ],
          [
           "riafanru",
           1
          ],
          [
           "karolineauge",
           3
          ],
          [
           "rh0lbr00k",
           20
          ],
          [
           "tpartynews",
           298
          ],
          [
           "staywoke88",
           49
          ],
          [
           "drmichaelgarcia",
           53
          ],
          [
           "itstimetosecede",
           31
          ],
          [
           "washingtonline",
           105
          ],
          [
           "jaydaastonishin",
           50
          ],
          [
           "ninonderrien",
           3
          ],
          [
           "srahse",
           1
          ],
          [
           "ravenicholson",
           54
          ],
          [
           "darknally",
           39
          ],
          [
           "dorothiebell",
           192
          ],
          [
           "garrettsimpson_",
           219
          ],
          [
           "patriotka_rusi",
           5
          ],
          [
           "chadsloyer",
           53
          ],
          [
           "jacquelinisbest",
           178
          ],
          [
           "emileewaren",
           190
          ],
          [
           "margarethkurz",
           91
          ],
          [
           "janelperkinson",
           10
          ],
          [
           "jeffreykahunas",
           221
          ],
          [
           "anthonywoodboy",
           9
          ],
          [
           "lelandgraves_",
           4
          ],
          [
           "instotus",
           3
          ],
          [
           "_sashalapin",
           9
          ],
          [
           "alecmooooody",
           55
          ],
          [
           "onemightyfish",
           53
          ],
          [
           "camosaseko",
           53
          ],
          [
           "jihadist2ndwife",
           9
          ],
          [
           "ramonasnails",
           50
          ],
          [
           "muslims_in_usa",
           8
          ],
          [
           "anzgri",
           2
          ],
          [
           "regieblackmon",
           48
          ],
          [
           "pati_cooper",
           10
          ],
          [
           "leroylovesusa",
           202
          ],
          [
           "jamie_mccarthy_",
           36
          ],
          [
           "tezaharov",
           6
          ],
          [
           "shocko_10",
           4
          ],
          [
           "laurabaeley",
           209
          ],
          [
           "wildharee",
           1
          ],
          [
           "devinedevinbr",
           7
          ],
          [
           "sergbriantsev",
           6
          ],
          [
           "karenparker93",
           12
          ],
          [
           "pigeontoday",
           18
          ],
          [
           "mmmdarya",
           2
          ],
          [
           "valeyina_dm",
           12
          ],
          [
           "joseph_jenks",
           1
          ],
          [
           "siccerthanyou",
           31
          ],
          [
           "ogdeandre",
           52
          ],
          [
           "zzzacharyzzz",
           31
          ],
          [
           "richmondvoice",
           56
          ],
          [
           "banttanantta",
           1
          ],
          [
           "krustyps",
           1
          ],
          [
           "cassieweltch",
           162
          ],
          [
           "crystal1johnson",
           123
          ],
          [
           "neworleanson",
           69
          ],
          [
           "puredavie",
           121
          ],
          [
           "policestateme",
           2
          ],
          [
           "traceyhappymom",
           87
          ],
          [
           "finnaglo",
           11
          ],
          [
           "phoenixdailynew",
           95
          ],
          [
           "hollandpatrickk",
           123
          ],
          [
           "jani_s_jac",
           58
          ],
          [
           "glebnikon",
           11
          ],
          [
           "oaklandonline",
           73
          ],
          [
           "maksblaginin",
           5
          ],
          [
           "philadelphiaon",
           64
          ],
          [
           "lysikvinkova",
           3
          ],
          [
           "romangorolov",
           7
          ],
          [
           "robbydelaware",
           23
          ],
          [
           "blacktivists",
           11
          ],
          [
           "pamblmdaniels",
           53
          ],
          [
           "ostrovofficer",
           1
          ],
          [
           "lila_gorila",
           1
          ],
          [
           "oooonlyone",
           1
          ],
          [
           "horrorki",
           1
          ],
          [
           "zistti",
           1
          ],
          [
           "sovetnikstatski",
           15
          ],
          [
           "inst_vets",
           4
          ],
          [
           "tebepizdec",
           1
          ],
          [
           "bricegeller",
           7
          ],
          [
           "todaybostonma",
           81
          ],
          [
           "mr_clampin",
           113
          ],
          [
           "lazykstafford",
           236
          ],
          [
           "gwennythot",
           38
          ],
          [
           "paolakinck",
           25
          ],
          [
           "roscoe_riddle",
           1
          ],
          [
           "samirgooden",
           37
          ],
          [
           "clydedaws0n",
           1
          ],
          [
           "notritahart",
           122
          ],
          [
           "austinlovesbeer",
           7
          ],
          [
           "archieolivers",
           9
          ],
          [
           "agnesgrhm",
           1
          ],
          [
           "johnievogue",
           10
          ],
          [
           "batonrougevoice",
           93
          ],
          [
           "youjustctrlc",
           36
          ],
          [
           "iiddaamarks",
           47
          ],
          [
           "acejinev",
           40
          ],
          [
           "logan_whatsup",
           64
          ],
          [
           "gvardeykalena",
           10
          ],
          [
           "chaneutral",
           2
          ],
          [
           "riogithief",
           3
          ],
          [
           "michellearry",
           247
          ],
          [
           "todaymiami",
           68
          ],
          [
           "ilovesarahrich",
           46
          ],
          [
           "jasper_fly",
           93
          ],
          [
           "chesplayschess",
           13
          ],
          [
           "eliasbrick",
           39
          ],
          [
           "verrellportier",
           3
          ],
          [
           "jery_robertsyo",
           53
          ],
          [
           "erofeenkoanton",
           10
          ],
          [
           "mil0blake",
           196
          ],
          [
           "corynaenae",
           10
          ],
          [
           "todaycincinnati",
           72
          ],
          [
           "todaynycity",
           45
          ],
          [
           "kotovamarys",
           15
          ],
          [
           "jenn_abrams",
           182
          ],
          [
           "damanimiles",
           13
          ],
          [
           "stanleyparris",
           52
          ],
          [
           "johnnymarch_",
           9
          ],
          [
           "queenofthewo",
           111
          ],
          [
           "melvinsroberts",
           92
          ],
          [
           "cassishere",
           38
          ],
          [
           "adamchapmanjr",
           9
          ],
          [
           "georevieweurope",
           1
          ],
          [
           "randolphburrr",
           46
          ],
          [
           "giselleevns",
           93
          ],
          [
           "taraformation",
           8
          ],
          [
           "imissobama",
           56
          ],
          [
           "errivvvvers",
           29
          ],
          [
           "westernwindwes",
           150
          ],
          [
           "jon_underwood_",
           1
          ],
          [
           "handsome_henson",
           1
          ],
          [
           "onlinememphis",
           24
          ],
          [
           "kathiemrr",
           122
          ],
          [
           "imapharrelfake",
           47
          ],
          [
           "peytoncashout",
           33
          ],
          [
           "bydrbre_",
           1
          ],
          [
           "houstontopnews",
           39
          ],
          [
           "claypaigeboo",
           10
          ],
          [
           "micparrish",
           92
          ],
          [
           "evagreen69",
           224
          ],
          [
           "entatjanamax",
           30
          ],
          [
           "priceforpierce",
           157
          ],
          [
           "mihanovikov",
           14
          ],
          [
           "sternandreas404",
           34
          ],
          [
           "jadonhutchinson",
           51
          ],
          [
           "hiimkhloe",
           247
          ],
          [
           "cookiiieeessss",
           12
          ],
          [
           "nataturn",
           12
          ],
          [
           "stlouisonline",
           76
          ],
          [
           "dailysandiego",
           54
          ],
          [
           "vasilichvasili",
           18
          ],
          [
           "jassscott",
           41
          ],
          [
           "blacktolive",
           93
          ],
          [
           "gallowayeliana",
           12
          ],
          [
           "jaedenmassey",
           1
          ],
          [
           "screamymonkey",
           105
          ],
          [
           "dallastopnews",
           24
          ],
          [
           "blk_voice",
           41
          ],
          [
           "willisbonnerr",
           133
          ],
          [
           "blacknewsoutlet",
           39
          ],
          [
           "stanley_cox_",
           15
          ],
          [
           "travisrespek",
           41
          ],
          [
           "detroitdailynew",
           65
          ],
          [
           "daileyjadon",
           87
          ],
          [
           "taisiaavdeeva",
           19
          ],
          [
           "jeanuttella",
           12
          ],
          [
           "klara_sauber",
           44
          ],
          [
           "lagonehoe",
           36
          ],
          [
           "scottgohard",
           30
          ],
          [
           "christinapool61",
           7
          ],
          [
           "malloryjared",
           215
          ],
          [
           "kaydenmelton",
           8
          ],
          [
           "krasilnikovbor",
           10
          ],
          [
           "heyits_toby",
           207
          ],
          [
           "leecory",
           1
          ],
          [
           "sergeev_tolik",
           10
          ],
          [
           "dailylosangeles",
           29
          ],
          [
           "johnbranchh",
           177
          ],
          [
           "rosieonfleek",
           30
          ],
          [
           "mrmoraan",
           37
          ],
          [
           "jeblary2016",
           53
          ],
          [
           "hunteroddddom",
           33
          ],
          [
           "romanagafonovv",
           10
          ],
          [
           "boriseleseev",
           8
          ],
          [
           "nj_blacknews",
           12
          ],
          [
           "jeannemccarthy0",
           176
          ],
          [
           "skatewake1994",
           15
          ],
          [
           "internalmemer",
           35
          ],
          [
           "mwiqcen",
           1
          ],
          [
           "gorelkinnn",
           1
          ],
          [
           "shikarnoel",
           1
          ],
          [
           "jorda_morgan",
           1
          ],
          [
           "lmarinays",
           1
          ],
          [
           "moda_barina",
           1
          ],
          [
           "brianaregland",
           105
          ],
          [
           "alexsvladimirov",
           8
          ],
          [
           "razvedchica_",
           15
          ],
          [
           "bogdankravcov",
           13
          ],
          [
           "blmsoldier",
           39
          ],
          [
           "sanantotopnews",
           48
          ],
          [
           "ryanmaxwell_1",
           197
          ],
          [
           "chernenkonikola",
           14
          ],
          [
           "fightm_d_b",
           10
          ],
          [
           "judelambertusa",
           180
          ],
          [
           "portmela",
           1
          ],
          [
           "kolradskiy_zhuk",
           12
          ],
          [
           "specialaffair",
           103
          ],
          [
           "sindyblossom",
           1
          ],
          [
           "tessyelmore",
           9
          ],
          [
           "chicagodailynew",
           105
          ],
          [
           "kelvin_chambers",
           9
          ],
          [
           "cornellburchet",
           26
          ],
          [
           "globalfoe",
           1
          ],
          [
           "dontshootcom",
           10
          ],
          [
           "patriotraphael",
           187
          ],
          [
           "kimberleighlamb",
           1
          ],
          [
           "patriot_archive",
           2
          ],
          [
           "cannonsher",
           45
          ],
          [
           "puddin_leto",
           1
          ],
          [
           "imaswerve",
           9
          ],
          [
           "milwaukeevoice",
           1
          ],
          [
           "queennarielle",
           12
          ],
          [
           "antonhayhay",
           38
          ],
          [
           "russilanrogov",
           10
          ],
          [
           "gloed_up",
           96
          ],
          [
           "atlanta_online",
           63
          ],
          [
           "bigboyjasiah",
           40
          ],
          [
           "iris0_o",
           1
          ],
          [
           "ericarutter",
           5
          ],
          [
           "viborisova",
           6
          ],
          [
           "marianeuberg1",
           12
          ],
          [
           "_nickluna_",
           240
          ],
          [
           "blackmattersus",
           46
          ],
          [
           "wonderhann",
           5
          ],
          [
           "c__wells",
           62
          ],
          [
           "cliftonhughes_",
           12
          ],
          [
           "datwisenigga",
           172
          ],
          [
           "baobaeham",
           177
          ],
          [
           "gwen_garland",
           1
          ],
          [
           "fischermaria933",
           1
          ],
          [
           "sonderkatharina",
           1
          ],
          [
           "tinatkurtz1222",
           1
          ],
          [
           "blackeyeblog",
           6
          ],
          [
           "christinacrisss",
           1
          ],
          [
           "evewebster373",
           81
          ],
          [
           "gracelilstar",
           1
          ],
          [
           "ponomarevslav",
           16
          ],
          [
           "trayneshacole",
           73
          ],
          [
           "rus_in_usa",
           2
          ],
          [
           "bleepthepolice",
           86
          ],
          [
           "berkhoff85",
           9
          ],
          [
           "4mysquad",
           20
          ],
          [
           "notballinyet",
           7
          ],
          [
           "deusxyx",
           16
          ],
          [
           "boryabuchin",
           8
          ],
          [
           "shapka_mono",
           2
          ],
          [
           "whitehousecards",
           60
          ],
          [
           "peeonhillary",
           1
          ],
          [
           "lilylilyhasse",
           6
          ],
          [
           "bigboysneed",
           12
          ],
          [
           "brianthelifter",
           10
          ],
          [
           "liljordamn",
           41
          ],
          [
           "nehemiahx",
           11
          ],
          [
           "robertebonyking",
           11
          ],
          [
           "briys_valera",
           1
          ],
          [
           "edmundrjr",
           3
          ],
          [
           "mrclydepratt",
           122
          ],
          [
           "lapinolegg",
           9
          ],
          [
           "colbyst1",
           3
          ],
          [
           "jacksoncitypost",
           40
          ],
          [
           "elpasotopnews",
           3
          ],
          [
           "alexharritonov",
           19
          ],
          [
           "cascaseyp",
           20
          ],
          [
           "beckster319",
           39
          ],
          [
           "maximgaron1",
           2
          ],
          [
           "manuelkrosss",
           29
          ],
          [
           "politopros",
           1
          ],
          [
           "ssus_panther",
           1
          ],
          [
           "beverlybalsom",
           1
          ],
          [
           "blacneighbor",
           13
          ],
          [
           "erdollum",
           16
          ],
          [
           "donnielmiller",
           4
          ],
          [
           "chrixmorgan",
           59
          ],
          [
           "marissaimstrong",
           19
          ],
          [
           "ryanncooperwood",
           1
          ],
          [
           "aleksey_sokol_",
           12
          ],
          [
           "bocharnikov_v",
           18
          ],
          [
           "baltimore0nline",
           105
          ],
          [
           "danageezus",
           53
          ],
          [
           "todaypittsburgh",
           66
          ],
          [
           "toneporter",
           21
          ],
          [
           "maymaymyy",
           11
          ],
          [
           "yaeltrouble",
           1
          ],
          [
           "mbrownhere",
           1
          ],
          [
           "fishalexanderr",
           12
          ],
          [
           "jerstoner",
           8
          ],
          [
           "worldofhashtags",
           52
          ],
          [
           "joachimbuchwitz",
           1
          ],
          [
           "iancalh0un",
           2
          ],
          [
           "reachitdoit",
           1
          ],
          [
           "aantiracist",
           14
          ],
          [
           "jarrardnorman",
           24
          ],
          [
           "peterkistner",
           14
          ],
          [
           "seattle_post",
           36
          ],
          [
           "lukas_rosler",
           6
          ],
          [
           "_billy_moyer_",
           88
          ],
          [
           "curtisbigman",
           28
          ],
          [
           "todaycleveland",
           19
          ],
          [
           "abigailssilk",
           7
          ],
          [
           "mtthsberger",
           4
          ],
          [
           "hipppo_",
           23
          ],
          [
           "johnieboycooks",
           10
          ],
          [
           "chrisuport_port",
           9
          ],
          [
           "calebpaar",
           23
          ],
          [
           "glennharper_",
           4
          ],
          [
           "schultei2",
           1
          ],
          [
           "angela_lattke",
           1
          ],
          [
           "russianallies",
           1
          ],
          [
           "aiden7757",
           22
          ],
          [
           "charlesrespeck",
           5
          ],
          [
           "andreaseulitz",
           1
          ],
          [
           "dannythehappies",
           25
          ],
          [
           "kirstenladaniel",
           1
          ],
          [
           "lynsrodriguez",
           7
          ],
          [
           "sincerepruitt",
           11
          ],
          [
           "erdollum666",
           4
          ],
          [
           "jsncarey",
           4
          ],
          [
           "dominicvalent",
           37
          ],
          [
           "jmscoxxx",
           23
          ],
          [
           "kencannone",
           16
          ],
          [
           "holycrapchrix",
           24
          ],
          [
           "meggieoneil",
           6
          ],
          [
           "adrienne_gg",
           23
          ],
          [
           "bigseanbeast",
           11
          ],
          [
           "charlesjharper",
           26
          ],
          [
           "heyheyhailey",
           17
          ],
          [
           "wokefromday1",
           15
          ],
          [
           "susayung",
           13
          ],
          [
           "catelinewatkins",
           11
          ],
          [
           "bgarner2107",
           27
          ],
          [
           "loragreeen",
           33
          ],
          [
           "gab1aldana",
           27
          ],
          [
           "novostidamask",
           6
          ],
          [
           "rusnevrotik",
           2
          ],
          [
           "msm0re",
           2
          ],
          [
           "hellieedwards",
           27
          ],
          [
           "ilikebigbuttand",
           33
          ],
          [
           "sovasof",
           2
          ],
          [
           "mikkyrurk",
           2
          ],
          [
           "oh_frida",
           2
          ],
          [
           "bruciedublin",
           25
          ],
          [
           "aldrich420",
           13
          ],
          [
           "coldwar20_ru",
           4
          ],
          [
           "margosavazh",
           5
          ],
          [
           "angelabach991",
           22
          ],
          [
           "maxdementiev",
           4
          ],
          [
           "adrgreerr",
           9
          ],
          [
           "lavrovmuesli",
           9
          ],
          [
           "amandavgreen",
           26
          ],
          [
           "klausfinker",
           1
          ],
          [
           "hamburgbote",
           1
          ],
          [
           "sto_christi",
           1
          ],
          [
           "edmundc0oke",
           1
          ],
          [
           "margoberoeva",
           2
          ],
          [
           "brentmcclure275",
           13
          ],
          [
           "6druz",
           4
          ],
          [
           "denn_nikitin",
           4
          ]
         ],
         "hovertemplate": "user_type=%{x}<br>gini_coefficient=%{y}<br>user_id=%{customdata[0]}<br>post_count=%{customdata[1]}<extra></extra>",
         "legendgroup": "Suspicious",
         "marker": {
          "color": "#636efa"
         },
         "name": "Suspicious",
         "offsetgroup": "Suspicious",
         "orientation": "v",
         "points": "all",
         "scalegroup": "True",
         "showlegend": true,
         "type": "violin",
         "x": [
          "Suspicious",
          "Suspicious",
          "Suspicious",
          "Suspicious",
          "Suspicious",
          "Suspicious",
          "Suspicious",
          "Suspicious",
          "Suspicious",
          "Suspicious",
          "Suspicious",
          "Suspicious",
          "Suspicious",
          "Suspicious",
          "Suspicious",
          "Suspicious",
          "Suspicious",
          "Suspicious",
          "Suspicious",
          "Suspicious",
          "Suspicious",
          "Suspicious",
          "Suspicious",
          "Suspicious",
          "Suspicious",
          "Suspicious",
          "Suspicious",
          "Suspicious",
          "Suspicious",
          "Suspicious",
          "Suspicious",
          "Suspicious",
          "Suspicious",
          "Suspicious",
          "Suspicious",
          "Suspicious",
          "Suspicious",
          "Suspicious",
          "Suspicious",
          "Suspicious",
          "Suspicious",
          "Suspicious",
          "Suspicious",
          "Suspicious",
          "Suspicious",
          "Suspicious",
          "Suspicious",
          "Suspicious",
          "Suspicious",
          "Suspicious",
          "Suspicious",
          "Suspicious",
          "Suspicious",
          "Suspicious",
          "Suspicious",
          "Suspicious",
          "Suspicious",
          "Suspicious",
          "Suspicious",
          "Suspicious",
          "Suspicious",
          "Suspicious",
          "Suspicious",
          "Suspicious",
          "Suspicious",
          "Suspicious",
          "Suspicious",
          "Suspicious",
          "Suspicious",
          "Suspicious",
          "Suspicious",
          "Suspicious",
          "Suspicious",
          "Suspicious",
          "Suspicious",
          "Suspicious",
          "Suspicious",
          "Suspicious",
          "Suspicious",
          "Suspicious",
          "Suspicious",
          "Suspicious",
          "Suspicious",
          "Suspicious",
          "Suspicious",
          "Suspicious",
          "Suspicious",
          "Suspicious",
          "Suspicious",
          "Suspicious",
          "Suspicious",
          "Suspicious",
          "Suspicious",
          "Suspicious",
          "Suspicious",
          "Suspicious",
          "Suspicious",
          "Suspicious",
          "Suspicious",
          "Suspicious",
          "Suspicious",
          "Suspicious",
          "Suspicious",
          "Suspicious",
          "Suspicious",
          "Suspicious",
          "Suspicious",
          "Suspicious",
          "Suspicious",
          "Suspicious",
          "Suspicious",
          "Suspicious",
          "Suspicious",
          "Suspicious",
          "Suspicious",
          "Suspicious",
          "Suspicious",
          "Suspicious",
          "Suspicious",
          "Suspicious",
          "Suspicious",
          "Suspicious",
          "Suspicious",
          "Suspicious",
          "Suspicious",
          "Suspicious",
          "Suspicious",
          "Suspicious",
          "Suspicious",
          "Suspicious",
          "Suspicious",
          "Suspicious",
          "Suspicious",
          "Suspicious",
          "Suspicious",
          "Suspicious",
          "Suspicious",
          "Suspicious",
          "Suspicious",
          "Suspicious",
          "Suspicious",
          "Suspicious",
          "Suspicious",
          "Suspicious",
          "Suspicious",
          "Suspicious",
          "Suspicious",
          "Suspicious",
          "Suspicious",
          "Suspicious",
          "Suspicious",
          "Suspicious",
          "Suspicious",
          "Suspicious",
          "Suspicious",
          "Suspicious",
          "Suspicious",
          "Suspicious",
          "Suspicious",
          "Suspicious",
          "Suspicious",
          "Suspicious",
          "Suspicious",
          "Suspicious",
          "Suspicious",
          "Suspicious",
          "Suspicious",
          "Suspicious",
          "Suspicious",
          "Suspicious",
          "Suspicious",
          "Suspicious",
          "Suspicious",
          "Suspicious",
          "Suspicious",
          "Suspicious",
          "Suspicious",
          "Suspicious",
          "Suspicious",
          "Suspicious",
          "Suspicious",
          "Suspicious",
          "Suspicious",
          "Suspicious",
          "Suspicious",
          "Suspicious",
          "Suspicious",
          "Suspicious",
          "Suspicious",
          "Suspicious",
          "Suspicious",
          "Suspicious",
          "Suspicious",
          "Suspicious",
          "Suspicious",
          "Suspicious",
          "Suspicious",
          "Suspicious",
          "Suspicious",
          "Suspicious",
          "Suspicious",
          "Suspicious",
          "Suspicious",
          "Suspicious",
          "Suspicious",
          "Suspicious",
          "Suspicious",
          "Suspicious",
          "Suspicious",
          "Suspicious",
          "Suspicious",
          "Suspicious",
          "Suspicious",
          "Suspicious",
          "Suspicious",
          "Suspicious",
          "Suspicious",
          "Suspicious",
          "Suspicious",
          "Suspicious",
          "Suspicious",
          "Suspicious",
          "Suspicious",
          "Suspicious",
          "Suspicious",
          "Suspicious",
          "Suspicious",
          "Suspicious",
          "Suspicious",
          "Suspicious",
          "Suspicious",
          "Suspicious",
          "Suspicious",
          "Suspicious",
          "Suspicious",
          "Suspicious",
          "Suspicious",
          "Suspicious",
          "Suspicious",
          "Suspicious",
          "Suspicious",
          "Suspicious",
          "Suspicious",
          "Suspicious",
          "Suspicious",
          "Suspicious",
          "Suspicious",
          "Suspicious",
          "Suspicious",
          "Suspicious",
          "Suspicious",
          "Suspicious",
          "Suspicious",
          "Suspicious",
          "Suspicious",
          "Suspicious",
          "Suspicious",
          "Suspicious",
          "Suspicious",
          "Suspicious",
          "Suspicious",
          "Suspicious",
          "Suspicious",
          "Suspicious",
          "Suspicious",
          "Suspicious",
          "Suspicious",
          "Suspicious",
          "Suspicious",
          "Suspicious",
          "Suspicious",
          "Suspicious",
          "Suspicious",
          "Suspicious",
          "Suspicious",
          "Suspicious",
          "Suspicious",
          "Suspicious",
          "Suspicious",
          "Suspicious",
          "Suspicious",
          "Suspicious",
          "Suspicious",
          "Suspicious",
          "Suspicious",
          "Suspicious",
          "Suspicious",
          "Suspicious",
          "Suspicious",
          "Suspicious",
          "Suspicious",
          "Suspicious",
          "Suspicious",
          "Suspicious",
          "Suspicious",
          "Suspicious",
          "Suspicious",
          "Suspicious",
          "Suspicious",
          "Suspicious",
          "Suspicious",
          "Suspicious",
          "Suspicious",
          "Suspicious",
          "Suspicious",
          "Suspicious",
          "Suspicious",
          "Suspicious",
          "Suspicious",
          "Suspicious",
          "Suspicious",
          "Suspicious",
          "Suspicious",
          "Suspicious",
          "Suspicious",
          "Suspicious",
          "Suspicious",
          "Suspicious",
          "Suspicious",
          "Suspicious",
          "Suspicious",
          "Suspicious",
          "Suspicious",
          "Suspicious",
          "Suspicious",
          "Suspicious",
          "Suspicious",
          "Suspicious",
          "Suspicious",
          "Suspicious",
          "Suspicious",
          "Suspicious",
          "Suspicious",
          "Suspicious",
          "Suspicious",
          "Suspicious",
          "Suspicious",
          "Suspicious",
          "Suspicious",
          "Suspicious",
          "Suspicious",
          "Suspicious",
          "Suspicious",
          "Suspicious",
          "Suspicious",
          "Suspicious",
          "Suspicious",
          "Suspicious",
          "Suspicious",
          "Suspicious",
          "Suspicious",
          "Suspicious",
          "Suspicious",
          "Suspicious",
          "Suspicious",
          "Suspicious",
          "Suspicious",
          "Suspicious",
          "Suspicious",
          "Suspicious",
          "Suspicious",
          "Suspicious",
          "Suspicious",
          "Suspicious",
          "Suspicious",
          "Suspicious",
          "Suspicious",
          "Suspicious",
          "Suspicious",
          "Suspicious",
          "Suspicious",
          "Suspicious",
          "Suspicious",
          "Suspicious",
          "Suspicious",
          "Suspicious",
          "Suspicious",
          "Suspicious",
          "Suspicious",
          "Suspicious",
          "Suspicious",
          "Suspicious",
          "Suspicious",
          "Suspicious",
          "Suspicious",
          "Suspicious",
          "Suspicious",
          "Suspicious",
          "Suspicious",
          "Suspicious",
          "Suspicious",
          "Suspicious",
          "Suspicious",
          "Suspicious",
          "Suspicious",
          "Suspicious",
          "Suspicious",
          "Suspicious",
          "Suspicious",
          "Suspicious",
          "Suspicious",
          "Suspicious",
          "Suspicious",
          "Suspicious",
          "Suspicious",
          "Suspicious",
          "Suspicious",
          "Suspicious",
          "Suspicious",
          "Suspicious",
          "Suspicious",
          "Suspicious",
          "Suspicious",
          "Suspicious",
          "Suspicious",
          "Suspicious",
          "Suspicious",
          "Suspicious",
          "Suspicious",
          "Suspicious",
          "Suspicious",
          "Suspicious",
          "Suspicious",
          "Suspicious",
          "Suspicious",
          "Suspicious",
          "Suspicious",
          "Suspicious",
          "Suspicious",
          "Suspicious",
          "Suspicious",
          "Suspicious",
          "Suspicious",
          "Suspicious",
          "Suspicious",
          "Suspicious",
          "Suspicious",
          "Suspicious"
         ],
         "x0": " ",
         "xaxis": "x",
         "y": [
          0.836373,
          0.810083,
          0.788269,
          0.785216,
          0.78285,
          0.780319,
          0.778644,
          0.775,
          0.773055,
          0.771109,
          0.769944,
          0.769362,
          0.768894,
          0.768803,
          0.768707,
          0.763998,
          0.763479,
          0.763415,
          0.76336,
          0.762862,
          0.762541,
          0.761932,
          0.761801,
          0.76129,
          0.760397,
          0.759399,
          0.758903,
          0.757867,
          0.757854,
          0.757606,
          0.757593,
          0.757505,
          0.757136,
          0.756735,
          0.756594,
          0.756473,
          0.75634,
          0.75611,
          0.75526,
          0.754823,
          0.754468,
          0.754433,
          0.753874,
          0.753596,
          0.752884,
          0.752103,
          0.750887,
          0.750697,
          0.75049,
          0.750096,
          0.749146,
          0.749015,
          0.748743,
          0.748705,
          0.747598,
          0.74677,
          0.744694,
          0.744323,
          0.743682,
          0.743295,
          0.743224,
          0.743112,
          0.743017,
          0.742954,
          0.741551,
          0.740602,
          0.740257,
          0.740145,
          0.739656,
          0.739641,
          0.73943,
          0.738304,
          0.737874,
          0.737705,
          0.737436,
          0.737208,
          0.73529,
          0.734432,
          0.733908,
          0.733513,
          0.733299,
          0.733233,
          0.733075,
          0.73222,
          0.732059,
          0.731773,
          0.731665,
          0.731387,
          0.731229,
          0.730742,
          0.730002,
          0.729664,
          0.728765,
          0.728221,
          0.728176,
          0.727307,
          0.726774,
          0.726532,
          0.726524,
          0.726406,
          0.726343,
          0.725626,
          0.725466,
          0.72522,
          0.724615,
          0.723548,
          0.723498,
          0.723397,
          0.722929,
          0.722633,
          0.722411,
          0.722328,
          0.721894,
          0.721814,
          0.721777,
          0.721691,
          0.721611,
          0.721545,
          0.721502,
          0.721058,
          0.720636,
          0.720605,
          0.720509,
          0.720402,
          0.720375,
          0.720207,
          0.719543,
          0.719268,
          0.719214,
          0.718775,
          0.71842,
          0.718368,
          0.718248,
          0.71814,
          0.718031,
          0.717981,
          0.717727,
          0.717444,
          0.717103,
          0.717003,
          0.716962,
          0.716524,
          0.716524,
          0.716524,
          0.716523,
          0.716523,
          0.71645,
          0.716413,
          0.71543,
          0.71525,
          0.715203,
          0.71505,
          0.714794,
          0.714067,
          0.714037,
          0.713915,
          0.713878,
          0.71357,
          0.713422,
          0.71314,
          0.713022,
          0.711957,
          0.711904,
          0.711851,
          0.711476,
          0.711425,
          0.711405,
          0.711071,
          0.710715,
          0.710463,
          0.710459,
          0.710322,
          0.710101,
          0.709952,
          0.709784,
          0.709256,
          0.70906,
          0.708927,
          0.70866,
          0.708653,
          0.70859,
          0.708096,
          0.708014,
          0.707936,
          0.70772,
          0.707645,
          0.70749,
          0.707469,
          0.707377,
          0.707321,
          0.707198,
          0.707076,
          0.707048,
          0.707027,
          0.706698,
          0.706526,
          0.706501,
          0.706357,
          0.706068,
          0.706032,
          0.705842,
          0.705803,
          0.705637,
          0.705618,
          0.705309,
          0.705297,
          0.705277,
          0.70525,
          0.705223,
          0.704882,
          0.70478,
          0.704655,
          0.704144,
          0.704045,
          0.703922,
          0.703673,
          0.703429,
          0.703349,
          0.703073,
          0.70304,
          0.702467,
          0.702368,
          0.70227,
          0.70204,
          0.701913,
          0.701554,
          0.701529,
          0.70144,
          0.701322,
          0.701301,
          0.701184,
          0.700949,
          0.70093,
          0.700871,
          0.700768,
          0.700567,
          0.700333,
          0.700248,
          0.700156,
          0.700096,
          0.699779,
          0.698998,
          0.698746,
          0.698394,
          0.697587,
          0.697385,
          0.697209,
          0.697061,
          0.69681,
          0.696759,
          0.696666,
          0.696629,
          0.696441,
          0.695617,
          0.695499,
          0.695335,
          0.695312,
          0.69527,
          0.694911,
          0.694887,
          0.694887,
          0.694885,
          0.694884,
          0.694883,
          0.694868,
          0.694641,
          0.694355,
          0.694212,
          0.694043,
          0.693566,
          0.693388,
          0.693329,
          0.693271,
          0.693068,
          0.69306,
          0.692387,
          0.692268,
          0.691807,
          0.691763,
          0.691662,
          0.69044,
          0.69015,
          0.69014,
          0.689704,
          0.689472,
          0.688485,
          0.688473,
          0.68797,
          0.687798,
          0.687751,
          0.687472,
          0.687189,
          0.687123,
          0.686533,
          0.686463,
          0.686106,
          0.68518,
          0.684945,
          0.684587,
          0.684506,
          0.684383,
          0.684336,
          0.683639,
          0.68328,
          0.682816,
          0.681997,
          0.681938,
          0.681658,
          0.681233,
          0.681195,
          0.680794,
          0.680793,
          0.68079,
          0.680021,
          0.680002,
          0.678347,
          0.678346,
          0.67823,
          0.678105,
          0.677552,
          0.676743,
          0.676629,
          0.675841,
          0.67566,
          0.675403,
          0.674762,
          0.674239,
          0.672511,
          0.671903,
          0.671567,
          0.671073,
          0.670841,
          0.670636,
          0.670136,
          0.669317,
          0.669087,
          0.669042,
          0.668974,
          0.668601,
          0.66846,
          0.668343,
          0.667329,
          0.667119,
          0.665787,
          0.66443,
          0.662379,
          0.662218,
          0.661447,
          0.660529,
          0.66052,
          0.659914,
          0.659678,
          0.657973,
          0.657453,
          0.65658,
          0.655919,
          0.655556,
          0.655288,
          0.654591,
          0.654134,
          0.653079,
          0.652978,
          0.652229,
          0.65085,
          0.650788,
          0.650025,
          0.649564,
          0.649245,
          0.64817,
          0.647932,
          0.64755,
          0.647053,
          0.646157,
          0.643651,
          0.642715,
          0.64193,
          0.641615,
          0.641441,
          0.639729,
          0.637289,
          0.636586,
          0.63603,
          0.635923,
          0.635563,
          0.634311,
          0.633588,
          0.632277,
          0.632268,
          0.631255,
          0.629173,
          0.626549,
          0.624346,
          0.620204,
          0.618529,
          0.618233,
          0.617866,
          0.616691,
          0.615872,
          0.615507,
          0.615016,
          0.613242,
          0.612729,
          0.610021,
          0.606866,
          0.60586,
          0.603798,
          0.602708,
          0.602187,
          0.601223,
          0.600596,
          0.600404,
          0.597988,
          0.596828,
          0.596032,
          0.595519,
          0.595514,
          0.594984,
          0.593486,
          0.592553,
          0.592081,
          0.59208,
          0.590532,
          0.590506,
          0.589406,
          0.589328,
          0.588504,
          0.587921,
          0.582176,
          0.581281,
          0.580048,
          0.577377,
          0.57736,
          0.574555,
          0.572271,
          0.567848,
          0.566656,
          0.564981,
          0.564967
         ],
         "y0": " ",
         "yaxis": "y"
        },
        {
         "alignmentgroup": "True",
         "box": {
          "visible": true
         },
         "customdata": [
          [
           "dickyirwin",
           21
          ],
          [
           "gffgfsfgfsdffjj",
           3
          ],
          [
           "brightandglory",
           30
          ],
          [
           "claudia42kern",
           23
          ],
          [
           "kadirovrussia",
           5
          ]
         ],
         "hovertemplate": "user_type=%{x}<br>gini_coefficient=%{y}<br>user_id=%{customdata[0]}<br>post_count=%{customdata[1]}<extra></extra>",
         "legendgroup": "Normal",
         "marker": {
          "color": "#EF553B"
         },
         "name": "Normal",
         "offsetgroup": "Normal",
         "orientation": "v",
         "points": "all",
         "scalegroup": "True",
         "showlegend": true,
         "type": "violin",
         "x": [
          "Normal",
          "Normal",
          "Normal",
          "Normal",
          "Normal"
         ],
         "x0": " ",
         "xaxis": "x",
         "y": [
          0.564844,
          0.563224,
          0.562864,
          0.562803,
          0.548104
         ],
         "y0": " ",
         "yaxis": "y"
        }
       ],
       "layout": {
        "height": 500,
        "legend": {
         "title": {
          "text": "user_type"
         },
         "tracegroupgap": 0
        },
        "template": {
         "data": {
          "bar": [
           {
            "error_x": {
             "color": "#2a3f5f"
            },
            "error_y": {
             "color": "#2a3f5f"
            },
            "marker": {
             "line": {
              "color": "#E5ECF6",
              "width": 0.5
             },
             "pattern": {
              "fillmode": "overlay",
              "size": 10,
              "solidity": 0.2
             }
            },
            "type": "bar"
           }
          ],
          "barpolar": [
           {
            "marker": {
             "line": {
              "color": "#E5ECF6",
              "width": 0.5
             },
             "pattern": {
              "fillmode": "overlay",
              "size": 10,
              "solidity": 0.2
             }
            },
            "type": "barpolar"
           }
          ],
          "carpet": [
           {
            "aaxis": {
             "endlinecolor": "#2a3f5f",
             "gridcolor": "white",
             "linecolor": "white",
             "minorgridcolor": "white",
             "startlinecolor": "#2a3f5f"
            },
            "baxis": {
             "endlinecolor": "#2a3f5f",
             "gridcolor": "white",
             "linecolor": "white",
             "minorgridcolor": "white",
             "startlinecolor": "#2a3f5f"
            },
            "type": "carpet"
           }
          ],
          "choropleth": [
           {
            "colorbar": {
             "outlinewidth": 0,
             "ticks": ""
            },
            "type": "choropleth"
           }
          ],
          "contour": [
           {
            "colorbar": {
             "outlinewidth": 0,
             "ticks": ""
            },
            "colorscale": [
             [
              0,
              "#0d0887"
             ],
             [
              0.1111111111111111,
              "#46039f"
             ],
             [
              0.2222222222222222,
              "#7201a8"
             ],
             [
              0.3333333333333333,
              "#9c179e"
             ],
             [
              0.4444444444444444,
              "#bd3786"
             ],
             [
              0.5555555555555556,
              "#d8576b"
             ],
             [
              0.6666666666666666,
              "#ed7953"
             ],
             [
              0.7777777777777778,
              "#fb9f3a"
             ],
             [
              0.8888888888888888,
              "#fdca26"
             ],
             [
              1,
              "#f0f921"
             ]
            ],
            "type": "contour"
           }
          ],
          "contourcarpet": [
           {
            "colorbar": {
             "outlinewidth": 0,
             "ticks": ""
            },
            "type": "contourcarpet"
           }
          ],
          "heatmap": [
           {
            "colorbar": {
             "outlinewidth": 0,
             "ticks": ""
            },
            "colorscale": [
             [
              0,
              "#0d0887"
             ],
             [
              0.1111111111111111,
              "#46039f"
             ],
             [
              0.2222222222222222,
              "#7201a8"
             ],
             [
              0.3333333333333333,
              "#9c179e"
             ],
             [
              0.4444444444444444,
              "#bd3786"
             ],
             [
              0.5555555555555556,
              "#d8576b"
             ],
             [
              0.6666666666666666,
              "#ed7953"
             ],
             [
              0.7777777777777778,
              "#fb9f3a"
             ],
             [
              0.8888888888888888,
              "#fdca26"
             ],
             [
              1,
              "#f0f921"
             ]
            ],
            "type": "heatmap"
           }
          ],
          "heatmapgl": [
           {
            "colorbar": {
             "outlinewidth": 0,
             "ticks": ""
            },
            "colorscale": [
             [
              0,
              "#0d0887"
             ],
             [
              0.1111111111111111,
              "#46039f"
             ],
             [
              0.2222222222222222,
              "#7201a8"
             ],
             [
              0.3333333333333333,
              "#9c179e"
             ],
             [
              0.4444444444444444,
              "#bd3786"
             ],
             [
              0.5555555555555556,
              "#d8576b"
             ],
             [
              0.6666666666666666,
              "#ed7953"
             ],
             [
              0.7777777777777778,
              "#fb9f3a"
             ],
             [
              0.8888888888888888,
              "#fdca26"
             ],
             [
              1,
              "#f0f921"
             ]
            ],
            "type": "heatmapgl"
           }
          ],
          "histogram": [
           {
            "marker": {
             "pattern": {
              "fillmode": "overlay",
              "size": 10,
              "solidity": 0.2
             }
            },
            "type": "histogram"
           }
          ],
          "histogram2d": [
           {
            "colorbar": {
             "outlinewidth": 0,
             "ticks": ""
            },
            "colorscale": [
             [
              0,
              "#0d0887"
             ],
             [
              0.1111111111111111,
              "#46039f"
             ],
             [
              0.2222222222222222,
              "#7201a8"
             ],
             [
              0.3333333333333333,
              "#9c179e"
             ],
             [
              0.4444444444444444,
              "#bd3786"
             ],
             [
              0.5555555555555556,
              "#d8576b"
             ],
             [
              0.6666666666666666,
              "#ed7953"
             ],
             [
              0.7777777777777778,
              "#fb9f3a"
             ],
             [
              0.8888888888888888,
              "#fdca26"
             ],
             [
              1,
              "#f0f921"
             ]
            ],
            "type": "histogram2d"
           }
          ],
          "histogram2dcontour": [
           {
            "colorbar": {
             "outlinewidth": 0,
             "ticks": ""
            },
            "colorscale": [
             [
              0,
              "#0d0887"
             ],
             [
              0.1111111111111111,
              "#46039f"
             ],
             [
              0.2222222222222222,
              "#7201a8"
             ],
             [
              0.3333333333333333,
              "#9c179e"
             ],
             [
              0.4444444444444444,
              "#bd3786"
             ],
             [
              0.5555555555555556,
              "#d8576b"
             ],
             [
              0.6666666666666666,
              "#ed7953"
             ],
             [
              0.7777777777777778,
              "#fb9f3a"
             ],
             [
              0.8888888888888888,
              "#fdca26"
             ],
             [
              1,
              "#f0f921"
             ]
            ],
            "type": "histogram2dcontour"
           }
          ],
          "mesh3d": [
           {
            "colorbar": {
             "outlinewidth": 0,
             "ticks": ""
            },
            "type": "mesh3d"
           }
          ],
          "parcoords": [
           {
            "line": {
             "colorbar": {
              "outlinewidth": 0,
              "ticks": ""
             }
            },
            "type": "parcoords"
           }
          ],
          "pie": [
           {
            "automargin": true,
            "type": "pie"
           }
          ],
          "scatter": [
           {
            "fillpattern": {
             "fillmode": "overlay",
             "size": 10,
             "solidity": 0.2
            },
            "type": "scatter"
           }
          ],
          "scatter3d": [
           {
            "line": {
             "colorbar": {
              "outlinewidth": 0,
              "ticks": ""
             }
            },
            "marker": {
             "colorbar": {
              "outlinewidth": 0,
              "ticks": ""
             }
            },
            "type": "scatter3d"
           }
          ],
          "scattercarpet": [
           {
            "marker": {
             "colorbar": {
              "outlinewidth": 0,
              "ticks": ""
             }
            },
            "type": "scattercarpet"
           }
          ],
          "scattergeo": [
           {
            "marker": {
             "colorbar": {
              "outlinewidth": 0,
              "ticks": ""
             }
            },
            "type": "scattergeo"
           }
          ],
          "scattergl": [
           {
            "marker": {
             "colorbar": {
              "outlinewidth": 0,
              "ticks": ""
             }
            },
            "type": "scattergl"
           }
          ],
          "scattermapbox": [
           {
            "marker": {
             "colorbar": {
              "outlinewidth": 0,
              "ticks": ""
             }
            },
            "type": "scattermapbox"
           }
          ],
          "scatterpolar": [
           {
            "marker": {
             "colorbar": {
              "outlinewidth": 0,
              "ticks": ""
             }
            },
            "type": "scatterpolar"
           }
          ],
          "scatterpolargl": [
           {
            "marker": {
             "colorbar": {
              "outlinewidth": 0,
              "ticks": ""
             }
            },
            "type": "scatterpolargl"
           }
          ],
          "scatterternary": [
           {
            "marker": {
             "colorbar": {
              "outlinewidth": 0,
              "ticks": ""
             }
            },
            "type": "scatterternary"
           }
          ],
          "surface": [
           {
            "colorbar": {
             "outlinewidth": 0,
             "ticks": ""
            },
            "colorscale": [
             [
              0,
              "#0d0887"
             ],
             [
              0.1111111111111111,
              "#46039f"
             ],
             [
              0.2222222222222222,
              "#7201a8"
             ],
             [
              0.3333333333333333,
              "#9c179e"
             ],
             [
              0.4444444444444444,
              "#bd3786"
             ],
             [
              0.5555555555555556,
              "#d8576b"
             ],
             [
              0.6666666666666666,
              "#ed7953"
             ],
             [
              0.7777777777777778,
              "#fb9f3a"
             ],
             [
              0.8888888888888888,
              "#fdca26"
             ],
             [
              1,
              "#f0f921"
             ]
            ],
            "type": "surface"
           }
          ],
          "table": [
           {
            "cells": {
             "fill": {
              "color": "#EBF0F8"
             },
             "line": {
              "color": "white"
             }
            },
            "header": {
             "fill": {
              "color": "#C8D4E3"
             },
             "line": {
              "color": "white"
             }
            },
            "type": "table"
           }
          ]
         },
         "layout": {
          "annotationdefaults": {
           "arrowcolor": "#2a3f5f",
           "arrowhead": 0,
           "arrowwidth": 1
          },
          "autotypenumbers": "strict",
          "coloraxis": {
           "colorbar": {
            "outlinewidth": 0,
            "ticks": ""
           }
          },
          "colorscale": {
           "diverging": [
            [
             0,
             "#8e0152"
            ],
            [
             0.1,
             "#c51b7d"
            ],
            [
             0.2,
             "#de77ae"
            ],
            [
             0.3,
             "#f1b6da"
            ],
            [
             0.4,
             "#fde0ef"
            ],
            [
             0.5,
             "#f7f7f7"
            ],
            [
             0.6,
             "#e6f5d0"
            ],
            [
             0.7,
             "#b8e186"
            ],
            [
             0.8,
             "#7fbc41"
            ],
            [
             0.9,
             "#4d9221"
            ],
            [
             1,
             "#276419"
            ]
           ],
           "sequential": [
            [
             0,
             "#0d0887"
            ],
            [
             0.1111111111111111,
             "#46039f"
            ],
            [
             0.2222222222222222,
             "#7201a8"
            ],
            [
             0.3333333333333333,
             "#9c179e"
            ],
            [
             0.4444444444444444,
             "#bd3786"
            ],
            [
             0.5555555555555556,
             "#d8576b"
            ],
            [
             0.6666666666666666,
             "#ed7953"
            ],
            [
             0.7777777777777778,
             "#fb9f3a"
            ],
            [
             0.8888888888888888,
             "#fdca26"
            ],
            [
             1,
             "#f0f921"
            ]
           ],
           "sequentialminus": [
            [
             0,
             "#0d0887"
            ],
            [
             0.1111111111111111,
             "#46039f"
            ],
            [
             0.2222222222222222,
             "#7201a8"
            ],
            [
             0.3333333333333333,
             "#9c179e"
            ],
            [
             0.4444444444444444,
             "#bd3786"
            ],
            [
             0.5555555555555556,
             "#d8576b"
            ],
            [
             0.6666666666666666,
             "#ed7953"
            ],
            [
             0.7777777777777778,
             "#fb9f3a"
            ],
            [
             0.8888888888888888,
             "#fdca26"
            ],
            [
             1,
             "#f0f921"
            ]
           ]
          },
          "colorway": [
           "#636efa",
           "#EF553B",
           "#00cc96",
           "#ab63fa",
           "#FFA15A",
           "#19d3f3",
           "#FF6692",
           "#B6E880",
           "#FF97FF",
           "#FECB52"
          ],
          "font": {
           "color": "#2a3f5f"
          },
          "geo": {
           "bgcolor": "white",
           "lakecolor": "white",
           "landcolor": "#E5ECF6",
           "showlakes": true,
           "showland": true,
           "subunitcolor": "white"
          },
          "hoverlabel": {
           "align": "left"
          },
          "hovermode": "closest",
          "mapbox": {
           "style": "light"
          },
          "paper_bgcolor": "white",
          "plot_bgcolor": "#E5ECF6",
          "polar": {
           "angularaxis": {
            "gridcolor": "white",
            "linecolor": "white",
            "ticks": ""
           },
           "bgcolor": "#E5ECF6",
           "radialaxis": {
            "gridcolor": "white",
            "linecolor": "white",
            "ticks": ""
           }
          },
          "scene": {
           "xaxis": {
            "backgroundcolor": "#E5ECF6",
            "gridcolor": "white",
            "gridwidth": 2,
            "linecolor": "white",
            "showbackground": true,
            "ticks": "",
            "zerolinecolor": "white"
           },
           "yaxis": {
            "backgroundcolor": "#E5ECF6",
            "gridcolor": "white",
            "gridwidth": 2,
            "linecolor": "white",
            "showbackground": true,
            "ticks": "",
            "zerolinecolor": "white"
           },
           "zaxis": {
            "backgroundcolor": "#E5ECF6",
            "gridcolor": "white",
            "gridwidth": 2,
            "linecolor": "white",
            "showbackground": true,
            "ticks": "",
            "zerolinecolor": "white"
           }
          },
          "shapedefaults": {
           "line": {
            "color": "#2a3f5f"
           }
          },
          "ternary": {
           "aaxis": {
            "gridcolor": "white",
            "linecolor": "white",
            "ticks": ""
           },
           "baxis": {
            "gridcolor": "white",
            "linecolor": "white",
            "ticks": ""
           },
           "bgcolor": "#E5ECF6",
           "caxis": {
            "gridcolor": "white",
            "linecolor": "white",
            "ticks": ""
           }
          },
          "title": {
           "x": 0.05
          },
          "xaxis": {
           "automargin": true,
           "gridcolor": "white",
           "linecolor": "white",
           "ticks": "",
           "title": {
            "standoff": 15
           },
           "zerolinecolor": "white",
           "zerolinewidth": 2
          },
          "yaxis": {
           "automargin": true,
           "gridcolor": "white",
           "linecolor": "white",
           "ticks": "",
           "title": {
            "standoff": 15
           },
           "zerolinecolor": "white",
           "zerolinewidth": 2
          }
         }
        },
        "title": {
         "text": "Distribution of Gini Coefficient: Suspicious vs Normal Users"
        },
        "violinmode": "overlay",
        "width": 700,
        "xaxis": {
         "anchor": "y",
         "categoryarray": [
          "Suspicious",
          "Normal"
         ],
         "categoryorder": "array",
         "domain": [
          0,
          1
         ],
         "title": {
          "text": "user_type"
         }
        },
        "yaxis": {
         "anchor": "x",
         "domain": [
          0,
          1
         ],
         "title": {
          "text": "gini_coefficient"
         }
        }
       }
      }
     },
     "metadata": {},
     "output_type": "display_data"
    },
    {
     "data": {
      "application/vnd.jupyter.widget-view+json": {
       "model_id": "f130d75bb209425192549e54f7b40a32",
       "version_major": 2,
       "version_minor": 0
      },
      "text/plain": [
       "VBox(children=(HTML(value='<h3>Suspicious vs Normal Users</h3>'), Dropdown(description='Metric:', options=(('G…"
      ]
     },
     "metadata": {},
     "output_type": "display_data"
    }
   ],
   "source": [
    "if 'suspicious' in suspicious_df.columns and sum(suspicious_df['suspicious']) > 0:\n",
    "    susp_users = suspicious_df[suspicious_df['suspicious']]\n",
    "    \n",
    "    # Display table of suspicious users\n",
    "    display(widgets.HTML('<h3>Suspicious User Analysis</h3>'))\n",
    "    display(susp_users[['user_id', 'post_count', 'gini_coefficient', 'top1_ratio', \n",
    "                      'duplicate_post_ratio']].head(10).style.background_gradient(\n",
    "                          cmap='Reds', subset=['gini_coefficient', 'top1_ratio', 'duplicate_post_ratio']\n",
    "                      ))\n",
    "    \n",
    "    # Plot distribution of suspicious vs normal users\n",
    "    def plot_suspicious_comparison(metric):\n",
    "        metric = susp_metric_selector.value\n",
    "        \n",
    "        # Merge data\n",
    "        merged_df = user_topic_df.merge(\n",
    "            suspicious_df[['user_id', 'suspicious']], \n",
    "            on='user_id', \n",
    "            how='left'\n",
    "        )\n",
    "        merged_df['suspicious'] = merged_df['suspicious'].fillna(False)\n",
    "        merged_df['user_type'] = merged_df['suspicious'].map({True: 'Suspicious', False: 'Normal'})\n",
    "        \n",
    "        # Create violin plot\n",
    "        fig = px.violin(\n",
    "            merged_df, \n",
    "            x='user_type', \n",
    "            y=metric,\n",
    "            color='user_type',\n",
    "            box=True,\n",
    "            points='all',\n",
    "            hover_data=['user_id', 'post_count'],\n",
    "            title=f'Distribution of {metric.replace(\"_\", \" \").title()}: Suspicious vs Normal Users'\n",
    "        )\n",
    "        \n",
    "        fig.update_layout(height=500, width=700)\n",
    "        fig.show()\n",
    "    \n",
    "    # Create metric selector for suspicious user analysis\n",
    "    susp_metric_selector = widgets.Dropdown(\n",
    "        options=[\n",
    "            ('Gini Coefficient', 'gini_coefficient'),\n",
    "            ('Shannon Entropy', 'shannon_entropy'),\n",
    "            ('Top-1 Topic Ratio', 'top1_ratio'),\n",
    "            ('Top-2 Topics Ratio', 'top2_ratio'),\n",
    "            ('Duplicate Post Ratio', 'duplicate_post_ratio')\n",
    "        ],\n",
    "        value='gini_coefficient',\n",
    "        description='Metric:',\n",
    "        style={'description_width': 'initial'}\n",
    "    )\n",
    "    \n",
    "    # Display interactive widget\n",
    "    display(widgets.VBox([\n",
    "        widgets.HTML('<h3>Suspicious vs Normal Users</h3>'),\n",
    "        susp_metric_selector,\n",
    "        widgets.interactive_output(plot_suspicious_comparison, {'metric': susp_metric_selector})\n",
    "    ]))"
   ]
  },
  {
   "cell_type": "markdown",
   "id": "f30dad5f-b7f9-482e-8ac8-6f500fdbbd83",
   "metadata": {},
   "source": [
    "# 5. Temporal Topic Analysis\n"
   ]
  },
  {
   "cell_type": "code",
   "execution_count": 7,
   "id": "93ff3d6c-8191-4083-b466-75c88fbbb1c7",
   "metadata": {},
   "outputs": [
    {
     "data": {
      "application/vnd.plotly.v1+json": {
       "config": {
        "plotlyServerURL": "https://plot.ly"
       },
       "data": [
        {
         "mode": "lines",
         "name": "Topic_0",
         "stackgroup": "one",
         "type": "scatter",
         "x": [
          "2016-09-14T00:00:00",
          "2016-09-16T00:00:00",
          "2016-09-17T00:00:00",
          "2016-09-23T00:00:00"
         ],
         "y": [
          0.5775184631347656,
          0.7505388855934143,
          0.2280169129371643,
          0.4217105507850647
         ]
        },
        {
         "mode": "lines",
         "name": "Topic_3",
         "stackgroup": "one",
         "type": "scatter",
         "x": [
          "2016-09-14T00:00:00",
          "2016-09-16T00:00:00",
          "2016-09-17T00:00:00",
          "2016-09-23T00:00:00"
         ],
         "y": [
          0.0307427030056715,
          0.04404290392994881,
          0.007664278615266085,
          0.012067528441548347
         ]
        },
        {
         "mode": "lines",
         "name": "Topic_1",
         "stackgroup": "one",
         "type": "scatter",
         "x": [
          "2016-09-14T00:00:00",
          "2016-09-16T00:00:00",
          "2016-09-17T00:00:00",
          "2016-09-23T00:00:00"
         ],
         "y": [
          0.014043265022337437,
          0.01877579279243946,
          0.006681512109935284,
          0.009408866055309772
         ]
        },
        {
         "mode": "lines",
         "name": "Topic_5",
         "stackgroup": "one",
         "type": "scatter",
         "x": [
          "2016-09-14T00:00:00",
          "2016-09-16T00:00:00",
          "2016-09-17T00:00:00",
          "2016-09-23T00:00:00"
         ],
         "y": [
          0.005801972001791,
          0.00758628873154521,
          0.0022373537067323923,
          0.0035178042016923428
         ]
        },
        {
         "mode": "lines",
         "name": "Topic_2",
         "stackgroup": "one",
         "type": "scatter",
         "x": [
          "2016-09-14T00:00:00",
          "2016-09-16T00:00:00",
          "2016-09-17T00:00:00",
          "2016-09-23T00:00:00"
         ],
         "y": [
          0.0036000071559101343,
          0.004032535944133997,
          0.00115330854896456,
          0.001928188605234027
         ]
        },
        {
         "mode": "lines",
         "name": "Other",
         "stackgroup": "one",
         "type": "scatter",
         "x": [
          "2016-09-14T00:00:00",
          "2016-09-16T00:00:00",
          "2016-09-17T00:00:00",
          "2016-09-23T00:00:00"
         ],
         "y": [
          0.00823671743273735,
          0.009579412639141083,
          0.0032072539906948805,
          0.0050142561085522175
         ]
        }
       ],
       "layout": {
        "height": 500,
        "hovermode": "x unified",
        "template": {
         "data": {
          "bar": [
           {
            "error_x": {
             "color": "#2a3f5f"
            },
            "error_y": {
             "color": "#2a3f5f"
            },
            "marker": {
             "line": {
              "color": "#E5ECF6",
              "width": 0.5
             },
             "pattern": {
              "fillmode": "overlay",
              "size": 10,
              "solidity": 0.2
             }
            },
            "type": "bar"
           }
          ],
          "barpolar": [
           {
            "marker": {
             "line": {
              "color": "#E5ECF6",
              "width": 0.5
             },
             "pattern": {
              "fillmode": "overlay",
              "size": 10,
              "solidity": 0.2
             }
            },
            "type": "barpolar"
           }
          ],
          "carpet": [
           {
            "aaxis": {
             "endlinecolor": "#2a3f5f",
             "gridcolor": "white",
             "linecolor": "white",
             "minorgridcolor": "white",
             "startlinecolor": "#2a3f5f"
            },
            "baxis": {
             "endlinecolor": "#2a3f5f",
             "gridcolor": "white",
             "linecolor": "white",
             "minorgridcolor": "white",
             "startlinecolor": "#2a3f5f"
            },
            "type": "carpet"
           }
          ],
          "choropleth": [
           {
            "colorbar": {
             "outlinewidth": 0,
             "ticks": ""
            },
            "type": "choropleth"
           }
          ],
          "contour": [
           {
            "colorbar": {
             "outlinewidth": 0,
             "ticks": ""
            },
            "colorscale": [
             [
              0,
              "#0d0887"
             ],
             [
              0.1111111111111111,
              "#46039f"
             ],
             [
              0.2222222222222222,
              "#7201a8"
             ],
             [
              0.3333333333333333,
              "#9c179e"
             ],
             [
              0.4444444444444444,
              "#bd3786"
             ],
             [
              0.5555555555555556,
              "#d8576b"
             ],
             [
              0.6666666666666666,
              "#ed7953"
             ],
             [
              0.7777777777777778,
              "#fb9f3a"
             ],
             [
              0.8888888888888888,
              "#fdca26"
             ],
             [
              1,
              "#f0f921"
             ]
            ],
            "type": "contour"
           }
          ],
          "contourcarpet": [
           {
            "colorbar": {
             "outlinewidth": 0,
             "ticks": ""
            },
            "type": "contourcarpet"
           }
          ],
          "heatmap": [
           {
            "colorbar": {
             "outlinewidth": 0,
             "ticks": ""
            },
            "colorscale": [
             [
              0,
              "#0d0887"
             ],
             [
              0.1111111111111111,
              "#46039f"
             ],
             [
              0.2222222222222222,
              "#7201a8"
             ],
             [
              0.3333333333333333,
              "#9c179e"
             ],
             [
              0.4444444444444444,
              "#bd3786"
             ],
             [
              0.5555555555555556,
              "#d8576b"
             ],
             [
              0.6666666666666666,
              "#ed7953"
             ],
             [
              0.7777777777777778,
              "#fb9f3a"
             ],
             [
              0.8888888888888888,
              "#fdca26"
             ],
             [
              1,
              "#f0f921"
             ]
            ],
            "type": "heatmap"
           }
          ],
          "heatmapgl": [
           {
            "colorbar": {
             "outlinewidth": 0,
             "ticks": ""
            },
            "colorscale": [
             [
              0,
              "#0d0887"
             ],
             [
              0.1111111111111111,
              "#46039f"
             ],
             [
              0.2222222222222222,
              "#7201a8"
             ],
             [
              0.3333333333333333,
              "#9c179e"
             ],
             [
              0.4444444444444444,
              "#bd3786"
             ],
             [
              0.5555555555555556,
              "#d8576b"
             ],
             [
              0.6666666666666666,
              "#ed7953"
             ],
             [
              0.7777777777777778,
              "#fb9f3a"
             ],
             [
              0.8888888888888888,
              "#fdca26"
             ],
             [
              1,
              "#f0f921"
             ]
            ],
            "type": "heatmapgl"
           }
          ],
          "histogram": [
           {
            "marker": {
             "pattern": {
              "fillmode": "overlay",
              "size": 10,
              "solidity": 0.2
             }
            },
            "type": "histogram"
           }
          ],
          "histogram2d": [
           {
            "colorbar": {
             "outlinewidth": 0,
             "ticks": ""
            },
            "colorscale": [
             [
              0,
              "#0d0887"
             ],
             [
              0.1111111111111111,
              "#46039f"
             ],
             [
              0.2222222222222222,
              "#7201a8"
             ],
             [
              0.3333333333333333,
              "#9c179e"
             ],
             [
              0.4444444444444444,
              "#bd3786"
             ],
             [
              0.5555555555555556,
              "#d8576b"
             ],
             [
              0.6666666666666666,
              "#ed7953"
             ],
             [
              0.7777777777777778,
              "#fb9f3a"
             ],
             [
              0.8888888888888888,
              "#fdca26"
             ],
             [
              1,
              "#f0f921"
             ]
            ],
            "type": "histogram2d"
           }
          ],
          "histogram2dcontour": [
           {
            "colorbar": {
             "outlinewidth": 0,
             "ticks": ""
            },
            "colorscale": [
             [
              0,
              "#0d0887"
             ],
             [
              0.1111111111111111,
              "#46039f"
             ],
             [
              0.2222222222222222,
              "#7201a8"
             ],
             [
              0.3333333333333333,
              "#9c179e"
             ],
             [
              0.4444444444444444,
              "#bd3786"
             ],
             [
              0.5555555555555556,
              "#d8576b"
             ],
             [
              0.6666666666666666,
              "#ed7953"
             ],
             [
              0.7777777777777778,
              "#fb9f3a"
             ],
             [
              0.8888888888888888,
              "#fdca26"
             ],
             [
              1,
              "#f0f921"
             ]
            ],
            "type": "histogram2dcontour"
           }
          ],
          "mesh3d": [
           {
            "colorbar": {
             "outlinewidth": 0,
             "ticks": ""
            },
            "type": "mesh3d"
           }
          ],
          "parcoords": [
           {
            "line": {
             "colorbar": {
              "outlinewidth": 0,
              "ticks": ""
             }
            },
            "type": "parcoords"
           }
          ],
          "pie": [
           {
            "automargin": true,
            "type": "pie"
           }
          ],
          "scatter": [
           {
            "fillpattern": {
             "fillmode": "overlay",
             "size": 10,
             "solidity": 0.2
            },
            "type": "scatter"
           }
          ],
          "scatter3d": [
           {
            "line": {
             "colorbar": {
              "outlinewidth": 0,
              "ticks": ""
             }
            },
            "marker": {
             "colorbar": {
              "outlinewidth": 0,
              "ticks": ""
             }
            },
            "type": "scatter3d"
           }
          ],
          "scattercarpet": [
           {
            "marker": {
             "colorbar": {
              "outlinewidth": 0,
              "ticks": ""
             }
            },
            "type": "scattercarpet"
           }
          ],
          "scattergeo": [
           {
            "marker": {
             "colorbar": {
              "outlinewidth": 0,
              "ticks": ""
             }
            },
            "type": "scattergeo"
           }
          ],
          "scattergl": [
           {
            "marker": {
             "colorbar": {
              "outlinewidth": 0,
              "ticks": ""
             }
            },
            "type": "scattergl"
           }
          ],
          "scattermapbox": [
           {
            "marker": {
             "colorbar": {
              "outlinewidth": 0,
              "ticks": ""
             }
            },
            "type": "scattermapbox"
           }
          ],
          "scatterpolar": [
           {
            "marker": {
             "colorbar": {
              "outlinewidth": 0,
              "ticks": ""
             }
            },
            "type": "scatterpolar"
           }
          ],
          "scatterpolargl": [
           {
            "marker": {
             "colorbar": {
              "outlinewidth": 0,
              "ticks": ""
             }
            },
            "type": "scatterpolargl"
           }
          ],
          "scatterternary": [
           {
            "marker": {
             "colorbar": {
              "outlinewidth": 0,
              "ticks": ""
             }
            },
            "type": "scatterternary"
           }
          ],
          "surface": [
           {
            "colorbar": {
             "outlinewidth": 0,
             "ticks": ""
            },
            "colorscale": [
             [
              0,
              "#0d0887"
             ],
             [
              0.1111111111111111,
              "#46039f"
             ],
             [
              0.2222222222222222,
              "#7201a8"
             ],
             [
              0.3333333333333333,
              "#9c179e"
             ],
             [
              0.4444444444444444,
              "#bd3786"
             ],
             [
              0.5555555555555556,
              "#d8576b"
             ],
             [
              0.6666666666666666,
              "#ed7953"
             ],
             [
              0.7777777777777778,
              "#fb9f3a"
             ],
             [
              0.8888888888888888,
              "#fdca26"
             ],
             [
              1,
              "#f0f921"
             ]
            ],
            "type": "surface"
           }
          ],
          "table": [
           {
            "cells": {
             "fill": {
              "color": "#EBF0F8"
             },
             "line": {
              "color": "white"
             }
            },
            "header": {
             "fill": {
              "color": "#C8D4E3"
             },
             "line": {
              "color": "white"
             }
            },
            "type": "table"
           }
          ]
         },
         "layout": {
          "annotationdefaults": {
           "arrowcolor": "#2a3f5f",
           "arrowhead": 0,
           "arrowwidth": 1
          },
          "autotypenumbers": "strict",
          "coloraxis": {
           "colorbar": {
            "outlinewidth": 0,
            "ticks": ""
           }
          },
          "colorscale": {
           "diverging": [
            [
             0,
             "#8e0152"
            ],
            [
             0.1,
             "#c51b7d"
            ],
            [
             0.2,
             "#de77ae"
            ],
            [
             0.3,
             "#f1b6da"
            ],
            [
             0.4,
             "#fde0ef"
            ],
            [
             0.5,
             "#f7f7f7"
            ],
            [
             0.6,
             "#e6f5d0"
            ],
            [
             0.7,
             "#b8e186"
            ],
            [
             0.8,
             "#7fbc41"
            ],
            [
             0.9,
             "#4d9221"
            ],
            [
             1,
             "#276419"
            ]
           ],
           "sequential": [
            [
             0,
             "#0d0887"
            ],
            [
             0.1111111111111111,
             "#46039f"
            ],
            [
             0.2222222222222222,
             "#7201a8"
            ],
            [
             0.3333333333333333,
             "#9c179e"
            ],
            [
             0.4444444444444444,
             "#bd3786"
            ],
            [
             0.5555555555555556,
             "#d8576b"
            ],
            [
             0.6666666666666666,
             "#ed7953"
            ],
            [
             0.7777777777777778,
             "#fb9f3a"
            ],
            [
             0.8888888888888888,
             "#fdca26"
            ],
            [
             1,
             "#f0f921"
            ]
           ],
           "sequentialminus": [
            [
             0,
             "#0d0887"
            ],
            [
             0.1111111111111111,
             "#46039f"
            ],
            [
             0.2222222222222222,
             "#7201a8"
            ],
            [
             0.3333333333333333,
             "#9c179e"
            ],
            [
             0.4444444444444444,
             "#bd3786"
            ],
            [
             0.5555555555555556,
             "#d8576b"
            ],
            [
             0.6666666666666666,
             "#ed7953"
            ],
            [
             0.7777777777777778,
             "#fb9f3a"
            ],
            [
             0.8888888888888888,
             "#fdca26"
            ],
            [
             1,
             "#f0f921"
            ]
           ]
          },
          "colorway": [
           "#636efa",
           "#EF553B",
           "#00cc96",
           "#ab63fa",
           "#FFA15A",
           "#19d3f3",
           "#FF6692",
           "#B6E880",
           "#FF97FF",
           "#FECB52"
          ],
          "font": {
           "color": "#2a3f5f"
          },
          "geo": {
           "bgcolor": "white",
           "lakecolor": "white",
           "landcolor": "#E5ECF6",
           "showlakes": true,
           "showland": true,
           "subunitcolor": "white"
          },
          "hoverlabel": {
           "align": "left"
          },
          "hovermode": "closest",
          "mapbox": {
           "style": "light"
          },
          "paper_bgcolor": "white",
          "plot_bgcolor": "#E5ECF6",
          "polar": {
           "angularaxis": {
            "gridcolor": "white",
            "linecolor": "white",
            "ticks": ""
           },
           "bgcolor": "#E5ECF6",
           "radialaxis": {
            "gridcolor": "white",
            "linecolor": "white",
            "ticks": ""
           }
          },
          "scene": {
           "xaxis": {
            "backgroundcolor": "#E5ECF6",
            "gridcolor": "white",
            "gridwidth": 2,
            "linecolor": "white",
            "showbackground": true,
            "ticks": "",
            "zerolinecolor": "white"
           },
           "yaxis": {
            "backgroundcolor": "#E5ECF6",
            "gridcolor": "white",
            "gridwidth": 2,
            "linecolor": "white",
            "showbackground": true,
            "ticks": "",
            "zerolinecolor": "white"
           },
           "zaxis": {
            "backgroundcolor": "#E5ECF6",
            "gridcolor": "white",
            "gridwidth": 2,
            "linecolor": "white",
            "showbackground": true,
            "ticks": "",
            "zerolinecolor": "white"
           }
          },
          "shapedefaults": {
           "line": {
            "color": "#2a3f5f"
           }
          },
          "ternary": {
           "aaxis": {
            "gridcolor": "white",
            "linecolor": "white",
            "ticks": ""
           },
           "baxis": {
            "gridcolor": "white",
            "linecolor": "white",
            "ticks": ""
           },
           "bgcolor": "#E5ECF6",
           "caxis": {
            "gridcolor": "white",
            "linecolor": "white",
            "ticks": ""
           }
          },
          "title": {
           "x": 0.05
          },
          "xaxis": {
           "automargin": true,
           "gridcolor": "white",
           "linecolor": "white",
           "ticks": "",
           "title": {
            "standoff": 15
           },
           "zerolinecolor": "white",
           "zerolinewidth": 2
          },
          "yaxis": {
           "automargin": true,
           "gridcolor": "white",
           "linecolor": "white",
           "ticks": "",
           "title": {
            "standoff": 15
           },
           "zerolinecolor": "white",
           "zerolinewidth": 2
          }
         }
        },
        "title": {
         "text": "Topic Evolution Over Time for User 4ever1937"
        },
        "width": 900,
        "xaxis": {
         "title": {
          "text": "Time"
         }
        },
        "yaxis": {
         "title": {
          "text": "Topic Proportion"
         }
        }
       }
      }
     },
     "metadata": {},
     "output_type": "display_data"
    },
    {
     "data": {
      "application/vnd.jupyter.widget-view+json": {
       "model_id": "eb7fbf7a90b1448b878899812fb9d450",
       "version_major": 2,
       "version_minor": 0
      },
      "text/plain": [
       "VBox(children=(HTML(value='<h3>Temporal Topic Analysis</h3>'), HBox(children=(Dropdown(description='User:', op…"
      ]
     },
     "metadata": {},
     "output_type": "display_data"
    },
    {
     "data": {
      "application/vnd.plotly.v1+json": {
       "config": {
        "plotlyServerURL": "https://plot.ly"
       },
       "data": [
        {
         "mode": "lines",
         "name": "Topic_1",
         "stackgroup": "one",
         "type": "scatter",
         "x": [
          "2015-12-03T00:00:00"
         ],
         "y": [
          1
         ]
        },
        {
         "mode": "lines",
         "name": "Topic_0",
         "stackgroup": "one",
         "type": "scatter",
         "x": [
          "2015-12-03T00:00:00"
         ],
         "y": [
          0
         ]
        },
        {
         "mode": "lines",
         "name": "Topic_2",
         "stackgroup": "one",
         "type": "scatter",
         "x": [
          "2015-12-03T00:00:00"
         ],
         "y": [
          0
         ]
        },
        {
         "mode": "lines",
         "name": "Topic_3",
         "stackgroup": "one",
         "type": "scatter",
         "x": [
          "2015-12-03T00:00:00"
         ],
         "y": [
          0
         ]
        },
        {
         "mode": "lines",
         "name": "Topic_4",
         "stackgroup": "one",
         "type": "scatter",
         "x": [
          "2015-12-03T00:00:00"
         ],
         "y": [
          0
         ]
        },
        {
         "mode": "lines",
         "name": "Other",
         "stackgroup": "one",
         "type": "scatter",
         "x": [
          "2015-12-03T00:00:00"
         ],
         "y": [
          0
         ]
        }
       ],
       "layout": {
        "height": 500,
        "hovermode": "x unified",
        "template": {
         "data": {
          "bar": [
           {
            "error_x": {
             "color": "#2a3f5f"
            },
            "error_y": {
             "color": "#2a3f5f"
            },
            "marker": {
             "line": {
              "color": "#E5ECF6",
              "width": 0.5
             },
             "pattern": {
              "fillmode": "overlay",
              "size": 10,
              "solidity": 0.2
             }
            },
            "type": "bar"
           }
          ],
          "barpolar": [
           {
            "marker": {
             "line": {
              "color": "#E5ECF6",
              "width": 0.5
             },
             "pattern": {
              "fillmode": "overlay",
              "size": 10,
              "solidity": 0.2
             }
            },
            "type": "barpolar"
           }
          ],
          "carpet": [
           {
            "aaxis": {
             "endlinecolor": "#2a3f5f",
             "gridcolor": "white",
             "linecolor": "white",
             "minorgridcolor": "white",
             "startlinecolor": "#2a3f5f"
            },
            "baxis": {
             "endlinecolor": "#2a3f5f",
             "gridcolor": "white",
             "linecolor": "white",
             "minorgridcolor": "white",
             "startlinecolor": "#2a3f5f"
            },
            "type": "carpet"
           }
          ],
          "choropleth": [
           {
            "colorbar": {
             "outlinewidth": 0,
             "ticks": ""
            },
            "type": "choropleth"
           }
          ],
          "contour": [
           {
            "colorbar": {
             "outlinewidth": 0,
             "ticks": ""
            },
            "colorscale": [
             [
              0,
              "#0d0887"
             ],
             [
              0.1111111111111111,
              "#46039f"
             ],
             [
              0.2222222222222222,
              "#7201a8"
             ],
             [
              0.3333333333333333,
              "#9c179e"
             ],
             [
              0.4444444444444444,
              "#bd3786"
             ],
             [
              0.5555555555555556,
              "#d8576b"
             ],
             [
              0.6666666666666666,
              "#ed7953"
             ],
             [
              0.7777777777777778,
              "#fb9f3a"
             ],
             [
              0.8888888888888888,
              "#fdca26"
             ],
             [
              1,
              "#f0f921"
             ]
            ],
            "type": "contour"
           }
          ],
          "contourcarpet": [
           {
            "colorbar": {
             "outlinewidth": 0,
             "ticks": ""
            },
            "type": "contourcarpet"
           }
          ],
          "heatmap": [
           {
            "colorbar": {
             "outlinewidth": 0,
             "ticks": ""
            },
            "colorscale": [
             [
              0,
              "#0d0887"
             ],
             [
              0.1111111111111111,
              "#46039f"
             ],
             [
              0.2222222222222222,
              "#7201a8"
             ],
             [
              0.3333333333333333,
              "#9c179e"
             ],
             [
              0.4444444444444444,
              "#bd3786"
             ],
             [
              0.5555555555555556,
              "#d8576b"
             ],
             [
              0.6666666666666666,
              "#ed7953"
             ],
             [
              0.7777777777777778,
              "#fb9f3a"
             ],
             [
              0.8888888888888888,
              "#fdca26"
             ],
             [
              1,
              "#f0f921"
             ]
            ],
            "type": "heatmap"
           }
          ],
          "heatmapgl": [
           {
            "colorbar": {
             "outlinewidth": 0,
             "ticks": ""
            },
            "colorscale": [
             [
              0,
              "#0d0887"
             ],
             [
              0.1111111111111111,
              "#46039f"
             ],
             [
              0.2222222222222222,
              "#7201a8"
             ],
             [
              0.3333333333333333,
              "#9c179e"
             ],
             [
              0.4444444444444444,
              "#bd3786"
             ],
             [
              0.5555555555555556,
              "#d8576b"
             ],
             [
              0.6666666666666666,
              "#ed7953"
             ],
             [
              0.7777777777777778,
              "#fb9f3a"
             ],
             [
              0.8888888888888888,
              "#fdca26"
             ],
             [
              1,
              "#f0f921"
             ]
            ],
            "type": "heatmapgl"
           }
          ],
          "histogram": [
           {
            "marker": {
             "pattern": {
              "fillmode": "overlay",
              "size": 10,
              "solidity": 0.2
             }
            },
            "type": "histogram"
           }
          ],
          "histogram2d": [
           {
            "colorbar": {
             "outlinewidth": 0,
             "ticks": ""
            },
            "colorscale": [
             [
              0,
              "#0d0887"
             ],
             [
              0.1111111111111111,
              "#46039f"
             ],
             [
              0.2222222222222222,
              "#7201a8"
             ],
             [
              0.3333333333333333,
              "#9c179e"
             ],
             [
              0.4444444444444444,
              "#bd3786"
             ],
             [
              0.5555555555555556,
              "#d8576b"
             ],
             [
              0.6666666666666666,
              "#ed7953"
             ],
             [
              0.7777777777777778,
              "#fb9f3a"
             ],
             [
              0.8888888888888888,
              "#fdca26"
             ],
             [
              1,
              "#f0f921"
             ]
            ],
            "type": "histogram2d"
           }
          ],
          "histogram2dcontour": [
           {
            "colorbar": {
             "outlinewidth": 0,
             "ticks": ""
            },
            "colorscale": [
             [
              0,
              "#0d0887"
             ],
             [
              0.1111111111111111,
              "#46039f"
             ],
             [
              0.2222222222222222,
              "#7201a8"
             ],
             [
              0.3333333333333333,
              "#9c179e"
             ],
             [
              0.4444444444444444,
              "#bd3786"
             ],
             [
              0.5555555555555556,
              "#d8576b"
             ],
             [
              0.6666666666666666,
              "#ed7953"
             ],
             [
              0.7777777777777778,
              "#fb9f3a"
             ],
             [
              0.8888888888888888,
              "#fdca26"
             ],
             [
              1,
              "#f0f921"
             ]
            ],
            "type": "histogram2dcontour"
           }
          ],
          "mesh3d": [
           {
            "colorbar": {
             "outlinewidth": 0,
             "ticks": ""
            },
            "type": "mesh3d"
           }
          ],
          "parcoords": [
           {
            "line": {
             "colorbar": {
              "outlinewidth": 0,
              "ticks": ""
             }
            },
            "type": "parcoords"
           }
          ],
          "pie": [
           {
            "automargin": true,
            "type": "pie"
           }
          ],
          "scatter": [
           {
            "fillpattern": {
             "fillmode": "overlay",
             "size": 10,
             "solidity": 0.2
            },
            "type": "scatter"
           }
          ],
          "scatter3d": [
           {
            "line": {
             "colorbar": {
              "outlinewidth": 0,
              "ticks": ""
             }
            },
            "marker": {
             "colorbar": {
              "outlinewidth": 0,
              "ticks": ""
             }
            },
            "type": "scatter3d"
           }
          ],
          "scattercarpet": [
           {
            "marker": {
             "colorbar": {
              "outlinewidth": 0,
              "ticks": ""
             }
            },
            "type": "scattercarpet"
           }
          ],
          "scattergeo": [
           {
            "marker": {
             "colorbar": {
              "outlinewidth": 0,
              "ticks": ""
             }
            },
            "type": "scattergeo"
           }
          ],
          "scattergl": [
           {
            "marker": {
             "colorbar": {
              "outlinewidth": 0,
              "ticks": ""
             }
            },
            "type": "scattergl"
           }
          ],
          "scattermapbox": [
           {
            "marker": {
             "colorbar": {
              "outlinewidth": 0,
              "ticks": ""
             }
            },
            "type": "scattermapbox"
           }
          ],
          "scatterpolar": [
           {
            "marker": {
             "colorbar": {
              "outlinewidth": 0,
              "ticks": ""
             }
            },
            "type": "scatterpolar"
           }
          ],
          "scatterpolargl": [
           {
            "marker": {
             "colorbar": {
              "outlinewidth": 0,
              "ticks": ""
             }
            },
            "type": "scatterpolargl"
           }
          ],
          "scatterternary": [
           {
            "marker": {
             "colorbar": {
              "outlinewidth": 0,
              "ticks": ""
             }
            },
            "type": "scatterternary"
           }
          ],
          "surface": [
           {
            "colorbar": {
             "outlinewidth": 0,
             "ticks": ""
            },
            "colorscale": [
             [
              0,
              "#0d0887"
             ],
             [
              0.1111111111111111,
              "#46039f"
             ],
             [
              0.2222222222222222,
              "#7201a8"
             ],
             [
              0.3333333333333333,
              "#9c179e"
             ],
             [
              0.4444444444444444,
              "#bd3786"
             ],
             [
              0.5555555555555556,
              "#d8576b"
             ],
             [
              0.6666666666666666,
              "#ed7953"
             ],
             [
              0.7777777777777778,
              "#fb9f3a"
             ],
             [
              0.8888888888888888,
              "#fdca26"
             ],
             [
              1,
              "#f0f921"
             ]
            ],
            "type": "surface"
           }
          ],
          "table": [
           {
            "cells": {
             "fill": {
              "color": "#EBF0F8"
             },
             "line": {
              "color": "white"
             }
            },
            "header": {
             "fill": {
              "color": "#C8D4E3"
             },
             "line": {
              "color": "white"
             }
            },
            "type": "table"
           }
          ]
         },
         "layout": {
          "annotationdefaults": {
           "arrowcolor": "#2a3f5f",
           "arrowhead": 0,
           "arrowwidth": 1
          },
          "autotypenumbers": "strict",
          "coloraxis": {
           "colorbar": {
            "outlinewidth": 0,
            "ticks": ""
           }
          },
          "colorscale": {
           "diverging": [
            [
             0,
             "#8e0152"
            ],
            [
             0.1,
             "#c51b7d"
            ],
            [
             0.2,
             "#de77ae"
            ],
            [
             0.3,
             "#f1b6da"
            ],
            [
             0.4,
             "#fde0ef"
            ],
            [
             0.5,
             "#f7f7f7"
            ],
            [
             0.6,
             "#e6f5d0"
            ],
            [
             0.7,
             "#b8e186"
            ],
            [
             0.8,
             "#7fbc41"
            ],
            [
             0.9,
             "#4d9221"
            ],
            [
             1,
             "#276419"
            ]
           ],
           "sequential": [
            [
             0,
             "#0d0887"
            ],
            [
             0.1111111111111111,
             "#46039f"
            ],
            [
             0.2222222222222222,
             "#7201a8"
            ],
            [
             0.3333333333333333,
             "#9c179e"
            ],
            [
             0.4444444444444444,
             "#bd3786"
            ],
            [
             0.5555555555555556,
             "#d8576b"
            ],
            [
             0.6666666666666666,
             "#ed7953"
            ],
            [
             0.7777777777777778,
             "#fb9f3a"
            ],
            [
             0.8888888888888888,
             "#fdca26"
            ],
            [
             1,
             "#f0f921"
            ]
           ],
           "sequentialminus": [
            [
             0,
             "#0d0887"
            ],
            [
             0.1111111111111111,
             "#46039f"
            ],
            [
             0.2222222222222222,
             "#7201a8"
            ],
            [
             0.3333333333333333,
             "#9c179e"
            ],
            [
             0.4444444444444444,
             "#bd3786"
            ],
            [
             0.5555555555555556,
             "#d8576b"
            ],
            [
             0.6666666666666666,
             "#ed7953"
            ],
            [
             0.7777777777777778,
             "#fb9f3a"
            ],
            [
             0.8888888888888888,
             "#fdca26"
            ],
            [
             1,
             "#f0f921"
            ]
           ]
          },
          "colorway": [
           "#636efa",
           "#EF553B",
           "#00cc96",
           "#ab63fa",
           "#FFA15A",
           "#19d3f3",
           "#FF6692",
           "#B6E880",
           "#FF97FF",
           "#FECB52"
          ],
          "font": {
           "color": "#2a3f5f"
          },
          "geo": {
           "bgcolor": "white",
           "lakecolor": "white",
           "landcolor": "#E5ECF6",
           "showlakes": true,
           "showland": true,
           "subunitcolor": "white"
          },
          "hoverlabel": {
           "align": "left"
          },
          "hovermode": "closest",
          "mapbox": {
           "style": "light"
          },
          "paper_bgcolor": "white",
          "plot_bgcolor": "#E5ECF6",
          "polar": {
           "angularaxis": {
            "gridcolor": "white",
            "linecolor": "white",
            "ticks": ""
           },
           "bgcolor": "#E5ECF6",
           "radialaxis": {
            "gridcolor": "white",
            "linecolor": "white",
            "ticks": ""
           }
          },
          "scene": {
           "xaxis": {
            "backgroundcolor": "#E5ECF6",
            "gridcolor": "white",
            "gridwidth": 2,
            "linecolor": "white",
            "showbackground": true,
            "ticks": "",
            "zerolinecolor": "white"
           },
           "yaxis": {
            "backgroundcolor": "#E5ECF6",
            "gridcolor": "white",
            "gridwidth": 2,
            "linecolor": "white",
            "showbackground": true,
            "ticks": "",
            "zerolinecolor": "white"
           },
           "zaxis": {
            "backgroundcolor": "#E5ECF6",
            "gridcolor": "white",
            "gridwidth": 2,
            "linecolor": "white",
            "showbackground": true,
            "ticks": "",
            "zerolinecolor": "white"
           }
          },
          "shapedefaults": {
           "line": {
            "color": "#2a3f5f"
           }
          },
          "ternary": {
           "aaxis": {
            "gridcolor": "white",
            "linecolor": "white",
            "ticks": ""
           },
           "baxis": {
            "gridcolor": "white",
            "linecolor": "white",
            "ticks": ""
           },
           "bgcolor": "#E5ECF6",
           "caxis": {
            "gridcolor": "white",
            "linecolor": "white",
            "ticks": ""
           }
          },
          "title": {
           "x": 0.05
          },
          "xaxis": {
           "automargin": true,
           "gridcolor": "white",
           "linecolor": "white",
           "ticks": "",
           "title": {
            "standoff": 15
           },
           "zerolinecolor": "white",
           "zerolinewidth": 2
          },
          "yaxis": {
           "automargin": true,
           "gridcolor": "white",
           "linecolor": "white",
           "ticks": "",
           "title": {
            "standoff": 15
           },
           "zerolinecolor": "white",
           "zerolinewidth": 2
          }
         }
        },
        "title": {
         "text": "Topic Evolution Over Time for User albertmorenmore"
        },
        "width": 900,
        "xaxis": {
         "title": {
          "text": "Time"
         }
        },
        "yaxis": {
         "title": {
          "text": "Topic Proportion"
         }
        }
       }
      }
     },
     "metadata": {},
     "output_type": "display_data"
    },
    {
     "data": {
      "application/vnd.plotly.v1+json": {
       "config": {
        "plotlyServerURL": "https://plot.ly"
       },
       "data": [
        {
         "mode": "lines",
         "name": "Topic_0",
         "stackgroup": "one",
         "type": "scatter",
         "x": [
          "2016-07-29T00:00:00",
          "2016-07-30T00:00:00"
         ],
         "y": [
          1,
          0.39391034841537476
         ]
        },
        {
         "mode": "lines",
         "name": "Topic_3",
         "stackgroup": "one",
         "type": "scatter",
         "x": [
          "2016-07-29T00:00:00",
          "2016-07-30T00:00:00"
         ],
         "y": [
          0,
          0.016136594116687775
         ]
        },
        {
         "mode": "lines",
         "name": "Topic_1",
         "stackgroup": "one",
         "type": "scatter",
         "x": [
          "2016-07-29T00:00:00",
          "2016-07-30T00:00:00"
         ],
         "y": [
          0,
          0.009417673572897911
         ]
        },
        {
         "mode": "lines",
         "name": "Topic_5",
         "stackgroup": "one",
         "type": "scatter",
         "x": [
          "2016-07-29T00:00:00",
          "2016-07-30T00:00:00"
         ],
         "y": [
          0,
          0.0033935639075934887
         ]
        },
        {
         "mode": "lines",
         "name": "Topic_2",
         "stackgroup": "one",
         "type": "scatter",
         "x": [
          "2016-07-29T00:00:00",
          "2016-07-30T00:00:00"
         ],
         "y": [
          0,
          0.0019264487782493234
         ]
        },
        {
         "mode": "lines",
         "name": "Other",
         "stackgroup": "one",
         "type": "scatter",
         "x": [
          "2016-07-29T00:00:00",
          "2016-07-30T00:00:00"
         ],
         "y": [
          0,
          0.004790022037923336
         ]
        }
       ],
       "layout": {
        "height": 500,
        "hovermode": "x unified",
        "template": {
         "data": {
          "bar": [
           {
            "error_x": {
             "color": "#2a3f5f"
            },
            "error_y": {
             "color": "#2a3f5f"
            },
            "marker": {
             "line": {
              "color": "#E5ECF6",
              "width": 0.5
             },
             "pattern": {
              "fillmode": "overlay",
              "size": 10,
              "solidity": 0.2
             }
            },
            "type": "bar"
           }
          ],
          "barpolar": [
           {
            "marker": {
             "line": {
              "color": "#E5ECF6",
              "width": 0.5
             },
             "pattern": {
              "fillmode": "overlay",
              "size": 10,
              "solidity": 0.2
             }
            },
            "type": "barpolar"
           }
          ],
          "carpet": [
           {
            "aaxis": {
             "endlinecolor": "#2a3f5f",
             "gridcolor": "white",
             "linecolor": "white",
             "minorgridcolor": "white",
             "startlinecolor": "#2a3f5f"
            },
            "baxis": {
             "endlinecolor": "#2a3f5f",
             "gridcolor": "white",
             "linecolor": "white",
             "minorgridcolor": "white",
             "startlinecolor": "#2a3f5f"
            },
            "type": "carpet"
           }
          ],
          "choropleth": [
           {
            "colorbar": {
             "outlinewidth": 0,
             "ticks": ""
            },
            "type": "choropleth"
           }
          ],
          "contour": [
           {
            "colorbar": {
             "outlinewidth": 0,
             "ticks": ""
            },
            "colorscale": [
             [
              0,
              "#0d0887"
             ],
             [
              0.1111111111111111,
              "#46039f"
             ],
             [
              0.2222222222222222,
              "#7201a8"
             ],
             [
              0.3333333333333333,
              "#9c179e"
             ],
             [
              0.4444444444444444,
              "#bd3786"
             ],
             [
              0.5555555555555556,
              "#d8576b"
             ],
             [
              0.6666666666666666,
              "#ed7953"
             ],
             [
              0.7777777777777778,
              "#fb9f3a"
             ],
             [
              0.8888888888888888,
              "#fdca26"
             ],
             [
              1,
              "#f0f921"
             ]
            ],
            "type": "contour"
           }
          ],
          "contourcarpet": [
           {
            "colorbar": {
             "outlinewidth": 0,
             "ticks": ""
            },
            "type": "contourcarpet"
           }
          ],
          "heatmap": [
           {
            "colorbar": {
             "outlinewidth": 0,
             "ticks": ""
            },
            "colorscale": [
             [
              0,
              "#0d0887"
             ],
             [
              0.1111111111111111,
              "#46039f"
             ],
             [
              0.2222222222222222,
              "#7201a8"
             ],
             [
              0.3333333333333333,
              "#9c179e"
             ],
             [
              0.4444444444444444,
              "#bd3786"
             ],
             [
              0.5555555555555556,
              "#d8576b"
             ],
             [
              0.6666666666666666,
              "#ed7953"
             ],
             [
              0.7777777777777778,
              "#fb9f3a"
             ],
             [
              0.8888888888888888,
              "#fdca26"
             ],
             [
              1,
              "#f0f921"
             ]
            ],
            "type": "heatmap"
           }
          ],
          "heatmapgl": [
           {
            "colorbar": {
             "outlinewidth": 0,
             "ticks": ""
            },
            "colorscale": [
             [
              0,
              "#0d0887"
             ],
             [
              0.1111111111111111,
              "#46039f"
             ],
             [
              0.2222222222222222,
              "#7201a8"
             ],
             [
              0.3333333333333333,
              "#9c179e"
             ],
             [
              0.4444444444444444,
              "#bd3786"
             ],
             [
              0.5555555555555556,
              "#d8576b"
             ],
             [
              0.6666666666666666,
              "#ed7953"
             ],
             [
              0.7777777777777778,
              "#fb9f3a"
             ],
             [
              0.8888888888888888,
              "#fdca26"
             ],
             [
              1,
              "#f0f921"
             ]
            ],
            "type": "heatmapgl"
           }
          ],
          "histogram": [
           {
            "marker": {
             "pattern": {
              "fillmode": "overlay",
              "size": 10,
              "solidity": 0.2
             }
            },
            "type": "histogram"
           }
          ],
          "histogram2d": [
           {
            "colorbar": {
             "outlinewidth": 0,
             "ticks": ""
            },
            "colorscale": [
             [
              0,
              "#0d0887"
             ],
             [
              0.1111111111111111,
              "#46039f"
             ],
             [
              0.2222222222222222,
              "#7201a8"
             ],
             [
              0.3333333333333333,
              "#9c179e"
             ],
             [
              0.4444444444444444,
              "#bd3786"
             ],
             [
              0.5555555555555556,
              "#d8576b"
             ],
             [
              0.6666666666666666,
              "#ed7953"
             ],
             [
              0.7777777777777778,
              "#fb9f3a"
             ],
             [
              0.8888888888888888,
              "#fdca26"
             ],
             [
              1,
              "#f0f921"
             ]
            ],
            "type": "histogram2d"
           }
          ],
          "histogram2dcontour": [
           {
            "colorbar": {
             "outlinewidth": 0,
             "ticks": ""
            },
            "colorscale": [
             [
              0,
              "#0d0887"
             ],
             [
              0.1111111111111111,
              "#46039f"
             ],
             [
              0.2222222222222222,
              "#7201a8"
             ],
             [
              0.3333333333333333,
              "#9c179e"
             ],
             [
              0.4444444444444444,
              "#bd3786"
             ],
             [
              0.5555555555555556,
              "#d8576b"
             ],
             [
              0.6666666666666666,
              "#ed7953"
             ],
             [
              0.7777777777777778,
              "#fb9f3a"
             ],
             [
              0.8888888888888888,
              "#fdca26"
             ],
             [
              1,
              "#f0f921"
             ]
            ],
            "type": "histogram2dcontour"
           }
          ],
          "mesh3d": [
           {
            "colorbar": {
             "outlinewidth": 0,
             "ticks": ""
            },
            "type": "mesh3d"
           }
          ],
          "parcoords": [
           {
            "line": {
             "colorbar": {
              "outlinewidth": 0,
              "ticks": ""
             }
            },
            "type": "parcoords"
           }
          ],
          "pie": [
           {
            "automargin": true,
            "type": "pie"
           }
          ],
          "scatter": [
           {
            "fillpattern": {
             "fillmode": "overlay",
             "size": 10,
             "solidity": 0.2
            },
            "type": "scatter"
           }
          ],
          "scatter3d": [
           {
            "line": {
             "colorbar": {
              "outlinewidth": 0,
              "ticks": ""
             }
            },
            "marker": {
             "colorbar": {
              "outlinewidth": 0,
              "ticks": ""
             }
            },
            "type": "scatter3d"
           }
          ],
          "scattercarpet": [
           {
            "marker": {
             "colorbar": {
              "outlinewidth": 0,
              "ticks": ""
             }
            },
            "type": "scattercarpet"
           }
          ],
          "scattergeo": [
           {
            "marker": {
             "colorbar": {
              "outlinewidth": 0,
              "ticks": ""
             }
            },
            "type": "scattergeo"
           }
          ],
          "scattergl": [
           {
            "marker": {
             "colorbar": {
              "outlinewidth": 0,
              "ticks": ""
             }
            },
            "type": "scattergl"
           }
          ],
          "scattermapbox": [
           {
            "marker": {
             "colorbar": {
              "outlinewidth": 0,
              "ticks": ""
             }
            },
            "type": "scattermapbox"
           }
          ],
          "scatterpolar": [
           {
            "marker": {
             "colorbar": {
              "outlinewidth": 0,
              "ticks": ""
             }
            },
            "type": "scatterpolar"
           }
          ],
          "scatterpolargl": [
           {
            "marker": {
             "colorbar": {
              "outlinewidth": 0,
              "ticks": ""
             }
            },
            "type": "scatterpolargl"
           }
          ],
          "scatterternary": [
           {
            "marker": {
             "colorbar": {
              "outlinewidth": 0,
              "ticks": ""
             }
            },
            "type": "scatterternary"
           }
          ],
          "surface": [
           {
            "colorbar": {
             "outlinewidth": 0,
             "ticks": ""
            },
            "colorscale": [
             [
              0,
              "#0d0887"
             ],
             [
              0.1111111111111111,
              "#46039f"
             ],
             [
              0.2222222222222222,
              "#7201a8"
             ],
             [
              0.3333333333333333,
              "#9c179e"
             ],
             [
              0.4444444444444444,
              "#bd3786"
             ],
             [
              0.5555555555555556,
              "#d8576b"
             ],
             [
              0.6666666666666666,
              "#ed7953"
             ],
             [
              0.7777777777777778,
              "#fb9f3a"
             ],
             [
              0.8888888888888888,
              "#fdca26"
             ],
             [
              1,
              "#f0f921"
             ]
            ],
            "type": "surface"
           }
          ],
          "table": [
           {
            "cells": {
             "fill": {
              "color": "#EBF0F8"
             },
             "line": {
              "color": "white"
             }
            },
            "header": {
             "fill": {
              "color": "#C8D4E3"
             },
             "line": {
              "color": "white"
             }
            },
            "type": "table"
           }
          ]
         },
         "layout": {
          "annotationdefaults": {
           "arrowcolor": "#2a3f5f",
           "arrowhead": 0,
           "arrowwidth": 1
          },
          "autotypenumbers": "strict",
          "coloraxis": {
           "colorbar": {
            "outlinewidth": 0,
            "ticks": ""
           }
          },
          "colorscale": {
           "diverging": [
            [
             0,
             "#8e0152"
            ],
            [
             0.1,
             "#c51b7d"
            ],
            [
             0.2,
             "#de77ae"
            ],
            [
             0.3,
             "#f1b6da"
            ],
            [
             0.4,
             "#fde0ef"
            ],
            [
             0.5,
             "#f7f7f7"
            ],
            [
             0.6,
             "#e6f5d0"
            ],
            [
             0.7,
             "#b8e186"
            ],
            [
             0.8,
             "#7fbc41"
            ],
            [
             0.9,
             "#4d9221"
            ],
            [
             1,
             "#276419"
            ]
           ],
           "sequential": [
            [
             0,
             "#0d0887"
            ],
            [
             0.1111111111111111,
             "#46039f"
            ],
            [
             0.2222222222222222,
             "#7201a8"
            ],
            [
             0.3333333333333333,
             "#9c179e"
            ],
            [
             0.4444444444444444,
             "#bd3786"
            ],
            [
             0.5555555555555556,
             "#d8576b"
            ],
            [
             0.6666666666666666,
             "#ed7953"
            ],
            [
             0.7777777777777778,
             "#fb9f3a"
            ],
            [
             0.8888888888888888,
             "#fdca26"
            ],
            [
             1,
             "#f0f921"
            ]
           ],
           "sequentialminus": [
            [
             0,
             "#0d0887"
            ],
            [
             0.1111111111111111,
             "#46039f"
            ],
            [
             0.2222222222222222,
             "#7201a8"
            ],
            [
             0.3333333333333333,
             "#9c179e"
            ],
            [
             0.4444444444444444,
             "#bd3786"
            ],
            [
             0.5555555555555556,
             "#d8576b"
            ],
            [
             0.6666666666666666,
             "#ed7953"
            ],
            [
             0.7777777777777778,
             "#fb9f3a"
            ],
            [
             0.8888888888888888,
             "#fdca26"
            ],
            [
             1,
             "#f0f921"
            ]
           ]
          },
          "colorway": [
           "#636efa",
           "#EF553B",
           "#00cc96",
           "#ab63fa",
           "#FFA15A",
           "#19d3f3",
           "#FF6692",
           "#B6E880",
           "#FF97FF",
           "#FECB52"
          ],
          "font": {
           "color": "#2a3f5f"
          },
          "geo": {
           "bgcolor": "white",
           "lakecolor": "white",
           "landcolor": "#E5ECF6",
           "showlakes": true,
           "showland": true,
           "subunitcolor": "white"
          },
          "hoverlabel": {
           "align": "left"
          },
          "hovermode": "closest",
          "mapbox": {
           "style": "light"
          },
          "paper_bgcolor": "white",
          "plot_bgcolor": "#E5ECF6",
          "polar": {
           "angularaxis": {
            "gridcolor": "white",
            "linecolor": "white",
            "ticks": ""
           },
           "bgcolor": "#E5ECF6",
           "radialaxis": {
            "gridcolor": "white",
            "linecolor": "white",
            "ticks": ""
           }
          },
          "scene": {
           "xaxis": {
            "backgroundcolor": "#E5ECF6",
            "gridcolor": "white",
            "gridwidth": 2,
            "linecolor": "white",
            "showbackground": true,
            "ticks": "",
            "zerolinecolor": "white"
           },
           "yaxis": {
            "backgroundcolor": "#E5ECF6",
            "gridcolor": "white",
            "gridwidth": 2,
            "linecolor": "white",
            "showbackground": true,
            "ticks": "",
            "zerolinecolor": "white"
           },
           "zaxis": {
            "backgroundcolor": "#E5ECF6",
            "gridcolor": "white",
            "gridwidth": 2,
            "linecolor": "white",
            "showbackground": true,
            "ticks": "",
            "zerolinecolor": "white"
           }
          },
          "shapedefaults": {
           "line": {
            "color": "#2a3f5f"
           }
          },
          "ternary": {
           "aaxis": {
            "gridcolor": "white",
            "linecolor": "white",
            "ticks": ""
           },
           "baxis": {
            "gridcolor": "white",
            "linecolor": "white",
            "ticks": ""
           },
           "bgcolor": "#E5ECF6",
           "caxis": {
            "gridcolor": "white",
            "linecolor": "white",
            "ticks": ""
           }
          },
          "title": {
           "x": 0.05
          },
          "xaxis": {
           "automargin": true,
           "gridcolor": "white",
           "linecolor": "white",
           "ticks": "",
           "title": {
            "standoff": 15
           },
           "zerolinecolor": "white",
           "zerolinewidth": 2
          },
          "yaxis": {
           "automargin": true,
           "gridcolor": "white",
           "linecolor": "white",
           "ticks": "",
           "title": {
            "standoff": 15
           },
           "zerolinecolor": "white",
           "zerolinewidth": 2
          }
         }
        },
        "title": {
         "text": "Topic Evolution Over Time for User anzgri"
        },
        "width": 900,
        "xaxis": {
         "title": {
          "text": "Time"
         }
        },
        "yaxis": {
         "title": {
          "text": "Topic Proportion"
         }
        }
       }
      }
     },
     "metadata": {},
     "output_type": "display_data"
    }
   ],
   "source": [
    "# Load temporal data if available\n",
    "temporal_data_file = \"topic_analysis_results/streamlined_tweets_analysis/bertopic_results/temporal_topic_data.pkl\"\n",
    "if os.path.exists(temporal_data_file):\n",
    "    import pickle\n",
    "    with open(temporal_data_file, 'rb') as f:\n",
    "        temporal_topic_data = pickle.load(f)\n",
    "    \n",
    "    def plot_temporal_topics(user_id, show_individual):\n",
    "        user_id = temporal_user_selector.value\n",
    "        \n",
    "        if user_id not in temporal_topic_data:\n",
    "            print(f\"No temporal data available for user {user_id}\")\n",
    "            return\n",
    "        \n",
    "        # Get temporal data for this user\n",
    "        user_temporal = temporal_topic_data[user_id]\n",
    "        \n",
    "        # Only include top topics\n",
    "        top_n = 5\n",
    "        avg_dist = user_temporal.mean()\n",
    "        top_topics = avg_dist.nlargest(top_n).index.tolist()\n",
    "        \n",
    "        # Create 'Other' category for remaining topics\n",
    "        user_temporal_plot = user_temporal.copy()\n",
    "        user_temporal_plot['Other'] = user_temporal_plot.drop(columns=top_topics).sum(axis=1)\n",
    "        \n",
    "        # Plot using plotly\n",
    "        fig = go.Figure()\n",
    "        \n",
    "        # Add traces for each topic\n",
    "        for topic in top_topics:\n",
    "            fig.add_trace(go.Scatter(\n",
    "                x=user_temporal_plot.index,\n",
    "                y=user_temporal_plot[topic],\n",
    "                mode='lines',\n",
    "                stackgroup='one',\n",
    "                name=topic\n",
    "            ))\n",
    "        \n",
    "        # Add trace for 'Other'\n",
    "        fig.add_trace(go.Scatter(\n",
    "            x=user_temporal_plot.index,\n",
    "            y=user_temporal_plot['Other'],\n",
    "            mode='lines',\n",
    "            stackgroup='one',\n",
    "            name='Other'\n",
    "        ))\n",
    "        \n",
    "        fig.update_layout(\n",
    "            title=f'Topic Evolution Over Time for User {user_id}',\n",
    "            xaxis_title='Time',\n",
    "            yaxis_title='Topic Proportion',\n",
    "            hovermode='x unified',\n",
    "            height=500,\n",
    "            width=900\n",
    "        )\n",
    "        \n",
    "        fig.show()\n",
    "        \n",
    "        # Also show line chart for individual topic evolution\n",
    "        if show_individual:\n",
    "            fig2 = go.Figure()\n",
    "            \n",
    "            for topic in top_topics:\n",
    "                fig2.add_trace(go.Scatter(\n",
    "                    x=user_temporal.index,\n",
    "                    y=user_temporal[topic],\n",
    "                    mode='lines+markers',\n",
    "                    name=topic\n",
    "                ))\n",
    "            \n",
    "            fig2.update_layout(\n",
    "                title=f'Individual Topic Evolution for User {user_id}',\n",
    "                xaxis_title='Time',\n",
    "                yaxis_title='Topic Proportion',\n",
    "                height=500,\n",
    "                width=900\n",
    "            )\n",
    "            \n",
    "            fig2.show()\n",
    "    \n",
    "    # Create user selector for temporal analysis\n",
    "    temporal_user_list = sorted(list(temporal_topic_data.keys()))\n",
    "    temporal_user_selector = widgets.Dropdown(\n",
    "        options=temporal_user_list,\n",
    "        value=temporal_user_list[0] if temporal_user_list else None,\n",
    "        description='User:',\n",
    "        style={'description_width': 'initial'}\n",
    "    )\n",
    "    \n",
    "    # Create toggle for showing individual topic lines\n",
    "    show_individual = widgets.Checkbox(\n",
    "        value=False,\n",
    "        description='Show Individual Topic Lines',\n",
    "        style={'description_width': 'initial'}\n",
    "    )\n",
    "    \n",
    "    # Display interactive widget\n",
    "    display(widgets.VBox([\n",
    "        widgets.HTML('<h3>Temporal Topic Analysis</h3>'),\n",
    "        widgets.HBox([temporal_user_selector, show_individual]),\n",
    "        widgets.interactive_output(plot_temporal_topics, {\n",
    "            'user_id': temporal_user_selector,\n",
    "            'show_individual': show_individual\n",
    "        })\n",
    "    ]))\n",
    "else:\n",
    "    print(\"Temporal topic data not found. Skipping temporal analysis.\")"
   ]
  },
  {
   "cell_type": "markdown",
   "id": "707f8f9e-0e77-475a-9b3e-2e438f35cfff",
   "metadata": {},
   "source": [
    "# 6. Topic Similarity and Clustering\n"
   ]
  },
  {
   "cell_type": "code",
   "execution_count": 8,
   "id": "c4f0ff70-5cb3-4432-a3cb-abd5c6669e9b",
   "metadata": {},
   "outputs": [
    {
     "data": {
      "application/vnd.plotly.v1+json": {
       "config": {
        "plotlyServerURL": "https://plot.ly"
       },
       "data": [
        {
         "coloraxis": "coloraxis",
         "hovertemplate": "Topic: %{x}<br>Topic: %{y}<br>Similarity: %{z}<extra></extra>",
         "name": "0",
         "type": "heatmap",
         "x": [
          "Topic 0",
          "Topic 1",
          "Topic 2",
          "Topic 3",
          "Topic 4",
          "Topic 5",
          "Topic 6",
          "Topic 7",
          "Topic 8",
          "Topic 9",
          "Topic 10",
          "Topic 11"
         ],
         "xaxis": "x",
         "y": [
          "Topic 0",
          "Topic 1",
          "Topic 2",
          "Topic 3",
          "Topic 4",
          "Topic 5",
          "Topic 6",
          "Topic 7",
          "Topic 8",
          "Topic 9",
          "Topic 10",
          "Topic 11"
         ],
         "yaxis": "y",
         "z": [
          [
           1,
           0.20743874865631687,
           0.2754155970105685,
           0.2623142923507364,
           0.44911334788868784,
           0.37678997136240044,
           0.10197796763766395,
           0.2892090237837356,
           0.4773948537859424,
           0.4005510066778571,
           0.48934050740314117,
           0.1637980804840549
          ],
          [
           0.20743874865631687,
           0.9999999999999996,
           0.1930050446353158,
           0.20797324630719016,
           0.29345360365817175,
           0.18606215817052169,
           0.06903608946535535,
           0.20387296923757914,
           0.30280564315869585,
           0.12096723247577729,
           0.27611838878468103,
           0.16800367026936333
          ],
          [
           0.2754155970105685,
           0.1930050446353158,
           0.9999999999999994,
           0.38566644974903214,
           0.6515453339859815,
           0.3140390149908609,
           0.13352807711566167,
           0.35584076806910503,
           0.576154943076455,
           0.1512494229086514,
           0.4626901556818464,
           0.12218887690575823
          ],
          [
           0.2623142923507364,
           0.20797324630719016,
           0.38566644974903214,
           1.0000000000000009,
           0.47924328312628334,
           0.30775309080847524,
           0.16798210335703262,
           0.3554487020060507,
           0.5620120686758079,
           0.16927000970449543,
           0.6180493102183544,
           0.13128853279725053
          ],
          [
           0.44911334788868784,
           0.29345360365817175,
           0.6515453339859815,
           0.47924328312628334,
           0.9999999999999999,
           0.5317044858748794,
           0.16651419958801017,
           0.6140233806357327,
           0.8716230477151932,
           0.22587999121849417,
           0.715037896850828,
           0.21014985492891025
          ],
          [
           0.37678997136240044,
           0.18606215817052169,
           0.3140390149908609,
           0.30775309080847524,
           0.5317044858748794,
           0.9999999999999997,
           0.11372532474049007,
           0.38751185782701436,
           0.5441306463996973,
           0.2502734225621469,
           0.5270635924048988,
           0.14780812827613626
          ],
          [
           0.10197796763766395,
           0.06903608946535535,
           0.13352807711566167,
           0.16798210335703262,
           0.16651419958801017,
           0.11372532474049007,
           1.0000000000000002,
           0.1395439507671502,
           0.20028930955693225,
           0.056534264544212544,
           0.1914534274637091,
           0.05725882924503154
          ],
          [
           0.2892090237837356,
           0.20387296923757914,
           0.35584076806910503,
           0.3554487020060507,
           0.6140233806357327,
           0.38751185782701436,
           0.1395439507671502,
           0.9999999999999997,
           0.5716546004743129,
           0.13410302367380084,
           0.534382113636356,
           0.1466142345526399
          ],
          [
           0.4773948537859424,
           0.30280564315869585,
           0.576154943076455,
           0.5620120686758079,
           0.8716230477151932,
           0.5441306463996973,
           0.20028930955693225,
           0.5716546004743129,
           1.0000000000000004,
           0.1877001117045595,
           0.8257668865283578,
           0.18743970333318466
          ],
          [
           0.4005510066778571,
           0.12096723247577729,
           0.1512494229086514,
           0.16927000970449543,
           0.22587999121849417,
           0.2502734225621469,
           0.056534264544212544,
           0.13410302367380084,
           0.1877001117045595,
           0.9999999999999997,
           0.16292146702511873,
           0.11505513514900867
          ],
          [
           0.48934050740314117,
           0.27611838878468103,
           0.4626901556818464,
           0.6180493102183544,
           0.715037896850828,
           0.5270635924048988,
           0.1914534274637091,
           0.534382113636356,
           0.8257668865283578,
           0.16292146702511873,
           0.9999999999999994,
           0.2065492670421472
          ],
          [
           0.1637980804840549,
           0.16800367026936333,
           0.12218887690575823,
           0.13128853279725053,
           0.21014985492891025,
           0.14780812827613626,
           0.05725882924503154,
           0.1466142345526399,
           0.18743970333318466,
           0.11505513514900867,
           0.2065492670421472,
           0.9999999999999996
          ]
         ]
        }
       ],
       "layout": {
        "coloraxis": {
         "colorbar": {
          "title": {
           "text": "Similarity"
          }
         },
         "colorscale": [
          [
           0,
           "#440154"
          ],
          [
           0.1111111111111111,
           "#482878"
          ],
          [
           0.2222222222222222,
           "#3e4989"
          ],
          [
           0.3333333333333333,
           "#31688e"
          ],
          [
           0.4444444444444444,
           "#26828e"
          ],
          [
           0.5555555555555556,
           "#1f9e89"
          ],
          [
           0.6666666666666666,
           "#35b779"
          ],
          [
           0.7777777777777778,
           "#6ece58"
          ],
          [
           0.8888888888888888,
           "#b5de2b"
          ],
          [
           1,
           "#fde725"
          ]
         ]
        },
        "height": 600,
        "margin": {
         "t": 60
        },
        "template": {
         "data": {
          "bar": [
           {
            "error_x": {
             "color": "#2a3f5f"
            },
            "error_y": {
             "color": "#2a3f5f"
            },
            "marker": {
             "line": {
              "color": "#E5ECF6",
              "width": 0.5
             },
             "pattern": {
              "fillmode": "overlay",
              "size": 10,
              "solidity": 0.2
             }
            },
            "type": "bar"
           }
          ],
          "barpolar": [
           {
            "marker": {
             "line": {
              "color": "#E5ECF6",
              "width": 0.5
             },
             "pattern": {
              "fillmode": "overlay",
              "size": 10,
              "solidity": 0.2
             }
            },
            "type": "barpolar"
           }
          ],
          "carpet": [
           {
            "aaxis": {
             "endlinecolor": "#2a3f5f",
             "gridcolor": "white",
             "linecolor": "white",
             "minorgridcolor": "white",
             "startlinecolor": "#2a3f5f"
            },
            "baxis": {
             "endlinecolor": "#2a3f5f",
             "gridcolor": "white",
             "linecolor": "white",
             "minorgridcolor": "white",
             "startlinecolor": "#2a3f5f"
            },
            "type": "carpet"
           }
          ],
          "choropleth": [
           {
            "colorbar": {
             "outlinewidth": 0,
             "ticks": ""
            },
            "type": "choropleth"
           }
          ],
          "contour": [
           {
            "colorbar": {
             "outlinewidth": 0,
             "ticks": ""
            },
            "colorscale": [
             [
              0,
              "#0d0887"
             ],
             [
              0.1111111111111111,
              "#46039f"
             ],
             [
              0.2222222222222222,
              "#7201a8"
             ],
             [
              0.3333333333333333,
              "#9c179e"
             ],
             [
              0.4444444444444444,
              "#bd3786"
             ],
             [
              0.5555555555555556,
              "#d8576b"
             ],
             [
              0.6666666666666666,
              "#ed7953"
             ],
             [
              0.7777777777777778,
              "#fb9f3a"
             ],
             [
              0.8888888888888888,
              "#fdca26"
             ],
             [
              1,
              "#f0f921"
             ]
            ],
            "type": "contour"
           }
          ],
          "contourcarpet": [
           {
            "colorbar": {
             "outlinewidth": 0,
             "ticks": ""
            },
            "type": "contourcarpet"
           }
          ],
          "heatmap": [
           {
            "colorbar": {
             "outlinewidth": 0,
             "ticks": ""
            },
            "colorscale": [
             [
              0,
              "#0d0887"
             ],
             [
              0.1111111111111111,
              "#46039f"
             ],
             [
              0.2222222222222222,
              "#7201a8"
             ],
             [
              0.3333333333333333,
              "#9c179e"
             ],
             [
              0.4444444444444444,
              "#bd3786"
             ],
             [
              0.5555555555555556,
              "#d8576b"
             ],
             [
              0.6666666666666666,
              "#ed7953"
             ],
             [
              0.7777777777777778,
              "#fb9f3a"
             ],
             [
              0.8888888888888888,
              "#fdca26"
             ],
             [
              1,
              "#f0f921"
             ]
            ],
            "type": "heatmap"
           }
          ],
          "heatmapgl": [
           {
            "colorbar": {
             "outlinewidth": 0,
             "ticks": ""
            },
            "colorscale": [
             [
              0,
              "#0d0887"
             ],
             [
              0.1111111111111111,
              "#46039f"
             ],
             [
              0.2222222222222222,
              "#7201a8"
             ],
             [
              0.3333333333333333,
              "#9c179e"
             ],
             [
              0.4444444444444444,
              "#bd3786"
             ],
             [
              0.5555555555555556,
              "#d8576b"
             ],
             [
              0.6666666666666666,
              "#ed7953"
             ],
             [
              0.7777777777777778,
              "#fb9f3a"
             ],
             [
              0.8888888888888888,
              "#fdca26"
             ],
             [
              1,
              "#f0f921"
             ]
            ],
            "type": "heatmapgl"
           }
          ],
          "histogram": [
           {
            "marker": {
             "pattern": {
              "fillmode": "overlay",
              "size": 10,
              "solidity": 0.2
             }
            },
            "type": "histogram"
           }
          ],
          "histogram2d": [
           {
            "colorbar": {
             "outlinewidth": 0,
             "ticks": ""
            },
            "colorscale": [
             [
              0,
              "#0d0887"
             ],
             [
              0.1111111111111111,
              "#46039f"
             ],
             [
              0.2222222222222222,
              "#7201a8"
             ],
             [
              0.3333333333333333,
              "#9c179e"
             ],
             [
              0.4444444444444444,
              "#bd3786"
             ],
             [
              0.5555555555555556,
              "#d8576b"
             ],
             [
              0.6666666666666666,
              "#ed7953"
             ],
             [
              0.7777777777777778,
              "#fb9f3a"
             ],
             [
              0.8888888888888888,
              "#fdca26"
             ],
             [
              1,
              "#f0f921"
             ]
            ],
            "type": "histogram2d"
           }
          ],
          "histogram2dcontour": [
           {
            "colorbar": {
             "outlinewidth": 0,
             "ticks": ""
            },
            "colorscale": [
             [
              0,
              "#0d0887"
             ],
             [
              0.1111111111111111,
              "#46039f"
             ],
             [
              0.2222222222222222,
              "#7201a8"
             ],
             [
              0.3333333333333333,
              "#9c179e"
             ],
             [
              0.4444444444444444,
              "#bd3786"
             ],
             [
              0.5555555555555556,
              "#d8576b"
             ],
             [
              0.6666666666666666,
              "#ed7953"
             ],
             [
              0.7777777777777778,
              "#fb9f3a"
             ],
             [
              0.8888888888888888,
              "#fdca26"
             ],
             [
              1,
              "#f0f921"
             ]
            ],
            "type": "histogram2dcontour"
           }
          ],
          "mesh3d": [
           {
            "colorbar": {
             "outlinewidth": 0,
             "ticks": ""
            },
            "type": "mesh3d"
           }
          ],
          "parcoords": [
           {
            "line": {
             "colorbar": {
              "outlinewidth": 0,
              "ticks": ""
             }
            },
            "type": "parcoords"
           }
          ],
          "pie": [
           {
            "automargin": true,
            "type": "pie"
           }
          ],
          "scatter": [
           {
            "fillpattern": {
             "fillmode": "overlay",
             "size": 10,
             "solidity": 0.2
            },
            "type": "scatter"
           }
          ],
          "scatter3d": [
           {
            "line": {
             "colorbar": {
              "outlinewidth": 0,
              "ticks": ""
             }
            },
            "marker": {
             "colorbar": {
              "outlinewidth": 0,
              "ticks": ""
             }
            },
            "type": "scatter3d"
           }
          ],
          "scattercarpet": [
           {
            "marker": {
             "colorbar": {
              "outlinewidth": 0,
              "ticks": ""
             }
            },
            "type": "scattercarpet"
           }
          ],
          "scattergeo": [
           {
            "marker": {
             "colorbar": {
              "outlinewidth": 0,
              "ticks": ""
             }
            },
            "type": "scattergeo"
           }
          ],
          "scattergl": [
           {
            "marker": {
             "colorbar": {
              "outlinewidth": 0,
              "ticks": ""
             }
            },
            "type": "scattergl"
           }
          ],
          "scattermapbox": [
           {
            "marker": {
             "colorbar": {
              "outlinewidth": 0,
              "ticks": ""
             }
            },
            "type": "scattermapbox"
           }
          ],
          "scatterpolar": [
           {
            "marker": {
             "colorbar": {
              "outlinewidth": 0,
              "ticks": ""
             }
            },
            "type": "scatterpolar"
           }
          ],
          "scatterpolargl": [
           {
            "marker": {
             "colorbar": {
              "outlinewidth": 0,
              "ticks": ""
             }
            },
            "type": "scatterpolargl"
           }
          ],
          "scatterternary": [
           {
            "marker": {
             "colorbar": {
              "outlinewidth": 0,
              "ticks": ""
             }
            },
            "type": "scatterternary"
           }
          ],
          "surface": [
           {
            "colorbar": {
             "outlinewidth": 0,
             "ticks": ""
            },
            "colorscale": [
             [
              0,
              "#0d0887"
             ],
             [
              0.1111111111111111,
              "#46039f"
             ],
             [
              0.2222222222222222,
              "#7201a8"
             ],
             [
              0.3333333333333333,
              "#9c179e"
             ],
             [
              0.4444444444444444,
              "#bd3786"
             ],
             [
              0.5555555555555556,
              "#d8576b"
             ],
             [
              0.6666666666666666,
              "#ed7953"
             ],
             [
              0.7777777777777778,
              "#fb9f3a"
             ],
             [
              0.8888888888888888,
              "#fdca26"
             ],
             [
              1,
              "#f0f921"
             ]
            ],
            "type": "surface"
           }
          ],
          "table": [
           {
            "cells": {
             "fill": {
              "color": "#EBF0F8"
             },
             "line": {
              "color": "white"
             }
            },
            "header": {
             "fill": {
              "color": "#C8D4E3"
             },
             "line": {
              "color": "white"
             }
            },
            "type": "table"
           }
          ]
         },
         "layout": {
          "annotationdefaults": {
           "arrowcolor": "#2a3f5f",
           "arrowhead": 0,
           "arrowwidth": 1
          },
          "autotypenumbers": "strict",
          "coloraxis": {
           "colorbar": {
            "outlinewidth": 0,
            "ticks": ""
           }
          },
          "colorscale": {
           "diverging": [
            [
             0,
             "#8e0152"
            ],
            [
             0.1,
             "#c51b7d"
            ],
            [
             0.2,
             "#de77ae"
            ],
            [
             0.3,
             "#f1b6da"
            ],
            [
             0.4,
             "#fde0ef"
            ],
            [
             0.5,
             "#f7f7f7"
            ],
            [
             0.6,
             "#e6f5d0"
            ],
            [
             0.7,
             "#b8e186"
            ],
            [
             0.8,
             "#7fbc41"
            ],
            [
             0.9,
             "#4d9221"
            ],
            [
             1,
             "#276419"
            ]
           ],
           "sequential": [
            [
             0,
             "#0d0887"
            ],
            [
             0.1111111111111111,
             "#46039f"
            ],
            [
             0.2222222222222222,
             "#7201a8"
            ],
            [
             0.3333333333333333,
             "#9c179e"
            ],
            [
             0.4444444444444444,
             "#bd3786"
            ],
            [
             0.5555555555555556,
             "#d8576b"
            ],
            [
             0.6666666666666666,
             "#ed7953"
            ],
            [
             0.7777777777777778,
             "#fb9f3a"
            ],
            [
             0.8888888888888888,
             "#fdca26"
            ],
            [
             1,
             "#f0f921"
            ]
           ],
           "sequentialminus": [
            [
             0,
             "#0d0887"
            ],
            [
             0.1111111111111111,
             "#46039f"
            ],
            [
             0.2222222222222222,
             "#7201a8"
            ],
            [
             0.3333333333333333,
             "#9c179e"
            ],
            [
             0.4444444444444444,
             "#bd3786"
            ],
            [
             0.5555555555555556,
             "#d8576b"
            ],
            [
             0.6666666666666666,
             "#ed7953"
            ],
            [
             0.7777777777777778,
             "#fb9f3a"
            ],
            [
             0.8888888888888888,
             "#fdca26"
            ],
            [
             1,
             "#f0f921"
            ]
           ]
          },
          "colorway": [
           "#636efa",
           "#EF553B",
           "#00cc96",
           "#ab63fa",
           "#FFA15A",
           "#19d3f3",
           "#FF6692",
           "#B6E880",
           "#FF97FF",
           "#FECB52"
          ],
          "font": {
           "color": "#2a3f5f"
          },
          "geo": {
           "bgcolor": "white",
           "lakecolor": "white",
           "landcolor": "#E5ECF6",
           "showlakes": true,
           "showland": true,
           "subunitcolor": "white"
          },
          "hoverlabel": {
           "align": "left"
          },
          "hovermode": "closest",
          "mapbox": {
           "style": "light"
          },
          "paper_bgcolor": "white",
          "plot_bgcolor": "#E5ECF6",
          "polar": {
           "angularaxis": {
            "gridcolor": "white",
            "linecolor": "white",
            "ticks": ""
           },
           "bgcolor": "#E5ECF6",
           "radialaxis": {
            "gridcolor": "white",
            "linecolor": "white",
            "ticks": ""
           }
          },
          "scene": {
           "xaxis": {
            "backgroundcolor": "#E5ECF6",
            "gridcolor": "white",
            "gridwidth": 2,
            "linecolor": "white",
            "showbackground": true,
            "ticks": "",
            "zerolinecolor": "white"
           },
           "yaxis": {
            "backgroundcolor": "#E5ECF6",
            "gridcolor": "white",
            "gridwidth": 2,
            "linecolor": "white",
            "showbackground": true,
            "ticks": "",
            "zerolinecolor": "white"
           },
           "zaxis": {
            "backgroundcolor": "#E5ECF6",
            "gridcolor": "white",
            "gridwidth": 2,
            "linecolor": "white",
            "showbackground": true,
            "ticks": "",
            "zerolinecolor": "white"
           }
          },
          "shapedefaults": {
           "line": {
            "color": "#2a3f5f"
           }
          },
          "ternary": {
           "aaxis": {
            "gridcolor": "white",
            "linecolor": "white",
            "ticks": ""
           },
           "baxis": {
            "gridcolor": "white",
            "linecolor": "white",
            "ticks": ""
           },
           "bgcolor": "#E5ECF6",
           "caxis": {
            "gridcolor": "white",
            "linecolor": "white",
            "ticks": ""
           }
          },
          "title": {
           "x": 0.05
          },
          "xaxis": {
           "automargin": true,
           "gridcolor": "white",
           "linecolor": "white",
           "ticks": "",
           "title": {
            "standoff": 15
           },
           "zerolinecolor": "white",
           "zerolinewidth": 2
          },
          "yaxis": {
           "automargin": true,
           "gridcolor": "white",
           "linecolor": "white",
           "ticks": "",
           "title": {
            "standoff": 15
           },
           "zerolinecolor": "white",
           "zerolinewidth": 2
          }
         }
        },
        "title": {
         "text": "Topic Similarity Matrix"
        },
        "width": 800,
        "xaxis": {
         "anchor": "y",
         "constrain": "domain",
         "domain": [
          0,
          1
         ],
         "scaleanchor": "y",
         "title": {
          "text": "Topic"
         }
        },
        "yaxis": {
         "anchor": "x",
         "autorange": "reversed",
         "constrain": "domain",
         "domain": [
          0,
          1
         ],
         "title": {
          "text": "Topic"
         }
        }
       }
      }
     },
     "metadata": {},
     "output_type": "display_data"
    },
    {
     "data": {
      "application/vnd.plotly.v1+json": {
       "config": {
        "plotlyServerURL": "https://plot.ly"
       },
       "data": [
        {
         "hoverinfo": "none",
         "line": {
          "color": "rgba(150,150,150,0.8)",
          "width": 1
         },
         "mode": "lines",
         "type": "scatter",
         "x": [
          0.17799071821169749,
          0.012445976864033849,
          null,
          0.17799071821169749,
          -0.10177843777881367,
          null,
          0.17799071821169749,
          -0.017888680845340305,
          null,
          0.17799071821169749,
          0.4864440803998946,
          null,
          0.17799071821169749,
          -0.04899915417724779,
          null,
          -0.011359434569535589,
          -0.017888680845340305,
          null,
          -0.1767962720999051,
          -0.20656045296042705,
          null,
          -0.1767962720999051,
          0.012445976864033849,
          null,
          -0.1767962720999051,
          -0.10177843777881367,
          null,
          -0.1767962720999051,
          -0.08024216630989192,
          null,
          -0.1767962720999051,
          -0.017888680845340305,
          null,
          -0.1767962720999051,
          -0.04899915417724779,
          null,
          -0.20656045296042705,
          0.012445976864033849,
          null,
          -0.20656045296042705,
          -0.10177843777881367,
          null,
          -0.20656045296042705,
          -0.08024216630989192,
          null,
          -0.20656045296042705,
          -0.017888680845340305,
          null,
          -0.20656045296042705,
          -0.04899915417724779,
          null,
          0.012445976864033849,
          -0.10177843777881367,
          null,
          0.012445976864033849,
          -0.08024216630989192,
          null,
          0.012445976864033849,
          -0.017888680845340305,
          null,
          0.012445976864033849,
          -0.04899915417724779,
          null,
          -0.10177843777881367,
          -0.08024216630989192,
          null,
          -0.10177843777881367,
          -0.017888680845340305,
          null,
          -0.10177843777881367,
          -0.04899915417724779,
          null,
          -0.08024216630989192,
          -0.017888680845340305,
          null,
          -0.08024216630989192,
          -0.04899915417724779,
          null,
          -0.017888680845340305,
          -0.04899915417724779,
          null
         ],
         "y": [
          0.12557833101469593,
          -0.00008514024108415323,
          null,
          0.12557833101469593,
          0.1463474111952619,
          null,
          0.12557833101469593,
          0.14938353205381427,
          null,
          0.12557833101469593,
          0.1812068323378383,
          null,
          0.12557833101469593,
          0.04835491060343968,
          null,
          0.5249157413739863,
          0.14938353205381427,
          null,
          -0.032179297133555274,
          0.07603509709127389,
          null,
          -0.032179297133555274,
          -0.00008514024108415323,
          null,
          -0.032179297133555274,
          0.1463474111952619,
          null,
          -0.032179297133555274,
          -0.0818305748249456,
          null,
          -0.032179297133555274,
          0.14938353205381427,
          null,
          -0.032179297133555274,
          0.04835491060343968,
          null,
          0.07603509709127389,
          -0.00008514024108415323,
          null,
          0.07603509709127389,
          0.1463474111952619,
          null,
          0.07603509709127389,
          -0.0818305748249456,
          null,
          0.07603509709127389,
          0.14938353205381427,
          null,
          0.07603509709127389,
          0.04835491060343968,
          null,
          -0.00008514024108415323,
          0.1463474111952619,
          null,
          -0.00008514024108415323,
          -0.0818305748249456,
          null,
          -0.00008514024108415323,
          0.14938353205381427,
          null,
          -0.00008514024108415323,
          0.04835491060343968,
          null,
          0.1463474111952619,
          -0.0818305748249456,
          null,
          0.1463474111952619,
          0.14938353205381427,
          null,
          0.1463474111952619,
          0.04835491060343968,
          null,
          -0.0818305748249456,
          0.14938353205381427,
          null,
          -0.0818305748249456,
          0.04835491060343968,
          null,
          0.14938353205381427,
          0.04835491060343968,
          null
         ]
        },
        {
         "marker": {
          "color": [
           5,
           1,
           6,
           6,
           7,
           7,
           0,
           6,
           8,
           1,
           7,
           0
          ],
          "colorbar": {
           "thickness": 15,
           "title": {
            "side": "right",
            "text": "Node Connections"
           },
           "xanchor": "left"
          },
          "colorscale": [
           [
            0,
            "#440154"
           ],
           [
            0.1111111111111111,
            "#482878"
           ],
           [
            0.2222222222222222,
            "#3e4989"
           ],
           [
            0.3333333333333333,
            "#31688e"
           ],
           [
            0.4444444444444444,
            "#26828e"
           ],
           [
            0.5555555555555556,
            "#1f9e89"
           ],
           [
            0.6666666666666666,
            "#35b779"
           ],
           [
            0.7777777777777778,
            "#6ece58"
           ],
           [
            0.8888888888888888,
            "#b5de2b"
           ],
           [
            1,
            "#fde725"
           ]
          ],
          "line": {
           "width": 2
          },
          "showscale": true,
          "size": 20
         },
         "mode": "markers+text",
         "text": [
          "Topic 0",
          "Topic 1",
          "Topic 2",
          "Topic 3",
          "Topic 4",
          "Topic 5",
          "Topic 6",
          "Topic 7",
          "Topic 8",
          "Topic 9",
          "Topic 10",
          "Topic 11"
         ],
         "textposition": "top center",
         "type": "scatter",
         "x": [
          0.17799071821169749,
          -0.011359434569535589,
          -0.1767962720999051,
          -0.20656045296042705,
          0.012445976864033849,
          -0.10177843777881367,
          0.9667438232655357,
          -0.08024216630989192,
          -0.017888680845340305,
          0.4864440803998946,
          -0.04899915417724779,
          -1
         ],
         "y": [
          0.12557833101469593,
          0.5249157413739863,
          -0.032179297133555274,
          0.07603509709127389,
          -0.00008514024108415323,
          0.1463474111952619,
          -0.7992565400722157,
          -0.0818305748249456,
          0.14938353205381427,
          0.1812068323378383,
          0.04835491060343968,
          -0.33847030339850986
         ]
        }
       ],
       "layout": {
        "height": 600,
        "hovermode": "closest",
        "margin": {
         "b": 20,
         "l": 5,
         "r": 5,
         "t": 40
        },
        "showlegend": false,
        "template": {
         "data": {
          "bar": [
           {
            "error_x": {
             "color": "#2a3f5f"
            },
            "error_y": {
             "color": "#2a3f5f"
            },
            "marker": {
             "line": {
              "color": "#E5ECF6",
              "width": 0.5
             },
             "pattern": {
              "fillmode": "overlay",
              "size": 10,
              "solidity": 0.2
             }
            },
            "type": "bar"
           }
          ],
          "barpolar": [
           {
            "marker": {
             "line": {
              "color": "#E5ECF6",
              "width": 0.5
             },
             "pattern": {
              "fillmode": "overlay",
              "size": 10,
              "solidity": 0.2
             }
            },
            "type": "barpolar"
           }
          ],
          "carpet": [
           {
            "aaxis": {
             "endlinecolor": "#2a3f5f",
             "gridcolor": "white",
             "linecolor": "white",
             "minorgridcolor": "white",
             "startlinecolor": "#2a3f5f"
            },
            "baxis": {
             "endlinecolor": "#2a3f5f",
             "gridcolor": "white",
             "linecolor": "white",
             "minorgridcolor": "white",
             "startlinecolor": "#2a3f5f"
            },
            "type": "carpet"
           }
          ],
          "choropleth": [
           {
            "colorbar": {
             "outlinewidth": 0,
             "ticks": ""
            },
            "type": "choropleth"
           }
          ],
          "contour": [
           {
            "colorbar": {
             "outlinewidth": 0,
             "ticks": ""
            },
            "colorscale": [
             [
              0,
              "#0d0887"
             ],
             [
              0.1111111111111111,
              "#46039f"
             ],
             [
              0.2222222222222222,
              "#7201a8"
             ],
             [
              0.3333333333333333,
              "#9c179e"
             ],
             [
              0.4444444444444444,
              "#bd3786"
             ],
             [
              0.5555555555555556,
              "#d8576b"
             ],
             [
              0.6666666666666666,
              "#ed7953"
             ],
             [
              0.7777777777777778,
              "#fb9f3a"
             ],
             [
              0.8888888888888888,
              "#fdca26"
             ],
             [
              1,
              "#f0f921"
             ]
            ],
            "type": "contour"
           }
          ],
          "contourcarpet": [
           {
            "colorbar": {
             "outlinewidth": 0,
             "ticks": ""
            },
            "type": "contourcarpet"
           }
          ],
          "heatmap": [
           {
            "colorbar": {
             "outlinewidth": 0,
             "ticks": ""
            },
            "colorscale": [
             [
              0,
              "#0d0887"
             ],
             [
              0.1111111111111111,
              "#46039f"
             ],
             [
              0.2222222222222222,
              "#7201a8"
             ],
             [
              0.3333333333333333,
              "#9c179e"
             ],
             [
              0.4444444444444444,
              "#bd3786"
             ],
             [
              0.5555555555555556,
              "#d8576b"
             ],
             [
              0.6666666666666666,
              "#ed7953"
             ],
             [
              0.7777777777777778,
              "#fb9f3a"
             ],
             [
              0.8888888888888888,
              "#fdca26"
             ],
             [
              1,
              "#f0f921"
             ]
            ],
            "type": "heatmap"
           }
          ],
          "heatmapgl": [
           {
            "colorbar": {
             "outlinewidth": 0,
             "ticks": ""
            },
            "colorscale": [
             [
              0,
              "#0d0887"
             ],
             [
              0.1111111111111111,
              "#46039f"
             ],
             [
              0.2222222222222222,
              "#7201a8"
             ],
             [
              0.3333333333333333,
              "#9c179e"
             ],
             [
              0.4444444444444444,
              "#bd3786"
             ],
             [
              0.5555555555555556,
              "#d8576b"
             ],
             [
              0.6666666666666666,
              "#ed7953"
             ],
             [
              0.7777777777777778,
              "#fb9f3a"
             ],
             [
              0.8888888888888888,
              "#fdca26"
             ],
             [
              1,
              "#f0f921"
             ]
            ],
            "type": "heatmapgl"
           }
          ],
          "histogram": [
           {
            "marker": {
             "pattern": {
              "fillmode": "overlay",
              "size": 10,
              "solidity": 0.2
             }
            },
            "type": "histogram"
           }
          ],
          "histogram2d": [
           {
            "colorbar": {
             "outlinewidth": 0,
             "ticks": ""
            },
            "colorscale": [
             [
              0,
              "#0d0887"
             ],
             [
              0.1111111111111111,
              "#46039f"
             ],
             [
              0.2222222222222222,
              "#7201a8"
             ],
             [
              0.3333333333333333,
              "#9c179e"
             ],
             [
              0.4444444444444444,
              "#bd3786"
             ],
             [
              0.5555555555555556,
              "#d8576b"
             ],
             [
              0.6666666666666666,
              "#ed7953"
             ],
             [
              0.7777777777777778,
              "#fb9f3a"
             ],
             [
              0.8888888888888888,
              "#fdca26"
             ],
             [
              1,
              "#f0f921"
             ]
            ],
            "type": "histogram2d"
           }
          ],
          "histogram2dcontour": [
           {
            "colorbar": {
             "outlinewidth": 0,
             "ticks": ""
            },
            "colorscale": [
             [
              0,
              "#0d0887"
             ],
             [
              0.1111111111111111,
              "#46039f"
             ],
             [
              0.2222222222222222,
              "#7201a8"
             ],
             [
              0.3333333333333333,
              "#9c179e"
             ],
             [
              0.4444444444444444,
              "#bd3786"
             ],
             [
              0.5555555555555556,
              "#d8576b"
             ],
             [
              0.6666666666666666,
              "#ed7953"
             ],
             [
              0.7777777777777778,
              "#fb9f3a"
             ],
             [
              0.8888888888888888,
              "#fdca26"
             ],
             [
              1,
              "#f0f921"
             ]
            ],
            "type": "histogram2dcontour"
           }
          ],
          "mesh3d": [
           {
            "colorbar": {
             "outlinewidth": 0,
             "ticks": ""
            },
            "type": "mesh3d"
           }
          ],
          "parcoords": [
           {
            "line": {
             "colorbar": {
              "outlinewidth": 0,
              "ticks": ""
             }
            },
            "type": "parcoords"
           }
          ],
          "pie": [
           {
            "automargin": true,
            "type": "pie"
           }
          ],
          "scatter": [
           {
            "fillpattern": {
             "fillmode": "overlay",
             "size": 10,
             "solidity": 0.2
            },
            "type": "scatter"
           }
          ],
          "scatter3d": [
           {
            "line": {
             "colorbar": {
              "outlinewidth": 0,
              "ticks": ""
             }
            },
            "marker": {
             "colorbar": {
              "outlinewidth": 0,
              "ticks": ""
             }
            },
            "type": "scatter3d"
           }
          ],
          "scattercarpet": [
           {
            "marker": {
             "colorbar": {
              "outlinewidth": 0,
              "ticks": ""
             }
            },
            "type": "scattercarpet"
           }
          ],
          "scattergeo": [
           {
            "marker": {
             "colorbar": {
              "outlinewidth": 0,
              "ticks": ""
             }
            },
            "type": "scattergeo"
           }
          ],
          "scattergl": [
           {
            "marker": {
             "colorbar": {
              "outlinewidth": 0,
              "ticks": ""
             }
            },
            "type": "scattergl"
           }
          ],
          "scattermapbox": [
           {
            "marker": {
             "colorbar": {
              "outlinewidth": 0,
              "ticks": ""
             }
            },
            "type": "scattermapbox"
           }
          ],
          "scatterpolar": [
           {
            "marker": {
             "colorbar": {
              "outlinewidth": 0,
              "ticks": ""
             }
            },
            "type": "scatterpolar"
           }
          ],
          "scatterpolargl": [
           {
            "marker": {
             "colorbar": {
              "outlinewidth": 0,
              "ticks": ""
             }
            },
            "type": "scatterpolargl"
           }
          ],
          "scatterternary": [
           {
            "marker": {
             "colorbar": {
              "outlinewidth": 0,
              "ticks": ""
             }
            },
            "type": "scatterternary"
           }
          ],
          "surface": [
           {
            "colorbar": {
             "outlinewidth": 0,
             "ticks": ""
            },
            "colorscale": [
             [
              0,
              "#0d0887"
             ],
             [
              0.1111111111111111,
              "#46039f"
             ],
             [
              0.2222222222222222,
              "#7201a8"
             ],
             [
              0.3333333333333333,
              "#9c179e"
             ],
             [
              0.4444444444444444,
              "#bd3786"
             ],
             [
              0.5555555555555556,
              "#d8576b"
             ],
             [
              0.6666666666666666,
              "#ed7953"
             ],
             [
              0.7777777777777778,
              "#fb9f3a"
             ],
             [
              0.8888888888888888,
              "#fdca26"
             ],
             [
              1,
              "#f0f921"
             ]
            ],
            "type": "surface"
           }
          ],
          "table": [
           {
            "cells": {
             "fill": {
              "color": "#EBF0F8"
             },
             "line": {
              "color": "white"
             }
            },
            "header": {
             "fill": {
              "color": "#C8D4E3"
             },
             "line": {
              "color": "white"
             }
            },
            "type": "table"
           }
          ]
         },
         "layout": {
          "annotationdefaults": {
           "arrowcolor": "#2a3f5f",
           "arrowhead": 0,
           "arrowwidth": 1
          },
          "autotypenumbers": "strict",
          "coloraxis": {
           "colorbar": {
            "outlinewidth": 0,
            "ticks": ""
           }
          },
          "colorscale": {
           "diverging": [
            [
             0,
             "#8e0152"
            ],
            [
             0.1,
             "#c51b7d"
            ],
            [
             0.2,
             "#de77ae"
            ],
            [
             0.3,
             "#f1b6da"
            ],
            [
             0.4,
             "#fde0ef"
            ],
            [
             0.5,
             "#f7f7f7"
            ],
            [
             0.6,
             "#e6f5d0"
            ],
            [
             0.7,
             "#b8e186"
            ],
            [
             0.8,
             "#7fbc41"
            ],
            [
             0.9,
             "#4d9221"
            ],
            [
             1,
             "#276419"
            ]
           ],
           "sequential": [
            [
             0,
             "#0d0887"
            ],
            [
             0.1111111111111111,
             "#46039f"
            ],
            [
             0.2222222222222222,
             "#7201a8"
            ],
            [
             0.3333333333333333,
             "#9c179e"
            ],
            [
             0.4444444444444444,
             "#bd3786"
            ],
            [
             0.5555555555555556,
             "#d8576b"
            ],
            [
             0.6666666666666666,
             "#ed7953"
            ],
            [
             0.7777777777777778,
             "#fb9f3a"
            ],
            [
             0.8888888888888888,
             "#fdca26"
            ],
            [
             1,
             "#f0f921"
            ]
           ],
           "sequentialminus": [
            [
             0,
             "#0d0887"
            ],
            [
             0.1111111111111111,
             "#46039f"
            ],
            [
             0.2222222222222222,
             "#7201a8"
            ],
            [
             0.3333333333333333,
             "#9c179e"
            ],
            [
             0.4444444444444444,
             "#bd3786"
            ],
            [
             0.5555555555555556,
             "#d8576b"
            ],
            [
             0.6666666666666666,
             "#ed7953"
            ],
            [
             0.7777777777777778,
             "#fb9f3a"
            ],
            [
             0.8888888888888888,
             "#fdca26"
            ],
            [
             1,
             "#f0f921"
            ]
           ]
          },
          "colorway": [
           "#636efa",
           "#EF553B",
           "#00cc96",
           "#ab63fa",
           "#FFA15A",
           "#19d3f3",
           "#FF6692",
           "#B6E880",
           "#FF97FF",
           "#FECB52"
          ],
          "font": {
           "color": "#2a3f5f"
          },
          "geo": {
           "bgcolor": "white",
           "lakecolor": "white",
           "landcolor": "#E5ECF6",
           "showlakes": true,
           "showland": true,
           "subunitcolor": "white"
          },
          "hoverlabel": {
           "align": "left"
          },
          "hovermode": "closest",
          "mapbox": {
           "style": "light"
          },
          "paper_bgcolor": "white",
          "plot_bgcolor": "#E5ECF6",
          "polar": {
           "angularaxis": {
            "gridcolor": "white",
            "linecolor": "white",
            "ticks": ""
           },
           "bgcolor": "#E5ECF6",
           "radialaxis": {
            "gridcolor": "white",
            "linecolor": "white",
            "ticks": ""
           }
          },
          "scene": {
           "xaxis": {
            "backgroundcolor": "#E5ECF6",
            "gridcolor": "white",
            "gridwidth": 2,
            "linecolor": "white",
            "showbackground": true,
            "ticks": "",
            "zerolinecolor": "white"
           },
           "yaxis": {
            "backgroundcolor": "#E5ECF6",
            "gridcolor": "white",
            "gridwidth": 2,
            "linecolor": "white",
            "showbackground": true,
            "ticks": "",
            "zerolinecolor": "white"
           },
           "zaxis": {
            "backgroundcolor": "#E5ECF6",
            "gridcolor": "white",
            "gridwidth": 2,
            "linecolor": "white",
            "showbackground": true,
            "ticks": "",
            "zerolinecolor": "white"
           }
          },
          "shapedefaults": {
           "line": {
            "color": "#2a3f5f"
           }
          },
          "ternary": {
           "aaxis": {
            "gridcolor": "white",
            "linecolor": "white",
            "ticks": ""
           },
           "baxis": {
            "gridcolor": "white",
            "linecolor": "white",
            "ticks": ""
           },
           "bgcolor": "#E5ECF6",
           "caxis": {
            "gridcolor": "white",
            "linecolor": "white",
            "ticks": ""
           }
          },
          "title": {
           "x": 0.05
          },
          "xaxis": {
           "automargin": true,
           "gridcolor": "white",
           "linecolor": "white",
           "ticks": "",
           "title": {
            "standoff": 15
           },
           "zerolinecolor": "white",
           "zerolinewidth": 2
          },
          "yaxis": {
           "automargin": true,
           "gridcolor": "white",
           "linecolor": "white",
           "ticks": "",
           "title": {
            "standoff": 15
           },
           "zerolinecolor": "white",
           "zerolinewidth": 2
          }
         }
        },
        "title": {
         "text": "Topic Similarity Network"
        },
        "width": 700,
        "xaxis": {
         "showgrid": false,
         "showticklabels": false,
         "zeroline": false
        },
        "yaxis": {
         "showgrid": false,
         "showticklabels": false,
         "zeroline": false
        }
       }
      }
     },
     "metadata": {},
     "output_type": "display_data"
    },
    {
     "data": {
      "application/vnd.jupyter.widget-view+json": {
       "model_id": "f1a6f37125874c56853b5ea131a74a63",
       "version_major": 2,
       "version_minor": 0
      },
      "text/plain": [
       "VBox(children=(HTML(value='<h3>Topic Similarity Analysis</h3>'), HBox(children=(Checkbox(value=True, descripti…"
      ]
     },
     "metadata": {},
     "output_type": "display_data"
    }
   ],
   "source": [
    "# Create topic similarity visualization based on top words\n",
    "\n",
    "def plot_topic_similarity(show_network, min_similarity):\n",
    "    # Create a similarity matrix based on user distributions\n",
    "    topic_vectors = np.array([user_topic_df[f'Topic_{i}'].values for i in range(num_topics)])\n",
    "    \n",
    "    # Calculate cosine similarity between topics\n",
    "    from sklearn.metrics.pairwise import cosine_similarity\n",
    "    similarity_matrix = cosine_similarity(topic_vectors)\n",
    "    \n",
    "    # Create heatmap\n",
    "    fig = px.imshow(\n",
    "        similarity_matrix,\n",
    "        labels=dict(x=\"Topic\", y=\"Topic\", color=\"Similarity\"),\n",
    "        x=[f'Topic {i}' for i in range(num_topics)],\n",
    "        y=[f'Topic {i}' for i in range(num_topics)],\n",
    "        color_continuous_scale='Viridis'\n",
    "    )\n",
    "    \n",
    "    fig.update_layout(\n",
    "        title='Topic Similarity Matrix',\n",
    "        height=600,\n",
    "        width=800\n",
    "    )\n",
    "    \n",
    "    fig.show()\n",
    "    \n",
    "    # Create a network visualization of topic relationships\n",
    "    if show_network:\n",
    "        import networkx as nx\n",
    "        \n",
    "        # Create a graph\n",
    "        G = nx.Graph()\n",
    "        \n",
    "        # Add nodes\n",
    "        for i in range(num_topics):\n",
    "            G.add_node(i)\n",
    "        \n",
    "        # Add edges with weight based on similarity\n",
    "        threshold = min_similarity\n",
    "        for i in range(num_topics):\n",
    "            for j in range(i+1, num_topics):\n",
    "                if similarity_matrix[i, j] >= threshold:\n",
    "                    G.add_edge(i, j, weight=similarity_matrix[i, j])\n",
    "        \n",
    "        # Create positions\n",
    "        pos = nx.spring_layout(G, seed=42)\n",
    "        \n",
    "        # Create edge trace\n",
    "        edge_x = []\n",
    "        edge_y = []\n",
    "        edge_weights = []\n",
    "        \n",
    "        for edge in G.edges(data=True):\n",
    "            x0, y0 = pos[edge[0]]\n",
    "            x1, y1 = pos[edge[1]]\n",
    "            edge_x.extend([x0, x1, None])\n",
    "            edge_y.extend([y0, y1, None])\n",
    "            edge_weights.append(edge[2]['weight'])\n",
    "        \n",
    "        edge_trace = go.Scatter(\n",
    "            x=edge_x, y=edge_y,\n",
    "            line=dict(width=1, color='rgba(150,150,150,0.8)'),\n",
    "            hoverinfo='none',\n",
    "            mode='lines')\n",
    "        \n",
    "        # Create node trace\n",
    "        node_x = []\n",
    "        node_y = []\n",
    "        \n",
    "        for node in G.nodes():\n",
    "            x, y = pos[node]\n",
    "            node_x.append(x)\n",
    "            node_y.append(y)\n",
    "        \n",
    "        node_trace = go.Scatter(\n",
    "            x=node_x, y=node_y,\n",
    "            mode='markers+text',\n",
    "            text=[f'Topic {i}' for i in range(num_topics)],\n",
    "            textposition=\"top center\",\n",
    "            marker=dict(\n",
    "                showscale=True,\n",
    "                colorscale='Viridis',\n",
    "                size=20,\n",
    "                colorbar=dict(\n",
    "                    thickness=15,\n",
    "                    title='Node Connections',\n",
    "                    xanchor='left',\n",
    "                    titleside='right'\n",
    "                ),\n",
    "                line_width=2))\n",
    "        \n",
    "        # Color nodes by number of connections\n",
    "        node_adjacencies = []\n",
    "        for node, adjacencies in enumerate(G.adjacency()):\n",
    "            node_adjacencies.append(len(adjacencies[1]))\n",
    "        \n",
    "        node_trace.marker.color = node_adjacencies\n",
    "        \n",
    "        # Create figure\n",
    "        network_fig = go.Figure(data=[edge_trace, node_trace],\n",
    "                         layout=go.Layout(\n",
    "                            title='Topic Similarity Network',\n",
    "                            showlegend=False,\n",
    "                            hovermode='closest',\n",
    "                            margin=dict(b=20,l=5,r=5,t=40),\n",
    "                            xaxis=dict(showgrid=False, zeroline=False, showticklabels=False),\n",
    "                            yaxis=dict(showgrid=False, zeroline=False, showticklabels=False),\n",
    "                            width=700,\n",
    "                            height=600\n",
    "                         ))\n",
    "        \n",
    "        network_fig.show()\n",
    "\n",
    "# Create controls for topic similarity visualization\n",
    "show_network = widgets.Checkbox(\n",
    "    value=True,\n",
    "    description='Show Network Visualization',\n",
    "    style={'description_width': 'initial'}\n",
    ")\n",
    "\n",
    "min_similarity = widgets.FloatSlider(\n",
    "    value=0.3,\n",
    "    min=0.0,\n",
    "    max=1.0,\n",
    "    step=0.05,\n",
    "    description='Min Similarity:',\n",
    "    style={'description_width': 'initial'}\n",
    ")\n",
    "\n",
    "# Display interactive widget\n",
    "display(widgets.VBox([\n",
    "    widgets.HTML('<h3>Topic Similarity Analysis</h3>'),\n",
    "    widgets.HBox([show_network, min_similarity]),\n",
    "    widgets.interactive_output(plot_topic_similarity, {\n",
    "        'show_network': show_network,\n",
    "        'min_similarity': min_similarity\n",
    "    })\n",
    "]))"
   ]
  },
  {
   "cell_type": "markdown",
   "id": "8f3ebb08-c733-4b93-9ee5-a4f681281537",
   "metadata": {},
   "source": [
    "# 7. User Clustering based on Topic Distribution\n"
   ]
  },
  {
   "cell_type": "code",
   "execution_count": 9,
   "id": "023f8a62-6991-4326-9d70-0933fc386a65",
   "metadata": {},
   "outputs": [
    {
     "data": {
      "application/vnd.plotly.v1+json": {
       "config": {
        "plotlyServerURL": "https://plot.ly"
       },
       "data": [
        {
         "customdata": [
          [
           "worldnewspoli",
           0.836373,
           21
          ],
          [
           "jrrbrtt",
           0.810083,
           1
          ],
          [
           "danny_turner_1",
           0.788269,
           1
          ],
          [
           "finley1589",
           0.785216,
           66
          ],
          [
           "heyitsglor",
           0.78285,
           1
          ],
          [
           "orrclay",
           0.780319,
           2
          ],
          [
           "kelvsok",
           0.778644,
           1
          ],
          [
           "kenzdonovan",
           0.775,
           58
          ],
          [
           "kateritterrrr",
           0.773055,
           68
          ],
          [
           "warfareww",
           0.771109,
           27
          ],
          [
           "yattvrussia",
           0.769944,
           1
          ],
          [
           "patriotblake",
           0.769362,
           191
          ],
          [
           "lgbtuni",
           0.768894,
           2
          ],
          [
           "kristyanann",
           0.768803,
           1
          ],
          [
           "missourinewsus",
           0.768707,
           28
          ],
          [
           "cynthiamhunter",
           0.763998,
           68
          ],
          [
           "4ever1937",
           0.763479,
           4
          ],
          [
           "usa_gunslinger",
           0.763415,
           71
          ],
          [
           "pamela_moore13",
           0.76336,
           135
          ],
          [
           "ameliebaldwin",
           0.762862,
           109
          ],
          [
           "andrebeauleger",
           0.762541,
           3
          ],
          [
           "luke_jones13",
           0.761932,
           45
          ],
          [
           "albertmorenmore",
           0.761801,
           1
          ],
          [
           "israel_wills",
           0.76129,
           1
          ],
          [
           "dannymaslov",
           0.760397,
           1
          ],
          [
           "interfischer",
           0.759399,
           5
          ],
          [
           "todayinsyria",
           0.758903,
           66
          ],
          [
           "southlonestar",
           0.757867,
           90
          ],
          [
           "redlanews",
           0.757854,
           51
          ],
          [
           "hyddrox",
           0.757606,
           148
          ],
          [
           "dailysanfran",
           0.757593,
           94
          ],
          [
           "newarkvoice",
           0.757505,
           100
          ],
          [
           "williams_diana_",
           0.757136,
           1
          ],
          [
           "rogovilia",
           0.756735,
           4
          ],
          [
           "happkendrahappy",
           0.756594,
           63
          ],
          [
           "paulinett",
           0.756473,
           246
          ],
          [
           "ten_gop",
           0.75634,
           215
          ],
          [
           "donnabrivera",
           0.75611,
           65
          ],
          [
           "nojonathonno",
           0.75526,
           56
          ],
          [
           "newspeakdaily",
           0.754823,
           107
          ],
          [
           "patriototus",
           0.754468,
           64
          ],
          [
           "arkadii_trofim",
           0.754433,
           5
          ],
          [
           "wadeharriot",
           0.753874,
           70
          ],
          [
           "thefoundingson",
           0.753596,
           242
          ],
          [
           "arturburanof",
           0.752884,
           5
          ],
          [
           "ttsvetkov",
           0.752103,
           4
          ],
          [
           "williams8kalvin",
           0.750887,
           3
          ],
          [
           "darrell_h_hunt",
           0.750697,
           1
          ],
          [
           "realrobert1987",
           0.75049,
           9
          ],
          [
           "zubovnik",
           0.750096,
           1
          ],
          [
           "rightnpr",
           0.749146,
           74
          ],
          [
           "watchmewalkin",
           0.749015,
           59
          ],
          [
           "j0hnlarsen",
           0.748743,
           61
          ],
          [
           "realten_gop",
           0.748705,
           61
          ],
          [
           "march_for_trump",
           0.747598,
           40
          ],
          [
           "gibbs_jeremy_",
           0.74677,
           1
          ],
          [
           "prettylaraplace",
           0.744694,
           74
          ],
          [
           "hollydler",
           0.744323,
           76
          ],
          [
           "onlinecleveland",
           0.743682,
           104
          ],
          [
           "cookncooks",
           0.743295,
           193
          ],
          [
           "stepansazono",
           0.743224,
           5
          ],
          [
           "politweecs",
           0.743112,
           100
          ],
          [
           "sylvielefevrier",
           0.743017,
           3
          ],
          [
           "t0nyasinclair",
           0.742954,
           1
          ],
          [
           "melanymelanin",
           0.741551,
           206
          ],
          [
           "javonhidp",
           0.740602,
           60
          ],
          [
           "kansasdailynews",
           0.740257,
           119
          ],
          [
           "carriethornthon",
           0.740145,
           71
          ],
          [
           "riafanru",
           0.739656,
           1
          ],
          [
           "karolineauge",
           0.739641,
           3
          ],
          [
           "rh0lbr00k",
           0.73943,
           20
          ],
          [
           "tpartynews",
           0.738304,
           298
          ],
          [
           "staywoke88",
           0.737874,
           49
          ],
          [
           "drmichaelgarcia",
           0.737705,
           53
          ],
          [
           "itstimetosecede",
           0.737436,
           31
          ],
          [
           "washingtonline",
           0.737208,
           105
          ],
          [
           "jaydaastonishin",
           0.73529,
           50
          ],
          [
           "ninonderrien",
           0.734432,
           3
          ],
          [
           "srahse",
           0.733908,
           1
          ],
          [
           "ravenicholson",
           0.733513,
           54
          ],
          [
           "darknally",
           0.733299,
           39
          ],
          [
           "dorothiebell",
           0.733233,
           192
          ],
          [
           "garrettsimpson_",
           0.733075,
           219
          ],
          [
           "patriotka_rusi",
           0.73222,
           5
          ],
          [
           "chadsloyer",
           0.732059,
           53
          ],
          [
           "jacquelinisbest",
           0.731773,
           178
          ],
          [
           "emileewaren",
           0.731665,
           190
          ],
          [
           "margarethkurz",
           0.731387,
           91
          ],
          [
           "janelperkinson",
           0.731229,
           10
          ],
          [
           "jeffreykahunas",
           0.730742,
           221
          ],
          [
           "anthonywoodboy",
           0.730002,
           9
          ],
          [
           "lelandgraves_",
           0.729664,
           4
          ],
          [
           "instotus",
           0.728765,
           3
          ],
          [
           "_sashalapin",
           0.728221,
           9
          ],
          [
           "alecmooooody",
           0.728176,
           55
          ],
          [
           "onemightyfish",
           0.727307,
           53
          ],
          [
           "camosaseko",
           0.726774,
           53
          ],
          [
           "jihadist2ndwife",
           0.726532,
           9
          ],
          [
           "ramonasnails",
           0.726524,
           50
          ],
          [
           "muslims_in_usa",
           0.726406,
           8
          ],
          [
           "anzgri",
           0.726343,
           2
          ],
          [
           "regieblackmon",
           0.725626,
           48
          ],
          [
           "pati_cooper",
           0.725466,
           10
          ],
          [
           "leroylovesusa",
           0.72522,
           202
          ],
          [
           "jamie_mccarthy_",
           0.724615,
           36
          ],
          [
           "tezaharov",
           0.723548,
           6
          ],
          [
           "shocko_10",
           0.723498,
           4
          ],
          [
           "laurabaeley",
           0.723397,
           209
          ],
          [
           "wildharee",
           0.722929,
           1
          ],
          [
           "devinedevinbr",
           0.722633,
           7
          ],
          [
           "sergbriantsev",
           0.722411,
           6
          ],
          [
           "karenparker93",
           0.722328,
           12
          ],
          [
           "pigeontoday",
           0.721894,
           18
          ],
          [
           "mmmdarya",
           0.721814,
           2
          ],
          [
           "valeyina_dm",
           0.721777,
           12
          ],
          [
           "joseph_jenks",
           0.721691,
           1
          ],
          [
           "siccerthanyou",
           0.721611,
           31
          ],
          [
           "ogdeandre",
           0.721545,
           52
          ],
          [
           "zzzacharyzzz",
           0.721502,
           31
          ],
          [
           "richmondvoice",
           0.721058,
           56
          ],
          [
           "banttanantta",
           0.720636,
           1
          ],
          [
           "krustyps",
           0.720605,
           1
          ],
          [
           "cassieweltch",
           0.720509,
           162
          ],
          [
           "crystal1johnson",
           0.720402,
           123
          ],
          [
           "neworleanson",
           0.720375,
           69
          ],
          [
           "puredavie",
           0.720207,
           121
          ],
          [
           "policestateme",
           0.719543,
           2
          ],
          [
           "traceyhappymom",
           0.719268,
           87
          ],
          [
           "finnaglo",
           0.719214,
           11
          ],
          [
           "phoenixdailynew",
           0.718775,
           95
          ],
          [
           "hollandpatrickk",
           0.71842,
           123
          ],
          [
           "jani_s_jac",
           0.718368,
           58
          ],
          [
           "glebnikon",
           0.718248,
           11
          ],
          [
           "oaklandonline",
           0.71814,
           73
          ],
          [
           "maksblaginin",
           0.718031,
           5
          ],
          [
           "philadelphiaon",
           0.717981,
           64
          ],
          [
           "lysikvinkova",
           0.717727,
           3
          ],
          [
           "romangorolov",
           0.717444,
           7
          ],
          [
           "robbydelaware",
           0.717103,
           23
          ],
          [
           "blacktivists",
           0.717003,
           11
          ],
          [
           "pamblmdaniels",
           0.716962,
           53
          ],
          [
           "ostrovofficer",
           0.716524,
           1
          ],
          [
           "lila_gorila",
           0.716524,
           1
          ],
          [
           "oooonlyone",
           0.716524,
           1
          ],
          [
           "horrorki",
           0.716523,
           1
          ],
          [
           "zistti",
           0.716523,
           1
          ],
          [
           "sovetnikstatski",
           0.71645,
           15
          ],
          [
           "inst_vets",
           0.716413,
           4
          ],
          [
           "tebepizdec",
           0.71543,
           1
          ],
          [
           "bricegeller",
           0.71525,
           7
          ],
          [
           "todaybostonma",
           0.715203,
           81
          ],
          [
           "mr_clampin",
           0.71505,
           113
          ],
          [
           "lazykstafford",
           0.714794,
           236
          ],
          [
           "gwennythot",
           0.714067,
           38
          ],
          [
           "paolakinck",
           0.714037,
           25
          ],
          [
           "roscoe_riddle",
           0.713915,
           1
          ],
          [
           "samirgooden",
           0.713878,
           37
          ],
          [
           "clydedaws0n",
           0.71357,
           1
          ],
          [
           "notritahart",
           0.713422,
           122
          ],
          [
           "austinlovesbeer",
           0.71314,
           7
          ],
          [
           "archieolivers",
           0.713022,
           9
          ],
          [
           "agnesgrhm",
           0.711957,
           1
          ],
          [
           "johnievogue",
           0.711904,
           10
          ],
          [
           "batonrougevoice",
           0.711851,
           93
          ],
          [
           "youjustctrlc",
           0.711476,
           36
          ],
          [
           "iiddaamarks",
           0.711425,
           47
          ],
          [
           "acejinev",
           0.711405,
           40
          ],
          [
           "logan_whatsup",
           0.711071,
           64
          ],
          [
           "gvardeykalena",
           0.710715,
           10
          ],
          [
           "chaneutral",
           0.710463,
           2
          ],
          [
           "riogithief",
           0.710459,
           3
          ],
          [
           "michellearry",
           0.710322,
           247
          ],
          [
           "todaymiami",
           0.710101,
           68
          ],
          [
           "ilovesarahrich",
           0.709952,
           46
          ],
          [
           "jasper_fly",
           0.709784,
           93
          ],
          [
           "chesplayschess",
           0.709256,
           13
          ],
          [
           "eliasbrick",
           0.70906,
           39
          ],
          [
           "verrellportier",
           0.708927,
           3
          ],
          [
           "jery_robertsyo",
           0.70866,
           53
          ],
          [
           "erofeenkoanton",
           0.708653,
           10
          ],
          [
           "mil0blake",
           0.70859,
           196
          ],
          [
           "corynaenae",
           0.708096,
           10
          ],
          [
           "todaycincinnati",
           0.708014,
           72
          ],
          [
           "todaynycity",
           0.707936,
           45
          ],
          [
           "kotovamarys",
           0.70772,
           15
          ],
          [
           "jenn_abrams",
           0.707645,
           182
          ],
          [
           "damanimiles",
           0.70749,
           13
          ],
          [
           "stanleyparris",
           0.707469,
           52
          ],
          [
           "johnnymarch_",
           0.707377,
           9
          ],
          [
           "queenofthewo",
           0.707321,
           111
          ],
          [
           "melvinsroberts",
           0.707198,
           92
          ],
          [
           "cassishere",
           0.707076,
           38
          ],
          [
           "adamchapmanjr",
           0.707048,
           9
          ],
          [
           "georevieweurope",
           0.707027,
           1
          ],
          [
           "randolphburrr",
           0.706698,
           46
          ],
          [
           "giselleevns",
           0.706526,
           93
          ],
          [
           "taraformation",
           0.706501,
           8
          ],
          [
           "imissobama",
           0.706357,
           56
          ],
          [
           "errivvvvers",
           0.706068,
           29
          ],
          [
           "westernwindwes",
           0.706032,
           150
          ],
          [
           "jon_underwood_",
           0.705842,
           1
          ],
          [
           "handsome_henson",
           0.705803,
           1
          ],
          [
           "onlinememphis",
           0.705637,
           24
          ],
          [
           "kathiemrr",
           0.705618,
           122
          ],
          [
           "imapharrelfake",
           0.705309,
           47
          ],
          [
           "peytoncashout",
           0.705297,
           33
          ],
          [
           "bydrbre_",
           0.705277,
           1
          ],
          [
           "houstontopnews",
           0.70525,
           39
          ],
          [
           "claypaigeboo",
           0.705223,
           10
          ],
          [
           "micparrish",
           0.704882,
           92
          ],
          [
           "evagreen69",
           0.70478,
           224
          ],
          [
           "entatjanamax",
           0.704655,
           30
          ],
          [
           "priceforpierce",
           0.704144,
           157
          ],
          [
           "mihanovikov",
           0.704045,
           14
          ],
          [
           "sternandreas404",
           0.703922,
           34
          ],
          [
           "jadonhutchinson",
           0.703673,
           51
          ],
          [
           "hiimkhloe",
           0.703429,
           247
          ],
          [
           "cookiiieeessss",
           0.703349,
           12
          ],
          [
           "nataturn",
           0.703073,
           12
          ],
          [
           "stlouisonline",
           0.70304,
           76
          ],
          [
           "dailysandiego",
           0.702467,
           54
          ],
          [
           "vasilichvasili",
           0.702368,
           18
          ],
          [
           "jassscott",
           0.70227,
           41
          ],
          [
           "blacktolive",
           0.70204,
           93
          ],
          [
           "gallowayeliana",
           0.701913,
           12
          ],
          [
           "jaedenmassey",
           0.701554,
           1
          ],
          [
           "screamymonkey",
           0.701529,
           105
          ],
          [
           "dallastopnews",
           0.70144,
           24
          ],
          [
           "blk_voice",
           0.701322,
           41
          ],
          [
           "willisbonnerr",
           0.701301,
           133
          ],
          [
           "blacknewsoutlet",
           0.701184,
           39
          ],
          [
           "stanley_cox_",
           0.700949,
           15
          ],
          [
           "travisrespek",
           0.70093,
           41
          ],
          [
           "detroitdailynew",
           0.700871,
           65
          ],
          [
           "daileyjadon",
           0.700768,
           87
          ],
          [
           "taisiaavdeeva",
           0.700567,
           19
          ],
          [
           "jeanuttella",
           0.700333,
           12
          ],
          [
           "klara_sauber",
           0.700248,
           44
          ],
          [
           "lagonehoe",
           0.700156,
           36
          ],
          [
           "scottgohard",
           0.700096,
           30
          ],
          [
           "christinapool61",
           0.699779,
           7
          ],
          [
           "malloryjared",
           0.698998,
           215
          ],
          [
           "kaydenmelton",
           0.698746,
           8
          ],
          [
           "krasilnikovbor",
           0.698394,
           10
          ],
          [
           "heyits_toby",
           0.697587,
           207
          ],
          [
           "leecory",
           0.697385,
           1
          ],
          [
           "sergeev_tolik",
           0.697209,
           10
          ],
          [
           "dailylosangeles",
           0.697061,
           29
          ],
          [
           "johnbranchh",
           0.69681,
           177
          ],
          [
           "rosieonfleek",
           0.696759,
           30
          ],
          [
           "mrmoraan",
           0.696666,
           37
          ],
          [
           "jeblary2016",
           0.696629,
           53
          ],
          [
           "hunteroddddom",
           0.696441,
           33
          ],
          [
           "romanagafonovv",
           0.695617,
           10
          ],
          [
           "boriseleseev",
           0.695499,
           8
          ],
          [
           "nj_blacknews",
           0.695335,
           12
          ],
          [
           "jeannemccarthy0",
           0.695312,
           176
          ],
          [
           "skatewake1994",
           0.69527,
           15
          ],
          [
           "internalmemer",
           0.694911,
           35
          ],
          [
           "mwiqcen",
           0.694887,
           1
          ],
          [
           "gorelkinnn",
           0.694887,
           1
          ],
          [
           "shikarnoel",
           0.694885,
           1
          ],
          [
           "jorda_morgan",
           0.694884,
           1
          ],
          [
           "lmarinays",
           0.694883,
           1
          ],
          [
           "moda_barina",
           0.694868,
           1
          ],
          [
           "brianaregland",
           0.694641,
           105
          ],
          [
           "alexsvladimirov",
           0.694355,
           8
          ],
          [
           "razvedchica_",
           0.694212,
           15
          ],
          [
           "bogdankravcov",
           0.694043,
           13
          ],
          [
           "blmsoldier",
           0.693566,
           39
          ],
          [
           "sanantotopnews",
           0.693388,
           48
          ],
          [
           "ryanmaxwell_1",
           0.693329,
           197
          ],
          [
           "chernenkonikola",
           0.693271,
           14
          ],
          [
           "fightm_d_b",
           0.693068,
           10
          ],
          [
           "judelambertusa",
           0.69306,
           180
          ],
          [
           "portmela",
           0.692387,
           1
          ],
          [
           "kolradskiy_zhuk",
           0.692268,
           12
          ],
          [
           "specialaffair",
           0.691807,
           103
          ],
          [
           "sindyblossom",
           0.691763,
           1
          ],
          [
           "tessyelmore",
           0.691662,
           9
          ],
          [
           "chicagodailynew",
           0.69044,
           105
          ],
          [
           "kelvin_chambers",
           0.69015,
           9
          ],
          [
           "cornellburchet",
           0.69014,
           26
          ],
          [
           "globalfoe",
           0.689704,
           1
          ],
          [
           "dontshootcom",
           0.689472,
           10
          ],
          [
           "patriotraphael",
           0.688485,
           187
          ],
          [
           "kimberleighlamb",
           0.688473,
           1
          ],
          [
           "patriot_archive",
           0.68797,
           2
          ],
          [
           "cannonsher",
           0.687798,
           45
          ],
          [
           "puddin_leto",
           0.687751,
           1
          ],
          [
           "imaswerve",
           0.687472,
           9
          ],
          [
           "milwaukeevoice",
           0.687189,
           1
          ],
          [
           "queennarielle",
           0.687123,
           12
          ],
          [
           "antonhayhay",
           0.686533,
           38
          ],
          [
           "russilanrogov",
           0.686463,
           10
          ],
          [
           "gloed_up",
           0.686106,
           96
          ],
          [
           "atlanta_online",
           0.68518,
           63
          ],
          [
           "bigboyjasiah",
           0.684945,
           40
          ],
          [
           "iris0_o",
           0.684587,
           1
          ],
          [
           "ericarutter",
           0.684506,
           5
          ],
          [
           "viborisova",
           0.684383,
           6
          ],
          [
           "marianeuberg1",
           0.684336,
           12
          ],
          [
           "_nickluna_",
           0.683639,
           240
          ],
          [
           "blackmattersus",
           0.68328,
           46
          ],
          [
           "wonderhann",
           0.682816,
           5
          ],
          [
           "c__wells",
           0.681997,
           62
          ],
          [
           "cliftonhughes_",
           0.681938,
           12
          ],
          [
           "datwisenigga",
           0.681658,
           172
          ],
          [
           "baobaeham",
           0.681233,
           177
          ],
          [
           "gwen_garland",
           0.681195,
           1
          ],
          [
           "fischermaria933",
           0.680794,
           1
          ],
          [
           "sonderkatharina",
           0.680793,
           1
          ],
          [
           "tinatkurtz1222",
           0.68079,
           1
          ],
          [
           "blackeyeblog",
           0.680021,
           6
          ],
          [
           "christinacrisss",
           0.680002,
           1
          ],
          [
           "evewebster373",
           0.678347,
           81
          ],
          [
           "gracelilstar",
           0.678346,
           1
          ],
          [
           "ponomarevslav",
           0.67823,
           16
          ],
          [
           "trayneshacole",
           0.678105,
           73
          ],
          [
           "rus_in_usa",
           0.677552,
           2
          ],
          [
           "bleepthepolice",
           0.676743,
           86
          ],
          [
           "berkhoff85",
           0.676629,
           9
          ],
          [
           "4mysquad",
           0.675841,
           20
          ],
          [
           "notballinyet",
           0.67566,
           7
          ],
          [
           "deusxyx",
           0.675403,
           16
          ],
          [
           "boryabuchin",
           0.674762,
           8
          ],
          [
           "shapka_mono",
           0.674239,
           2
          ],
          [
           "whitehousecards",
           0.672511,
           60
          ],
          [
           "peeonhillary",
           0.671903,
           1
          ],
          [
           "lilylilyhasse",
           0.671567,
           6
          ],
          [
           "bigboysneed",
           0.671073,
           12
          ],
          [
           "brianthelifter",
           0.670841,
           10
          ],
          [
           "liljordamn",
           0.670636,
           41
          ],
          [
           "nehemiahx",
           0.670136,
           11
          ],
          [
           "robertebonyking",
           0.669317,
           11
          ],
          [
           "briys_valera",
           0.669087,
           1
          ],
          [
           "edmundrjr",
           0.669042,
           3
          ],
          [
           "mrclydepratt",
           0.668974,
           122
          ],
          [
           "lapinolegg",
           0.668601,
           9
          ],
          [
           "colbyst1",
           0.66846,
           3
          ],
          [
           "jacksoncitypost",
           0.668343,
           40
          ],
          [
           "elpasotopnews",
           0.667329,
           3
          ],
          [
           "alexharritonov",
           0.667119,
           19
          ],
          [
           "cascaseyp",
           0.665787,
           20
          ],
          [
           "beckster319",
           0.66443,
           39
          ],
          [
           "maximgaron1",
           0.662379,
           2
          ],
          [
           "manuelkrosss",
           0.662218,
           29
          ],
          [
           "politopros",
           0.661447,
           1
          ],
          [
           "ssus_panther",
           0.660529,
           1
          ],
          [
           "beverlybalsom",
           0.66052,
           1
          ],
          [
           "blacneighbor",
           0.659914,
           13
          ],
          [
           "erdollum",
           0.659678,
           16
          ],
          [
           "donnielmiller",
           0.657973,
           4
          ],
          [
           "chrixmorgan",
           0.657453,
           59
          ],
          [
           "marissaimstrong",
           0.65658,
           19
          ],
          [
           "ryanncooperwood",
           0.655919,
           1
          ],
          [
           "aleksey_sokol_",
           0.655556,
           12
          ],
          [
           "bocharnikov_v",
           0.655288,
           18
          ],
          [
           "baltimore0nline",
           0.654591,
           105
          ],
          [
           "danageezus",
           0.654134,
           53
          ],
          [
           "todaypittsburgh",
           0.653079,
           66
          ],
          [
           "toneporter",
           0.652978,
           21
          ],
          [
           "maymaymyy",
           0.652229,
           11
          ],
          [
           "yaeltrouble",
           0.65085,
           1
          ],
          [
           "mbrownhere",
           0.650788,
           1
          ],
          [
           "fishalexanderr",
           0.650025,
           12
          ],
          [
           "jerstoner",
           0.649564,
           8
          ],
          [
           "worldofhashtags",
           0.649245,
           52
          ],
          [
           "joachimbuchwitz",
           0.64817,
           1
          ],
          [
           "iancalh0un",
           0.647932,
           2
          ],
          [
           "reachitdoit",
           0.64755,
           1
          ],
          [
           "aantiracist",
           0.647053,
           14
          ],
          [
           "jarrardnorman",
           0.646157,
           24
          ],
          [
           "peterkistner",
           0.643651,
           14
          ],
          [
           "seattle_post",
           0.642715,
           36
          ],
          [
           "lukas_rosler",
           0.64193,
           6
          ],
          [
           "_billy_moyer_",
           0.641615,
           88
          ],
          [
           "curtisbigman",
           0.641441,
           28
          ],
          [
           "todaycleveland",
           0.639729,
           19
          ],
          [
           "abigailssilk",
           0.637289,
           7
          ],
          [
           "mtthsberger",
           0.636586,
           4
          ],
          [
           "hipppo_",
           0.63603,
           23
          ],
          [
           "johnieboycooks",
           0.635923,
           10
          ],
          [
           "chrisuport_port",
           0.635563,
           9
          ],
          [
           "calebpaar",
           0.634311,
           23
          ],
          [
           "glennharper_",
           0.633588,
           4
          ],
          [
           "schultei2",
           0.632277,
           1
          ],
          [
           "angela_lattke",
           0.632268,
           1
          ],
          [
           "russianallies",
           0.631255,
           1
          ],
          [
           "aiden7757",
           0.629173,
           22
          ],
          [
           "charlesrespeck",
           0.626549,
           5
          ],
          [
           "andreaseulitz",
           0.624346,
           1
          ],
          [
           "dannythehappies",
           0.620204,
           25
          ],
          [
           "kirstenladaniel",
           0.618529,
           1
          ],
          [
           "lynsrodriguez",
           0.618233,
           7
          ],
          [
           "sincerepruitt",
           0.617866,
           11
          ],
          [
           "erdollum666",
           0.616691,
           4
          ],
          [
           "jsncarey",
           0.615872,
           4
          ],
          [
           "dominicvalent",
           0.615507,
           37
          ],
          [
           "jmscoxxx",
           0.615016,
           23
          ],
          [
           "kencannone",
           0.613242,
           16
          ],
          [
           "holycrapchrix",
           0.612729,
           24
          ],
          [
           "meggieoneil",
           0.610021,
           6
          ],
          [
           "adrienne_gg",
           0.606866,
           23
          ],
          [
           "bigseanbeast",
           0.60586,
           11
          ],
          [
           "charlesjharper",
           0.603798,
           26
          ],
          [
           "heyheyhailey",
           0.602708,
           17
          ],
          [
           "wokefromday1",
           0.602187,
           15
          ],
          [
           "susayung",
           0.601223,
           13
          ],
          [
           "catelinewatkins",
           0.600596,
           11
          ],
          [
           "bgarner2107",
           0.600404,
           27
          ],
          [
           "loragreeen",
           0.597988,
           33
          ],
          [
           "gab1aldana",
           0.596828,
           27
          ],
          [
           "novostidamask",
           0.596032,
           6
          ],
          [
           "rusnevrotik",
           0.595519,
           2
          ],
          [
           "msm0re",
           0.595514,
           2
          ],
          [
           "hellieedwards",
           0.594984,
           27
          ],
          [
           "ilikebigbuttand",
           0.593486,
           33
          ],
          [
           "sovasof",
           0.592553,
           2
          ],
          [
           "mikkyrurk",
           0.592081,
           2
          ],
          [
           "oh_frida",
           0.59208,
           2
          ],
          [
           "bruciedublin",
           0.590532,
           25
          ],
          [
           "aldrich420",
           0.590506,
           13
          ],
          [
           "coldwar20_ru",
           0.589406,
           4
          ],
          [
           "margosavazh",
           0.589328,
           5
          ],
          [
           "angelabach991",
           0.588504,
           22
          ],
          [
           "maxdementiev",
           0.587921,
           4
          ],
          [
           "adrgreerr",
           0.582176,
           9
          ],
          [
           "lavrovmuesli",
           0.581281,
           9
          ],
          [
           "amandavgreen",
           0.580048,
           26
          ],
          [
           "klausfinker",
           0.577377,
           1
          ],
          [
           "hamburgbote",
           0.57736,
           1
          ],
          [
           "sto_christi",
           0.574555,
           1
          ],
          [
           "edmundc0oke",
           0.572271,
           1
          ],
          [
           "margoberoeva",
           0.567848,
           2
          ],
          [
           "brentmcclure275",
           0.566656,
           13
          ],
          [
           "6druz",
           0.564981,
           4
          ],
          [
           "denn_nikitin",
           0.564967,
           4
          ],
          [
           "dickyirwin",
           0.564844,
           21
          ],
          [
           "gffgfsfgfsdffjj",
           0.563224,
           3
          ],
          [
           "brightandglory",
           0.562864,
           30
          ],
          [
           "claudia42kern",
           0.562803,
           23
          ],
          [
           "kadirovrussia",
           0.548104,
           5
          ]
         ],
         "hovertemplate": "x=%{x}<br>y=%{y}<br>post_count=%{customdata[2]}<br>user_id=%{customdata[0]}<br>gini=%{customdata[1]}<br>cluster=%{marker.color}<extra></extra>",
         "legendgroup": "",
         "marker": {
          "color": [
           0,
           2,
           4,
           0,
           4,
           4,
           0,
           0,
           0,
           4,
           0,
           4,
           4,
           2,
           0,
           0,
           0,
           0,
           0,
           0,
           4,
           0,
           2,
           2,
           0,
           0,
           4,
           0,
           0,
           0,
           0,
           0,
           4,
           0,
           0,
           4,
           0,
           0,
           0,
           0,
           4,
           4,
           0,
           4,
           4,
           0,
           0,
           0,
           0,
           0,
           0,
           0,
           0,
           0,
           0,
           2,
           0,
           0,
           0,
           4,
           0,
           0,
           4,
           2,
           4,
           0,
           0,
           0,
           1,
           4,
           0,
           4,
           0,
           0,
           4,
           0,
           0,
           4,
           2,
           0,
           0,
           4,
           4,
           0,
           0,
           4,
           4,
           1,
           0,
           4,
           4,
           2,
           4,
           0,
           0,
           0,
           0,
           4,
           0,
           4,
           4,
           0,
           0,
           4,
           4,
           0,
           4,
           4,
           2,
           0,
           0,
           0,
           0,
           4,
           0,
           4,
           0,
           0,
           0,
           0,
           4,
           4,
           2,
           4,
           0,
           2,
           4,
           2,
           0,
           0,
           4,
           0,
           0,
           0,
           0,
           0,
           4,
           0,
           4,
           4,
           0,
           0,
           0,
           0,
           0,
           0,
           0,
           0,
           4,
           0,
           0,
           2,
           4,
           0,
           0,
           4,
           0,
           2,
           2,
           2,
           0,
           4,
           0,
           0,
           0,
           0,
           0,
           4,
           0,
           0,
           4,
           4,
           0,
           0,
           2,
           0,
           0,
           4,
           0,
           0,
           4,
           0,
           0,
           0,
           0,
           4,
           0,
           0,
           0,
           2,
           2,
           0,
           0,
           0,
           0,
           2,
           0,
           0,
           0,
           4,
           2,
           4,
           0,
           2,
           0,
           0,
           1,
           0,
           0,
           4,
           4,
           0,
           4,
           0,
           1,
           0,
           4,
           0,
           4,
           0,
           0,
           0,
           0,
           4,
           0,
           4,
           0,
           0,
           4,
           2,
           4,
           0,
           0,
           0,
           2,
           0,
           0,
           1,
           0,
           2,
           1,
           4,
           0,
           0,
           4,
           0,
           0,
           4,
           4,
           0,
           0,
           4,
           0,
           0,
           0,
           4,
           4,
           0,
           0,
           3,
           3,
           3,
           3,
           3,
           3,
           2,
           0,
           0,
           0,
           0,
           0,
           4,
           0,
           0,
           4,
           2,
           0,
           0,
           4,
           4,
           0,
           0,
           4,
           4,
           4,
           4,
           0,
           0,
           0,
           2,
           0,
           2,
           0,
           0,
           0,
           4,
           0,
           0,
           4,
           2,
           0,
           1,
           4,
           4,
           4,
           4,
           0,
           2,
           4,
           0,
           1,
           1,
           1,
           0,
           4,
           4,
           4,
           0,
           4,
           0,
           4,
           0,
           4,
           0,
           0,
           0,
           0,
           1,
           0,
           1,
           0,
           0,
           0,
           0,
           0,
           2,
           0,
           2,
           0,
           2,
           0,
           0,
           0,
           0,
           0,
           0,
           1,
           1,
           0,
           4,
           4,
           1,
           2,
           2,
           0,
           4,
           0,
           0,
           0,
           2,
           0,
           0,
           0,
           2,
           2,
           1,
           0,
           2,
           1,
           4,
           4,
           0,
           0,
           1,
           0,
           1,
           4,
           0,
           4,
           0,
           1,
           0,
           0,
           1,
           0,
           2,
           1,
           1,
           4,
           0,
           0,
           1,
           0,
           4,
           0,
           4,
           1,
           4,
           2,
           0,
           0,
           0,
           0,
           0,
           0,
           0,
           0,
           0,
           0,
           0,
           0,
           0,
           0,
           4,
           2,
           2,
           0,
           0,
           3,
           3,
           3,
           0,
           0,
           1,
           1,
           1,
           1,
           0,
           1,
           0,
           1,
           1,
           1,
           4,
           1,
           0,
           4,
           4,
           0,
           3,
           0,
           0,
           1
          ],
          "coloraxis": "coloraxis",
          "opacity": 0.7,
          "size": [
           21,
           1,
           1,
           66,
           1,
           2,
           1,
           58,
           68,
           27,
           1,
           191,
           2,
           1,
           28,
           68,
           4,
           71,
           135,
           109,
           3,
           45,
           1,
           1,
           1,
           5,
           66,
           90,
           51,
           148,
           94,
           100,
           1,
           4,
           63,
           246,
           215,
           65,
           56,
           107,
           64,
           5,
           70,
           242,
           5,
           4,
           3,
           1,
           9,
           1,
           74,
           59,
           61,
           61,
           40,
           1,
           74,
           76,
           104,
           193,
           5,
           100,
           3,
           1,
           206,
           60,
           119,
           71,
           1,
           3,
           20,
           298,
           49,
           53,
           31,
           105,
           50,
           3,
           1,
           54,
           39,
           192,
           219,
           5,
           53,
           178,
           190,
           91,
           10,
           221,
           9,
           4,
           3,
           9,
           55,
           53,
           53,
           9,
           50,
           8,
           2,
           48,
           10,
           202,
           36,
           6,
           4,
           209,
           1,
           7,
           6,
           12,
           18,
           2,
           12,
           1,
           31,
           52,
           31,
           56,
           1,
           1,
           162,
           123,
           69,
           121,
           2,
           87,
           11,
           95,
           123,
           58,
           11,
           73,
           5,
           64,
           3,
           7,
           23,
           11,
           53,
           1,
           1,
           1,
           1,
           1,
           15,
           4,
           1,
           7,
           81,
           113,
           236,
           38,
           25,
           1,
           37,
           1,
           122,
           7,
           9,
           1,
           10,
           93,
           36,
           47,
           40,
           64,
           10,
           2,
           3,
           247,
           68,
           46,
           93,
           13,
           39,
           3,
           53,
           10,
           196,
           10,
           72,
           45,
           15,
           182,
           13,
           52,
           9,
           111,
           92,
           38,
           9,
           1,
           46,
           93,
           8,
           56,
           29,
           150,
           1,
           1,
           24,
           122,
           47,
           33,
           1,
           39,
           10,
           92,
           224,
           30,
           157,
           14,
           34,
           51,
           247,
           12,
           12,
           76,
           54,
           18,
           41,
           93,
           12,
           1,
           105,
           24,
           41,
           133,
           39,
           15,
           41,
           65,
           87,
           19,
           12,
           44,
           36,
           30,
           7,
           215,
           8,
           10,
           207,
           1,
           10,
           29,
           177,
           30,
           37,
           53,
           33,
           10,
           8,
           12,
           176,
           15,
           35,
           1,
           1,
           1,
           1,
           1,
           1,
           105,
           8,
           15,
           13,
           39,
           48,
           197,
           14,
           10,
           180,
           1,
           12,
           103,
           1,
           9,
           105,
           9,
           26,
           1,
           10,
           187,
           1,
           2,
           45,
           1,
           9,
           1,
           12,
           38,
           10,
           96,
           63,
           40,
           1,
           5,
           6,
           12,
           240,
           46,
           5,
           62,
           12,
           172,
           177,
           1,
           1,
           1,
           1,
           6,
           1,
           81,
           1,
           16,
           73,
           2,
           86,
           9,
           20,
           7,
           16,
           8,
           2,
           60,
           1,
           6,
           12,
           10,
           41,
           11,
           11,
           1,
           3,
           122,
           9,
           3,
           40,
           3,
           19,
           20,
           39,
           2,
           29,
           1,
           1,
           1,
           13,
           16,
           4,
           59,
           19,
           1,
           12,
           18,
           105,
           53,
           66,
           21,
           11,
           1,
           1,
           12,
           8,
           52,
           1,
           2,
           1,
           14,
           24,
           14,
           36,
           6,
           88,
           28,
           19,
           7,
           4,
           23,
           10,
           9,
           23,
           4,
           1,
           1,
           1,
           22,
           5,
           1,
           25,
           1,
           7,
           11,
           4,
           4,
           37,
           23,
           16,
           24,
           6,
           23,
           11,
           26,
           17,
           15,
           13,
           11,
           27,
           33,
           27,
           6,
           2,
           2,
           27,
           33,
           2,
           2,
           2,
           25,
           13,
           4,
           5,
           22,
           4,
           9,
           9,
           26,
           1,
           1,
           1,
           1,
           2,
           13,
           4,
           4,
           21,
           3,
           30,
           23,
           5
          ],
          "sizemode": "area",
          "sizeref": 0.745,
          "symbol": "circle"
         },
         "mode": "markers",
         "name": "",
         "orientation": "v",
         "showlegend": false,
         "type": "scatter",
         "x": [
          22.531570434570312,
          -24.58481788635254,
          -16.118234634399414,
          22.32196807861328,
          -12.451086044311523,
          -12.529720306396484,
          20.509193420410156,
          21.718399047851562,
          21.642078399658203,
          -7.015254974365234,
          22.278728485107422,
          -0.6833003163337708,
          0.09200477600097656,
          -24.7763729095459,
          21.20659065246582,
          21.343509674072266,
          19.968780517578125,
          21.21912384033203,
          22.48638153076172,
          23.337078094482422,
          -12.81638240814209,
          20.966411590576172,
          -18.408143997192383,
          -17.629648208618164,
          1.604682445526123,
          21.2816219329834,
          -6.984173774719238,
          22.980010986328125,
          20.448373794555664,
          5.406810283660889,
          19.079275131225586,
          21.889408111572266,
          -7.429879665374756,
          18.896656036376953,
          21.459415435791016,
          -10.617033004760742,
          6.377357482910156,
          20.5900936126709,
          22.469623565673828,
          20.06671714782715,
          -2.677865743637085,
          0.8400344252586365,
          20.962955474853516,
          -3.476172924041748,
          -0.05199133977293968,
          6.646912097930908,
          20.525341033935547,
          5.275862693786621,
          21.13534927368164,
          6.6813859939575195,
          22.606292724609375,
          20.1184139251709,
          21.524621963500977,
          20.44821548461914,
          21.38088607788086,
          -22.406293869018555,
          20.5883846282959,
          19.99508285522461,
          20.00970458984375,
          -3.812837839126587,
          19.7139892578125,
          19.56484031677246,
          -12.699023246765137,
          -23.445451736450195,
          -11.803772926330566,
          8.52454948425293,
          19.506263732910156,
          20.21455192565918,
          -1.4511760473251343,
          -12.611963272094727,
          18.258760452270508,
          -0.4153355360031128,
          6.450976848602295,
          8.19922161102295,
          -4.178659915924072,
          18.56879425048828,
          9.45004653930664,
          -12.521418571472168,
          -17.828664779663086,
          6.508471965789795,
          18.801481246948242,
          -2.9574637413024902,
          -6.1378173828125,
          8.795063018798828,
          6.62939977645874,
          -3.1385796070098877,
          -3.2742786407470703,
          -2.803934335708618,
          6.1516289710998535,
          -6.736168384552002,
          -11.474120140075684,
          -21.07990264892578,
          -3.982252597808838,
          2.1856820583343506,
          10.166890144348145,
          4.663995265960693,
          6.215744972229004,
          -8.592036247253418,
          9.698042869567871,
          -1.2585229873657227,
          -4.228135108947754,
          3.983184814453125,
          17.389333724975586,
          -4.759319305419922,
          -13.488763809204102,
          14.040749549865723,
          -7.663754463195801,
          -7.441068649291992,
          -23.430572509765625,
          20.89066505432129,
          11.531518936157227,
          18.811248779296875,
          1.6606414318084717,
          1.5392688512802124,
          18.145360946655273,
          -7.808314323425293,
          6.008674621582031,
          5.352179527282715,
          10.293288230895996,
          16.526700973510742,
          -15.729671478271484,
          -15.782747268676758,
          -23.262130737304688,
          -9.986992835998535,
          18.220537185668945,
          -22.531757354736328,
          -0.6468596458435059,
          -24.184833526611328,
          6.985132694244385,
          18.308401107788086,
          -10.599864959716797,
          7.810856342315674,
          19.50694465637207,
          19.307384490966797,
          4.312902450561523,
          16.67096519470215,
          -6.717944145202637,
          3.865351438522339,
          0.24676653742790222,
          -9.8079833984375,
          8.966605186462402,
          -13.352132797241211,
          -13.477423667907715,
          -13.770364761352539,
          -13.67891788482666,
          -13.67891788482666,
          18.392690658569336,
          6.861274719238281,
          -2.3001675605773926,
          14.885682106018066,
          18.836069107055664,
          -23.663869857788086,
          -10.038840293884277,
          4.595451831817627,
          16.59825897216797,
          -12.350777626037598,
          5.7655930519104,
          -20.198543548583984,
          -23.12249183654785,
          -18.33561134338379,
          5.203517436981201,
          -9.359560012817383,
          9.062255859375,
          19.238080978393555,
          5.827601432800293,
          8.81414794921875,
          7.499734878540039,
          -14.353339195251465,
          17.083616256713867,
          18.303430557250977,
          -12.541339874267578,
          -6.622551918029785,
          17.353031158447266,
          0.7742012739181519,
          -24.19285011291504,
          5.294527053833008,
          4.289671421051025,
          -12.387887001037598,
          2.9572620391845703,
          12.341833114624023,
          -9.071146011352539,
          10.934240341186523,
          17.390409469604492,
          1.0036416053771973,
          7.61117696762085,
          -5.373414039611816,
          9.667741775512695,
          -0.9925368428230286,
          0.8781867623329163,
          -23.674985885620117,
          -23.7321720123291,
          17.800983428955078,
          4.872225284576416,
          2.022783041000366,
          -1.0838876962661743,
          -22.485767364501953,
          15.217957496643066,
          3.6271958351135254,
          2.203118324279785,
          -8.21036148071289,
          -17.612571716308594,
          -9.179699897766113,
          1.839154839515686,
          -22.917442321777344,
          -0.49575766921043396,
          -1.833317756652832,
          0.8189553022384644,
          13.301865577697754,
          12.989802360534668,
          -13.749245643615723,
          -9.117242813110352,
          6.666647434234619,
          -8.66627025604248,
          0.12799394130706787,
          -2.096571922302246,
          4.187676429748535,
          -14.545857429504395,
          8.939519882202148,
          -8.2979154586792,
          17.15244483947754,
          17.60243034362793,
          17.016502380371094,
          7.463752269744873,
          -5.863785266876221,
          2.0168871879577637,
          -9.062649726867676,
          15.103424072265625,
          6.347063064575195,
          -7.002925872802734,
          -14.949616432189941,
          -6.26077127456665,
          3.4334092140197754,
          0.473928838968277,
          16.899784088134766,
          -23.14585304260254,
          6.011094570159912,
          10.754801750183105,
          -2.240011692047119,
          0.7071142792701721,
          -17.904024124145508,
          -3.711115837097168,
          -14.492545127868652,
          1.037778377532959,
          8.218308448791504,
          -7.867425441741943,
          2.4093539714813232,
          7.971334457397461,
          -2.087540626525879,
          -14.199009895324707,
          3.429380416870117,
          2.227731227874756,
          -7.649864196777344,
          -1.5421736240386963,
          12.927170753479004,
          13.329524040222168,
          -6.214850425720215,
          -8.096900939941406,
          0.2644270956516266,
          4.362745761871338,
          -8.041865348815918,
          -8.363523483276367,
          -8.376974105834961,
          -8.526718139648438,
          -7.899582862854004,
          -8.070574760437012,
          -17.96927833557129,
          11.994783401489258,
          14.207221031188965,
          12.775787353515625,
          4.34377908706665,
          13.683489799499512,
          -8.230380058288574,
          13.547574043273926,
          11.88640022277832,
          -9.339542388916016,
          -19.285886764526367,
          13.427366256713867,
          17.277334213256836,
          -12.598037719726562,
          -3.9201886653900146,
          13.495366096496582,
          2.9154887199401855,
          -1.219356656074524,
          -16.168397903442383,
          -5.229119300842285,
          -8.710365295410156,
          -18.816326141357422,
          3.3659050464630127,
          2.8276309967041016,
          -15.270583152770996,
          0.5477800369262695,
          -18.049158096313477,
          1.2355971336364746,
          8.181853294372559,
          12.323969841003418,
          -8.240942001342773,
          16.385540008544922,
          3.0774970054626465,
          -8.965015411376953,
          -19.661701202392578,
          11.912471771240234,
          -2.7555887699127197,
          -5.3089985847473145,
          -5.248013973236084,
          -11.05237102508545,
          -13.743036270141602,
          1.9847447872161865,
          -15.209576606750488,
          -14.572076797485352,
          -2.227384090423584,
          -0.3275599181652069,
          -0.32766908407211304,
          -0.4045898914337158,
          2.2269222736358643,
          -12.54841136932373,
          -15.044264793395996,
          -12.567601203918457,
          1.5817855596542358,
          -6.84487771987915,
          12.1056547164917,
          -8.938143730163574,
          1.1239300966262817,
          -4.668532371520996,
          1.7266511917114258,
          0.6762775778770447,
          17.490755081176758,
          -5.226589202880859,
          -1.766487717628479,
          -3.2504160404205322,
          -2.9905624389648438,
          -0.5212020874023438,
          9.505613327026367,
          2.9021925926208496,
          0.04911390319466591,
          11.687042236328125,
          -16.2093448638916,
          15.007743835449219,
          -15.67447566986084,
          17.754207611083984,
          -14.110151290893555,
          16.500425338745117,
          -0.13764746487140656,
          12.637603759765625,
          -0.24791449308395386,
          -2.774362087249756,
          -1.428499460220337,
          -2.4825401306152344,
          -0.750507116317749,
          -12.386331558227539,
          -10.523412704467773,
          -4.724972248077393,
          -1.1974786520004272,
          -19.01961898803711,
          -20.562917709350586,
          1.8014156818389893,
          -11.459728240966797,
          12.652430534362793,
          2.966797351837158,
          13.014565467834473,
          -20.928682327270508,
          13.753884315490723,
          -4.830301761627197,
          -2.1766624450683594,
          -18.7996826171875,
          -15.025245666503906,
          -3.4553186893463135,
          -0.7562474608421326,
          -19.09335708618164,
          -2.8353354930877686,
          -4.968857288360596,
          -12.893736839294434,
          -3.6642253398895264,
          -5.801677703857422,
          -1.8743103742599487,
          16.417499542236328,
          -1.018247365951538,
          -12.873703002929688,
          -1.6562663316726685,
          -3.1749491691589355,
          0.6950935125350952,
          -1.616484522819519,
          0.09566608816385269,
          -3.5584683418273926,
          0.24860508739948273,
          -5.425203800201416,
          -14.326937675476074,
          -4.995700836181641,
          -4.9957122802734375,
          -4.843482494354248,
          -4.468790531158447,
          15.993717193603516,
          -1.0301705598831177,
          -6.541838645935059,
          -10.49524211883545,
          -5.8201727867126465,
          -4.80501127243042,
          -2.3337934017181396,
          -13.489943504333496,
          -18.95609474182129,
          -0.9410350322723389,
          -6.57879114151001,
          -0.5497186779975891,
          -6.666955947875977,
          -4.781235694885254,
          -2.995090961456299,
          -1.306699514389038,
          -1.389263391494751,
          -4.511841297149658,
          -4.280935287475586,
          -3.969043016433716,
          -3.761272668838501,
          -3.692366600036621,
          -3.5933704376220703,
          -3.4925036430358887,
          -12.281785011291504,
          -12.281712532043457,
          -3.694049119949341,
          -6.588812828063965,
          -9.79638671875,
          -10.793380737304688,
          -10.793379783630371,
          -1.3759359121322632,
          -3.4351115226745605,
          -2.0812623500823975,
          -2.423848867416382,
          -3.380953788757324,
          -3.01240611076355,
          -5.324580192565918,
          -2.600350856781006,
          -2.714453935623169,
          -3.0459773540496826,
          -3.0429978370666504,
          -1.5680923461914062,
          -10.433226585388184,
          -3.2010884284973145,
          -2.1246585845947266,
          -10.61896800994873,
          -10.618967056274414,
          -2.8621742725372314,
          -10.67587947845459,
          -3.899207830429077,
          -5.684206485748291,
          -3.1869940757751465
         ],
         "xaxis": "x",
         "y": [
          10.67395305633545,
          -9.210037231445312,
          -13.544415473937988,
          7.860833168029785,
          -15.172011375427246,
          -16.578392028808594,
          2.7182445526123047,
          5.854597091674805,
          7.356382369995117,
          -19.704824447631836,
          6.9114670753479,
          -14.31485652923584,
          -14.23852825164795,
          -8.211935043334961,
          9.130926132202148,
          6.834278583526611,
          8.602594375610352,
          3.6861250400543213,
          2.9225213527679443,
          1.8566312789916992,
          4.6783061027526855,
          2.2776682376861572,
          -11.471564292907715,
          -11.596096992492676,
          -13.22033405303955,
          10.5878267288208,
          -19.64632225036621,
          2.267669677734375,
          6.975381851196289,
          -9.077781677246094,
          -1.6604375839233398,
          9.955377578735352,
          -20.07322883605957,
          -0.32238370180130005,
          7.754086017608643,
          -16.884946823120117,
          -8.513358116149902,
          7.576844692230225,
          1.746477484703064,
          -6.433619499206543,
          -14.994546890258789,
          -13.009796142578125,
          5.56085729598999,
          -13.6948881149292,
          -13.466438293457031,
          -8.823274612426758,
          5.273391246795654,
          4.133207321166992,
          9.818293571472168,
          -8.359633445739746,
          2.2271413803100586,
          1.9034353494644165,
          3.5462517738342285,
          6.225828170776367,
          2.608128309249878,
          -9.70767593383789,
          4.823668956756592,
          6.032666206359863,
          -6.964028835296631,
          -16.01420783996582,
          4.876646518707275,
          5.369292259216309,
          4.448507308959961,
          -5.995628833770752,
          -15.481557846069336,
          -0.14157328009605408,
          -7.166762828826904,
          8.059452056884766,
          30.71122932434082,
          4.717299938201904,
          7.052731990814209,
          -12.35596752166748,
          -1.8047192096710205,
          -2.9532501697540283,
          -14.632402420043945,
          -5.308159828186035,
          -0.44228723645210266,
          4.695499897003174,
          -10.980767250061035,
          -0.6220898628234863,
          4.8192033767700195,
          -15.780987739562988,
          -17.00833511352539,
          -3.306694746017456,
          0.9377922415733337,
          -14.694978713989258,
          -15.46117115020752,
          31.517398834228516,
          -6.75996208190918,
          -16.942447662353516,
          -15.963371276855469,
          -9.03984546661377,
          -13.527978897094727,
          -12.470405578613281,
          0.45730942487716675,
          -5.567807674407959,
          -2.9256553649902344,
          -12.790350914001465,
          -0.07499144971370697,
          -9.915191650390625,
          -15.366832733154297,
          0.45577380061149597,
          4.094594955444336,
          -15.00991439819336,
          -13.179243087768555,
          -0.44683030247688293,
          -9.542101860046387,
          -17.84941864013672,
          -6.93004035949707,
          10.206647872924805,
          -0.10541564971208572,
          5.799903869628906,
          -0.33906227350234985,
          -11.479204177856445,
          4.861252784729004,
          -12.077642440795898,
          1.7739845514297485,
          -0.6307159662246704,
          0.009742637164890766,
          -1.3726446628570557,
          -11.94447135925293,
          -11.918254852294922,
          -9.234542846679688,
          -17.300411224365234,
          -1.9941046237945557,
          -8.491004943847656,
          -9.88131046295166,
          -8.510177612304688,
          -2.8141238689422607,
          -5.8675336837768555,
          -15.6702241897583,
          0.8110896348953247,
          7.522923469543457,
          -6.120439052581787,
          1.3853130340576172,
          0.8617627024650574,
          -9.723092079162598,
          -5.689473628997803,
          -9.798688888549805,
          -14.174890518188477,
          0.9340705275535583,
          12.864206314086914,
          13.0745210647583,
          13.022881507873535,
          12.658007621765137,
          12.658007621765137,
          3.961754322052002,
          -6.811454772949219,
          -13.42099380493164,
          -0.007478267885744572,
          -6.847043991088867,
          -8.399764060974121,
          -14.511490821838379,
          0.04465361684560776,
          6.196806907653809,
          -13.748909950256348,
          -2.281010150909424,
          -8.299032211303711,
          -7.693085670471191,
          -9.648300170898438,
          9.220682144165039,
          -19.280529022216797,
          1.9247570037841797,
          -6.537778377532959,
          2.7230749130249023,
          1.5029468536376953,
          -0.028356989845633507,
          -12.348793983459473,
          6.270373821258545,
          -6.496577262878418,
          -3.9873900413513184,
          -16.119327545166016,
          -4.477792739868164,
          -1.4122196435928345,
          -7.682145595550537,
          9.210002899169922,
          3.4542248249053955,
          4.332600116729736,
          -0.04099294915795326,
          1.0694187879562378,
          -13.9533052444458,
          2.322450637817383,
          -4.843847751617432,
          -9.349695205688477,
          -5.341863632202148,
          -8.614252090454102,
          3.2189548015594482,
          -0.5256791710853577,
          1.0142391920089722,
          -7.736425399780273,
          -9.021488189697266,
          7.220701217651367,
          -4.523921966552734,
          -0.620383620262146,
          -1.2471011877059937,
          -7.714351654052734,
          0.6718686819076538,
          -1.18632972240448,
          0.42167961597442627,
          -14.20211124420166,
          -9.895781517028809,
          -19.317031860351562,
          -7.12238883972168,
          -8.745718955993652,
          -1.1135317087173462,
          -6.796514987945557,
          26.843839645385742,
          0.6353276968002319,
          -5.087019443511963,
          -12.904322624206543,
          -14.730690002441406,
          -5.65897798538208,
          -13.796114921569824,
          -9.2658109664917,
          31.140731811523438,
          -1.2128238677978516,
          -10.644937515258789,
          4.2403082847595215,
          -16.87388038635254,
          -5.378556251525879,
          -6.307260990142822,
          0.4648999273777008,
          -2.1406121253967285,
          -11.002492904663086,
          1.444777488708496,
          -17.853139877319336,
          -6.812511920928955,
          -4.628173828125,
          -15.185115814208984,
          -8.257065773010254,
          -13.964082717895508,
          5.419547080993652,
          -0.3642995357513428,
          -2.473459482192993,
          -8.19517707824707,
          -3.6605632305145264,
          1.583877682685852,
          30.7120304107666,
          -0.8677943348884583,
          -8.667756080627441,
          30.51926612854004,
          -10.386265754699707,
          -7.706994533538818,
          -4.86054801940918,
          -17.319507598876953,
          0.45613187551498413,
          -4.377008438110352,
          -12.396734237670898,
          -11.755597114562988,
          -0.2557097375392914,
          -1.092722773551941,
          -10.038795471191406,
          -1.3575528860092163,
          1.263912320137024,
          -5.212420463562012,
          -9.107705116271973,
          -15.517895698547363,
          0.8312713503837585,
          3.9228768348693848,
          14.975606918334961,
          14.989335060119629,
          14.44796085357666,
          14.735122680664062,
          14.69364070892334,
          14.431341171264648,
          -8.09855842590332,
          -6.103616237640381,
          3.676961898803711,
          3.4829559326171875,
          -2.859710216522217,
          -5.927430152893066,
          -14.984955787658691,
          2.1636433601379395,
          -4.272439956665039,
          -15.337817192077637,
          -7.576885223388672,
          3.333028793334961,
          -7.541196346282959,
          -10.925959587097168,
          -7.784351825714111,
          -5.506164073944092,
          4.003376007080078,
          -8.768596649169922,
          -10.830848693847656,
          -13.566818237304688,
          -15.05667781829834,
          -3.4834718704223633,
          9.057326316833496,
          2.5653257369995117,
          -3.5768566131591797,
          5.814661979675293,
          -7.907475471496582,
          3.6797592639923096,
          2.3216986656188965,
          5.913837909698486,
          -10.721714973449707,
          -2.073603391647339,
          1.865904450416565,
          -10.872702598571777,
          -7.853017330169678,
          6.371867656707764,
          30.289039611816406,
          -15.395912170410156,
          -12.944408416748047,
          -12.05422592163086,
          -11.618088722229004,
          6.394025802612305,
          -8.020766258239746,
          -9.693058967590332,
          -1.1327086687088013,
          27.383148193359375,
          27.3830623626709,
          26.997600555419922,
          4.873427867889404,
          -2.0552515983581543,
          -11.052231788635254,
          -2.7907888889312744,
          -8.238948822021484,
          -8.740006446838379,
          6.088399887084961,
          -15.763824462890625,
          26.65717124938965,
          -11.13681411743164,
          2.42436146736145,
          9.144311904907227,
          -0.8931683897972107,
          10.548910140991211,
          29.273630142211914,
          -1.298201560974121,
          30.804744720458984,
          2.124136209487915,
          4.501387596130371,
          -2.6473348140716553,
          5.107354164123535,
          3.658780336380005,
          -6.841135025024414,
          -1.6758471727371216,
          -7.8321757316589355,
          -0.5036024451255798,
          -3.120241403579712,
          -7.4244842529296875,
          3.35701322555542,
          2.281461238861084,
          9.008366584777832,
          -1.2034391164779663,
          7.237434387207031,
          29.96990394592285,
          26.361230850219727,
          -1.455302357673645,
          2.4590253829956055,
          -10.078536987304688,
          27.59636878967285,
          -4.53427791595459,
          -7.183376789093018,
          6.544594764709473,
          -8.372840881347656,
          -6.084896564483643,
          -4.053182601928711,
          -7.291203498840332,
          -7.460996150970459,
          -7.280064582824707,
          8.122599601745605,
          3.380981922149658,
          -6.683571815490723,
          -6.784485340118408,
          30.036231994628906,
          4.308847904205322,
          -4.052168369293213,
          29.064189910888672,
          -12.05960464477539,
          -2.263763666152954,
          2.8140883445739746,
          9.169219970703125,
          30.09025001525879,
          -8.484078407287598,
          26.84424591064453,
          -12.275956153869629,
          5.0315985679626465,
          -11.0187349319458,
          10.675024032592773,
          27.6265869140625,
          9.991647720336914,
          2.0552573204040527,
          26.51169776916504,
          8.72903823852539,
          -3.1290509700775146,
          27.280292510986328,
          27.28026580810547,
          -7.462856769561768,
          9.817007064819336,
          -8.376542091369629,
          24.21542739868164,
          7.285914897918701,
          2.50227689743042,
          5.701117992401123,
          -7.240531921386719,
          27.694543838500977,
          -2.7408339977264404,
          -4.679445743560791,
          9.926929473876953,
          9.391664505004883,
          10.814997673034668,
          6.5996527671813965,
          8.919851303100586,
          10.041467666625977,
          10.702096939086914,
          9.762321472167969,
          2.2064833641052246,
          3.031024694442749,
          11.234598159790039,
          9.033635139465332,
          7.817713260650635,
          8.743103981018066,
          23.88275146484375,
          10.442525863647461,
          10.4425630569458,
          8.256538391113281,
          8.59746265411377,
          10.20129680633545,
          12.366987228393555,
          12.366969108581543,
          10.557965278625488,
          6.945070266723633,
          26.425905227661133,
          25.904293060302734,
          29.182289123535156,
          24.84945297241211,
          6.170727729797363,
          25.673547744750977,
          7.949119567871094,
          27.189579010009766,
          27.18414306640625,
          25.007640838623047,
          2.8353829383850098,
          24.851346969604492,
          7.10123348236084,
          10.5858793258667,
          10.585885047912598,
          8.56347370147705,
          11.106009483337402,
          7.4036946296691895,
          7.181756973266602,
          26.07387351989746
         ],
         "yaxis": "y"
        },
        {
         "hoverinfo": "text",
         "marker": {
          "color": "red",
          "line": {
           "color": "black",
           "width": 2
          },
          "size": 15
         },
         "mode": "markers",
         "name": "Suspicious",
         "text": [
          "worldnewspoli",
          "jrrbrtt",
          "danny_turner_1",
          "finley1589",
          "heyitsglor",
          "orrclay",
          "kelvsok",
          "kenzdonovan",
          "kateritterrrr",
          "warfareww",
          "yattvrussia",
          "patriotblake",
          "lgbtuni",
          "kristyanann",
          "missourinewsus",
          "cynthiamhunter",
          "4ever1937",
          "usa_gunslinger",
          "pamela_moore13",
          "ameliebaldwin",
          "andrebeauleger",
          "luke_jones13",
          "albertmorenmore",
          "israel_wills",
          "dannymaslov",
          "interfischer",
          "todayinsyria",
          "southlonestar",
          "redlanews",
          "hyddrox",
          "dailysanfran",
          "newarkvoice",
          "williams_diana_",
          "rogovilia",
          "happkendrahappy",
          "paulinett",
          "ten_gop",
          "donnabrivera",
          "nojonathonno",
          "newspeakdaily",
          "patriototus",
          "arkadii_trofim",
          "wadeharriot",
          "thefoundingson",
          "arturburanof",
          "ttsvetkov",
          "williams8kalvin",
          "darrell_h_hunt",
          "realrobert1987",
          "zubovnik",
          "rightnpr",
          "watchmewalkin",
          "j0hnlarsen",
          "realten_gop",
          "march_for_trump",
          "gibbs_jeremy_",
          "prettylaraplace",
          "hollydler",
          "onlinecleveland",
          "cookncooks",
          "stepansazono",
          "politweecs",
          "sylvielefevrier",
          "t0nyasinclair",
          "melanymelanin",
          "javonhidp",
          "kansasdailynews",
          "carriethornthon",
          "riafanru",
          "karolineauge",
          "rh0lbr00k",
          "tpartynews",
          "staywoke88",
          "drmichaelgarcia",
          "itstimetosecede",
          "washingtonline",
          "jaydaastonishin",
          "ninonderrien",
          "srahse",
          "ravenicholson",
          "darknally",
          "dorothiebell",
          "garrettsimpson_",
          "patriotka_rusi",
          "chadsloyer",
          "jacquelinisbest",
          "emileewaren",
          "margarethkurz",
          "janelperkinson",
          "jeffreykahunas",
          "anthonywoodboy",
          "lelandgraves_",
          "instotus",
          "_sashalapin",
          "alecmooooody",
          "onemightyfish",
          "camosaseko",
          "jihadist2ndwife",
          "ramonasnails",
          "muslims_in_usa",
          "anzgri",
          "regieblackmon",
          "pati_cooper",
          "leroylovesusa",
          "jamie_mccarthy_",
          "tezaharov",
          "shocko_10",
          "laurabaeley",
          "wildharee",
          "devinedevinbr",
          "sergbriantsev",
          "karenparker93",
          "pigeontoday",
          "mmmdarya",
          "valeyina_dm",
          "joseph_jenks",
          "siccerthanyou",
          "ogdeandre",
          "zzzacharyzzz",
          "richmondvoice",
          "banttanantta",
          "krustyps",
          "cassieweltch",
          "crystal1johnson",
          "neworleanson",
          "puredavie",
          "policestateme",
          "traceyhappymom",
          "finnaglo",
          "phoenixdailynew",
          "hollandpatrickk",
          "jani_s_jac",
          "glebnikon",
          "oaklandonline",
          "maksblaginin",
          "philadelphiaon",
          "lysikvinkova",
          "romangorolov",
          "robbydelaware",
          "blacktivists",
          "pamblmdaniels",
          "ostrovofficer",
          "lila_gorila",
          "oooonlyone",
          "horrorki",
          "zistti",
          "sovetnikstatski",
          "inst_vets",
          "tebepizdec",
          "bricegeller",
          "todaybostonma",
          "mr_clampin",
          "lazykstafford",
          "gwennythot",
          "paolakinck",
          "roscoe_riddle",
          "samirgooden",
          "clydedaws0n",
          "notritahart",
          "austinlovesbeer",
          "archieolivers",
          "agnesgrhm",
          "johnievogue",
          "batonrougevoice",
          "youjustctrlc",
          "iiddaamarks",
          "acejinev",
          "logan_whatsup",
          "gvardeykalena",
          "chaneutral",
          "riogithief",
          "michellearry",
          "todaymiami",
          "ilovesarahrich",
          "jasper_fly",
          "chesplayschess",
          "eliasbrick",
          "verrellportier",
          "jery_robertsyo",
          "erofeenkoanton",
          "mil0blake",
          "corynaenae",
          "todaycincinnati",
          "todaynycity",
          "kotovamarys",
          "jenn_abrams",
          "damanimiles",
          "stanleyparris",
          "johnnymarch_",
          "queenofthewo",
          "melvinsroberts",
          "cassishere",
          "adamchapmanjr",
          "georevieweurope",
          "randolphburrr",
          "giselleevns",
          "taraformation",
          "imissobama",
          "errivvvvers",
          "westernwindwes",
          "jon_underwood_",
          "handsome_henson",
          "onlinememphis",
          "kathiemrr",
          "imapharrelfake",
          "peytoncashout",
          "bydrbre_",
          "houstontopnews",
          "claypaigeboo",
          "micparrish",
          "evagreen69",
          "entatjanamax",
          "priceforpierce",
          "mihanovikov",
          "sternandreas404",
          "jadonhutchinson",
          "hiimkhloe",
          "cookiiieeessss",
          "nataturn",
          "stlouisonline",
          "dailysandiego",
          "vasilichvasili",
          "jassscott",
          "blacktolive",
          "gallowayeliana",
          "jaedenmassey",
          "screamymonkey",
          "dallastopnews",
          "blk_voice",
          "willisbonnerr",
          "blacknewsoutlet",
          "stanley_cox_",
          "travisrespek",
          "detroitdailynew",
          "daileyjadon",
          "taisiaavdeeva",
          "jeanuttella",
          "klara_sauber",
          "lagonehoe",
          "scottgohard",
          "christinapool61",
          "malloryjared",
          "kaydenmelton",
          "krasilnikovbor",
          "heyits_toby",
          "leecory",
          "sergeev_tolik",
          "dailylosangeles",
          "johnbranchh",
          "rosieonfleek",
          "mrmoraan",
          "jeblary2016",
          "hunteroddddom",
          "romanagafonovv",
          "boriseleseev",
          "nj_blacknews",
          "jeannemccarthy0",
          "skatewake1994",
          "internalmemer",
          "mwiqcen",
          "gorelkinnn",
          "shikarnoel",
          "jorda_morgan",
          "lmarinays",
          "moda_barina",
          "brianaregland",
          "alexsvladimirov",
          "razvedchica_",
          "bogdankravcov",
          "blmsoldier",
          "sanantotopnews",
          "ryanmaxwell_1",
          "chernenkonikola",
          "fightm_d_b",
          "judelambertusa",
          "portmela",
          "kolradskiy_zhuk",
          "specialaffair",
          "sindyblossom",
          "tessyelmore",
          "chicagodailynew",
          "kelvin_chambers",
          "cornellburchet",
          "globalfoe",
          "dontshootcom",
          "patriotraphael",
          "kimberleighlamb",
          "patriot_archive",
          "cannonsher",
          "puddin_leto",
          "imaswerve",
          "milwaukeevoice",
          "queennarielle",
          "antonhayhay",
          "russilanrogov",
          "gloed_up",
          "atlanta_online",
          "bigboyjasiah",
          "iris0_o",
          "ericarutter",
          "viborisova",
          "marianeuberg1",
          "_nickluna_",
          "blackmattersus",
          "wonderhann",
          "c__wells",
          "cliftonhughes_",
          "datwisenigga",
          "baobaeham",
          "gwen_garland",
          "fischermaria933",
          "sonderkatharina",
          "tinatkurtz1222",
          "blackeyeblog",
          "christinacrisss",
          "evewebster373",
          "gracelilstar",
          "ponomarevslav",
          "trayneshacole",
          "rus_in_usa",
          "bleepthepolice",
          "berkhoff85",
          "4mysquad",
          "notballinyet",
          "deusxyx",
          "boryabuchin",
          "shapka_mono",
          "whitehousecards",
          "peeonhillary",
          "lilylilyhasse",
          "bigboysneed",
          "brianthelifter",
          "liljordamn",
          "nehemiahx",
          "robertebonyking",
          "briys_valera",
          "edmundrjr",
          "mrclydepratt",
          "lapinolegg",
          "colbyst1",
          "jacksoncitypost",
          "elpasotopnews",
          "alexharritonov",
          "cascaseyp",
          "beckster319",
          "maximgaron1",
          "manuelkrosss",
          "politopros",
          "ssus_panther",
          "beverlybalsom",
          "blacneighbor",
          "erdollum",
          "donnielmiller",
          "chrixmorgan",
          "marissaimstrong",
          "ryanncooperwood",
          "aleksey_sokol_",
          "bocharnikov_v",
          "baltimore0nline",
          "danageezus",
          "todaypittsburgh",
          "toneporter",
          "maymaymyy",
          "yaeltrouble",
          "mbrownhere",
          "fishalexanderr",
          "jerstoner",
          "worldofhashtags",
          "joachimbuchwitz",
          "iancalh0un",
          "reachitdoit",
          "aantiracist",
          "jarrardnorman",
          "peterkistner",
          "seattle_post",
          "lukas_rosler",
          "_billy_moyer_",
          "curtisbigman",
          "todaycleveland",
          "abigailssilk",
          "mtthsberger",
          "hipppo_",
          "johnieboycooks",
          "chrisuport_port",
          "calebpaar",
          "glennharper_",
          "schultei2",
          "angela_lattke",
          "russianallies",
          "aiden7757",
          "charlesrespeck",
          "andreaseulitz",
          "dannythehappies",
          "kirstenladaniel",
          "lynsrodriguez",
          "sincerepruitt",
          "erdollum666",
          "jsncarey",
          "dominicvalent",
          "jmscoxxx",
          "kencannone",
          "holycrapchrix",
          "meggieoneil",
          "adrienne_gg",
          "bigseanbeast",
          "charlesjharper",
          "heyheyhailey",
          "wokefromday1",
          "susayung",
          "catelinewatkins",
          "bgarner2107",
          "loragreeen",
          "gab1aldana",
          "novostidamask",
          "rusnevrotik",
          "msm0re",
          "hellieedwards",
          "ilikebigbuttand",
          "sovasof",
          "mikkyrurk",
          "oh_frida",
          "bruciedublin",
          "aldrich420",
          "coldwar20_ru",
          "margosavazh",
          "angelabach991",
          "maxdementiev",
          "adrgreerr",
          "lavrovmuesli",
          "amandavgreen",
          "klausfinker",
          "hamburgbote",
          "sto_christi",
          "edmundc0oke",
          "margoberoeva",
          "brentmcclure275",
          "6druz",
          "denn_nikitin"
         ],
         "type": "scatter",
         "x": [
          22.531570434570312,
          -24.58481788635254,
          -16.118234634399414,
          22.32196807861328,
          -12.451086044311523,
          -12.529720306396484,
          20.509193420410156,
          21.718399047851562,
          21.642078399658203,
          -7.015254974365234,
          22.278728485107422,
          -0.6833003163337708,
          0.09200477600097656,
          -24.7763729095459,
          21.20659065246582,
          21.343509674072266,
          19.968780517578125,
          21.21912384033203,
          22.48638153076172,
          23.337078094482422,
          -12.81638240814209,
          20.966411590576172,
          -18.408143997192383,
          -17.629648208618164,
          1.604682445526123,
          21.2816219329834,
          -6.984173774719238,
          22.980010986328125,
          20.448373794555664,
          5.406810283660889,
          19.079275131225586,
          21.889408111572266,
          -7.429879665374756,
          18.896656036376953,
          21.459415435791016,
          -10.617033004760742,
          6.377357482910156,
          20.5900936126709,
          22.469623565673828,
          20.06671714782715,
          -2.677865743637085,
          0.8400344252586365,
          20.962955474853516,
          -3.476172924041748,
          -0.05199133977293968,
          6.646912097930908,
          20.525341033935547,
          5.275862693786621,
          21.13534927368164,
          6.6813859939575195,
          22.606292724609375,
          20.1184139251709,
          21.524621963500977,
          20.44821548461914,
          21.38088607788086,
          -22.406293869018555,
          20.5883846282959,
          19.99508285522461,
          20.00970458984375,
          -3.812837839126587,
          19.7139892578125,
          19.56484031677246,
          -12.699023246765137,
          -23.445451736450195,
          -11.803772926330566,
          8.52454948425293,
          19.506263732910156,
          20.21455192565918,
          -1.4511760473251343,
          -12.611963272094727,
          18.258760452270508,
          -0.4153355360031128,
          6.450976848602295,
          8.19922161102295,
          -4.178659915924072,
          18.56879425048828,
          9.45004653930664,
          -12.521418571472168,
          -17.828664779663086,
          6.508471965789795,
          18.801481246948242,
          -2.9574637413024902,
          -6.1378173828125,
          8.795063018798828,
          6.62939977645874,
          -3.1385796070098877,
          -3.2742786407470703,
          -2.803934335708618,
          6.1516289710998535,
          -6.736168384552002,
          -11.474120140075684,
          -21.07990264892578,
          -3.982252597808838,
          2.1856820583343506,
          10.166890144348145,
          4.663995265960693,
          6.215744972229004,
          -8.592036247253418,
          9.698042869567871,
          -1.2585229873657227,
          -4.228135108947754,
          3.983184814453125,
          17.389333724975586,
          -4.759319305419922,
          -13.488763809204102,
          14.040749549865723,
          -7.663754463195801,
          -7.441068649291992,
          -23.430572509765625,
          20.89066505432129,
          11.531518936157227,
          18.811248779296875,
          1.6606414318084717,
          1.5392688512802124,
          18.145360946655273,
          -7.808314323425293,
          6.008674621582031,
          5.352179527282715,
          10.293288230895996,
          16.526700973510742,
          -15.729671478271484,
          -15.782747268676758,
          -23.262130737304688,
          -9.986992835998535,
          18.220537185668945,
          -22.531757354736328,
          -0.6468596458435059,
          -24.184833526611328,
          6.985132694244385,
          18.308401107788086,
          -10.599864959716797,
          7.810856342315674,
          19.50694465637207,
          19.307384490966797,
          4.312902450561523,
          16.67096519470215,
          -6.717944145202637,
          3.865351438522339,
          0.24676653742790222,
          -9.8079833984375,
          8.966605186462402,
          -13.352132797241211,
          -13.477423667907715,
          -13.770364761352539,
          -13.67891788482666,
          -13.67891788482666,
          18.392690658569336,
          6.861274719238281,
          -2.3001675605773926,
          14.885682106018066,
          18.836069107055664,
          -23.663869857788086,
          -10.038840293884277,
          4.595451831817627,
          16.59825897216797,
          -12.350777626037598,
          5.7655930519104,
          -20.198543548583984,
          -23.12249183654785,
          -18.33561134338379,
          5.203517436981201,
          -9.359560012817383,
          9.062255859375,
          19.238080978393555,
          5.827601432800293,
          8.81414794921875,
          7.499734878540039,
          -14.353339195251465,
          17.083616256713867,
          18.303430557250977,
          -12.541339874267578,
          -6.622551918029785,
          17.353031158447266,
          0.7742012739181519,
          -24.19285011291504,
          5.294527053833008,
          4.289671421051025,
          -12.387887001037598,
          2.9572620391845703,
          12.341833114624023,
          -9.071146011352539,
          10.934240341186523,
          17.390409469604492,
          1.0036416053771973,
          7.61117696762085,
          -5.373414039611816,
          9.667741775512695,
          -0.9925368428230286,
          0.8781867623329163,
          -23.674985885620117,
          -23.7321720123291,
          17.800983428955078,
          4.872225284576416,
          2.022783041000366,
          -1.0838876962661743,
          -22.485767364501953,
          15.217957496643066,
          3.6271958351135254,
          2.203118324279785,
          -8.21036148071289,
          -17.612571716308594,
          -9.179699897766113,
          1.839154839515686,
          -22.917442321777344,
          -0.49575766921043396,
          -1.833317756652832,
          0.8189553022384644,
          13.301865577697754,
          12.989802360534668,
          -13.749245643615723,
          -9.117242813110352,
          6.666647434234619,
          -8.66627025604248,
          0.12799394130706787,
          -2.096571922302246,
          4.187676429748535,
          -14.545857429504395,
          8.939519882202148,
          -8.2979154586792,
          17.15244483947754,
          17.60243034362793,
          17.016502380371094,
          7.463752269744873,
          -5.863785266876221,
          2.0168871879577637,
          -9.062649726867676,
          15.103424072265625,
          6.347063064575195,
          -7.002925872802734,
          -14.949616432189941,
          -6.26077127456665,
          3.4334092140197754,
          0.473928838968277,
          16.899784088134766,
          -23.14585304260254,
          6.011094570159912,
          10.754801750183105,
          -2.240011692047119,
          0.7071142792701721,
          -17.904024124145508,
          -3.711115837097168,
          -14.492545127868652,
          1.037778377532959,
          8.218308448791504,
          -7.867425441741943,
          2.4093539714813232,
          7.971334457397461,
          -2.087540626525879,
          -14.199009895324707,
          3.429380416870117,
          2.227731227874756,
          -7.649864196777344,
          -1.5421736240386963,
          12.927170753479004,
          13.329524040222168,
          -6.214850425720215,
          -8.096900939941406,
          0.2644270956516266,
          4.362745761871338,
          -8.041865348815918,
          -8.363523483276367,
          -8.376974105834961,
          -8.526718139648438,
          -7.899582862854004,
          -8.070574760437012,
          -17.96927833557129,
          11.994783401489258,
          14.207221031188965,
          12.775787353515625,
          4.34377908706665,
          13.683489799499512,
          -8.230380058288574,
          13.547574043273926,
          11.88640022277832,
          -9.339542388916016,
          -19.285886764526367,
          13.427366256713867,
          17.277334213256836,
          -12.598037719726562,
          -3.9201886653900146,
          13.495366096496582,
          2.9154887199401855,
          -1.219356656074524,
          -16.168397903442383,
          -5.229119300842285,
          -8.710365295410156,
          -18.816326141357422,
          3.3659050464630127,
          2.8276309967041016,
          -15.270583152770996,
          0.5477800369262695,
          -18.049158096313477,
          1.2355971336364746,
          8.181853294372559,
          12.323969841003418,
          -8.240942001342773,
          16.385540008544922,
          3.0774970054626465,
          -8.965015411376953,
          -19.661701202392578,
          11.912471771240234,
          -2.7555887699127197,
          -5.3089985847473145,
          -5.248013973236084,
          -11.05237102508545,
          -13.743036270141602,
          1.9847447872161865,
          -15.209576606750488,
          -14.572076797485352,
          -2.227384090423584,
          -0.3275599181652069,
          -0.32766908407211304,
          -0.4045898914337158,
          2.2269222736358643,
          -12.54841136932373,
          -15.044264793395996,
          -12.567601203918457,
          1.5817855596542358,
          -6.84487771987915,
          12.1056547164917,
          -8.938143730163574,
          1.1239300966262817,
          -4.668532371520996,
          1.7266511917114258,
          0.6762775778770447,
          17.490755081176758,
          -5.226589202880859,
          -1.766487717628479,
          -3.2504160404205322,
          -2.9905624389648438,
          -0.5212020874023438,
          9.505613327026367,
          2.9021925926208496,
          0.04911390319466591,
          11.687042236328125,
          -16.2093448638916,
          15.007743835449219,
          -15.67447566986084,
          17.754207611083984,
          -14.110151290893555,
          16.500425338745117,
          -0.13764746487140656,
          12.637603759765625,
          -0.24791449308395386,
          -2.774362087249756,
          -1.428499460220337,
          -2.4825401306152344,
          -0.750507116317749,
          -12.386331558227539,
          -10.523412704467773,
          -4.724972248077393,
          -1.1974786520004272,
          -19.01961898803711,
          -20.562917709350586,
          1.8014156818389893,
          -11.459728240966797,
          12.652430534362793,
          2.966797351837158,
          13.014565467834473,
          -20.928682327270508,
          13.753884315490723,
          -4.830301761627197,
          -2.1766624450683594,
          -18.7996826171875,
          -15.025245666503906,
          -3.4553186893463135,
          -0.7562474608421326,
          -19.09335708618164,
          -2.8353354930877686,
          -4.968857288360596,
          -12.893736839294434,
          -3.6642253398895264,
          -5.801677703857422,
          -1.8743103742599487,
          16.417499542236328,
          -1.018247365951538,
          -12.873703002929688,
          -1.6562663316726685,
          -3.1749491691589355,
          0.6950935125350952,
          -1.616484522819519,
          0.09566608816385269,
          -3.5584683418273926,
          0.24860508739948273,
          -5.425203800201416,
          -14.326937675476074,
          -4.995700836181641,
          -4.9957122802734375,
          -4.843482494354248,
          -4.468790531158447,
          15.993717193603516,
          -1.0301705598831177,
          -6.541838645935059,
          -10.49524211883545,
          -5.8201727867126465,
          -4.80501127243042,
          -2.3337934017181396,
          -13.489943504333496,
          -18.95609474182129,
          -0.9410350322723389,
          -6.57879114151001,
          -0.5497186779975891,
          -6.666955947875977,
          -4.781235694885254,
          -2.995090961456299,
          -1.306699514389038,
          -1.389263391494751,
          -4.511841297149658,
          -4.280935287475586,
          -3.969043016433716,
          -3.761272668838501,
          -3.692366600036621,
          -3.5933704376220703,
          -3.4925036430358887,
          -12.281785011291504,
          -12.281712532043457,
          -3.694049119949341,
          -6.588812828063965,
          -9.79638671875,
          -10.793380737304688,
          -10.793379783630371,
          -1.3759359121322632,
          -3.4351115226745605,
          -2.0812623500823975,
          -2.423848867416382,
          -3.380953788757324,
          -3.01240611076355,
          -5.324580192565918,
          -2.600350856781006,
          -2.714453935623169,
          -3.0459773540496826,
          -3.0429978370666504,
          -1.5680923461914062,
          -10.433226585388184,
          -3.2010884284973145,
          -2.1246585845947266,
          -10.61896800994873,
          -10.618967056274414
         ],
         "y": [
          10.67395305633545,
          -9.210037231445312,
          -13.544415473937988,
          7.860833168029785,
          -15.172011375427246,
          -16.578392028808594,
          2.7182445526123047,
          5.854597091674805,
          7.356382369995117,
          -19.704824447631836,
          6.9114670753479,
          -14.31485652923584,
          -14.23852825164795,
          -8.211935043334961,
          9.130926132202148,
          6.834278583526611,
          8.602594375610352,
          3.6861250400543213,
          2.9225213527679443,
          1.8566312789916992,
          4.6783061027526855,
          2.2776682376861572,
          -11.471564292907715,
          -11.596096992492676,
          -13.22033405303955,
          10.5878267288208,
          -19.64632225036621,
          2.267669677734375,
          6.975381851196289,
          -9.077781677246094,
          -1.6604375839233398,
          9.955377578735352,
          -20.07322883605957,
          -0.32238370180130005,
          7.754086017608643,
          -16.884946823120117,
          -8.513358116149902,
          7.576844692230225,
          1.746477484703064,
          -6.433619499206543,
          -14.994546890258789,
          -13.009796142578125,
          5.56085729598999,
          -13.6948881149292,
          -13.466438293457031,
          -8.823274612426758,
          5.273391246795654,
          4.133207321166992,
          9.818293571472168,
          -8.359633445739746,
          2.2271413803100586,
          1.9034353494644165,
          3.5462517738342285,
          6.225828170776367,
          2.608128309249878,
          -9.70767593383789,
          4.823668956756592,
          6.032666206359863,
          -6.964028835296631,
          -16.01420783996582,
          4.876646518707275,
          5.369292259216309,
          4.448507308959961,
          -5.995628833770752,
          -15.481557846069336,
          -0.14157328009605408,
          -7.166762828826904,
          8.059452056884766,
          30.71122932434082,
          4.717299938201904,
          7.052731990814209,
          -12.35596752166748,
          -1.8047192096710205,
          -2.9532501697540283,
          -14.632402420043945,
          -5.308159828186035,
          -0.44228723645210266,
          4.695499897003174,
          -10.980767250061035,
          -0.6220898628234863,
          4.8192033767700195,
          -15.780987739562988,
          -17.00833511352539,
          -3.306694746017456,
          0.9377922415733337,
          -14.694978713989258,
          -15.46117115020752,
          31.517398834228516,
          -6.75996208190918,
          -16.942447662353516,
          -15.963371276855469,
          -9.03984546661377,
          -13.527978897094727,
          -12.470405578613281,
          0.45730942487716675,
          -5.567807674407959,
          -2.9256553649902344,
          -12.790350914001465,
          -0.07499144971370697,
          -9.915191650390625,
          -15.366832733154297,
          0.45577380061149597,
          4.094594955444336,
          -15.00991439819336,
          -13.179243087768555,
          -0.44683030247688293,
          -9.542101860046387,
          -17.84941864013672,
          -6.93004035949707,
          10.206647872924805,
          -0.10541564971208572,
          5.799903869628906,
          -0.33906227350234985,
          -11.479204177856445,
          4.861252784729004,
          -12.077642440795898,
          1.7739845514297485,
          -0.6307159662246704,
          0.009742637164890766,
          -1.3726446628570557,
          -11.94447135925293,
          -11.918254852294922,
          -9.234542846679688,
          -17.300411224365234,
          -1.9941046237945557,
          -8.491004943847656,
          -9.88131046295166,
          -8.510177612304688,
          -2.8141238689422607,
          -5.8675336837768555,
          -15.6702241897583,
          0.8110896348953247,
          7.522923469543457,
          -6.120439052581787,
          1.3853130340576172,
          0.8617627024650574,
          -9.723092079162598,
          -5.689473628997803,
          -9.798688888549805,
          -14.174890518188477,
          0.9340705275535583,
          12.864206314086914,
          13.0745210647583,
          13.022881507873535,
          12.658007621765137,
          12.658007621765137,
          3.961754322052002,
          -6.811454772949219,
          -13.42099380493164,
          -0.007478267885744572,
          -6.847043991088867,
          -8.399764060974121,
          -14.511490821838379,
          0.04465361684560776,
          6.196806907653809,
          -13.748909950256348,
          -2.281010150909424,
          -8.299032211303711,
          -7.693085670471191,
          -9.648300170898438,
          9.220682144165039,
          -19.280529022216797,
          1.9247570037841797,
          -6.537778377532959,
          2.7230749130249023,
          1.5029468536376953,
          -0.028356989845633507,
          -12.348793983459473,
          6.270373821258545,
          -6.496577262878418,
          -3.9873900413513184,
          -16.119327545166016,
          -4.477792739868164,
          -1.4122196435928345,
          -7.682145595550537,
          9.210002899169922,
          3.4542248249053955,
          4.332600116729736,
          -0.04099294915795326,
          1.0694187879562378,
          -13.9533052444458,
          2.322450637817383,
          -4.843847751617432,
          -9.349695205688477,
          -5.341863632202148,
          -8.614252090454102,
          3.2189548015594482,
          -0.5256791710853577,
          1.0142391920089722,
          -7.736425399780273,
          -9.021488189697266,
          7.220701217651367,
          -4.523921966552734,
          -0.620383620262146,
          -1.2471011877059937,
          -7.714351654052734,
          0.6718686819076538,
          -1.18632972240448,
          0.42167961597442627,
          -14.20211124420166,
          -9.895781517028809,
          -19.317031860351562,
          -7.12238883972168,
          -8.745718955993652,
          -1.1135317087173462,
          -6.796514987945557,
          26.843839645385742,
          0.6353276968002319,
          -5.087019443511963,
          -12.904322624206543,
          -14.730690002441406,
          -5.65897798538208,
          -13.796114921569824,
          -9.2658109664917,
          31.140731811523438,
          -1.2128238677978516,
          -10.644937515258789,
          4.2403082847595215,
          -16.87388038635254,
          -5.378556251525879,
          -6.307260990142822,
          0.4648999273777008,
          -2.1406121253967285,
          -11.002492904663086,
          1.444777488708496,
          -17.853139877319336,
          -6.812511920928955,
          -4.628173828125,
          -15.185115814208984,
          -8.257065773010254,
          -13.964082717895508,
          5.419547080993652,
          -0.3642995357513428,
          -2.473459482192993,
          -8.19517707824707,
          -3.6605632305145264,
          1.583877682685852,
          30.7120304107666,
          -0.8677943348884583,
          -8.667756080627441,
          30.51926612854004,
          -10.386265754699707,
          -7.706994533538818,
          -4.86054801940918,
          -17.319507598876953,
          0.45613187551498413,
          -4.377008438110352,
          -12.396734237670898,
          -11.755597114562988,
          -0.2557097375392914,
          -1.092722773551941,
          -10.038795471191406,
          -1.3575528860092163,
          1.263912320137024,
          -5.212420463562012,
          -9.107705116271973,
          -15.517895698547363,
          0.8312713503837585,
          3.9228768348693848,
          14.975606918334961,
          14.989335060119629,
          14.44796085357666,
          14.735122680664062,
          14.69364070892334,
          14.431341171264648,
          -8.09855842590332,
          -6.103616237640381,
          3.676961898803711,
          3.4829559326171875,
          -2.859710216522217,
          -5.927430152893066,
          -14.984955787658691,
          2.1636433601379395,
          -4.272439956665039,
          -15.337817192077637,
          -7.576885223388672,
          3.333028793334961,
          -7.541196346282959,
          -10.925959587097168,
          -7.784351825714111,
          -5.506164073944092,
          4.003376007080078,
          -8.768596649169922,
          -10.830848693847656,
          -13.566818237304688,
          -15.05667781829834,
          -3.4834718704223633,
          9.057326316833496,
          2.5653257369995117,
          -3.5768566131591797,
          5.814661979675293,
          -7.907475471496582,
          3.6797592639923096,
          2.3216986656188965,
          5.913837909698486,
          -10.721714973449707,
          -2.073603391647339,
          1.865904450416565,
          -10.872702598571777,
          -7.853017330169678,
          6.371867656707764,
          30.289039611816406,
          -15.395912170410156,
          -12.944408416748047,
          -12.05422592163086,
          -11.618088722229004,
          6.394025802612305,
          -8.020766258239746,
          -9.693058967590332,
          -1.1327086687088013,
          27.383148193359375,
          27.3830623626709,
          26.997600555419922,
          4.873427867889404,
          -2.0552515983581543,
          -11.052231788635254,
          -2.7907888889312744,
          -8.238948822021484,
          -8.740006446838379,
          6.088399887084961,
          -15.763824462890625,
          26.65717124938965,
          -11.13681411743164,
          2.42436146736145,
          9.144311904907227,
          -0.8931683897972107,
          10.548910140991211,
          29.273630142211914,
          -1.298201560974121,
          30.804744720458984,
          2.124136209487915,
          4.501387596130371,
          -2.6473348140716553,
          5.107354164123535,
          3.658780336380005,
          -6.841135025024414,
          -1.6758471727371216,
          -7.8321757316589355,
          -0.5036024451255798,
          -3.120241403579712,
          -7.4244842529296875,
          3.35701322555542,
          2.281461238861084,
          9.008366584777832,
          -1.2034391164779663,
          7.237434387207031,
          29.96990394592285,
          26.361230850219727,
          -1.455302357673645,
          2.4590253829956055,
          -10.078536987304688,
          27.59636878967285,
          -4.53427791595459,
          -7.183376789093018,
          6.544594764709473,
          -8.372840881347656,
          -6.084896564483643,
          -4.053182601928711,
          -7.291203498840332,
          -7.460996150970459,
          -7.280064582824707,
          8.122599601745605,
          3.380981922149658,
          -6.683571815490723,
          -6.784485340118408,
          30.036231994628906,
          4.308847904205322,
          -4.052168369293213,
          29.064189910888672,
          -12.05960464477539,
          -2.263763666152954,
          2.8140883445739746,
          9.169219970703125,
          30.09025001525879,
          -8.484078407287598,
          26.84424591064453,
          -12.275956153869629,
          5.0315985679626465,
          -11.0187349319458,
          10.675024032592773,
          27.6265869140625,
          9.991647720336914,
          2.0552573204040527,
          26.51169776916504,
          8.72903823852539,
          -3.1290509700775146,
          27.280292510986328,
          27.28026580810547,
          -7.462856769561768,
          9.817007064819336,
          -8.376542091369629,
          24.21542739868164,
          7.285914897918701,
          2.50227689743042,
          5.701117992401123,
          -7.240531921386719,
          27.694543838500977,
          -2.7408339977264404,
          -4.679445743560791,
          9.926929473876953,
          9.391664505004883,
          10.814997673034668,
          6.5996527671813965,
          8.919851303100586,
          10.041467666625977,
          10.702096939086914,
          9.762321472167969,
          2.2064833641052246,
          3.031024694442749,
          11.234598159790039,
          9.033635139465332,
          7.817713260650635,
          8.743103981018066,
          23.88275146484375,
          10.442525863647461,
          10.4425630569458,
          8.256538391113281,
          8.59746265411377,
          10.20129680633545,
          12.366987228393555,
          12.366969108581543,
          10.557965278625488,
          6.945070266723633,
          26.425905227661133,
          25.904293060302734,
          29.182289123535156,
          24.84945297241211,
          6.170727729797363,
          25.673547744750977,
          7.949119567871094,
          27.189579010009766,
          27.18414306640625,
          25.007640838623047,
          2.8353829383850098,
          24.851346969604492,
          7.10123348236084,
          10.5858793258667,
          10.585885047912598
         ]
        }
       ],
       "layout": {
        "coloraxis": {
         "colorbar": {
          "title": {
           "text": "cluster"
          }
         },
         "colorscale": [
          [
           0,
           "#0d0887"
          ],
          [
           0.1111111111111111,
           "#46039f"
          ],
          [
           0.2222222222222222,
           "#7201a8"
          ],
          [
           0.3333333333333333,
           "#9c179e"
          ],
          [
           0.4444444444444444,
           "#bd3786"
          ],
          [
           0.5555555555555556,
           "#d8576b"
          ],
          [
           0.6666666666666666,
           "#ed7953"
          ],
          [
           0.7777777777777778,
           "#fb9f3a"
          ],
          [
           0.8888888888888888,
           "#fdca26"
          ],
          [
           1,
           "#f0f921"
          ]
         ]
        },
        "height": 700,
        "legend": {
         "itemsizing": "constant",
         "tracegroupgap": 0
        },
        "template": {
         "data": {
          "bar": [
           {
            "error_x": {
             "color": "#2a3f5f"
            },
            "error_y": {
             "color": "#2a3f5f"
            },
            "marker": {
             "line": {
              "color": "#E5ECF6",
              "width": 0.5
             },
             "pattern": {
              "fillmode": "overlay",
              "size": 10,
              "solidity": 0.2
             }
            },
            "type": "bar"
           }
          ],
          "barpolar": [
           {
            "marker": {
             "line": {
              "color": "#E5ECF6",
              "width": 0.5
             },
             "pattern": {
              "fillmode": "overlay",
              "size": 10,
              "solidity": 0.2
             }
            },
            "type": "barpolar"
           }
          ],
          "carpet": [
           {
            "aaxis": {
             "endlinecolor": "#2a3f5f",
             "gridcolor": "white",
             "linecolor": "white",
             "minorgridcolor": "white",
             "startlinecolor": "#2a3f5f"
            },
            "baxis": {
             "endlinecolor": "#2a3f5f",
             "gridcolor": "white",
             "linecolor": "white",
             "minorgridcolor": "white",
             "startlinecolor": "#2a3f5f"
            },
            "type": "carpet"
           }
          ],
          "choropleth": [
           {
            "colorbar": {
             "outlinewidth": 0,
             "ticks": ""
            },
            "type": "choropleth"
           }
          ],
          "contour": [
           {
            "colorbar": {
             "outlinewidth": 0,
             "ticks": ""
            },
            "colorscale": [
             [
              0,
              "#0d0887"
             ],
             [
              0.1111111111111111,
              "#46039f"
             ],
             [
              0.2222222222222222,
              "#7201a8"
             ],
             [
              0.3333333333333333,
              "#9c179e"
             ],
             [
              0.4444444444444444,
              "#bd3786"
             ],
             [
              0.5555555555555556,
              "#d8576b"
             ],
             [
              0.6666666666666666,
              "#ed7953"
             ],
             [
              0.7777777777777778,
              "#fb9f3a"
             ],
             [
              0.8888888888888888,
              "#fdca26"
             ],
             [
              1,
              "#f0f921"
             ]
            ],
            "type": "contour"
           }
          ],
          "contourcarpet": [
           {
            "colorbar": {
             "outlinewidth": 0,
             "ticks": ""
            },
            "type": "contourcarpet"
           }
          ],
          "heatmap": [
           {
            "colorbar": {
             "outlinewidth": 0,
             "ticks": ""
            },
            "colorscale": [
             [
              0,
              "#0d0887"
             ],
             [
              0.1111111111111111,
              "#46039f"
             ],
             [
              0.2222222222222222,
              "#7201a8"
             ],
             [
              0.3333333333333333,
              "#9c179e"
             ],
             [
              0.4444444444444444,
              "#bd3786"
             ],
             [
              0.5555555555555556,
              "#d8576b"
             ],
             [
              0.6666666666666666,
              "#ed7953"
             ],
             [
              0.7777777777777778,
              "#fb9f3a"
             ],
             [
              0.8888888888888888,
              "#fdca26"
             ],
             [
              1,
              "#f0f921"
             ]
            ],
            "type": "heatmap"
           }
          ],
          "heatmapgl": [
           {
            "colorbar": {
             "outlinewidth": 0,
             "ticks": ""
            },
            "colorscale": [
             [
              0,
              "#0d0887"
             ],
             [
              0.1111111111111111,
              "#46039f"
             ],
             [
              0.2222222222222222,
              "#7201a8"
             ],
             [
              0.3333333333333333,
              "#9c179e"
             ],
             [
              0.4444444444444444,
              "#bd3786"
             ],
             [
              0.5555555555555556,
              "#d8576b"
             ],
             [
              0.6666666666666666,
              "#ed7953"
             ],
             [
              0.7777777777777778,
              "#fb9f3a"
             ],
             [
              0.8888888888888888,
              "#fdca26"
             ],
             [
              1,
              "#f0f921"
             ]
            ],
            "type": "heatmapgl"
           }
          ],
          "histogram": [
           {
            "marker": {
             "pattern": {
              "fillmode": "overlay",
              "size": 10,
              "solidity": 0.2
             }
            },
            "type": "histogram"
           }
          ],
          "histogram2d": [
           {
            "colorbar": {
             "outlinewidth": 0,
             "ticks": ""
            },
            "colorscale": [
             [
              0,
              "#0d0887"
             ],
             [
              0.1111111111111111,
              "#46039f"
             ],
             [
              0.2222222222222222,
              "#7201a8"
             ],
             [
              0.3333333333333333,
              "#9c179e"
             ],
             [
              0.4444444444444444,
              "#bd3786"
             ],
             [
              0.5555555555555556,
              "#d8576b"
             ],
             [
              0.6666666666666666,
              "#ed7953"
             ],
             [
              0.7777777777777778,
              "#fb9f3a"
             ],
             [
              0.8888888888888888,
              "#fdca26"
             ],
             [
              1,
              "#f0f921"
             ]
            ],
            "type": "histogram2d"
           }
          ],
          "histogram2dcontour": [
           {
            "colorbar": {
             "outlinewidth": 0,
             "ticks": ""
            },
            "colorscale": [
             [
              0,
              "#0d0887"
             ],
             [
              0.1111111111111111,
              "#46039f"
             ],
             [
              0.2222222222222222,
              "#7201a8"
             ],
             [
              0.3333333333333333,
              "#9c179e"
             ],
             [
              0.4444444444444444,
              "#bd3786"
             ],
             [
              0.5555555555555556,
              "#d8576b"
             ],
             [
              0.6666666666666666,
              "#ed7953"
             ],
             [
              0.7777777777777778,
              "#fb9f3a"
             ],
             [
              0.8888888888888888,
              "#fdca26"
             ],
             [
              1,
              "#f0f921"
             ]
            ],
            "type": "histogram2dcontour"
           }
          ],
          "mesh3d": [
           {
            "colorbar": {
             "outlinewidth": 0,
             "ticks": ""
            },
            "type": "mesh3d"
           }
          ],
          "parcoords": [
           {
            "line": {
             "colorbar": {
              "outlinewidth": 0,
              "ticks": ""
             }
            },
            "type": "parcoords"
           }
          ],
          "pie": [
           {
            "automargin": true,
            "type": "pie"
           }
          ],
          "scatter": [
           {
            "fillpattern": {
             "fillmode": "overlay",
             "size": 10,
             "solidity": 0.2
            },
            "type": "scatter"
           }
          ],
          "scatter3d": [
           {
            "line": {
             "colorbar": {
              "outlinewidth": 0,
              "ticks": ""
             }
            },
            "marker": {
             "colorbar": {
              "outlinewidth": 0,
              "ticks": ""
             }
            },
            "type": "scatter3d"
           }
          ],
          "scattercarpet": [
           {
            "marker": {
             "colorbar": {
              "outlinewidth": 0,
              "ticks": ""
             }
            },
            "type": "scattercarpet"
           }
          ],
          "scattergeo": [
           {
            "marker": {
             "colorbar": {
              "outlinewidth": 0,
              "ticks": ""
             }
            },
            "type": "scattergeo"
           }
          ],
          "scattergl": [
           {
            "marker": {
             "colorbar": {
              "outlinewidth": 0,
              "ticks": ""
             }
            },
            "type": "scattergl"
           }
          ],
          "scattermapbox": [
           {
            "marker": {
             "colorbar": {
              "outlinewidth": 0,
              "ticks": ""
             }
            },
            "type": "scattermapbox"
           }
          ],
          "scatterpolar": [
           {
            "marker": {
             "colorbar": {
              "outlinewidth": 0,
              "ticks": ""
             }
            },
            "type": "scatterpolar"
           }
          ],
          "scatterpolargl": [
           {
            "marker": {
             "colorbar": {
              "outlinewidth": 0,
              "ticks": ""
             }
            },
            "type": "scatterpolargl"
           }
          ],
          "scatterternary": [
           {
            "marker": {
             "colorbar": {
              "outlinewidth": 0,
              "ticks": ""
             }
            },
            "type": "scatterternary"
           }
          ],
          "surface": [
           {
            "colorbar": {
             "outlinewidth": 0,
             "ticks": ""
            },
            "colorscale": [
             [
              0,
              "#0d0887"
             ],
             [
              0.1111111111111111,
              "#46039f"
             ],
             [
              0.2222222222222222,
              "#7201a8"
             ],
             [
              0.3333333333333333,
              "#9c179e"
             ],
             [
              0.4444444444444444,
              "#bd3786"
             ],
             [
              0.5555555555555556,
              "#d8576b"
             ],
             [
              0.6666666666666666,
              "#ed7953"
             ],
             [
              0.7777777777777778,
              "#fb9f3a"
             ],
             [
              0.8888888888888888,
              "#fdca26"
             ],
             [
              1,
              "#f0f921"
             ]
            ],
            "type": "surface"
           }
          ],
          "table": [
           {
            "cells": {
             "fill": {
              "color": "#EBF0F8"
             },
             "line": {
              "color": "white"
             }
            },
            "header": {
             "fill": {
              "color": "#C8D4E3"
             },
             "line": {
              "color": "white"
             }
            },
            "type": "table"
           }
          ]
         },
         "layout": {
          "annotationdefaults": {
           "arrowcolor": "#2a3f5f",
           "arrowhead": 0,
           "arrowwidth": 1
          },
          "autotypenumbers": "strict",
          "coloraxis": {
           "colorbar": {
            "outlinewidth": 0,
            "ticks": ""
           }
          },
          "colorscale": {
           "diverging": [
            [
             0,
             "#8e0152"
            ],
            [
             0.1,
             "#c51b7d"
            ],
            [
             0.2,
             "#de77ae"
            ],
            [
             0.3,
             "#f1b6da"
            ],
            [
             0.4,
             "#fde0ef"
            ],
            [
             0.5,
             "#f7f7f7"
            ],
            [
             0.6,
             "#e6f5d0"
            ],
            [
             0.7,
             "#b8e186"
            ],
            [
             0.8,
             "#7fbc41"
            ],
            [
             0.9,
             "#4d9221"
            ],
            [
             1,
             "#276419"
            ]
           ],
           "sequential": [
            [
             0,
             "#0d0887"
            ],
            [
             0.1111111111111111,
             "#46039f"
            ],
            [
             0.2222222222222222,
             "#7201a8"
            ],
            [
             0.3333333333333333,
             "#9c179e"
            ],
            [
             0.4444444444444444,
             "#bd3786"
            ],
            [
             0.5555555555555556,
             "#d8576b"
            ],
            [
             0.6666666666666666,
             "#ed7953"
            ],
            [
             0.7777777777777778,
             "#fb9f3a"
            ],
            [
             0.8888888888888888,
             "#fdca26"
            ],
            [
             1,
             "#f0f921"
            ]
           ],
           "sequentialminus": [
            [
             0,
             "#0d0887"
            ],
            [
             0.1111111111111111,
             "#46039f"
            ],
            [
             0.2222222222222222,
             "#7201a8"
            ],
            [
             0.3333333333333333,
             "#9c179e"
            ],
            [
             0.4444444444444444,
             "#bd3786"
            ],
            [
             0.5555555555555556,
             "#d8576b"
            ],
            [
             0.6666666666666666,
             "#ed7953"
            ],
            [
             0.7777777777777778,
             "#fb9f3a"
            ],
            [
             0.8888888888888888,
             "#fdca26"
            ],
            [
             1,
             "#f0f921"
            ]
           ]
          },
          "colorway": [
           "#636efa",
           "#EF553B",
           "#00cc96",
           "#ab63fa",
           "#FFA15A",
           "#19d3f3",
           "#FF6692",
           "#B6E880",
           "#FF97FF",
           "#FECB52"
          ],
          "font": {
           "color": "#2a3f5f"
          },
          "geo": {
           "bgcolor": "white",
           "lakecolor": "white",
           "landcolor": "#E5ECF6",
           "showlakes": true,
           "showland": true,
           "subunitcolor": "white"
          },
          "hoverlabel": {
           "align": "left"
          },
          "hovermode": "closest",
          "mapbox": {
           "style": "light"
          },
          "paper_bgcolor": "white",
          "plot_bgcolor": "#E5ECF6",
          "polar": {
           "angularaxis": {
            "gridcolor": "white",
            "linecolor": "white",
            "ticks": ""
           },
           "bgcolor": "#E5ECF6",
           "radialaxis": {
            "gridcolor": "white",
            "linecolor": "white",
            "ticks": ""
           }
          },
          "scene": {
           "xaxis": {
            "backgroundcolor": "#E5ECF6",
            "gridcolor": "white",
            "gridwidth": 2,
            "linecolor": "white",
            "showbackground": true,
            "ticks": "",
            "zerolinecolor": "white"
           },
           "yaxis": {
            "backgroundcolor": "#E5ECF6",
            "gridcolor": "white",
            "gridwidth": 2,
            "linecolor": "white",
            "showbackground": true,
            "ticks": "",
            "zerolinecolor": "white"
           },
           "zaxis": {
            "backgroundcolor": "#E5ECF6",
            "gridcolor": "white",
            "gridwidth": 2,
            "linecolor": "white",
            "showbackground": true,
            "ticks": "",
            "zerolinecolor": "white"
           }
          },
          "shapedefaults": {
           "line": {
            "color": "#2a3f5f"
           }
          },
          "ternary": {
           "aaxis": {
            "gridcolor": "white",
            "linecolor": "white",
            "ticks": ""
           },
           "baxis": {
            "gridcolor": "white",
            "linecolor": "white",
            "ticks": ""
           },
           "bgcolor": "#E5ECF6",
           "caxis": {
            "gridcolor": "white",
            "linecolor": "white",
            "ticks": ""
           }
          },
          "title": {
           "x": 0.05
          },
          "xaxis": {
           "automargin": true,
           "gridcolor": "white",
           "linecolor": "white",
           "ticks": "",
           "title": {
            "standoff": 15
           },
           "zerolinecolor": "white",
           "zerolinewidth": 2
          },
          "yaxis": {
           "automargin": true,
           "gridcolor": "white",
           "linecolor": "white",
           "ticks": "",
           "title": {
            "standoff": 15
           },
           "zerolinecolor": "white",
           "zerolinewidth": 2
          }
         }
        },
        "title": {
         "text": "User Clustering based on Topic Distribution (K-means, 5 clusters)"
        },
        "width": 900,
        "xaxis": {
         "anchor": "y",
         "domain": [
          0,
          1
         ],
         "title": {
          "text": "t-SNE Dimension 1"
         }
        },
        "yaxis": {
         "anchor": "x",
         "domain": [
          0,
          1
         ],
         "title": {
          "text": "t-SNE Dimension 2"
         }
        }
       }
      }
     },
     "metadata": {},
     "output_type": "display_data"
    },
    {
     "data": {
      "application/vnd.plotly.v1+json": {
       "config": {
        "plotlyServerURL": "https://plot.ly"
       },
       "data": [
        {
         "coloraxis": "coloraxis",
         "hovertemplate": "Topic: %{x}<br>Cluster: %{y}<br>Mean Weight: %{z}<extra></extra>",
         "name": "0",
         "type": "heatmap",
         "x": [
          "Topic 0",
          "Topic 1",
          "Topic 2",
          "Topic 3",
          "Topic 4",
          "Topic 5",
          "Topic 6",
          "Topic 7",
          "Topic 8",
          "Topic 9",
          "Topic 10",
          "Topic 11"
         ],
         "xaxis": "x",
         "y": [
          "Cluster 0",
          "Cluster 1",
          "Cluster 2",
          "Cluster 3",
          "Cluster 4"
         ],
         "yaxis": "y",
         "z": [
          [
           0.02075761632653061,
           0.013440179591836736,
           0.05033728979591837,
           0.017024987755102042,
           0.4028498897959183,
           0.014447253061224491,
           0.009677110204081633,
           0.008009608163265307,
           0.2902368897959184,
           0.011017636734693878,
           0.14380696326530612,
           0.01839466530612245
          ],
          [
           0.055893771428571416,
           0.020852,
           0.025005199999999998,
           0.01958862857142857,
           0.2041216857142857,
           0.023463828571428574,
           0.0092052,
           0.003654342857142857,
           0.1514968285714286,
           0.3760775428571429,
           0.08587308571428569,
           0.024767800000000003
          ],
          [
           0.03475299999999999,
           0.011720886363636362,
           0.020039045454545455,
           0.049251045454545464,
           0.15833045454545455,
           0.012548068181818183,
           0.010052295454545454,
           0.005172477272727274,
           0.2510025227272727,
           0.006420454545454545,
           0.4197025227272728,
           0.021007318181818183
          ],
          [
           0.0188998,
           0.34463079999999996,
           0.020225999999999997,
           0.0138595,
           0.2000911,
           0.0074015,
           0.005442799999999999,
           0.0041844,
           0.19546460000000002,
           0.0059908,
           0.11385110000000001,
           0.0699577
          ],
          [
           0.025454623853211008,
           0.015719963302752292,
           0.02876737614678899,
           0.02388464220183486,
           0.21172846788990834,
           0.014507926605504587,
           0.03905220183486239,
           0.0057386788990825685,
           0.4281598715596331,
           0.00919391743119266,
           0.18945454128440367,
           0.008337660550458714
          ]
         ]
        }
       ],
       "layout": {
        "coloraxis": {
         "colorbar": {
          "title": {
           "text": "Mean Weight"
          }
         },
         "colorscale": [
          [
           0,
           "#440154"
          ],
          [
           0.1111111111111111,
           "#482878"
          ],
          [
           0.2222222222222222,
           "#3e4989"
          ],
          [
           0.3333333333333333,
           "#31688e"
          ],
          [
           0.4444444444444444,
           "#26828e"
          ],
          [
           0.5555555555555556,
           "#1f9e89"
          ],
          [
           0.6666666666666666,
           "#35b779"
          ],
          [
           0.7777777777777778,
           "#6ece58"
          ],
          [
           0.8888888888888888,
           "#b5de2b"
          ],
          [
           1,
           "#fde725"
          ]
         ]
        },
        "height": 400,
        "margin": {
         "t": 60
        },
        "template": {
         "data": {
          "bar": [
           {
            "error_x": {
             "color": "#2a3f5f"
            },
            "error_y": {
             "color": "#2a3f5f"
            },
            "marker": {
             "line": {
              "color": "#E5ECF6",
              "width": 0.5
             },
             "pattern": {
              "fillmode": "overlay",
              "size": 10,
              "solidity": 0.2
             }
            },
            "type": "bar"
           }
          ],
          "barpolar": [
           {
            "marker": {
             "line": {
              "color": "#E5ECF6",
              "width": 0.5
             },
             "pattern": {
              "fillmode": "overlay",
              "size": 10,
              "solidity": 0.2
             }
            },
            "type": "barpolar"
           }
          ],
          "carpet": [
           {
            "aaxis": {
             "endlinecolor": "#2a3f5f",
             "gridcolor": "white",
             "linecolor": "white",
             "minorgridcolor": "white",
             "startlinecolor": "#2a3f5f"
            },
            "baxis": {
             "endlinecolor": "#2a3f5f",
             "gridcolor": "white",
             "linecolor": "white",
             "minorgridcolor": "white",
             "startlinecolor": "#2a3f5f"
            },
            "type": "carpet"
           }
          ],
          "choropleth": [
           {
            "colorbar": {
             "outlinewidth": 0,
             "ticks": ""
            },
            "type": "choropleth"
           }
          ],
          "contour": [
           {
            "colorbar": {
             "outlinewidth": 0,
             "ticks": ""
            },
            "colorscale": [
             [
              0,
              "#0d0887"
             ],
             [
              0.1111111111111111,
              "#46039f"
             ],
             [
              0.2222222222222222,
              "#7201a8"
             ],
             [
              0.3333333333333333,
              "#9c179e"
             ],
             [
              0.4444444444444444,
              "#bd3786"
             ],
             [
              0.5555555555555556,
              "#d8576b"
             ],
             [
              0.6666666666666666,
              "#ed7953"
             ],
             [
              0.7777777777777778,
              "#fb9f3a"
             ],
             [
              0.8888888888888888,
              "#fdca26"
             ],
             [
              1,
              "#f0f921"
             ]
            ],
            "type": "contour"
           }
          ],
          "contourcarpet": [
           {
            "colorbar": {
             "outlinewidth": 0,
             "ticks": ""
            },
            "type": "contourcarpet"
           }
          ],
          "heatmap": [
           {
            "colorbar": {
             "outlinewidth": 0,
             "ticks": ""
            },
            "colorscale": [
             [
              0,
              "#0d0887"
             ],
             [
              0.1111111111111111,
              "#46039f"
             ],
             [
              0.2222222222222222,
              "#7201a8"
             ],
             [
              0.3333333333333333,
              "#9c179e"
             ],
             [
              0.4444444444444444,
              "#bd3786"
             ],
             [
              0.5555555555555556,
              "#d8576b"
             ],
             [
              0.6666666666666666,
              "#ed7953"
             ],
             [
              0.7777777777777778,
              "#fb9f3a"
             ],
             [
              0.8888888888888888,
              "#fdca26"
             ],
             [
              1,
              "#f0f921"
             ]
            ],
            "type": "heatmap"
           }
          ],
          "heatmapgl": [
           {
            "colorbar": {
             "outlinewidth": 0,
             "ticks": ""
            },
            "colorscale": [
             [
              0,
              "#0d0887"
             ],
             [
              0.1111111111111111,
              "#46039f"
             ],
             [
              0.2222222222222222,
              "#7201a8"
             ],
             [
              0.3333333333333333,
              "#9c179e"
             ],
             [
              0.4444444444444444,
              "#bd3786"
             ],
             [
              0.5555555555555556,
              "#d8576b"
             ],
             [
              0.6666666666666666,
              "#ed7953"
             ],
             [
              0.7777777777777778,
              "#fb9f3a"
             ],
             [
              0.8888888888888888,
              "#fdca26"
             ],
             [
              1,
              "#f0f921"
             ]
            ],
            "type": "heatmapgl"
           }
          ],
          "histogram": [
           {
            "marker": {
             "pattern": {
              "fillmode": "overlay",
              "size": 10,
              "solidity": 0.2
             }
            },
            "type": "histogram"
           }
          ],
          "histogram2d": [
           {
            "colorbar": {
             "outlinewidth": 0,
             "ticks": ""
            },
            "colorscale": [
             [
              0,
              "#0d0887"
             ],
             [
              0.1111111111111111,
              "#46039f"
             ],
             [
              0.2222222222222222,
              "#7201a8"
             ],
             [
              0.3333333333333333,
              "#9c179e"
             ],
             [
              0.4444444444444444,
              "#bd3786"
             ],
             [
              0.5555555555555556,
              "#d8576b"
             ],
             [
              0.6666666666666666,
              "#ed7953"
             ],
             [
              0.7777777777777778,
              "#fb9f3a"
             ],
             [
              0.8888888888888888,
              "#fdca26"
             ],
             [
              1,
              "#f0f921"
             ]
            ],
            "type": "histogram2d"
           }
          ],
          "histogram2dcontour": [
           {
            "colorbar": {
             "outlinewidth": 0,
             "ticks": ""
            },
            "colorscale": [
             [
              0,
              "#0d0887"
             ],
             [
              0.1111111111111111,
              "#46039f"
             ],
             [
              0.2222222222222222,
              "#7201a8"
             ],
             [
              0.3333333333333333,
              "#9c179e"
             ],
             [
              0.4444444444444444,
              "#bd3786"
             ],
             [
              0.5555555555555556,
              "#d8576b"
             ],
             [
              0.6666666666666666,
              "#ed7953"
             ],
             [
              0.7777777777777778,
              "#fb9f3a"
             ],
             [
              0.8888888888888888,
              "#fdca26"
             ],
             [
              1,
              "#f0f921"
             ]
            ],
            "type": "histogram2dcontour"
           }
          ],
          "mesh3d": [
           {
            "colorbar": {
             "outlinewidth": 0,
             "ticks": ""
            },
            "type": "mesh3d"
           }
          ],
          "parcoords": [
           {
            "line": {
             "colorbar": {
              "outlinewidth": 0,
              "ticks": ""
             }
            },
            "type": "parcoords"
           }
          ],
          "pie": [
           {
            "automargin": true,
            "type": "pie"
           }
          ],
          "scatter": [
           {
            "fillpattern": {
             "fillmode": "overlay",
             "size": 10,
             "solidity": 0.2
            },
            "type": "scatter"
           }
          ],
          "scatter3d": [
           {
            "line": {
             "colorbar": {
              "outlinewidth": 0,
              "ticks": ""
             }
            },
            "marker": {
             "colorbar": {
              "outlinewidth": 0,
              "ticks": ""
             }
            },
            "type": "scatter3d"
           }
          ],
          "scattercarpet": [
           {
            "marker": {
             "colorbar": {
              "outlinewidth": 0,
              "ticks": ""
             }
            },
            "type": "scattercarpet"
           }
          ],
          "scattergeo": [
           {
            "marker": {
             "colorbar": {
              "outlinewidth": 0,
              "ticks": ""
             }
            },
            "type": "scattergeo"
           }
          ],
          "scattergl": [
           {
            "marker": {
             "colorbar": {
              "outlinewidth": 0,
              "ticks": ""
             }
            },
            "type": "scattergl"
           }
          ],
          "scattermapbox": [
           {
            "marker": {
             "colorbar": {
              "outlinewidth": 0,
              "ticks": ""
             }
            },
            "type": "scattermapbox"
           }
          ],
          "scatterpolar": [
           {
            "marker": {
             "colorbar": {
              "outlinewidth": 0,
              "ticks": ""
             }
            },
            "type": "scatterpolar"
           }
          ],
          "scatterpolargl": [
           {
            "marker": {
             "colorbar": {
              "outlinewidth": 0,
              "ticks": ""
             }
            },
            "type": "scatterpolargl"
           }
          ],
          "scatterternary": [
           {
            "marker": {
             "colorbar": {
              "outlinewidth": 0,
              "ticks": ""
             }
            },
            "type": "scatterternary"
           }
          ],
          "surface": [
           {
            "colorbar": {
             "outlinewidth": 0,
             "ticks": ""
            },
            "colorscale": [
             [
              0,
              "#0d0887"
             ],
             [
              0.1111111111111111,
              "#46039f"
             ],
             [
              0.2222222222222222,
              "#7201a8"
             ],
             [
              0.3333333333333333,
              "#9c179e"
             ],
             [
              0.4444444444444444,
              "#bd3786"
             ],
             [
              0.5555555555555556,
              "#d8576b"
             ],
             [
              0.6666666666666666,
              "#ed7953"
             ],
             [
              0.7777777777777778,
              "#fb9f3a"
             ],
             [
              0.8888888888888888,
              "#fdca26"
             ],
             [
              1,
              "#f0f921"
             ]
            ],
            "type": "surface"
           }
          ],
          "table": [
           {
            "cells": {
             "fill": {
              "color": "#EBF0F8"
             },
             "line": {
              "color": "white"
             }
            },
            "header": {
             "fill": {
              "color": "#C8D4E3"
             },
             "line": {
              "color": "white"
             }
            },
            "type": "table"
           }
          ]
         },
         "layout": {
          "annotationdefaults": {
           "arrowcolor": "#2a3f5f",
           "arrowhead": 0,
           "arrowwidth": 1
          },
          "autotypenumbers": "strict",
          "coloraxis": {
           "colorbar": {
            "outlinewidth": 0,
            "ticks": ""
           }
          },
          "colorscale": {
           "diverging": [
            [
             0,
             "#8e0152"
            ],
            [
             0.1,
             "#c51b7d"
            ],
            [
             0.2,
             "#de77ae"
            ],
            [
             0.3,
             "#f1b6da"
            ],
            [
             0.4,
             "#fde0ef"
            ],
            [
             0.5,
             "#f7f7f7"
            ],
            [
             0.6,
             "#e6f5d0"
            ],
            [
             0.7,
             "#b8e186"
            ],
            [
             0.8,
             "#7fbc41"
            ],
            [
             0.9,
             "#4d9221"
            ],
            [
             1,
             "#276419"
            ]
           ],
           "sequential": [
            [
             0,
             "#0d0887"
            ],
            [
             0.1111111111111111,
             "#46039f"
            ],
            [
             0.2222222222222222,
             "#7201a8"
            ],
            [
             0.3333333333333333,
             "#9c179e"
            ],
            [
             0.4444444444444444,
             "#bd3786"
            ],
            [
             0.5555555555555556,
             "#d8576b"
            ],
            [
             0.6666666666666666,
             "#ed7953"
            ],
            [
             0.7777777777777778,
             "#fb9f3a"
            ],
            [
             0.8888888888888888,
             "#fdca26"
            ],
            [
             1,
             "#f0f921"
            ]
           ],
           "sequentialminus": [
            [
             0,
             "#0d0887"
            ],
            [
             0.1111111111111111,
             "#46039f"
            ],
            [
             0.2222222222222222,
             "#7201a8"
            ],
            [
             0.3333333333333333,
             "#9c179e"
            ],
            [
             0.4444444444444444,
             "#bd3786"
            ],
            [
             0.5555555555555556,
             "#d8576b"
            ],
            [
             0.6666666666666666,
             "#ed7953"
            ],
            [
             0.7777777777777778,
             "#fb9f3a"
            ],
            [
             0.8888888888888888,
             "#fdca26"
            ],
            [
             1,
             "#f0f921"
            ]
           ]
          },
          "colorway": [
           "#636efa",
           "#EF553B",
           "#00cc96",
           "#ab63fa",
           "#FFA15A",
           "#19d3f3",
           "#FF6692",
           "#B6E880",
           "#FF97FF",
           "#FECB52"
          ],
          "font": {
           "color": "#2a3f5f"
          },
          "geo": {
           "bgcolor": "white",
           "lakecolor": "white",
           "landcolor": "#E5ECF6",
           "showlakes": true,
           "showland": true,
           "subunitcolor": "white"
          },
          "hoverlabel": {
           "align": "left"
          },
          "hovermode": "closest",
          "mapbox": {
           "style": "light"
          },
          "paper_bgcolor": "white",
          "plot_bgcolor": "#E5ECF6",
          "polar": {
           "angularaxis": {
            "gridcolor": "white",
            "linecolor": "white",
            "ticks": ""
           },
           "bgcolor": "#E5ECF6",
           "radialaxis": {
            "gridcolor": "white",
            "linecolor": "white",
            "ticks": ""
           }
          },
          "scene": {
           "xaxis": {
            "backgroundcolor": "#E5ECF6",
            "gridcolor": "white",
            "gridwidth": 2,
            "linecolor": "white",
            "showbackground": true,
            "ticks": "",
            "zerolinecolor": "white"
           },
           "yaxis": {
            "backgroundcolor": "#E5ECF6",
            "gridcolor": "white",
            "gridwidth": 2,
            "linecolor": "white",
            "showbackground": true,
            "ticks": "",
            "zerolinecolor": "white"
           },
           "zaxis": {
            "backgroundcolor": "#E5ECF6",
            "gridcolor": "white",
            "gridwidth": 2,
            "linecolor": "white",
            "showbackground": true,
            "ticks": "",
            "zerolinecolor": "white"
           }
          },
          "shapedefaults": {
           "line": {
            "color": "#2a3f5f"
           }
          },
          "ternary": {
           "aaxis": {
            "gridcolor": "white",
            "linecolor": "white",
            "ticks": ""
           },
           "baxis": {
            "gridcolor": "white",
            "linecolor": "white",
            "ticks": ""
           },
           "bgcolor": "#E5ECF6",
           "caxis": {
            "gridcolor": "white",
            "linecolor": "white",
            "ticks": ""
           }
          },
          "title": {
           "x": 0.05
          },
          "xaxis": {
           "automargin": true,
           "gridcolor": "white",
           "linecolor": "white",
           "ticks": "",
           "title": {
            "standoff": 15
           },
           "zerolinecolor": "white",
           "zerolinewidth": 2
          },
          "yaxis": {
           "automargin": true,
           "gridcolor": "white",
           "linecolor": "white",
           "ticks": "",
           "title": {
            "standoff": 15
           },
           "zerolinecolor": "white",
           "zerolinewidth": 2
          }
         }
        },
        "title": {
         "text": "Cluster-Topic Distribution Heatmap"
        },
        "width": 900,
        "xaxis": {
         "anchor": "y",
         "domain": [
          0,
          1
         ],
         "title": {
          "text": "Topic"
         }
        },
        "yaxis": {
         "anchor": "x",
         "autorange": "reversed",
         "domain": [
          0,
          1
         ],
         "title": {
          "text": "Cluster"
         }
        }
       }
      }
     },
     "metadata": {},
     "output_type": "display_data"
    },
    {
     "data": {
      "application/vnd.jupyter.widget-view+json": {
       "model_id": "2a68d4d7c49d46b6aaf6e39616436b79",
       "version_major": 2,
       "version_minor": 0
      },
      "text/plain": [
       "VBox(children=(HTML(value='<h3>User Clustering Analysis</h3>'), HBox(children=(IntSlider(value=5, description=…"
      ]
     },
     "metadata": {},
     "output_type": "display_data"
    },
    {
     "data": {
      "application/vnd.plotly.v1+json": {
       "config": {
        "plotlyServerURL": "https://plot.ly"
       },
       "data": [
        {
         "customdata": [
          [
           "worldnewspoli",
           0.836373,
           21
          ],
          [
           "jrrbrtt",
           0.810083,
           1
          ],
          [
           "danny_turner_1",
           0.788269,
           1
          ],
          [
           "finley1589",
           0.785216,
           66
          ],
          [
           "heyitsglor",
           0.78285,
           1
          ],
          [
           "orrclay",
           0.780319,
           2
          ],
          [
           "kelvsok",
           0.778644,
           1
          ],
          [
           "kenzdonovan",
           0.775,
           58
          ],
          [
           "kateritterrrr",
           0.773055,
           68
          ],
          [
           "warfareww",
           0.771109,
           27
          ],
          [
           "yattvrussia",
           0.769944,
           1
          ],
          [
           "patriotblake",
           0.769362,
           191
          ],
          [
           "lgbtuni",
           0.768894,
           2
          ],
          [
           "kristyanann",
           0.768803,
           1
          ],
          [
           "missourinewsus",
           0.768707,
           28
          ],
          [
           "cynthiamhunter",
           0.763998,
           68
          ],
          [
           "4ever1937",
           0.763479,
           4
          ],
          [
           "usa_gunslinger",
           0.763415,
           71
          ],
          [
           "pamela_moore13",
           0.76336,
           135
          ],
          [
           "ameliebaldwin",
           0.762862,
           109
          ],
          [
           "andrebeauleger",
           0.762541,
           3
          ],
          [
           "luke_jones13",
           0.761932,
           45
          ],
          [
           "albertmorenmore",
           0.761801,
           1
          ],
          [
           "israel_wills",
           0.76129,
           1
          ],
          [
           "dannymaslov",
           0.760397,
           1
          ],
          [
           "interfischer",
           0.759399,
           5
          ],
          [
           "todayinsyria",
           0.758903,
           66
          ],
          [
           "southlonestar",
           0.757867,
           90
          ],
          [
           "redlanews",
           0.757854,
           51
          ],
          [
           "hyddrox",
           0.757606,
           148
          ],
          [
           "dailysanfran",
           0.757593,
           94
          ],
          [
           "newarkvoice",
           0.757505,
           100
          ],
          [
           "williams_diana_",
           0.757136,
           1
          ],
          [
           "rogovilia",
           0.756735,
           4
          ],
          [
           "happkendrahappy",
           0.756594,
           63
          ],
          [
           "paulinett",
           0.756473,
           246
          ],
          [
           "ten_gop",
           0.75634,
           215
          ],
          [
           "donnabrivera",
           0.75611,
           65
          ],
          [
           "nojonathonno",
           0.75526,
           56
          ],
          [
           "newspeakdaily",
           0.754823,
           107
          ],
          [
           "patriototus",
           0.754468,
           64
          ],
          [
           "arkadii_trofim",
           0.754433,
           5
          ],
          [
           "wadeharriot",
           0.753874,
           70
          ],
          [
           "thefoundingson",
           0.753596,
           242
          ],
          [
           "arturburanof",
           0.752884,
           5
          ],
          [
           "ttsvetkov",
           0.752103,
           4
          ],
          [
           "williams8kalvin",
           0.750887,
           3
          ],
          [
           "darrell_h_hunt",
           0.750697,
           1
          ],
          [
           "realrobert1987",
           0.75049,
           9
          ],
          [
           "zubovnik",
           0.750096,
           1
          ],
          [
           "rightnpr",
           0.749146,
           74
          ],
          [
           "watchmewalkin",
           0.749015,
           59
          ],
          [
           "j0hnlarsen",
           0.748743,
           61
          ],
          [
           "realten_gop",
           0.748705,
           61
          ],
          [
           "march_for_trump",
           0.747598,
           40
          ],
          [
           "gibbs_jeremy_",
           0.74677,
           1
          ],
          [
           "prettylaraplace",
           0.744694,
           74
          ],
          [
           "hollydler",
           0.744323,
           76
          ],
          [
           "onlinecleveland",
           0.743682,
           104
          ],
          [
           "cookncooks",
           0.743295,
           193
          ],
          [
           "stepansazono",
           0.743224,
           5
          ],
          [
           "politweecs",
           0.743112,
           100
          ],
          [
           "sylvielefevrier",
           0.743017,
           3
          ],
          [
           "t0nyasinclair",
           0.742954,
           1
          ],
          [
           "melanymelanin",
           0.741551,
           206
          ],
          [
           "javonhidp",
           0.740602,
           60
          ],
          [
           "kansasdailynews",
           0.740257,
           119
          ],
          [
           "carriethornthon",
           0.740145,
           71
          ],
          [
           "riafanru",
           0.739656,
           1
          ],
          [
           "karolineauge",
           0.739641,
           3
          ],
          [
           "rh0lbr00k",
           0.73943,
           20
          ],
          [
           "tpartynews",
           0.738304,
           298
          ],
          [
           "staywoke88",
           0.737874,
           49
          ],
          [
           "drmichaelgarcia",
           0.737705,
           53
          ],
          [
           "itstimetosecede",
           0.737436,
           31
          ],
          [
           "washingtonline",
           0.737208,
           105
          ],
          [
           "jaydaastonishin",
           0.73529,
           50
          ],
          [
           "ninonderrien",
           0.734432,
           3
          ],
          [
           "srahse",
           0.733908,
           1
          ],
          [
           "ravenicholson",
           0.733513,
           54
          ],
          [
           "darknally",
           0.733299,
           39
          ],
          [
           "dorothiebell",
           0.733233,
           192
          ],
          [
           "garrettsimpson_",
           0.733075,
           219
          ],
          [
           "patriotka_rusi",
           0.73222,
           5
          ],
          [
           "chadsloyer",
           0.732059,
           53
          ],
          [
           "jacquelinisbest",
           0.731773,
           178
          ],
          [
           "emileewaren",
           0.731665,
           190
          ],
          [
           "margarethkurz",
           0.731387,
           91
          ],
          [
           "janelperkinson",
           0.731229,
           10
          ],
          [
           "jeffreykahunas",
           0.730742,
           221
          ],
          [
           "anthonywoodboy",
           0.730002,
           9
          ],
          [
           "lelandgraves_",
           0.729664,
           4
          ],
          [
           "instotus",
           0.728765,
           3
          ],
          [
           "_sashalapin",
           0.728221,
           9
          ],
          [
           "alecmooooody",
           0.728176,
           55
          ],
          [
           "onemightyfish",
           0.727307,
           53
          ],
          [
           "camosaseko",
           0.726774,
           53
          ],
          [
           "jihadist2ndwife",
           0.726532,
           9
          ],
          [
           "ramonasnails",
           0.726524,
           50
          ],
          [
           "muslims_in_usa",
           0.726406,
           8
          ],
          [
           "anzgri",
           0.726343,
           2
          ],
          [
           "regieblackmon",
           0.725626,
           48
          ],
          [
           "pati_cooper",
           0.725466,
           10
          ],
          [
           "leroylovesusa",
           0.72522,
           202
          ],
          [
           "jamie_mccarthy_",
           0.724615,
           36
          ],
          [
           "tezaharov",
           0.723548,
           6
          ],
          [
           "shocko_10",
           0.723498,
           4
          ],
          [
           "laurabaeley",
           0.723397,
           209
          ],
          [
           "wildharee",
           0.722929,
           1
          ],
          [
           "devinedevinbr",
           0.722633,
           7
          ],
          [
           "sergbriantsev",
           0.722411,
           6
          ],
          [
           "karenparker93",
           0.722328,
           12
          ],
          [
           "pigeontoday",
           0.721894,
           18
          ],
          [
           "mmmdarya",
           0.721814,
           2
          ],
          [
           "valeyina_dm",
           0.721777,
           12
          ],
          [
           "joseph_jenks",
           0.721691,
           1
          ],
          [
           "siccerthanyou",
           0.721611,
           31
          ],
          [
           "ogdeandre",
           0.721545,
           52
          ],
          [
           "zzzacharyzzz",
           0.721502,
           31
          ],
          [
           "richmondvoice",
           0.721058,
           56
          ],
          [
           "banttanantta",
           0.720636,
           1
          ],
          [
           "krustyps",
           0.720605,
           1
          ],
          [
           "cassieweltch",
           0.720509,
           162
          ],
          [
           "crystal1johnson",
           0.720402,
           123
          ],
          [
           "neworleanson",
           0.720375,
           69
          ],
          [
           "puredavie",
           0.720207,
           121
          ],
          [
           "policestateme",
           0.719543,
           2
          ],
          [
           "traceyhappymom",
           0.719268,
           87
          ],
          [
           "finnaglo",
           0.719214,
           11
          ],
          [
           "phoenixdailynew",
           0.718775,
           95
          ],
          [
           "hollandpatrickk",
           0.71842,
           123
          ],
          [
           "jani_s_jac",
           0.718368,
           58
          ],
          [
           "glebnikon",
           0.718248,
           11
          ],
          [
           "oaklandonline",
           0.71814,
           73
          ],
          [
           "maksblaginin",
           0.718031,
           5
          ],
          [
           "philadelphiaon",
           0.717981,
           64
          ],
          [
           "lysikvinkova",
           0.717727,
           3
          ],
          [
           "romangorolov",
           0.717444,
           7
          ],
          [
           "robbydelaware",
           0.717103,
           23
          ],
          [
           "blacktivists",
           0.717003,
           11
          ],
          [
           "pamblmdaniels",
           0.716962,
           53
          ],
          [
           "ostrovofficer",
           0.716524,
           1
          ],
          [
           "lila_gorila",
           0.716524,
           1
          ],
          [
           "oooonlyone",
           0.716524,
           1
          ],
          [
           "horrorki",
           0.716523,
           1
          ],
          [
           "zistti",
           0.716523,
           1
          ],
          [
           "sovetnikstatski",
           0.71645,
           15
          ],
          [
           "inst_vets",
           0.716413,
           4
          ],
          [
           "tebepizdec",
           0.71543,
           1
          ],
          [
           "bricegeller",
           0.71525,
           7
          ],
          [
           "todaybostonma",
           0.715203,
           81
          ],
          [
           "mr_clampin",
           0.71505,
           113
          ],
          [
           "lazykstafford",
           0.714794,
           236
          ],
          [
           "gwennythot",
           0.714067,
           38
          ],
          [
           "paolakinck",
           0.714037,
           25
          ],
          [
           "roscoe_riddle",
           0.713915,
           1
          ],
          [
           "samirgooden",
           0.713878,
           37
          ],
          [
           "clydedaws0n",
           0.71357,
           1
          ],
          [
           "notritahart",
           0.713422,
           122
          ],
          [
           "austinlovesbeer",
           0.71314,
           7
          ],
          [
           "archieolivers",
           0.713022,
           9
          ],
          [
           "agnesgrhm",
           0.711957,
           1
          ],
          [
           "johnievogue",
           0.711904,
           10
          ],
          [
           "batonrougevoice",
           0.711851,
           93
          ],
          [
           "youjustctrlc",
           0.711476,
           36
          ],
          [
           "iiddaamarks",
           0.711425,
           47
          ],
          [
           "acejinev",
           0.711405,
           40
          ],
          [
           "logan_whatsup",
           0.711071,
           64
          ],
          [
           "gvardeykalena",
           0.710715,
           10
          ],
          [
           "chaneutral",
           0.710463,
           2
          ],
          [
           "riogithief",
           0.710459,
           3
          ],
          [
           "michellearry",
           0.710322,
           247
          ],
          [
           "todaymiami",
           0.710101,
           68
          ],
          [
           "ilovesarahrich",
           0.709952,
           46
          ],
          [
           "jasper_fly",
           0.709784,
           93
          ],
          [
           "chesplayschess",
           0.709256,
           13
          ],
          [
           "eliasbrick",
           0.70906,
           39
          ],
          [
           "verrellportier",
           0.708927,
           3
          ],
          [
           "jery_robertsyo",
           0.70866,
           53
          ],
          [
           "erofeenkoanton",
           0.708653,
           10
          ],
          [
           "mil0blake",
           0.70859,
           196
          ],
          [
           "corynaenae",
           0.708096,
           10
          ],
          [
           "todaycincinnati",
           0.708014,
           72
          ],
          [
           "todaynycity",
           0.707936,
           45
          ],
          [
           "kotovamarys",
           0.70772,
           15
          ],
          [
           "jenn_abrams",
           0.707645,
           182
          ],
          [
           "damanimiles",
           0.70749,
           13
          ],
          [
           "stanleyparris",
           0.707469,
           52
          ],
          [
           "johnnymarch_",
           0.707377,
           9
          ],
          [
           "queenofthewo",
           0.707321,
           111
          ],
          [
           "melvinsroberts",
           0.707198,
           92
          ],
          [
           "cassishere",
           0.707076,
           38
          ],
          [
           "adamchapmanjr",
           0.707048,
           9
          ],
          [
           "georevieweurope",
           0.707027,
           1
          ],
          [
           "randolphburrr",
           0.706698,
           46
          ],
          [
           "giselleevns",
           0.706526,
           93
          ],
          [
           "taraformation",
           0.706501,
           8
          ],
          [
           "imissobama",
           0.706357,
           56
          ],
          [
           "errivvvvers",
           0.706068,
           29
          ],
          [
           "westernwindwes",
           0.706032,
           150
          ],
          [
           "jon_underwood_",
           0.705842,
           1
          ],
          [
           "handsome_henson",
           0.705803,
           1
          ],
          [
           "onlinememphis",
           0.705637,
           24
          ],
          [
           "kathiemrr",
           0.705618,
           122
          ],
          [
           "imapharrelfake",
           0.705309,
           47
          ],
          [
           "peytoncashout",
           0.705297,
           33
          ],
          [
           "bydrbre_",
           0.705277,
           1
          ],
          [
           "houstontopnews",
           0.70525,
           39
          ],
          [
           "claypaigeboo",
           0.705223,
           10
          ],
          [
           "micparrish",
           0.704882,
           92
          ],
          [
           "evagreen69",
           0.70478,
           224
          ],
          [
           "entatjanamax",
           0.704655,
           30
          ],
          [
           "priceforpierce",
           0.704144,
           157
          ],
          [
           "mihanovikov",
           0.704045,
           14
          ],
          [
           "sternandreas404",
           0.703922,
           34
          ],
          [
           "jadonhutchinson",
           0.703673,
           51
          ],
          [
           "hiimkhloe",
           0.703429,
           247
          ],
          [
           "cookiiieeessss",
           0.703349,
           12
          ],
          [
           "nataturn",
           0.703073,
           12
          ],
          [
           "stlouisonline",
           0.70304,
           76
          ],
          [
           "dailysandiego",
           0.702467,
           54
          ],
          [
           "vasilichvasili",
           0.702368,
           18
          ],
          [
           "jassscott",
           0.70227,
           41
          ],
          [
           "blacktolive",
           0.70204,
           93
          ],
          [
           "gallowayeliana",
           0.701913,
           12
          ],
          [
           "jaedenmassey",
           0.701554,
           1
          ],
          [
           "screamymonkey",
           0.701529,
           105
          ],
          [
           "dallastopnews",
           0.70144,
           24
          ],
          [
           "blk_voice",
           0.701322,
           41
          ],
          [
           "willisbonnerr",
           0.701301,
           133
          ],
          [
           "blacknewsoutlet",
           0.701184,
           39
          ],
          [
           "stanley_cox_",
           0.700949,
           15
          ],
          [
           "travisrespek",
           0.70093,
           41
          ],
          [
           "detroitdailynew",
           0.700871,
           65
          ],
          [
           "daileyjadon",
           0.700768,
           87
          ],
          [
           "taisiaavdeeva",
           0.700567,
           19
          ],
          [
           "jeanuttella",
           0.700333,
           12
          ],
          [
           "klara_sauber",
           0.700248,
           44
          ],
          [
           "lagonehoe",
           0.700156,
           36
          ],
          [
           "scottgohard",
           0.700096,
           30
          ],
          [
           "christinapool61",
           0.699779,
           7
          ],
          [
           "malloryjared",
           0.698998,
           215
          ],
          [
           "kaydenmelton",
           0.698746,
           8
          ],
          [
           "krasilnikovbor",
           0.698394,
           10
          ],
          [
           "heyits_toby",
           0.697587,
           207
          ],
          [
           "leecory",
           0.697385,
           1
          ],
          [
           "sergeev_tolik",
           0.697209,
           10
          ],
          [
           "dailylosangeles",
           0.697061,
           29
          ],
          [
           "johnbranchh",
           0.69681,
           177
          ],
          [
           "rosieonfleek",
           0.696759,
           30
          ],
          [
           "mrmoraan",
           0.696666,
           37
          ],
          [
           "jeblary2016",
           0.696629,
           53
          ],
          [
           "hunteroddddom",
           0.696441,
           33
          ],
          [
           "romanagafonovv",
           0.695617,
           10
          ],
          [
           "boriseleseev",
           0.695499,
           8
          ],
          [
           "nj_blacknews",
           0.695335,
           12
          ],
          [
           "jeannemccarthy0",
           0.695312,
           176
          ],
          [
           "skatewake1994",
           0.69527,
           15
          ],
          [
           "internalmemer",
           0.694911,
           35
          ],
          [
           "mwiqcen",
           0.694887,
           1
          ],
          [
           "gorelkinnn",
           0.694887,
           1
          ],
          [
           "shikarnoel",
           0.694885,
           1
          ],
          [
           "jorda_morgan",
           0.694884,
           1
          ],
          [
           "lmarinays",
           0.694883,
           1
          ],
          [
           "moda_barina",
           0.694868,
           1
          ],
          [
           "brianaregland",
           0.694641,
           105
          ],
          [
           "alexsvladimirov",
           0.694355,
           8
          ],
          [
           "razvedchica_",
           0.694212,
           15
          ],
          [
           "bogdankravcov",
           0.694043,
           13
          ],
          [
           "blmsoldier",
           0.693566,
           39
          ],
          [
           "sanantotopnews",
           0.693388,
           48
          ],
          [
           "ryanmaxwell_1",
           0.693329,
           197
          ],
          [
           "chernenkonikola",
           0.693271,
           14
          ],
          [
           "fightm_d_b",
           0.693068,
           10
          ],
          [
           "judelambertusa",
           0.69306,
           180
          ],
          [
           "portmela",
           0.692387,
           1
          ],
          [
           "kolradskiy_zhuk",
           0.692268,
           12
          ],
          [
           "specialaffair",
           0.691807,
           103
          ],
          [
           "sindyblossom",
           0.691763,
           1
          ],
          [
           "tessyelmore",
           0.691662,
           9
          ],
          [
           "chicagodailynew",
           0.69044,
           105
          ],
          [
           "kelvin_chambers",
           0.69015,
           9
          ],
          [
           "cornellburchet",
           0.69014,
           26
          ],
          [
           "globalfoe",
           0.689704,
           1
          ],
          [
           "dontshootcom",
           0.689472,
           10
          ],
          [
           "patriotraphael",
           0.688485,
           187
          ],
          [
           "kimberleighlamb",
           0.688473,
           1
          ],
          [
           "patriot_archive",
           0.68797,
           2
          ],
          [
           "cannonsher",
           0.687798,
           45
          ],
          [
           "puddin_leto",
           0.687751,
           1
          ],
          [
           "imaswerve",
           0.687472,
           9
          ],
          [
           "milwaukeevoice",
           0.687189,
           1
          ],
          [
           "queennarielle",
           0.687123,
           12
          ],
          [
           "antonhayhay",
           0.686533,
           38
          ],
          [
           "russilanrogov",
           0.686463,
           10
          ],
          [
           "gloed_up",
           0.686106,
           96
          ],
          [
           "atlanta_online",
           0.68518,
           63
          ],
          [
           "bigboyjasiah",
           0.684945,
           40
          ],
          [
           "iris0_o",
           0.684587,
           1
          ],
          [
           "ericarutter",
           0.684506,
           5
          ],
          [
           "viborisova",
           0.684383,
           6
          ],
          [
           "marianeuberg1",
           0.684336,
           12
          ],
          [
           "_nickluna_",
           0.683639,
           240
          ],
          [
           "blackmattersus",
           0.68328,
           46
          ],
          [
           "wonderhann",
           0.682816,
           5
          ],
          [
           "c__wells",
           0.681997,
           62
          ],
          [
           "cliftonhughes_",
           0.681938,
           12
          ],
          [
           "datwisenigga",
           0.681658,
           172
          ],
          [
           "baobaeham",
           0.681233,
           177
          ],
          [
           "gwen_garland",
           0.681195,
           1
          ],
          [
           "fischermaria933",
           0.680794,
           1
          ],
          [
           "sonderkatharina",
           0.680793,
           1
          ],
          [
           "tinatkurtz1222",
           0.68079,
           1
          ],
          [
           "blackeyeblog",
           0.680021,
           6
          ],
          [
           "christinacrisss",
           0.680002,
           1
          ],
          [
           "evewebster373",
           0.678347,
           81
          ],
          [
           "gracelilstar",
           0.678346,
           1
          ],
          [
           "ponomarevslav",
           0.67823,
           16
          ],
          [
           "trayneshacole",
           0.678105,
           73
          ],
          [
           "rus_in_usa",
           0.677552,
           2
          ],
          [
           "bleepthepolice",
           0.676743,
           86
          ],
          [
           "berkhoff85",
           0.676629,
           9
          ],
          [
           "4mysquad",
           0.675841,
           20
          ],
          [
           "notballinyet",
           0.67566,
           7
          ],
          [
           "deusxyx",
           0.675403,
           16
          ],
          [
           "boryabuchin",
           0.674762,
           8
          ],
          [
           "shapka_mono",
           0.674239,
           2
          ],
          [
           "whitehousecards",
           0.672511,
           60
          ],
          [
           "peeonhillary",
           0.671903,
           1
          ],
          [
           "lilylilyhasse",
           0.671567,
           6
          ],
          [
           "bigboysneed",
           0.671073,
           12
          ],
          [
           "brianthelifter",
           0.670841,
           10
          ],
          [
           "liljordamn",
           0.670636,
           41
          ],
          [
           "nehemiahx",
           0.670136,
           11
          ],
          [
           "robertebonyking",
           0.669317,
           11
          ],
          [
           "briys_valera",
           0.669087,
           1
          ],
          [
           "edmundrjr",
           0.669042,
           3
          ],
          [
           "mrclydepratt",
           0.668974,
           122
          ],
          [
           "lapinolegg",
           0.668601,
           9
          ],
          [
           "colbyst1",
           0.66846,
           3
          ],
          [
           "jacksoncitypost",
           0.668343,
           40
          ],
          [
           "elpasotopnews",
           0.667329,
           3
          ],
          [
           "alexharritonov",
           0.667119,
           19
          ],
          [
           "cascaseyp",
           0.665787,
           20
          ],
          [
           "beckster319",
           0.66443,
           39
          ],
          [
           "maximgaron1",
           0.662379,
           2
          ],
          [
           "manuelkrosss",
           0.662218,
           29
          ],
          [
           "politopros",
           0.661447,
           1
          ],
          [
           "ssus_panther",
           0.660529,
           1
          ],
          [
           "beverlybalsom",
           0.66052,
           1
          ],
          [
           "blacneighbor",
           0.659914,
           13
          ],
          [
           "erdollum",
           0.659678,
           16
          ],
          [
           "donnielmiller",
           0.657973,
           4
          ],
          [
           "chrixmorgan",
           0.657453,
           59
          ],
          [
           "marissaimstrong",
           0.65658,
           19
          ],
          [
           "ryanncooperwood",
           0.655919,
           1
          ],
          [
           "aleksey_sokol_",
           0.655556,
           12
          ],
          [
           "bocharnikov_v",
           0.655288,
           18
          ],
          [
           "baltimore0nline",
           0.654591,
           105
          ],
          [
           "danageezus",
           0.654134,
           53
          ],
          [
           "todaypittsburgh",
           0.653079,
           66
          ],
          [
           "toneporter",
           0.652978,
           21
          ],
          [
           "maymaymyy",
           0.652229,
           11
          ],
          [
           "yaeltrouble",
           0.65085,
           1
          ],
          [
           "mbrownhere",
           0.650788,
           1
          ],
          [
           "fishalexanderr",
           0.650025,
           12
          ],
          [
           "jerstoner",
           0.649564,
           8
          ],
          [
           "worldofhashtags",
           0.649245,
           52
          ],
          [
           "joachimbuchwitz",
           0.64817,
           1
          ],
          [
           "iancalh0un",
           0.647932,
           2
          ],
          [
           "reachitdoit",
           0.64755,
           1
          ],
          [
           "aantiracist",
           0.647053,
           14
          ],
          [
           "jarrardnorman",
           0.646157,
           24
          ],
          [
           "peterkistner",
           0.643651,
           14
          ],
          [
           "seattle_post",
           0.642715,
           36
          ],
          [
           "lukas_rosler",
           0.64193,
           6
          ],
          [
           "_billy_moyer_",
           0.641615,
           88
          ],
          [
           "curtisbigman",
           0.641441,
           28
          ],
          [
           "todaycleveland",
           0.639729,
           19
          ],
          [
           "abigailssilk",
           0.637289,
           7
          ],
          [
           "mtthsberger",
           0.636586,
           4
          ],
          [
           "hipppo_",
           0.63603,
           23
          ],
          [
           "johnieboycooks",
           0.635923,
           10
          ],
          [
           "chrisuport_port",
           0.635563,
           9
          ],
          [
           "calebpaar",
           0.634311,
           23
          ],
          [
           "glennharper_",
           0.633588,
           4
          ],
          [
           "schultei2",
           0.632277,
           1
          ],
          [
           "angela_lattke",
           0.632268,
           1
          ],
          [
           "russianallies",
           0.631255,
           1
          ],
          [
           "aiden7757",
           0.629173,
           22
          ],
          [
           "charlesrespeck",
           0.626549,
           5
          ],
          [
           "andreaseulitz",
           0.624346,
           1
          ],
          [
           "dannythehappies",
           0.620204,
           25
          ],
          [
           "kirstenladaniel",
           0.618529,
           1
          ],
          [
           "lynsrodriguez",
           0.618233,
           7
          ],
          [
           "sincerepruitt",
           0.617866,
           11
          ],
          [
           "erdollum666",
           0.616691,
           4
          ],
          [
           "jsncarey",
           0.615872,
           4
          ],
          [
           "dominicvalent",
           0.615507,
           37
          ],
          [
           "jmscoxxx",
           0.615016,
           23
          ],
          [
           "kencannone",
           0.613242,
           16
          ],
          [
           "holycrapchrix",
           0.612729,
           24
          ],
          [
           "meggieoneil",
           0.610021,
           6
          ],
          [
           "adrienne_gg",
           0.606866,
           23
          ],
          [
           "bigseanbeast",
           0.60586,
           11
          ],
          [
           "charlesjharper",
           0.603798,
           26
          ],
          [
           "heyheyhailey",
           0.602708,
           17
          ],
          [
           "wokefromday1",
           0.602187,
           15
          ],
          [
           "susayung",
           0.601223,
           13
          ],
          [
           "catelinewatkins",
           0.600596,
           11
          ],
          [
           "bgarner2107",
           0.600404,
           27
          ],
          [
           "loragreeen",
           0.597988,
           33
          ],
          [
           "gab1aldana",
           0.596828,
           27
          ],
          [
           "novostidamask",
           0.596032,
           6
          ],
          [
           "rusnevrotik",
           0.595519,
           2
          ],
          [
           "msm0re",
           0.595514,
           2
          ],
          [
           "hellieedwards",
           0.594984,
           27
          ],
          [
           "ilikebigbuttand",
           0.593486,
           33
          ],
          [
           "sovasof",
           0.592553,
           2
          ],
          [
           "mikkyrurk",
           0.592081,
           2
          ],
          [
           "oh_frida",
           0.59208,
           2
          ],
          [
           "bruciedublin",
           0.590532,
           25
          ],
          [
           "aldrich420",
           0.590506,
           13
          ],
          [
           "coldwar20_ru",
           0.589406,
           4
          ],
          [
           "margosavazh",
           0.589328,
           5
          ],
          [
           "angelabach991",
           0.588504,
           22
          ],
          [
           "maxdementiev",
           0.587921,
           4
          ],
          [
           "adrgreerr",
           0.582176,
           9
          ],
          [
           "lavrovmuesli",
           0.581281,
           9
          ],
          [
           "amandavgreen",
           0.580048,
           26
          ],
          [
           "klausfinker",
           0.577377,
           1
          ],
          [
           "hamburgbote",
           0.57736,
           1
          ],
          [
           "sto_christi",
           0.574555,
           1
          ],
          [
           "edmundc0oke",
           0.572271,
           1
          ],
          [
           "margoberoeva",
           0.567848,
           2
          ],
          [
           "brentmcclure275",
           0.566656,
           13
          ],
          [
           "6druz",
           0.564981,
           4
          ],
          [
           "denn_nikitin",
           0.564967,
           4
          ],
          [
           "dickyirwin",
           0.564844,
           21
          ],
          [
           "gffgfsfgfsdffjj",
           0.563224,
           3
          ],
          [
           "brightandglory",
           0.562864,
           30
          ],
          [
           "claudia42kern",
           0.562803,
           23
          ],
          [
           "kadirovrussia",
           0.548104,
           5
          ]
         ],
         "hovertemplate": "x=%{x}<br>y=%{y}<br>post_count=%{customdata[2]}<br>user_id=%{customdata[0]}<br>gini=%{customdata[1]}<br>cluster=%{marker.color}<extra></extra>",
         "legendgroup": "",
         "marker": {
          "color": [
           0,
           2,
           3,
           0,
           7,
           7,
           0,
           0,
           0,
           7,
           0,
           7,
           7,
           2,
           0,
           0,
           0,
           0,
           0,
           0,
           4,
           0,
           2,
           3,
           7,
           0,
           7,
           0,
           0,
           0,
           0,
           0,
           7,
           0,
           0,
           7,
           0,
           0,
           0,
           0,
           7,
           7,
           0,
           7,
           7,
           0,
           0,
           0,
           0,
           0,
           0,
           0,
           0,
           0,
           0,
           2,
           0,
           0,
           0,
           7,
           0,
           0,
           4,
           2,
           7,
           0,
           0,
           0,
           1,
           4,
           0,
           7,
           0,
           0,
           7,
           0,
           0,
           4,
           3,
           0,
           0,
           7,
           7,
           0,
           0,
           7,
           7,
           1,
           0,
           7,
           7,
           2,
           7,
           7,
           0,
           0,
           0,
           7,
           0,
           7,
           7,
           0,
           0,
           7,
           3,
           0,
           7,
           7,
           2,
           0,
           0,
           0,
           0,
           7,
           0,
           7,
           0,
           0,
           0,
           0,
           3,
           3,
           2,
           7,
           0,
           2,
           7,
           2,
           0,
           0,
           7,
           0,
           0,
           0,
           0,
           0,
           7,
           0,
           7,
           7,
           0,
           5,
           5,
           5,
           5,
           5,
           0,
           0,
           7,
           0,
           0,
           2,
           7,
           0,
           0,
           7,
           0,
           2,
           2,
           3,
           0,
           7,
           0,
           0,
           0,
           0,
           0,
           3,
           0,
           0,
           3,
           7,
           0,
           0,
           2,
           0,
           0,
           4,
           0,
           0,
           7,
           0,
           0,
           7,
           0,
           7,
           0,
           0,
           0,
           2,
           2,
           0,
           0,
           0,
           0,
           2,
           0,
           0,
           0,
           7,
           3,
           7,
           0,
           2,
           0,
           0,
           1,
           0,
           0,
           3,
           7,
           0,
           7,
           7,
           1,
           0,
           3,
           0,
           7,
           0,
           0,
           0,
           0,
           7,
           0,
           7,
           0,
           0,
           7,
           3,
           7,
           0,
           0,
           0,
           2,
           0,
           0,
           1,
           0,
           3,
           1,
           3,
           0,
           0,
           7,
           0,
           0,
           7,
           3,
           0,
           0,
           7,
           0,
           0,
           0,
           7,
           7,
           0,
           0,
           6,
           6,
           6,
           6,
           6,
           6,
           3,
           0,
           0,
           0,
           0,
           0,
           7,
           0,
           0,
           7,
           2,
           0,
           0,
           3,
           7,
           0,
           0,
           7,
           3,
           7,
           7,
           0,
           0,
           0,
           2,
           0,
           3,
           0,
           0,
           0,
           7,
           0,
           0,
           3,
           2,
           0,
           1,
           7,
           7,
           3,
           3,
           0,
           3,
           3,
           0,
           1,
           1,
           1,
           0,
           3,
           3,
           3,
           0,
           3,
           0,
           7,
           0,
           7,
           0,
           0,
           0,
           0,
           1,
           3,
           1,
           0,
           0,
           0,
           0,
           0,
           3,
           0,
           3,
           0,
           3,
           0,
           0,
           0,
           0,
           0,
           0,
           1,
           1,
           0,
           3,
           7,
           1,
           3,
           2,
           0,
           3,
           0,
           0,
           0,
           2,
           0,
           0,
           0,
           3,
           3,
           1,
           0,
           2,
           1,
           7,
           3,
           0,
           0,
           1,
           0,
           1,
           3,
           0,
           7,
           0,
           1,
           0,
           0,
           1,
           0,
           3,
           1,
           1,
           3,
           0,
           0,
           1,
           0,
           3,
           0,
           7,
           1,
           3,
           3,
           0,
           0,
           0,
           3,
           0,
           0,
           0,
           0,
           0,
           0,
           0,
           0,
           0,
           0,
           3,
           5,
           5,
           0,
           0,
           6,
           6,
           6,
           0,
           0,
           1,
           1,
           1,
           1,
           0,
           1,
           0,
           1,
           1,
           1,
           3,
           1,
           0,
           3,
           3,
           0,
           6,
           0,
           0,
           1
          ],
          "coloraxis": "coloraxis",
          "opacity": 0.7,
          "size": [
           21,
           1,
           1,
           66,
           1,
           2,
           1,
           58,
           68,
           27,
           1,
           191,
           2,
           1,
           28,
           68,
           4,
           71,
           135,
           109,
           3,
           45,
           1,
           1,
           1,
           5,
           66,
           90,
           51,
           148,
           94,
           100,
           1,
           4,
           63,
           246,
           215,
           65,
           56,
           107,
           64,
           5,
           70,
           242,
           5,
           4,
           3,
           1,
           9,
           1,
           74,
           59,
           61,
           61,
           40,
           1,
           74,
           76,
           104,
           193,
           5,
           100,
           3,
           1,
           206,
           60,
           119,
           71,
           1,
           3,
           20,
           298,
           49,
           53,
           31,
           105,
           50,
           3,
           1,
           54,
           39,
           192,
           219,
           5,
           53,
           178,
           190,
           91,
           10,
           221,
           9,
           4,
           3,
           9,
           55,
           53,
           53,
           9,
           50,
           8,
           2,
           48,
           10,
           202,
           36,
           6,
           4,
           209,
           1,
           7,
           6,
           12,
           18,
           2,
           12,
           1,
           31,
           52,
           31,
           56,
           1,
           1,
           162,
           123,
           69,
           121,
           2,
           87,
           11,
           95,
           123,
           58,
           11,
           73,
           5,
           64,
           3,
           7,
           23,
           11,
           53,
           1,
           1,
           1,
           1,
           1,
           15,
           4,
           1,
           7,
           81,
           113,
           236,
           38,
           25,
           1,
           37,
           1,
           122,
           7,
           9,
           1,
           10,
           93,
           36,
           47,
           40,
           64,
           10,
           2,
           3,
           247,
           68,
           46,
           93,
           13,
           39,
           3,
           53,
           10,
           196,
           10,
           72,
           45,
           15,
           182,
           13,
           52,
           9,
           111,
           92,
           38,
           9,
           1,
           46,
           93,
           8,
           56,
           29,
           150,
           1,
           1,
           24,
           122,
           47,
           33,
           1,
           39,
           10,
           92,
           224,
           30,
           157,
           14,
           34,
           51,
           247,
           12,
           12,
           76,
           54,
           18,
           41,
           93,
           12,
           1,
           105,
           24,
           41,
           133,
           39,
           15,
           41,
           65,
           87,
           19,
           12,
           44,
           36,
           30,
           7,
           215,
           8,
           10,
           207,
           1,
           10,
           29,
           177,
           30,
           37,
           53,
           33,
           10,
           8,
           12,
           176,
           15,
           35,
           1,
           1,
           1,
           1,
           1,
           1,
           105,
           8,
           15,
           13,
           39,
           48,
           197,
           14,
           10,
           180,
           1,
           12,
           103,
           1,
           9,
           105,
           9,
           26,
           1,
           10,
           187,
           1,
           2,
           45,
           1,
           9,
           1,
           12,
           38,
           10,
           96,
           63,
           40,
           1,
           5,
           6,
           12,
           240,
           46,
           5,
           62,
           12,
           172,
           177,
           1,
           1,
           1,
           1,
           6,
           1,
           81,
           1,
           16,
           73,
           2,
           86,
           9,
           20,
           7,
           16,
           8,
           2,
           60,
           1,
           6,
           12,
           10,
           41,
           11,
           11,
           1,
           3,
           122,
           9,
           3,
           40,
           3,
           19,
           20,
           39,
           2,
           29,
           1,
           1,
           1,
           13,
           16,
           4,
           59,
           19,
           1,
           12,
           18,
           105,
           53,
           66,
           21,
           11,
           1,
           1,
           12,
           8,
           52,
           1,
           2,
           1,
           14,
           24,
           14,
           36,
           6,
           88,
           28,
           19,
           7,
           4,
           23,
           10,
           9,
           23,
           4,
           1,
           1,
           1,
           22,
           5,
           1,
           25,
           1,
           7,
           11,
           4,
           4,
           37,
           23,
           16,
           24,
           6,
           23,
           11,
           26,
           17,
           15,
           13,
           11,
           27,
           33,
           27,
           6,
           2,
           2,
           27,
           33,
           2,
           2,
           2,
           25,
           13,
           4,
           5,
           22,
           4,
           9,
           9,
           26,
           1,
           1,
           1,
           1,
           2,
           13,
           4,
           4,
           21,
           3,
           30,
           23,
           5
          ],
          "sizemode": "area",
          "sizeref": 0.745,
          "symbol": "circle"
         },
         "mode": "markers",
         "name": "",
         "orientation": "v",
         "showlegend": false,
         "type": "scatter",
         "x": [
          22.531570434570312,
          -24.58481788635254,
          -16.118234634399414,
          22.32196807861328,
          -12.451086044311523,
          -12.529720306396484,
          20.509193420410156,
          21.718399047851562,
          21.642078399658203,
          -7.015254974365234,
          22.278728485107422,
          -0.6833003163337708,
          0.09200477600097656,
          -24.7763729095459,
          21.20659065246582,
          21.343509674072266,
          19.968780517578125,
          21.21912384033203,
          22.48638153076172,
          23.337078094482422,
          -12.81638240814209,
          20.966411590576172,
          -18.408143997192383,
          -17.629648208618164,
          1.604682445526123,
          21.2816219329834,
          -6.984173774719238,
          22.980010986328125,
          20.448373794555664,
          5.406810283660889,
          19.079275131225586,
          21.889408111572266,
          -7.429879665374756,
          18.896656036376953,
          21.459415435791016,
          -10.617033004760742,
          6.377357482910156,
          20.5900936126709,
          22.469623565673828,
          20.06671714782715,
          -2.677865743637085,
          0.8400344252586365,
          20.962955474853516,
          -3.476172924041748,
          -0.05199133977293968,
          6.646912097930908,
          20.525341033935547,
          5.275862693786621,
          21.13534927368164,
          6.6813859939575195,
          22.606292724609375,
          20.1184139251709,
          21.524621963500977,
          20.44821548461914,
          21.38088607788086,
          -22.406293869018555,
          20.5883846282959,
          19.99508285522461,
          20.00970458984375,
          -3.812837839126587,
          19.7139892578125,
          19.56484031677246,
          -12.699023246765137,
          -23.445451736450195,
          -11.803772926330566,
          8.52454948425293,
          19.506263732910156,
          20.21455192565918,
          -1.4511760473251343,
          -12.611963272094727,
          18.258760452270508,
          -0.4153355360031128,
          6.450976848602295,
          8.19922161102295,
          -4.178659915924072,
          18.56879425048828,
          9.45004653930664,
          -12.521418571472168,
          -17.828664779663086,
          6.508471965789795,
          18.801481246948242,
          -2.9574637413024902,
          -6.1378173828125,
          8.795063018798828,
          6.62939977645874,
          -3.1385796070098877,
          -3.2742786407470703,
          -2.803934335708618,
          6.1516289710998535,
          -6.736168384552002,
          -11.474120140075684,
          -21.07990264892578,
          -3.982252597808838,
          2.1856820583343506,
          10.166890144348145,
          4.663995265960693,
          6.215744972229004,
          -8.592036247253418,
          9.698042869567871,
          -1.2585229873657227,
          -4.228135108947754,
          3.983184814453125,
          17.389333724975586,
          -4.759319305419922,
          -13.488763809204102,
          14.040749549865723,
          -7.663754463195801,
          -7.441068649291992,
          -23.430572509765625,
          20.89066505432129,
          11.531518936157227,
          18.811248779296875,
          1.6606414318084717,
          1.5392688512802124,
          18.145360946655273,
          -7.808314323425293,
          6.008674621582031,
          5.352179527282715,
          10.293288230895996,
          16.526700973510742,
          -15.729671478271484,
          -15.782747268676758,
          -23.262130737304688,
          -9.986992835998535,
          18.220537185668945,
          -22.531757354736328,
          -0.6468596458435059,
          -24.184833526611328,
          6.985132694244385,
          18.308401107788086,
          -10.599864959716797,
          7.810856342315674,
          19.50694465637207,
          19.307384490966797,
          4.312902450561523,
          16.67096519470215,
          -6.717944145202637,
          3.865351438522339,
          0.24676653742790222,
          -9.8079833984375,
          8.966605186462402,
          -13.352132797241211,
          -13.477423667907715,
          -13.770364761352539,
          -13.67891788482666,
          -13.67891788482666,
          18.392690658569336,
          6.861274719238281,
          -2.3001675605773926,
          14.885682106018066,
          18.836069107055664,
          -23.663869857788086,
          -10.038840293884277,
          4.595451831817627,
          16.59825897216797,
          -12.350777626037598,
          5.7655930519104,
          -20.198543548583984,
          -23.12249183654785,
          -18.33561134338379,
          5.203517436981201,
          -9.359560012817383,
          9.062255859375,
          19.238080978393555,
          5.827601432800293,
          8.81414794921875,
          7.499734878540039,
          -14.353339195251465,
          17.083616256713867,
          18.303430557250977,
          -12.541339874267578,
          -6.622551918029785,
          17.353031158447266,
          0.7742012739181519,
          -24.19285011291504,
          5.294527053833008,
          4.289671421051025,
          -12.387887001037598,
          2.9572620391845703,
          12.341833114624023,
          -9.071146011352539,
          10.934240341186523,
          17.390409469604492,
          1.0036416053771973,
          7.61117696762085,
          -5.373414039611816,
          9.667741775512695,
          -0.9925368428230286,
          0.8781867623329163,
          -23.674985885620117,
          -23.7321720123291,
          17.800983428955078,
          4.872225284576416,
          2.022783041000366,
          -1.0838876962661743,
          -22.485767364501953,
          15.217957496643066,
          3.6271958351135254,
          2.203118324279785,
          -8.21036148071289,
          -17.612571716308594,
          -9.179699897766113,
          1.839154839515686,
          -22.917442321777344,
          -0.49575766921043396,
          -1.833317756652832,
          0.8189553022384644,
          13.301865577697754,
          12.989802360534668,
          -13.749245643615723,
          -9.117242813110352,
          6.666647434234619,
          -8.66627025604248,
          0.12799394130706787,
          -2.096571922302246,
          4.187676429748535,
          -14.545857429504395,
          8.939519882202148,
          -8.2979154586792,
          17.15244483947754,
          17.60243034362793,
          17.016502380371094,
          7.463752269744873,
          -5.863785266876221,
          2.0168871879577637,
          -9.062649726867676,
          15.103424072265625,
          6.347063064575195,
          -7.002925872802734,
          -14.949616432189941,
          -6.26077127456665,
          3.4334092140197754,
          0.473928838968277,
          16.899784088134766,
          -23.14585304260254,
          6.011094570159912,
          10.754801750183105,
          -2.240011692047119,
          0.7071142792701721,
          -17.904024124145508,
          -3.711115837097168,
          -14.492545127868652,
          1.037778377532959,
          8.218308448791504,
          -7.867425441741943,
          2.4093539714813232,
          7.971334457397461,
          -2.087540626525879,
          -14.199009895324707,
          3.429380416870117,
          2.227731227874756,
          -7.649864196777344,
          -1.5421736240386963,
          12.927170753479004,
          13.329524040222168,
          -6.214850425720215,
          -8.096900939941406,
          0.2644270956516266,
          4.362745761871338,
          -8.041865348815918,
          -8.363523483276367,
          -8.376974105834961,
          -8.526718139648438,
          -7.899582862854004,
          -8.070574760437012,
          -17.96927833557129,
          11.994783401489258,
          14.207221031188965,
          12.775787353515625,
          4.34377908706665,
          13.683489799499512,
          -8.230380058288574,
          13.547574043273926,
          11.88640022277832,
          -9.339542388916016,
          -19.285886764526367,
          13.427366256713867,
          17.277334213256836,
          -12.598037719726562,
          -3.9201886653900146,
          13.495366096496582,
          2.9154887199401855,
          -1.219356656074524,
          -16.168397903442383,
          -5.229119300842285,
          -8.710365295410156,
          -18.816326141357422,
          3.3659050464630127,
          2.8276309967041016,
          -15.270583152770996,
          0.5477800369262695,
          -18.049158096313477,
          1.2355971336364746,
          8.181853294372559,
          12.323969841003418,
          -8.240942001342773,
          16.385540008544922,
          3.0774970054626465,
          -8.965015411376953,
          -19.661701202392578,
          11.912471771240234,
          -2.7555887699127197,
          -5.3089985847473145,
          -5.248013973236084,
          -11.05237102508545,
          -13.743036270141602,
          1.9847447872161865,
          -15.209576606750488,
          -14.572076797485352,
          -2.227384090423584,
          -0.3275599181652069,
          -0.32766908407211304,
          -0.4045898914337158,
          2.2269222736358643,
          -12.54841136932373,
          -15.044264793395996,
          -12.567601203918457,
          1.5817855596542358,
          -6.84487771987915,
          12.1056547164917,
          -8.938143730163574,
          1.1239300966262817,
          -4.668532371520996,
          1.7266511917114258,
          0.6762775778770447,
          17.490755081176758,
          -5.226589202880859,
          -1.766487717628479,
          -3.2504160404205322,
          -2.9905624389648438,
          -0.5212020874023438,
          9.505613327026367,
          2.9021925926208496,
          0.04911390319466591,
          11.687042236328125,
          -16.2093448638916,
          15.007743835449219,
          -15.67447566986084,
          17.754207611083984,
          -14.110151290893555,
          16.500425338745117,
          -0.13764746487140656,
          12.637603759765625,
          -0.24791449308395386,
          -2.774362087249756,
          -1.428499460220337,
          -2.4825401306152344,
          -0.750507116317749,
          -12.386331558227539,
          -10.523412704467773,
          -4.724972248077393,
          -1.1974786520004272,
          -19.01961898803711,
          -20.562917709350586,
          1.8014156818389893,
          -11.459728240966797,
          12.652430534362793,
          2.966797351837158,
          13.014565467834473,
          -20.928682327270508,
          13.753884315490723,
          -4.830301761627197,
          -2.1766624450683594,
          -18.7996826171875,
          -15.025245666503906,
          -3.4553186893463135,
          -0.7562474608421326,
          -19.09335708618164,
          -2.8353354930877686,
          -4.968857288360596,
          -12.893736839294434,
          -3.6642253398895264,
          -5.801677703857422,
          -1.8743103742599487,
          16.417499542236328,
          -1.018247365951538,
          -12.873703002929688,
          -1.6562663316726685,
          -3.1749491691589355,
          0.6950935125350952,
          -1.616484522819519,
          0.09566608816385269,
          -3.5584683418273926,
          0.24860508739948273,
          -5.425203800201416,
          -14.326937675476074,
          -4.995700836181641,
          -4.9957122802734375,
          -4.843482494354248,
          -4.468790531158447,
          15.993717193603516,
          -1.0301705598831177,
          -6.541838645935059,
          -10.49524211883545,
          -5.8201727867126465,
          -4.80501127243042,
          -2.3337934017181396,
          -13.489943504333496,
          -18.95609474182129,
          -0.9410350322723389,
          -6.57879114151001,
          -0.5497186779975891,
          -6.666955947875977,
          -4.781235694885254,
          -2.995090961456299,
          -1.306699514389038,
          -1.389263391494751,
          -4.511841297149658,
          -4.280935287475586,
          -3.969043016433716,
          -3.761272668838501,
          -3.692366600036621,
          -3.5933704376220703,
          -3.4925036430358887,
          -12.281785011291504,
          -12.281712532043457,
          -3.694049119949341,
          -6.588812828063965,
          -9.79638671875,
          -10.793380737304688,
          -10.793379783630371,
          -1.3759359121322632,
          -3.4351115226745605,
          -2.0812623500823975,
          -2.423848867416382,
          -3.380953788757324,
          -3.01240611076355,
          -5.324580192565918,
          -2.600350856781006,
          -2.714453935623169,
          -3.0459773540496826,
          -3.0429978370666504,
          -1.5680923461914062,
          -10.433226585388184,
          -3.2010884284973145,
          -2.1246585845947266,
          -10.61896800994873,
          -10.618967056274414,
          -2.8621742725372314,
          -10.67587947845459,
          -3.899207830429077,
          -5.684206485748291,
          -3.1869940757751465
         ],
         "xaxis": "x",
         "y": [
          10.67395305633545,
          -9.210037231445312,
          -13.544415473937988,
          7.860833168029785,
          -15.172011375427246,
          -16.578392028808594,
          2.7182445526123047,
          5.854597091674805,
          7.356382369995117,
          -19.704824447631836,
          6.9114670753479,
          -14.31485652923584,
          -14.23852825164795,
          -8.211935043334961,
          9.130926132202148,
          6.834278583526611,
          8.602594375610352,
          3.6861250400543213,
          2.9225213527679443,
          1.8566312789916992,
          4.6783061027526855,
          2.2776682376861572,
          -11.471564292907715,
          -11.596096992492676,
          -13.22033405303955,
          10.5878267288208,
          -19.64632225036621,
          2.267669677734375,
          6.975381851196289,
          -9.077781677246094,
          -1.6604375839233398,
          9.955377578735352,
          -20.07322883605957,
          -0.32238370180130005,
          7.754086017608643,
          -16.884946823120117,
          -8.513358116149902,
          7.576844692230225,
          1.746477484703064,
          -6.433619499206543,
          -14.994546890258789,
          -13.009796142578125,
          5.56085729598999,
          -13.6948881149292,
          -13.466438293457031,
          -8.823274612426758,
          5.273391246795654,
          4.133207321166992,
          9.818293571472168,
          -8.359633445739746,
          2.2271413803100586,
          1.9034353494644165,
          3.5462517738342285,
          6.225828170776367,
          2.608128309249878,
          -9.70767593383789,
          4.823668956756592,
          6.032666206359863,
          -6.964028835296631,
          -16.01420783996582,
          4.876646518707275,
          5.369292259216309,
          4.448507308959961,
          -5.995628833770752,
          -15.481557846069336,
          -0.14157328009605408,
          -7.166762828826904,
          8.059452056884766,
          30.71122932434082,
          4.717299938201904,
          7.052731990814209,
          -12.35596752166748,
          -1.8047192096710205,
          -2.9532501697540283,
          -14.632402420043945,
          -5.308159828186035,
          -0.44228723645210266,
          4.695499897003174,
          -10.980767250061035,
          -0.6220898628234863,
          4.8192033767700195,
          -15.780987739562988,
          -17.00833511352539,
          -3.306694746017456,
          0.9377922415733337,
          -14.694978713989258,
          -15.46117115020752,
          31.517398834228516,
          -6.75996208190918,
          -16.942447662353516,
          -15.963371276855469,
          -9.03984546661377,
          -13.527978897094727,
          -12.470405578613281,
          0.45730942487716675,
          -5.567807674407959,
          -2.9256553649902344,
          -12.790350914001465,
          -0.07499144971370697,
          -9.915191650390625,
          -15.366832733154297,
          0.45577380061149597,
          4.094594955444336,
          -15.00991439819336,
          -13.179243087768555,
          -0.44683030247688293,
          -9.542101860046387,
          -17.84941864013672,
          -6.93004035949707,
          10.206647872924805,
          -0.10541564971208572,
          5.799903869628906,
          -0.33906227350234985,
          -11.479204177856445,
          4.861252784729004,
          -12.077642440795898,
          1.7739845514297485,
          -0.6307159662246704,
          0.009742637164890766,
          -1.3726446628570557,
          -11.94447135925293,
          -11.918254852294922,
          -9.234542846679688,
          -17.300411224365234,
          -1.9941046237945557,
          -8.491004943847656,
          -9.88131046295166,
          -8.510177612304688,
          -2.8141238689422607,
          -5.8675336837768555,
          -15.6702241897583,
          0.8110896348953247,
          7.522923469543457,
          -6.120439052581787,
          1.3853130340576172,
          0.8617627024650574,
          -9.723092079162598,
          -5.689473628997803,
          -9.798688888549805,
          -14.174890518188477,
          0.9340705275535583,
          12.864206314086914,
          13.0745210647583,
          13.022881507873535,
          12.658007621765137,
          12.658007621765137,
          3.961754322052002,
          -6.811454772949219,
          -13.42099380493164,
          -0.007478267885744572,
          -6.847043991088867,
          -8.399764060974121,
          -14.511490821838379,
          0.04465361684560776,
          6.196806907653809,
          -13.748909950256348,
          -2.281010150909424,
          -8.299032211303711,
          -7.693085670471191,
          -9.648300170898438,
          9.220682144165039,
          -19.280529022216797,
          1.9247570037841797,
          -6.537778377532959,
          2.7230749130249023,
          1.5029468536376953,
          -0.028356989845633507,
          -12.348793983459473,
          6.270373821258545,
          -6.496577262878418,
          -3.9873900413513184,
          -16.119327545166016,
          -4.477792739868164,
          -1.4122196435928345,
          -7.682145595550537,
          9.210002899169922,
          3.4542248249053955,
          4.332600116729736,
          -0.04099294915795326,
          1.0694187879562378,
          -13.9533052444458,
          2.322450637817383,
          -4.843847751617432,
          -9.349695205688477,
          -5.341863632202148,
          -8.614252090454102,
          3.2189548015594482,
          -0.5256791710853577,
          1.0142391920089722,
          -7.736425399780273,
          -9.021488189697266,
          7.220701217651367,
          -4.523921966552734,
          -0.620383620262146,
          -1.2471011877059937,
          -7.714351654052734,
          0.6718686819076538,
          -1.18632972240448,
          0.42167961597442627,
          -14.20211124420166,
          -9.895781517028809,
          -19.317031860351562,
          -7.12238883972168,
          -8.745718955993652,
          -1.1135317087173462,
          -6.796514987945557,
          26.843839645385742,
          0.6353276968002319,
          -5.087019443511963,
          -12.904322624206543,
          -14.730690002441406,
          -5.65897798538208,
          -13.796114921569824,
          -9.2658109664917,
          31.140731811523438,
          -1.2128238677978516,
          -10.644937515258789,
          4.2403082847595215,
          -16.87388038635254,
          -5.378556251525879,
          -6.307260990142822,
          0.4648999273777008,
          -2.1406121253967285,
          -11.002492904663086,
          1.444777488708496,
          -17.853139877319336,
          -6.812511920928955,
          -4.628173828125,
          -15.185115814208984,
          -8.257065773010254,
          -13.964082717895508,
          5.419547080993652,
          -0.3642995357513428,
          -2.473459482192993,
          -8.19517707824707,
          -3.6605632305145264,
          1.583877682685852,
          30.7120304107666,
          -0.8677943348884583,
          -8.667756080627441,
          30.51926612854004,
          -10.386265754699707,
          -7.706994533538818,
          -4.86054801940918,
          -17.319507598876953,
          0.45613187551498413,
          -4.377008438110352,
          -12.396734237670898,
          -11.755597114562988,
          -0.2557097375392914,
          -1.092722773551941,
          -10.038795471191406,
          -1.3575528860092163,
          1.263912320137024,
          -5.212420463562012,
          -9.107705116271973,
          -15.517895698547363,
          0.8312713503837585,
          3.9228768348693848,
          14.975606918334961,
          14.989335060119629,
          14.44796085357666,
          14.735122680664062,
          14.69364070892334,
          14.431341171264648,
          -8.09855842590332,
          -6.103616237640381,
          3.676961898803711,
          3.4829559326171875,
          -2.859710216522217,
          -5.927430152893066,
          -14.984955787658691,
          2.1636433601379395,
          -4.272439956665039,
          -15.337817192077637,
          -7.576885223388672,
          3.333028793334961,
          -7.541196346282959,
          -10.925959587097168,
          -7.784351825714111,
          -5.506164073944092,
          4.003376007080078,
          -8.768596649169922,
          -10.830848693847656,
          -13.566818237304688,
          -15.05667781829834,
          -3.4834718704223633,
          9.057326316833496,
          2.5653257369995117,
          -3.5768566131591797,
          5.814661979675293,
          -7.907475471496582,
          3.6797592639923096,
          2.3216986656188965,
          5.913837909698486,
          -10.721714973449707,
          -2.073603391647339,
          1.865904450416565,
          -10.872702598571777,
          -7.853017330169678,
          6.371867656707764,
          30.289039611816406,
          -15.395912170410156,
          -12.944408416748047,
          -12.05422592163086,
          -11.618088722229004,
          6.394025802612305,
          -8.020766258239746,
          -9.693058967590332,
          -1.1327086687088013,
          27.383148193359375,
          27.3830623626709,
          26.997600555419922,
          4.873427867889404,
          -2.0552515983581543,
          -11.052231788635254,
          -2.7907888889312744,
          -8.238948822021484,
          -8.740006446838379,
          6.088399887084961,
          -15.763824462890625,
          26.65717124938965,
          -11.13681411743164,
          2.42436146736145,
          9.144311904907227,
          -0.8931683897972107,
          10.548910140991211,
          29.273630142211914,
          -1.298201560974121,
          30.804744720458984,
          2.124136209487915,
          4.501387596130371,
          -2.6473348140716553,
          5.107354164123535,
          3.658780336380005,
          -6.841135025024414,
          -1.6758471727371216,
          -7.8321757316589355,
          -0.5036024451255798,
          -3.120241403579712,
          -7.4244842529296875,
          3.35701322555542,
          2.281461238861084,
          9.008366584777832,
          -1.2034391164779663,
          7.237434387207031,
          29.96990394592285,
          26.361230850219727,
          -1.455302357673645,
          2.4590253829956055,
          -10.078536987304688,
          27.59636878967285,
          -4.53427791595459,
          -7.183376789093018,
          6.544594764709473,
          -8.372840881347656,
          -6.084896564483643,
          -4.053182601928711,
          -7.291203498840332,
          -7.460996150970459,
          -7.280064582824707,
          8.122599601745605,
          3.380981922149658,
          -6.683571815490723,
          -6.784485340118408,
          30.036231994628906,
          4.308847904205322,
          -4.052168369293213,
          29.064189910888672,
          -12.05960464477539,
          -2.263763666152954,
          2.8140883445739746,
          9.169219970703125,
          30.09025001525879,
          -8.484078407287598,
          26.84424591064453,
          -12.275956153869629,
          5.0315985679626465,
          -11.0187349319458,
          10.675024032592773,
          27.6265869140625,
          9.991647720336914,
          2.0552573204040527,
          26.51169776916504,
          8.72903823852539,
          -3.1290509700775146,
          27.280292510986328,
          27.28026580810547,
          -7.462856769561768,
          9.817007064819336,
          -8.376542091369629,
          24.21542739868164,
          7.285914897918701,
          2.50227689743042,
          5.701117992401123,
          -7.240531921386719,
          27.694543838500977,
          -2.7408339977264404,
          -4.679445743560791,
          9.926929473876953,
          9.391664505004883,
          10.814997673034668,
          6.5996527671813965,
          8.919851303100586,
          10.041467666625977,
          10.702096939086914,
          9.762321472167969,
          2.2064833641052246,
          3.031024694442749,
          11.234598159790039,
          9.033635139465332,
          7.817713260650635,
          8.743103981018066,
          23.88275146484375,
          10.442525863647461,
          10.4425630569458,
          8.256538391113281,
          8.59746265411377,
          10.20129680633545,
          12.366987228393555,
          12.366969108581543,
          10.557965278625488,
          6.945070266723633,
          26.425905227661133,
          25.904293060302734,
          29.182289123535156,
          24.84945297241211,
          6.170727729797363,
          25.673547744750977,
          7.949119567871094,
          27.189579010009766,
          27.18414306640625,
          25.007640838623047,
          2.8353829383850098,
          24.851346969604492,
          7.10123348236084,
          10.5858793258667,
          10.585885047912598,
          8.56347370147705,
          11.106009483337402,
          7.4036946296691895,
          7.181756973266602,
          26.07387351989746
         ],
         "yaxis": "y"
        },
        {
         "hoverinfo": "text",
         "marker": {
          "color": "red",
          "line": {
           "color": "black",
           "width": 2
          },
          "size": 15
         },
         "mode": "markers",
         "name": "Suspicious",
         "text": [
          "worldnewspoli",
          "jrrbrtt",
          "danny_turner_1",
          "finley1589",
          "heyitsglor",
          "orrclay",
          "kelvsok",
          "kenzdonovan",
          "kateritterrrr",
          "warfareww",
          "yattvrussia",
          "patriotblake",
          "lgbtuni",
          "kristyanann",
          "missourinewsus",
          "cynthiamhunter",
          "4ever1937",
          "usa_gunslinger",
          "pamela_moore13",
          "ameliebaldwin",
          "andrebeauleger",
          "luke_jones13",
          "albertmorenmore",
          "israel_wills",
          "dannymaslov",
          "interfischer",
          "todayinsyria",
          "southlonestar",
          "redlanews",
          "hyddrox",
          "dailysanfran",
          "newarkvoice",
          "williams_diana_",
          "rogovilia",
          "happkendrahappy",
          "paulinett",
          "ten_gop",
          "donnabrivera",
          "nojonathonno",
          "newspeakdaily",
          "patriototus",
          "arkadii_trofim",
          "wadeharriot",
          "thefoundingson",
          "arturburanof",
          "ttsvetkov",
          "williams8kalvin",
          "darrell_h_hunt",
          "realrobert1987",
          "zubovnik",
          "rightnpr",
          "watchmewalkin",
          "j0hnlarsen",
          "realten_gop",
          "march_for_trump",
          "gibbs_jeremy_",
          "prettylaraplace",
          "hollydler",
          "onlinecleveland",
          "cookncooks",
          "stepansazono",
          "politweecs",
          "sylvielefevrier",
          "t0nyasinclair",
          "melanymelanin",
          "javonhidp",
          "kansasdailynews",
          "carriethornthon",
          "riafanru",
          "karolineauge",
          "rh0lbr00k",
          "tpartynews",
          "staywoke88",
          "drmichaelgarcia",
          "itstimetosecede",
          "washingtonline",
          "jaydaastonishin",
          "ninonderrien",
          "srahse",
          "ravenicholson",
          "darknally",
          "dorothiebell",
          "garrettsimpson_",
          "patriotka_rusi",
          "chadsloyer",
          "jacquelinisbest",
          "emileewaren",
          "margarethkurz",
          "janelperkinson",
          "jeffreykahunas",
          "anthonywoodboy",
          "lelandgraves_",
          "instotus",
          "_sashalapin",
          "alecmooooody",
          "onemightyfish",
          "camosaseko",
          "jihadist2ndwife",
          "ramonasnails",
          "muslims_in_usa",
          "anzgri",
          "regieblackmon",
          "pati_cooper",
          "leroylovesusa",
          "jamie_mccarthy_",
          "tezaharov",
          "shocko_10",
          "laurabaeley",
          "wildharee",
          "devinedevinbr",
          "sergbriantsev",
          "karenparker93",
          "pigeontoday",
          "mmmdarya",
          "valeyina_dm",
          "joseph_jenks",
          "siccerthanyou",
          "ogdeandre",
          "zzzacharyzzz",
          "richmondvoice",
          "banttanantta",
          "krustyps",
          "cassieweltch",
          "crystal1johnson",
          "neworleanson",
          "puredavie",
          "policestateme",
          "traceyhappymom",
          "finnaglo",
          "phoenixdailynew",
          "hollandpatrickk",
          "jani_s_jac",
          "glebnikon",
          "oaklandonline",
          "maksblaginin",
          "philadelphiaon",
          "lysikvinkova",
          "romangorolov",
          "robbydelaware",
          "blacktivists",
          "pamblmdaniels",
          "ostrovofficer",
          "lila_gorila",
          "oooonlyone",
          "horrorki",
          "zistti",
          "sovetnikstatski",
          "inst_vets",
          "tebepizdec",
          "bricegeller",
          "todaybostonma",
          "mr_clampin",
          "lazykstafford",
          "gwennythot",
          "paolakinck",
          "roscoe_riddle",
          "samirgooden",
          "clydedaws0n",
          "notritahart",
          "austinlovesbeer",
          "archieolivers",
          "agnesgrhm",
          "johnievogue",
          "batonrougevoice",
          "youjustctrlc",
          "iiddaamarks",
          "acejinev",
          "logan_whatsup",
          "gvardeykalena",
          "chaneutral",
          "riogithief",
          "michellearry",
          "todaymiami",
          "ilovesarahrich",
          "jasper_fly",
          "chesplayschess",
          "eliasbrick",
          "verrellportier",
          "jery_robertsyo",
          "erofeenkoanton",
          "mil0blake",
          "corynaenae",
          "todaycincinnati",
          "todaynycity",
          "kotovamarys",
          "jenn_abrams",
          "damanimiles",
          "stanleyparris",
          "johnnymarch_",
          "queenofthewo",
          "melvinsroberts",
          "cassishere",
          "adamchapmanjr",
          "georevieweurope",
          "randolphburrr",
          "giselleevns",
          "taraformation",
          "imissobama",
          "errivvvvers",
          "westernwindwes",
          "jon_underwood_",
          "handsome_henson",
          "onlinememphis",
          "kathiemrr",
          "imapharrelfake",
          "peytoncashout",
          "bydrbre_",
          "houstontopnews",
          "claypaigeboo",
          "micparrish",
          "evagreen69",
          "entatjanamax",
          "priceforpierce",
          "mihanovikov",
          "sternandreas404",
          "jadonhutchinson",
          "hiimkhloe",
          "cookiiieeessss",
          "nataturn",
          "stlouisonline",
          "dailysandiego",
          "vasilichvasili",
          "jassscott",
          "blacktolive",
          "gallowayeliana",
          "jaedenmassey",
          "screamymonkey",
          "dallastopnews",
          "blk_voice",
          "willisbonnerr",
          "blacknewsoutlet",
          "stanley_cox_",
          "travisrespek",
          "detroitdailynew",
          "daileyjadon",
          "taisiaavdeeva",
          "jeanuttella",
          "klara_sauber",
          "lagonehoe",
          "scottgohard",
          "christinapool61",
          "malloryjared",
          "kaydenmelton",
          "krasilnikovbor",
          "heyits_toby",
          "leecory",
          "sergeev_tolik",
          "dailylosangeles",
          "johnbranchh",
          "rosieonfleek",
          "mrmoraan",
          "jeblary2016",
          "hunteroddddom",
          "romanagafonovv",
          "boriseleseev",
          "nj_blacknews",
          "jeannemccarthy0",
          "skatewake1994",
          "internalmemer",
          "mwiqcen",
          "gorelkinnn",
          "shikarnoel",
          "jorda_morgan",
          "lmarinays",
          "moda_barina",
          "brianaregland",
          "alexsvladimirov",
          "razvedchica_",
          "bogdankravcov",
          "blmsoldier",
          "sanantotopnews",
          "ryanmaxwell_1",
          "chernenkonikola",
          "fightm_d_b",
          "judelambertusa",
          "portmela",
          "kolradskiy_zhuk",
          "specialaffair",
          "sindyblossom",
          "tessyelmore",
          "chicagodailynew",
          "kelvin_chambers",
          "cornellburchet",
          "globalfoe",
          "dontshootcom",
          "patriotraphael",
          "kimberleighlamb",
          "patriot_archive",
          "cannonsher",
          "puddin_leto",
          "imaswerve",
          "milwaukeevoice",
          "queennarielle",
          "antonhayhay",
          "russilanrogov",
          "gloed_up",
          "atlanta_online",
          "bigboyjasiah",
          "iris0_o",
          "ericarutter",
          "viborisova",
          "marianeuberg1",
          "_nickluna_",
          "blackmattersus",
          "wonderhann",
          "c__wells",
          "cliftonhughes_",
          "datwisenigga",
          "baobaeham",
          "gwen_garland",
          "fischermaria933",
          "sonderkatharina",
          "tinatkurtz1222",
          "blackeyeblog",
          "christinacrisss",
          "evewebster373",
          "gracelilstar",
          "ponomarevslav",
          "trayneshacole",
          "rus_in_usa",
          "bleepthepolice",
          "berkhoff85",
          "4mysquad",
          "notballinyet",
          "deusxyx",
          "boryabuchin",
          "shapka_mono",
          "whitehousecards",
          "peeonhillary",
          "lilylilyhasse",
          "bigboysneed",
          "brianthelifter",
          "liljordamn",
          "nehemiahx",
          "robertebonyking",
          "briys_valera",
          "edmundrjr",
          "mrclydepratt",
          "lapinolegg",
          "colbyst1",
          "jacksoncitypost",
          "elpasotopnews",
          "alexharritonov",
          "cascaseyp",
          "beckster319",
          "maximgaron1",
          "manuelkrosss",
          "politopros",
          "ssus_panther",
          "beverlybalsom",
          "blacneighbor",
          "erdollum",
          "donnielmiller",
          "chrixmorgan",
          "marissaimstrong",
          "ryanncooperwood",
          "aleksey_sokol_",
          "bocharnikov_v",
          "baltimore0nline",
          "danageezus",
          "todaypittsburgh",
          "toneporter",
          "maymaymyy",
          "yaeltrouble",
          "mbrownhere",
          "fishalexanderr",
          "jerstoner",
          "worldofhashtags",
          "joachimbuchwitz",
          "iancalh0un",
          "reachitdoit",
          "aantiracist",
          "jarrardnorman",
          "peterkistner",
          "seattle_post",
          "lukas_rosler",
          "_billy_moyer_",
          "curtisbigman",
          "todaycleveland",
          "abigailssilk",
          "mtthsberger",
          "hipppo_",
          "johnieboycooks",
          "chrisuport_port",
          "calebpaar",
          "glennharper_",
          "schultei2",
          "angela_lattke",
          "russianallies",
          "aiden7757",
          "charlesrespeck",
          "andreaseulitz",
          "dannythehappies",
          "kirstenladaniel",
          "lynsrodriguez",
          "sincerepruitt",
          "erdollum666",
          "jsncarey",
          "dominicvalent",
          "jmscoxxx",
          "kencannone",
          "holycrapchrix",
          "meggieoneil",
          "adrienne_gg",
          "bigseanbeast",
          "charlesjharper",
          "heyheyhailey",
          "wokefromday1",
          "susayung",
          "catelinewatkins",
          "bgarner2107",
          "loragreeen",
          "gab1aldana",
          "novostidamask",
          "rusnevrotik",
          "msm0re",
          "hellieedwards",
          "ilikebigbuttand",
          "sovasof",
          "mikkyrurk",
          "oh_frida",
          "bruciedublin",
          "aldrich420",
          "coldwar20_ru",
          "margosavazh",
          "angelabach991",
          "maxdementiev",
          "adrgreerr",
          "lavrovmuesli",
          "amandavgreen",
          "klausfinker",
          "hamburgbote",
          "sto_christi",
          "edmundc0oke",
          "margoberoeva",
          "brentmcclure275",
          "6druz",
          "denn_nikitin"
         ],
         "type": "scatter",
         "x": [
          22.531570434570312,
          -24.58481788635254,
          -16.118234634399414,
          22.32196807861328,
          -12.451086044311523,
          -12.529720306396484,
          20.509193420410156,
          21.718399047851562,
          21.642078399658203,
          -7.015254974365234,
          22.278728485107422,
          -0.6833003163337708,
          0.09200477600097656,
          -24.7763729095459,
          21.20659065246582,
          21.343509674072266,
          19.968780517578125,
          21.21912384033203,
          22.48638153076172,
          23.337078094482422,
          -12.81638240814209,
          20.966411590576172,
          -18.408143997192383,
          -17.629648208618164,
          1.604682445526123,
          21.2816219329834,
          -6.984173774719238,
          22.980010986328125,
          20.448373794555664,
          5.406810283660889,
          19.079275131225586,
          21.889408111572266,
          -7.429879665374756,
          18.896656036376953,
          21.459415435791016,
          -10.617033004760742,
          6.377357482910156,
          20.5900936126709,
          22.469623565673828,
          20.06671714782715,
          -2.677865743637085,
          0.8400344252586365,
          20.962955474853516,
          -3.476172924041748,
          -0.05199133977293968,
          6.646912097930908,
          20.525341033935547,
          5.275862693786621,
          21.13534927368164,
          6.6813859939575195,
          22.606292724609375,
          20.1184139251709,
          21.524621963500977,
          20.44821548461914,
          21.38088607788086,
          -22.406293869018555,
          20.5883846282959,
          19.99508285522461,
          20.00970458984375,
          -3.812837839126587,
          19.7139892578125,
          19.56484031677246,
          -12.699023246765137,
          -23.445451736450195,
          -11.803772926330566,
          8.52454948425293,
          19.506263732910156,
          20.21455192565918,
          -1.4511760473251343,
          -12.611963272094727,
          18.258760452270508,
          -0.4153355360031128,
          6.450976848602295,
          8.19922161102295,
          -4.178659915924072,
          18.56879425048828,
          9.45004653930664,
          -12.521418571472168,
          -17.828664779663086,
          6.508471965789795,
          18.801481246948242,
          -2.9574637413024902,
          -6.1378173828125,
          8.795063018798828,
          6.62939977645874,
          -3.1385796070098877,
          -3.2742786407470703,
          -2.803934335708618,
          6.1516289710998535,
          -6.736168384552002,
          -11.474120140075684,
          -21.07990264892578,
          -3.982252597808838,
          2.1856820583343506,
          10.166890144348145,
          4.663995265960693,
          6.215744972229004,
          -8.592036247253418,
          9.698042869567871,
          -1.2585229873657227,
          -4.228135108947754,
          3.983184814453125,
          17.389333724975586,
          -4.759319305419922,
          -13.488763809204102,
          14.040749549865723,
          -7.663754463195801,
          -7.441068649291992,
          -23.430572509765625,
          20.89066505432129,
          11.531518936157227,
          18.811248779296875,
          1.6606414318084717,
          1.5392688512802124,
          18.145360946655273,
          -7.808314323425293,
          6.008674621582031,
          5.352179527282715,
          10.293288230895996,
          16.526700973510742,
          -15.729671478271484,
          -15.782747268676758,
          -23.262130737304688,
          -9.986992835998535,
          18.220537185668945,
          -22.531757354736328,
          -0.6468596458435059,
          -24.184833526611328,
          6.985132694244385,
          18.308401107788086,
          -10.599864959716797,
          7.810856342315674,
          19.50694465637207,
          19.307384490966797,
          4.312902450561523,
          16.67096519470215,
          -6.717944145202637,
          3.865351438522339,
          0.24676653742790222,
          -9.8079833984375,
          8.966605186462402,
          -13.352132797241211,
          -13.477423667907715,
          -13.770364761352539,
          -13.67891788482666,
          -13.67891788482666,
          18.392690658569336,
          6.861274719238281,
          -2.3001675605773926,
          14.885682106018066,
          18.836069107055664,
          -23.663869857788086,
          -10.038840293884277,
          4.595451831817627,
          16.59825897216797,
          -12.350777626037598,
          5.7655930519104,
          -20.198543548583984,
          -23.12249183654785,
          -18.33561134338379,
          5.203517436981201,
          -9.359560012817383,
          9.062255859375,
          19.238080978393555,
          5.827601432800293,
          8.81414794921875,
          7.499734878540039,
          -14.353339195251465,
          17.083616256713867,
          18.303430557250977,
          -12.541339874267578,
          -6.622551918029785,
          17.353031158447266,
          0.7742012739181519,
          -24.19285011291504,
          5.294527053833008,
          4.289671421051025,
          -12.387887001037598,
          2.9572620391845703,
          12.341833114624023,
          -9.071146011352539,
          10.934240341186523,
          17.390409469604492,
          1.0036416053771973,
          7.61117696762085,
          -5.373414039611816,
          9.667741775512695,
          -0.9925368428230286,
          0.8781867623329163,
          -23.674985885620117,
          -23.7321720123291,
          17.800983428955078,
          4.872225284576416,
          2.022783041000366,
          -1.0838876962661743,
          -22.485767364501953,
          15.217957496643066,
          3.6271958351135254,
          2.203118324279785,
          -8.21036148071289,
          -17.612571716308594,
          -9.179699897766113,
          1.839154839515686,
          -22.917442321777344,
          -0.49575766921043396,
          -1.833317756652832,
          0.8189553022384644,
          13.301865577697754,
          12.989802360534668,
          -13.749245643615723,
          -9.117242813110352,
          6.666647434234619,
          -8.66627025604248,
          0.12799394130706787,
          -2.096571922302246,
          4.187676429748535,
          -14.545857429504395,
          8.939519882202148,
          -8.2979154586792,
          17.15244483947754,
          17.60243034362793,
          17.016502380371094,
          7.463752269744873,
          -5.863785266876221,
          2.0168871879577637,
          -9.062649726867676,
          15.103424072265625,
          6.347063064575195,
          -7.002925872802734,
          -14.949616432189941,
          -6.26077127456665,
          3.4334092140197754,
          0.473928838968277,
          16.899784088134766,
          -23.14585304260254,
          6.011094570159912,
          10.754801750183105,
          -2.240011692047119,
          0.7071142792701721,
          -17.904024124145508,
          -3.711115837097168,
          -14.492545127868652,
          1.037778377532959,
          8.218308448791504,
          -7.867425441741943,
          2.4093539714813232,
          7.971334457397461,
          -2.087540626525879,
          -14.199009895324707,
          3.429380416870117,
          2.227731227874756,
          -7.649864196777344,
          -1.5421736240386963,
          12.927170753479004,
          13.329524040222168,
          -6.214850425720215,
          -8.096900939941406,
          0.2644270956516266,
          4.362745761871338,
          -8.041865348815918,
          -8.363523483276367,
          -8.376974105834961,
          -8.526718139648438,
          -7.899582862854004,
          -8.070574760437012,
          -17.96927833557129,
          11.994783401489258,
          14.207221031188965,
          12.775787353515625,
          4.34377908706665,
          13.683489799499512,
          -8.230380058288574,
          13.547574043273926,
          11.88640022277832,
          -9.339542388916016,
          -19.285886764526367,
          13.427366256713867,
          17.277334213256836,
          -12.598037719726562,
          -3.9201886653900146,
          13.495366096496582,
          2.9154887199401855,
          -1.219356656074524,
          -16.168397903442383,
          -5.229119300842285,
          -8.710365295410156,
          -18.816326141357422,
          3.3659050464630127,
          2.8276309967041016,
          -15.270583152770996,
          0.5477800369262695,
          -18.049158096313477,
          1.2355971336364746,
          8.181853294372559,
          12.323969841003418,
          -8.240942001342773,
          16.385540008544922,
          3.0774970054626465,
          -8.965015411376953,
          -19.661701202392578,
          11.912471771240234,
          -2.7555887699127197,
          -5.3089985847473145,
          -5.248013973236084,
          -11.05237102508545,
          -13.743036270141602,
          1.9847447872161865,
          -15.209576606750488,
          -14.572076797485352,
          -2.227384090423584,
          -0.3275599181652069,
          -0.32766908407211304,
          -0.4045898914337158,
          2.2269222736358643,
          -12.54841136932373,
          -15.044264793395996,
          -12.567601203918457,
          1.5817855596542358,
          -6.84487771987915,
          12.1056547164917,
          -8.938143730163574,
          1.1239300966262817,
          -4.668532371520996,
          1.7266511917114258,
          0.6762775778770447,
          17.490755081176758,
          -5.226589202880859,
          -1.766487717628479,
          -3.2504160404205322,
          -2.9905624389648438,
          -0.5212020874023438,
          9.505613327026367,
          2.9021925926208496,
          0.04911390319466591,
          11.687042236328125,
          -16.2093448638916,
          15.007743835449219,
          -15.67447566986084,
          17.754207611083984,
          -14.110151290893555,
          16.500425338745117,
          -0.13764746487140656,
          12.637603759765625,
          -0.24791449308395386,
          -2.774362087249756,
          -1.428499460220337,
          -2.4825401306152344,
          -0.750507116317749,
          -12.386331558227539,
          -10.523412704467773,
          -4.724972248077393,
          -1.1974786520004272,
          -19.01961898803711,
          -20.562917709350586,
          1.8014156818389893,
          -11.459728240966797,
          12.652430534362793,
          2.966797351837158,
          13.014565467834473,
          -20.928682327270508,
          13.753884315490723,
          -4.830301761627197,
          -2.1766624450683594,
          -18.7996826171875,
          -15.025245666503906,
          -3.4553186893463135,
          -0.7562474608421326,
          -19.09335708618164,
          -2.8353354930877686,
          -4.968857288360596,
          -12.893736839294434,
          -3.6642253398895264,
          -5.801677703857422,
          -1.8743103742599487,
          16.417499542236328,
          -1.018247365951538,
          -12.873703002929688,
          -1.6562663316726685,
          -3.1749491691589355,
          0.6950935125350952,
          -1.616484522819519,
          0.09566608816385269,
          -3.5584683418273926,
          0.24860508739948273,
          -5.425203800201416,
          -14.326937675476074,
          -4.995700836181641,
          -4.9957122802734375,
          -4.843482494354248,
          -4.468790531158447,
          15.993717193603516,
          -1.0301705598831177,
          -6.541838645935059,
          -10.49524211883545,
          -5.8201727867126465,
          -4.80501127243042,
          -2.3337934017181396,
          -13.489943504333496,
          -18.95609474182129,
          -0.9410350322723389,
          -6.57879114151001,
          -0.5497186779975891,
          -6.666955947875977,
          -4.781235694885254,
          -2.995090961456299,
          -1.306699514389038,
          -1.389263391494751,
          -4.511841297149658,
          -4.280935287475586,
          -3.969043016433716,
          -3.761272668838501,
          -3.692366600036621,
          -3.5933704376220703,
          -3.4925036430358887,
          -12.281785011291504,
          -12.281712532043457,
          -3.694049119949341,
          -6.588812828063965,
          -9.79638671875,
          -10.793380737304688,
          -10.793379783630371,
          -1.3759359121322632,
          -3.4351115226745605,
          -2.0812623500823975,
          -2.423848867416382,
          -3.380953788757324,
          -3.01240611076355,
          -5.324580192565918,
          -2.600350856781006,
          -2.714453935623169,
          -3.0459773540496826,
          -3.0429978370666504,
          -1.5680923461914062,
          -10.433226585388184,
          -3.2010884284973145,
          -2.1246585845947266,
          -10.61896800994873,
          -10.618967056274414
         ],
         "y": [
          10.67395305633545,
          -9.210037231445312,
          -13.544415473937988,
          7.860833168029785,
          -15.172011375427246,
          -16.578392028808594,
          2.7182445526123047,
          5.854597091674805,
          7.356382369995117,
          -19.704824447631836,
          6.9114670753479,
          -14.31485652923584,
          -14.23852825164795,
          -8.211935043334961,
          9.130926132202148,
          6.834278583526611,
          8.602594375610352,
          3.6861250400543213,
          2.9225213527679443,
          1.8566312789916992,
          4.6783061027526855,
          2.2776682376861572,
          -11.471564292907715,
          -11.596096992492676,
          -13.22033405303955,
          10.5878267288208,
          -19.64632225036621,
          2.267669677734375,
          6.975381851196289,
          -9.077781677246094,
          -1.6604375839233398,
          9.955377578735352,
          -20.07322883605957,
          -0.32238370180130005,
          7.754086017608643,
          -16.884946823120117,
          -8.513358116149902,
          7.576844692230225,
          1.746477484703064,
          -6.433619499206543,
          -14.994546890258789,
          -13.009796142578125,
          5.56085729598999,
          -13.6948881149292,
          -13.466438293457031,
          -8.823274612426758,
          5.273391246795654,
          4.133207321166992,
          9.818293571472168,
          -8.359633445739746,
          2.2271413803100586,
          1.9034353494644165,
          3.5462517738342285,
          6.225828170776367,
          2.608128309249878,
          -9.70767593383789,
          4.823668956756592,
          6.032666206359863,
          -6.964028835296631,
          -16.01420783996582,
          4.876646518707275,
          5.369292259216309,
          4.448507308959961,
          -5.995628833770752,
          -15.481557846069336,
          -0.14157328009605408,
          -7.166762828826904,
          8.059452056884766,
          30.71122932434082,
          4.717299938201904,
          7.052731990814209,
          -12.35596752166748,
          -1.8047192096710205,
          -2.9532501697540283,
          -14.632402420043945,
          -5.308159828186035,
          -0.44228723645210266,
          4.695499897003174,
          -10.980767250061035,
          -0.6220898628234863,
          4.8192033767700195,
          -15.780987739562988,
          -17.00833511352539,
          -3.306694746017456,
          0.9377922415733337,
          -14.694978713989258,
          -15.46117115020752,
          31.517398834228516,
          -6.75996208190918,
          -16.942447662353516,
          -15.963371276855469,
          -9.03984546661377,
          -13.527978897094727,
          -12.470405578613281,
          0.45730942487716675,
          -5.567807674407959,
          -2.9256553649902344,
          -12.790350914001465,
          -0.07499144971370697,
          -9.915191650390625,
          -15.366832733154297,
          0.45577380061149597,
          4.094594955444336,
          -15.00991439819336,
          -13.179243087768555,
          -0.44683030247688293,
          -9.542101860046387,
          -17.84941864013672,
          -6.93004035949707,
          10.206647872924805,
          -0.10541564971208572,
          5.799903869628906,
          -0.33906227350234985,
          -11.479204177856445,
          4.861252784729004,
          -12.077642440795898,
          1.7739845514297485,
          -0.6307159662246704,
          0.009742637164890766,
          -1.3726446628570557,
          -11.94447135925293,
          -11.918254852294922,
          -9.234542846679688,
          -17.300411224365234,
          -1.9941046237945557,
          -8.491004943847656,
          -9.88131046295166,
          -8.510177612304688,
          -2.8141238689422607,
          -5.8675336837768555,
          -15.6702241897583,
          0.8110896348953247,
          7.522923469543457,
          -6.120439052581787,
          1.3853130340576172,
          0.8617627024650574,
          -9.723092079162598,
          -5.689473628997803,
          -9.798688888549805,
          -14.174890518188477,
          0.9340705275535583,
          12.864206314086914,
          13.0745210647583,
          13.022881507873535,
          12.658007621765137,
          12.658007621765137,
          3.961754322052002,
          -6.811454772949219,
          -13.42099380493164,
          -0.007478267885744572,
          -6.847043991088867,
          -8.399764060974121,
          -14.511490821838379,
          0.04465361684560776,
          6.196806907653809,
          -13.748909950256348,
          -2.281010150909424,
          -8.299032211303711,
          -7.693085670471191,
          -9.648300170898438,
          9.220682144165039,
          -19.280529022216797,
          1.9247570037841797,
          -6.537778377532959,
          2.7230749130249023,
          1.5029468536376953,
          -0.028356989845633507,
          -12.348793983459473,
          6.270373821258545,
          -6.496577262878418,
          -3.9873900413513184,
          -16.119327545166016,
          -4.477792739868164,
          -1.4122196435928345,
          -7.682145595550537,
          9.210002899169922,
          3.4542248249053955,
          4.332600116729736,
          -0.04099294915795326,
          1.0694187879562378,
          -13.9533052444458,
          2.322450637817383,
          -4.843847751617432,
          -9.349695205688477,
          -5.341863632202148,
          -8.614252090454102,
          3.2189548015594482,
          -0.5256791710853577,
          1.0142391920089722,
          -7.736425399780273,
          -9.021488189697266,
          7.220701217651367,
          -4.523921966552734,
          -0.620383620262146,
          -1.2471011877059937,
          -7.714351654052734,
          0.6718686819076538,
          -1.18632972240448,
          0.42167961597442627,
          -14.20211124420166,
          -9.895781517028809,
          -19.317031860351562,
          -7.12238883972168,
          -8.745718955993652,
          -1.1135317087173462,
          -6.796514987945557,
          26.843839645385742,
          0.6353276968002319,
          -5.087019443511963,
          -12.904322624206543,
          -14.730690002441406,
          -5.65897798538208,
          -13.796114921569824,
          -9.2658109664917,
          31.140731811523438,
          -1.2128238677978516,
          -10.644937515258789,
          4.2403082847595215,
          -16.87388038635254,
          -5.378556251525879,
          -6.307260990142822,
          0.4648999273777008,
          -2.1406121253967285,
          -11.002492904663086,
          1.444777488708496,
          -17.853139877319336,
          -6.812511920928955,
          -4.628173828125,
          -15.185115814208984,
          -8.257065773010254,
          -13.964082717895508,
          5.419547080993652,
          -0.3642995357513428,
          -2.473459482192993,
          -8.19517707824707,
          -3.6605632305145264,
          1.583877682685852,
          30.7120304107666,
          -0.8677943348884583,
          -8.667756080627441,
          30.51926612854004,
          -10.386265754699707,
          -7.706994533538818,
          -4.86054801940918,
          -17.319507598876953,
          0.45613187551498413,
          -4.377008438110352,
          -12.396734237670898,
          -11.755597114562988,
          -0.2557097375392914,
          -1.092722773551941,
          -10.038795471191406,
          -1.3575528860092163,
          1.263912320137024,
          -5.212420463562012,
          -9.107705116271973,
          -15.517895698547363,
          0.8312713503837585,
          3.9228768348693848,
          14.975606918334961,
          14.989335060119629,
          14.44796085357666,
          14.735122680664062,
          14.69364070892334,
          14.431341171264648,
          -8.09855842590332,
          -6.103616237640381,
          3.676961898803711,
          3.4829559326171875,
          -2.859710216522217,
          -5.927430152893066,
          -14.984955787658691,
          2.1636433601379395,
          -4.272439956665039,
          -15.337817192077637,
          -7.576885223388672,
          3.333028793334961,
          -7.541196346282959,
          -10.925959587097168,
          -7.784351825714111,
          -5.506164073944092,
          4.003376007080078,
          -8.768596649169922,
          -10.830848693847656,
          -13.566818237304688,
          -15.05667781829834,
          -3.4834718704223633,
          9.057326316833496,
          2.5653257369995117,
          -3.5768566131591797,
          5.814661979675293,
          -7.907475471496582,
          3.6797592639923096,
          2.3216986656188965,
          5.913837909698486,
          -10.721714973449707,
          -2.073603391647339,
          1.865904450416565,
          -10.872702598571777,
          -7.853017330169678,
          6.371867656707764,
          30.289039611816406,
          -15.395912170410156,
          -12.944408416748047,
          -12.05422592163086,
          -11.618088722229004,
          6.394025802612305,
          -8.020766258239746,
          -9.693058967590332,
          -1.1327086687088013,
          27.383148193359375,
          27.3830623626709,
          26.997600555419922,
          4.873427867889404,
          -2.0552515983581543,
          -11.052231788635254,
          -2.7907888889312744,
          -8.238948822021484,
          -8.740006446838379,
          6.088399887084961,
          -15.763824462890625,
          26.65717124938965,
          -11.13681411743164,
          2.42436146736145,
          9.144311904907227,
          -0.8931683897972107,
          10.548910140991211,
          29.273630142211914,
          -1.298201560974121,
          30.804744720458984,
          2.124136209487915,
          4.501387596130371,
          -2.6473348140716553,
          5.107354164123535,
          3.658780336380005,
          -6.841135025024414,
          -1.6758471727371216,
          -7.8321757316589355,
          -0.5036024451255798,
          -3.120241403579712,
          -7.4244842529296875,
          3.35701322555542,
          2.281461238861084,
          9.008366584777832,
          -1.2034391164779663,
          7.237434387207031,
          29.96990394592285,
          26.361230850219727,
          -1.455302357673645,
          2.4590253829956055,
          -10.078536987304688,
          27.59636878967285,
          -4.53427791595459,
          -7.183376789093018,
          6.544594764709473,
          -8.372840881347656,
          -6.084896564483643,
          -4.053182601928711,
          -7.291203498840332,
          -7.460996150970459,
          -7.280064582824707,
          8.122599601745605,
          3.380981922149658,
          -6.683571815490723,
          -6.784485340118408,
          30.036231994628906,
          4.308847904205322,
          -4.052168369293213,
          29.064189910888672,
          -12.05960464477539,
          -2.263763666152954,
          2.8140883445739746,
          9.169219970703125,
          30.09025001525879,
          -8.484078407287598,
          26.84424591064453,
          -12.275956153869629,
          5.0315985679626465,
          -11.0187349319458,
          10.675024032592773,
          27.6265869140625,
          9.991647720336914,
          2.0552573204040527,
          26.51169776916504,
          8.72903823852539,
          -3.1290509700775146,
          27.280292510986328,
          27.28026580810547,
          -7.462856769561768,
          9.817007064819336,
          -8.376542091369629,
          24.21542739868164,
          7.285914897918701,
          2.50227689743042,
          5.701117992401123,
          -7.240531921386719,
          27.694543838500977,
          -2.7408339977264404,
          -4.679445743560791,
          9.926929473876953,
          9.391664505004883,
          10.814997673034668,
          6.5996527671813965,
          8.919851303100586,
          10.041467666625977,
          10.702096939086914,
          9.762321472167969,
          2.2064833641052246,
          3.031024694442749,
          11.234598159790039,
          9.033635139465332,
          7.817713260650635,
          8.743103981018066,
          23.88275146484375,
          10.442525863647461,
          10.4425630569458,
          8.256538391113281,
          8.59746265411377,
          10.20129680633545,
          12.366987228393555,
          12.366969108581543,
          10.557965278625488,
          6.945070266723633,
          26.425905227661133,
          25.904293060302734,
          29.182289123535156,
          24.84945297241211,
          6.170727729797363,
          25.673547744750977,
          7.949119567871094,
          27.189579010009766,
          27.18414306640625,
          25.007640838623047,
          2.8353829383850098,
          24.851346969604492,
          7.10123348236084,
          10.5858793258667,
          10.585885047912598
         ]
        }
       ],
       "layout": {
        "coloraxis": {
         "colorbar": {
          "title": {
           "text": "cluster"
          }
         },
         "colorscale": [
          [
           0,
           "#0d0887"
          ],
          [
           0.1111111111111111,
           "#46039f"
          ],
          [
           0.2222222222222222,
           "#7201a8"
          ],
          [
           0.3333333333333333,
           "#9c179e"
          ],
          [
           0.4444444444444444,
           "#bd3786"
          ],
          [
           0.5555555555555556,
           "#d8576b"
          ],
          [
           0.6666666666666666,
           "#ed7953"
          ],
          [
           0.7777777777777778,
           "#fb9f3a"
          ],
          [
           0.8888888888888888,
           "#fdca26"
          ],
          [
           1,
           "#f0f921"
          ]
         ]
        },
        "height": 700,
        "legend": {
         "itemsizing": "constant",
         "tracegroupgap": 0
        },
        "template": {
         "data": {
          "bar": [
           {
            "error_x": {
             "color": "#2a3f5f"
            },
            "error_y": {
             "color": "#2a3f5f"
            },
            "marker": {
             "line": {
              "color": "#E5ECF6",
              "width": 0.5
             },
             "pattern": {
              "fillmode": "overlay",
              "size": 10,
              "solidity": 0.2
             }
            },
            "type": "bar"
           }
          ],
          "barpolar": [
           {
            "marker": {
             "line": {
              "color": "#E5ECF6",
              "width": 0.5
             },
             "pattern": {
              "fillmode": "overlay",
              "size": 10,
              "solidity": 0.2
             }
            },
            "type": "barpolar"
           }
          ],
          "carpet": [
           {
            "aaxis": {
             "endlinecolor": "#2a3f5f",
             "gridcolor": "white",
             "linecolor": "white",
             "minorgridcolor": "white",
             "startlinecolor": "#2a3f5f"
            },
            "baxis": {
             "endlinecolor": "#2a3f5f",
             "gridcolor": "white",
             "linecolor": "white",
             "minorgridcolor": "white",
             "startlinecolor": "#2a3f5f"
            },
            "type": "carpet"
           }
          ],
          "choropleth": [
           {
            "colorbar": {
             "outlinewidth": 0,
             "ticks": ""
            },
            "type": "choropleth"
           }
          ],
          "contour": [
           {
            "colorbar": {
             "outlinewidth": 0,
             "ticks": ""
            },
            "colorscale": [
             [
              0,
              "#0d0887"
             ],
             [
              0.1111111111111111,
              "#46039f"
             ],
             [
              0.2222222222222222,
              "#7201a8"
             ],
             [
              0.3333333333333333,
              "#9c179e"
             ],
             [
              0.4444444444444444,
              "#bd3786"
             ],
             [
              0.5555555555555556,
              "#d8576b"
             ],
             [
              0.6666666666666666,
              "#ed7953"
             ],
             [
              0.7777777777777778,
              "#fb9f3a"
             ],
             [
              0.8888888888888888,
              "#fdca26"
             ],
             [
              1,
              "#f0f921"
             ]
            ],
            "type": "contour"
           }
          ],
          "contourcarpet": [
           {
            "colorbar": {
             "outlinewidth": 0,
             "ticks": ""
            },
            "type": "contourcarpet"
           }
          ],
          "heatmap": [
           {
            "colorbar": {
             "outlinewidth": 0,
             "ticks": ""
            },
            "colorscale": [
             [
              0,
              "#0d0887"
             ],
             [
              0.1111111111111111,
              "#46039f"
             ],
             [
              0.2222222222222222,
              "#7201a8"
             ],
             [
              0.3333333333333333,
              "#9c179e"
             ],
             [
              0.4444444444444444,
              "#bd3786"
             ],
             [
              0.5555555555555556,
              "#d8576b"
             ],
             [
              0.6666666666666666,
              "#ed7953"
             ],
             [
              0.7777777777777778,
              "#fb9f3a"
             ],
             [
              0.8888888888888888,
              "#fdca26"
             ],
             [
              1,
              "#f0f921"
             ]
            ],
            "type": "heatmap"
           }
          ],
          "heatmapgl": [
           {
            "colorbar": {
             "outlinewidth": 0,
             "ticks": ""
            },
            "colorscale": [
             [
              0,
              "#0d0887"
             ],
             [
              0.1111111111111111,
              "#46039f"
             ],
             [
              0.2222222222222222,
              "#7201a8"
             ],
             [
              0.3333333333333333,
              "#9c179e"
             ],
             [
              0.4444444444444444,
              "#bd3786"
             ],
             [
              0.5555555555555556,
              "#d8576b"
             ],
             [
              0.6666666666666666,
              "#ed7953"
             ],
             [
              0.7777777777777778,
              "#fb9f3a"
             ],
             [
              0.8888888888888888,
              "#fdca26"
             ],
             [
              1,
              "#f0f921"
             ]
            ],
            "type": "heatmapgl"
           }
          ],
          "histogram": [
           {
            "marker": {
             "pattern": {
              "fillmode": "overlay",
              "size": 10,
              "solidity": 0.2
             }
            },
            "type": "histogram"
           }
          ],
          "histogram2d": [
           {
            "colorbar": {
             "outlinewidth": 0,
             "ticks": ""
            },
            "colorscale": [
             [
              0,
              "#0d0887"
             ],
             [
              0.1111111111111111,
              "#46039f"
             ],
             [
              0.2222222222222222,
              "#7201a8"
             ],
             [
              0.3333333333333333,
              "#9c179e"
             ],
             [
              0.4444444444444444,
              "#bd3786"
             ],
             [
              0.5555555555555556,
              "#d8576b"
             ],
             [
              0.6666666666666666,
              "#ed7953"
             ],
             [
              0.7777777777777778,
              "#fb9f3a"
             ],
             [
              0.8888888888888888,
              "#fdca26"
             ],
             [
              1,
              "#f0f921"
             ]
            ],
            "type": "histogram2d"
           }
          ],
          "histogram2dcontour": [
           {
            "colorbar": {
             "outlinewidth": 0,
             "ticks": ""
            },
            "colorscale": [
             [
              0,
              "#0d0887"
             ],
             [
              0.1111111111111111,
              "#46039f"
             ],
             [
              0.2222222222222222,
              "#7201a8"
             ],
             [
              0.3333333333333333,
              "#9c179e"
             ],
             [
              0.4444444444444444,
              "#bd3786"
             ],
             [
              0.5555555555555556,
              "#d8576b"
             ],
             [
              0.6666666666666666,
              "#ed7953"
             ],
             [
              0.7777777777777778,
              "#fb9f3a"
             ],
             [
              0.8888888888888888,
              "#fdca26"
             ],
             [
              1,
              "#f0f921"
             ]
            ],
            "type": "histogram2dcontour"
           }
          ],
          "mesh3d": [
           {
            "colorbar": {
             "outlinewidth": 0,
             "ticks": ""
            },
            "type": "mesh3d"
           }
          ],
          "parcoords": [
           {
            "line": {
             "colorbar": {
              "outlinewidth": 0,
              "ticks": ""
             }
            },
            "type": "parcoords"
           }
          ],
          "pie": [
           {
            "automargin": true,
            "type": "pie"
           }
          ],
          "scatter": [
           {
            "fillpattern": {
             "fillmode": "overlay",
             "size": 10,
             "solidity": 0.2
            },
            "type": "scatter"
           }
          ],
          "scatter3d": [
           {
            "line": {
             "colorbar": {
              "outlinewidth": 0,
              "ticks": ""
             }
            },
            "marker": {
             "colorbar": {
              "outlinewidth": 0,
              "ticks": ""
             }
            },
            "type": "scatter3d"
           }
          ],
          "scattercarpet": [
           {
            "marker": {
             "colorbar": {
              "outlinewidth": 0,
              "ticks": ""
             }
            },
            "type": "scattercarpet"
           }
          ],
          "scattergeo": [
           {
            "marker": {
             "colorbar": {
              "outlinewidth": 0,
              "ticks": ""
             }
            },
            "type": "scattergeo"
           }
          ],
          "scattergl": [
           {
            "marker": {
             "colorbar": {
              "outlinewidth": 0,
              "ticks": ""
             }
            },
            "type": "scattergl"
           }
          ],
          "scattermapbox": [
           {
            "marker": {
             "colorbar": {
              "outlinewidth": 0,
              "ticks": ""
             }
            },
            "type": "scattermapbox"
           }
          ],
          "scatterpolar": [
           {
            "marker": {
             "colorbar": {
              "outlinewidth": 0,
              "ticks": ""
             }
            },
            "type": "scatterpolar"
           }
          ],
          "scatterpolargl": [
           {
            "marker": {
             "colorbar": {
              "outlinewidth": 0,
              "ticks": ""
             }
            },
            "type": "scatterpolargl"
           }
          ],
          "scatterternary": [
           {
            "marker": {
             "colorbar": {
              "outlinewidth": 0,
              "ticks": ""
             }
            },
            "type": "scatterternary"
           }
          ],
          "surface": [
           {
            "colorbar": {
             "outlinewidth": 0,
             "ticks": ""
            },
            "colorscale": [
             [
              0,
              "#0d0887"
             ],
             [
              0.1111111111111111,
              "#46039f"
             ],
             [
              0.2222222222222222,
              "#7201a8"
             ],
             [
              0.3333333333333333,
              "#9c179e"
             ],
             [
              0.4444444444444444,
              "#bd3786"
             ],
             [
              0.5555555555555556,
              "#d8576b"
             ],
             [
              0.6666666666666666,
              "#ed7953"
             ],
             [
              0.7777777777777778,
              "#fb9f3a"
             ],
             [
              0.8888888888888888,
              "#fdca26"
             ],
             [
              1,
              "#f0f921"
             ]
            ],
            "type": "surface"
           }
          ],
          "table": [
           {
            "cells": {
             "fill": {
              "color": "#EBF0F8"
             },
             "line": {
              "color": "white"
             }
            },
            "header": {
             "fill": {
              "color": "#C8D4E3"
             },
             "line": {
              "color": "white"
             }
            },
            "type": "table"
           }
          ]
         },
         "layout": {
          "annotationdefaults": {
           "arrowcolor": "#2a3f5f",
           "arrowhead": 0,
           "arrowwidth": 1
          },
          "autotypenumbers": "strict",
          "coloraxis": {
           "colorbar": {
            "outlinewidth": 0,
            "ticks": ""
           }
          },
          "colorscale": {
           "diverging": [
            [
             0,
             "#8e0152"
            ],
            [
             0.1,
             "#c51b7d"
            ],
            [
             0.2,
             "#de77ae"
            ],
            [
             0.3,
             "#f1b6da"
            ],
            [
             0.4,
             "#fde0ef"
            ],
            [
             0.5,
             "#f7f7f7"
            ],
            [
             0.6,
             "#e6f5d0"
            ],
            [
             0.7,
             "#b8e186"
            ],
            [
             0.8,
             "#7fbc41"
            ],
            [
             0.9,
             "#4d9221"
            ],
            [
             1,
             "#276419"
            ]
           ],
           "sequential": [
            [
             0,
             "#0d0887"
            ],
            [
             0.1111111111111111,
             "#46039f"
            ],
            [
             0.2222222222222222,
             "#7201a8"
            ],
            [
             0.3333333333333333,
             "#9c179e"
            ],
            [
             0.4444444444444444,
             "#bd3786"
            ],
            [
             0.5555555555555556,
             "#d8576b"
            ],
            [
             0.6666666666666666,
             "#ed7953"
            ],
            [
             0.7777777777777778,
             "#fb9f3a"
            ],
            [
             0.8888888888888888,
             "#fdca26"
            ],
            [
             1,
             "#f0f921"
            ]
           ],
           "sequentialminus": [
            [
             0,
             "#0d0887"
            ],
            [
             0.1111111111111111,
             "#46039f"
            ],
            [
             0.2222222222222222,
             "#7201a8"
            ],
            [
             0.3333333333333333,
             "#9c179e"
            ],
            [
             0.4444444444444444,
             "#bd3786"
            ],
            [
             0.5555555555555556,
             "#d8576b"
            ],
            [
             0.6666666666666666,
             "#ed7953"
            ],
            [
             0.7777777777777778,
             "#fb9f3a"
            ],
            [
             0.8888888888888888,
             "#fdca26"
            ],
            [
             1,
             "#f0f921"
            ]
           ]
          },
          "colorway": [
           "#636efa",
           "#EF553B",
           "#00cc96",
           "#ab63fa",
           "#FFA15A",
           "#19d3f3",
           "#FF6692",
           "#B6E880",
           "#FF97FF",
           "#FECB52"
          ],
          "font": {
           "color": "#2a3f5f"
          },
          "geo": {
           "bgcolor": "white",
           "lakecolor": "white",
           "landcolor": "#E5ECF6",
           "showlakes": true,
           "showland": true,
           "subunitcolor": "white"
          },
          "hoverlabel": {
           "align": "left"
          },
          "hovermode": "closest",
          "mapbox": {
           "style": "light"
          },
          "paper_bgcolor": "white",
          "plot_bgcolor": "#E5ECF6",
          "polar": {
           "angularaxis": {
            "gridcolor": "white",
            "linecolor": "white",
            "ticks": ""
           },
           "bgcolor": "#E5ECF6",
           "radialaxis": {
            "gridcolor": "white",
            "linecolor": "white",
            "ticks": ""
           }
          },
          "scene": {
           "xaxis": {
            "backgroundcolor": "#E5ECF6",
            "gridcolor": "white",
            "gridwidth": 2,
            "linecolor": "white",
            "showbackground": true,
            "ticks": "",
            "zerolinecolor": "white"
           },
           "yaxis": {
            "backgroundcolor": "#E5ECF6",
            "gridcolor": "white",
            "gridwidth": 2,
            "linecolor": "white",
            "showbackground": true,
            "ticks": "",
            "zerolinecolor": "white"
           },
           "zaxis": {
            "backgroundcolor": "#E5ECF6",
            "gridcolor": "white",
            "gridwidth": 2,
            "linecolor": "white",
            "showbackground": true,
            "ticks": "",
            "zerolinecolor": "white"
           }
          },
          "shapedefaults": {
           "line": {
            "color": "#2a3f5f"
           }
          },
          "ternary": {
           "aaxis": {
            "gridcolor": "white",
            "linecolor": "white",
            "ticks": ""
           },
           "baxis": {
            "gridcolor": "white",
            "linecolor": "white",
            "ticks": ""
           },
           "bgcolor": "#E5ECF6",
           "caxis": {
            "gridcolor": "white",
            "linecolor": "white",
            "ticks": ""
           }
          },
          "title": {
           "x": 0.05
          },
          "xaxis": {
           "automargin": true,
           "gridcolor": "white",
           "linecolor": "white",
           "ticks": "",
           "title": {
            "standoff": 15
           },
           "zerolinecolor": "white",
           "zerolinewidth": 2
          },
          "yaxis": {
           "automargin": true,
           "gridcolor": "white",
           "linecolor": "white",
           "ticks": "",
           "title": {
            "standoff": 15
           },
           "zerolinecolor": "white",
           "zerolinewidth": 2
          }
         }
        },
        "title": {
         "text": "User Clustering based on Topic Distribution (K-means, 8 clusters)"
        },
        "width": 900,
        "xaxis": {
         "anchor": "y",
         "domain": [
          0,
          1
         ],
         "title": {
          "text": "t-SNE Dimension 1"
         }
        },
        "yaxis": {
         "anchor": "x",
         "domain": [
          0,
          1
         ],
         "title": {
          "text": "t-SNE Dimension 2"
         }
        }
       }
      }
     },
     "metadata": {},
     "output_type": "display_data"
    },
    {
     "data": {
      "application/vnd.plotly.v1+json": {
       "config": {
        "plotlyServerURL": "https://plot.ly"
       },
       "data": [
        {
         "coloraxis": "coloraxis",
         "hovertemplate": "Topic: %{x}<br>Cluster: %{y}<br>Mean Weight: %{z}<extra></extra>",
         "name": "0",
         "type": "heatmap",
         "x": [
          "Topic 0",
          "Topic 1",
          "Topic 2",
          "Topic 3",
          "Topic 4",
          "Topic 5",
          "Topic 6",
          "Topic 7",
          "Topic 8",
          "Topic 9",
          "Topic 10",
          "Topic 11"
         ],
         "xaxis": "x",
         "y": [
          "Cluster 0",
          "Cluster 1",
          "Cluster 2",
          "Cluster 3",
          "Cluster 4",
          "Cluster 5",
          "Cluster 6",
          "Cluster 7"
         ],
         "yaxis": "y",
         "z": [
          [
           0.021084371794871794,
           0.013596495726495725,
           0.051539448717948716,
           0.017139307692307693,
           0.4087341068376068,
           0.014606632478632477,
           0.009785098290598291,
           0.008100696581196581,
           0.2909740341880342,
           0.01117109829059829,
           0.144700641025641,
           0.008568145299145298
          ],
          [
           0.055893771428571416,
           0.020852,
           0.025005199999999998,
           0.01958862857142857,
           0.2041216857142857,
           0.023463828571428574,
           0.0092052,
           0.003654342857142857,
           0.1514968285714286,
           0.3760775428571429,
           0.08587308571428569,
           0.024767800000000003
          ],
          [
           0.027612039999999997,
           0.01189304,
           0.01648256,
           0.03634632,
           0.1413344,
           0.01592612,
           0.008988000000000001,
           0.005645960000000001,
           0.22430735999999996,
           0.00695784,
           0.49264724,
           0.011859439999999999
          ],
          [
           0.0455362,
           0.01845304,
           0.03028736,
           0.04323539999999999,
           0.17833603999999997,
           0.013323820000000002,
           0.021223080000000002,
           0.00562964,
           0.3446382799999999,
           0.00856126,
           0.27688502,
           0.013890739999999999
          ],
          [
           0.0074174,
           0.0077528,
           0.0243564,
           0.0189644,
           0.09082900000000001,
           0.004313,
           0.5644134000000001,
           0.002438,
           0.1680276,
           0.006848599999999999,
           0.10161400000000001,
           0.0030245999999999997
          ],
          [
           0.03444571428571429,
           0.008812428571428572,
           0.018479000000000002,
           0.012556428571428569,
           0.19930714285714285,
           0.006713999999999999,
           0.004936857142857143,
           0.0037954285714285716,
           0.15873614285714285,
           0.005434285714285715,
           0.12571842857142856,
           0.42106499999999997
          ],
          [
           0.0188998,
           0.34463079999999996,
           0.020225999999999997,
           0.0138595,
           0.2000911,
           0.0074015,
           0.005442799999999999,
           0.0041844,
           0.19546460000000002,
           0.0059908,
           0.11385110000000001,
           0.0699577
          ],
          [
           0.015717415584415584,
           0.013247142857142857,
           0.027431168831168827,
           0.021790272727272728,
           0.24415490909090906,
           0.014573987012987018,
           0.008281701298701299,
           0.005954636363636363,
           0.4667891168831169,
           0.009034142857142857,
           0.1680737792207792,
           0.004951597402597402
          ]
         ]
        }
       ],
       "layout": {
        "coloraxis": {
         "colorbar": {
          "title": {
           "text": "Mean Weight"
          }
         },
         "colorscale": [
          [
           0,
           "#440154"
          ],
          [
           0.1111111111111111,
           "#482878"
          ],
          [
           0.2222222222222222,
           "#3e4989"
          ],
          [
           0.3333333333333333,
           "#31688e"
          ],
          [
           0.4444444444444444,
           "#26828e"
          ],
          [
           0.5555555555555556,
           "#1f9e89"
          ],
          [
           0.6666666666666666,
           "#35b779"
          ],
          [
           0.7777777777777778,
           "#6ece58"
          ],
          [
           0.8888888888888888,
           "#b5de2b"
          ],
          [
           1,
           "#fde725"
          ]
         ]
        },
        "height": 400,
        "margin": {
         "t": 60
        },
        "template": {
         "data": {
          "bar": [
           {
            "error_x": {
             "color": "#2a3f5f"
            },
            "error_y": {
             "color": "#2a3f5f"
            },
            "marker": {
             "line": {
              "color": "#E5ECF6",
              "width": 0.5
             },
             "pattern": {
              "fillmode": "overlay",
              "size": 10,
              "solidity": 0.2
             }
            },
            "type": "bar"
           }
          ],
          "barpolar": [
           {
            "marker": {
             "line": {
              "color": "#E5ECF6",
              "width": 0.5
             },
             "pattern": {
              "fillmode": "overlay",
              "size": 10,
              "solidity": 0.2
             }
            },
            "type": "barpolar"
           }
          ],
          "carpet": [
           {
            "aaxis": {
             "endlinecolor": "#2a3f5f",
             "gridcolor": "white",
             "linecolor": "white",
             "minorgridcolor": "white",
             "startlinecolor": "#2a3f5f"
            },
            "baxis": {
             "endlinecolor": "#2a3f5f",
             "gridcolor": "white",
             "linecolor": "white",
             "minorgridcolor": "white",
             "startlinecolor": "#2a3f5f"
            },
            "type": "carpet"
           }
          ],
          "choropleth": [
           {
            "colorbar": {
             "outlinewidth": 0,
             "ticks": ""
            },
            "type": "choropleth"
           }
          ],
          "contour": [
           {
            "colorbar": {
             "outlinewidth": 0,
             "ticks": ""
            },
            "colorscale": [
             [
              0,
              "#0d0887"
             ],
             [
              0.1111111111111111,
              "#46039f"
             ],
             [
              0.2222222222222222,
              "#7201a8"
             ],
             [
              0.3333333333333333,
              "#9c179e"
             ],
             [
              0.4444444444444444,
              "#bd3786"
             ],
             [
              0.5555555555555556,
              "#d8576b"
             ],
             [
              0.6666666666666666,
              "#ed7953"
             ],
             [
              0.7777777777777778,
              "#fb9f3a"
             ],
             [
              0.8888888888888888,
              "#fdca26"
             ],
             [
              1,
              "#f0f921"
             ]
            ],
            "type": "contour"
           }
          ],
          "contourcarpet": [
           {
            "colorbar": {
             "outlinewidth": 0,
             "ticks": ""
            },
            "type": "contourcarpet"
           }
          ],
          "heatmap": [
           {
            "colorbar": {
             "outlinewidth": 0,
             "ticks": ""
            },
            "colorscale": [
             [
              0,
              "#0d0887"
             ],
             [
              0.1111111111111111,
              "#46039f"
             ],
             [
              0.2222222222222222,
              "#7201a8"
             ],
             [
              0.3333333333333333,
              "#9c179e"
             ],
             [
              0.4444444444444444,
              "#bd3786"
             ],
             [
              0.5555555555555556,
              "#d8576b"
             ],
             [
              0.6666666666666666,
              "#ed7953"
             ],
             [
              0.7777777777777778,
              "#fb9f3a"
             ],
             [
              0.8888888888888888,
              "#fdca26"
             ],
             [
              1,
              "#f0f921"
             ]
            ],
            "type": "heatmap"
           }
          ],
          "heatmapgl": [
           {
            "colorbar": {
             "outlinewidth": 0,
             "ticks": ""
            },
            "colorscale": [
             [
              0,
              "#0d0887"
             ],
             [
              0.1111111111111111,
              "#46039f"
             ],
             [
              0.2222222222222222,
              "#7201a8"
             ],
             [
              0.3333333333333333,
              "#9c179e"
             ],
             [
              0.4444444444444444,
              "#bd3786"
             ],
             [
              0.5555555555555556,
              "#d8576b"
             ],
             [
              0.6666666666666666,
              "#ed7953"
             ],
             [
              0.7777777777777778,
              "#fb9f3a"
             ],
             [
              0.8888888888888888,
              "#fdca26"
             ],
             [
              1,
              "#f0f921"
             ]
            ],
            "type": "heatmapgl"
           }
          ],
          "histogram": [
           {
            "marker": {
             "pattern": {
              "fillmode": "overlay",
              "size": 10,
              "solidity": 0.2
             }
            },
            "type": "histogram"
           }
          ],
          "histogram2d": [
           {
            "colorbar": {
             "outlinewidth": 0,
             "ticks": ""
            },
            "colorscale": [
             [
              0,
              "#0d0887"
             ],
             [
              0.1111111111111111,
              "#46039f"
             ],
             [
              0.2222222222222222,
              "#7201a8"
             ],
             [
              0.3333333333333333,
              "#9c179e"
             ],
             [
              0.4444444444444444,
              "#bd3786"
             ],
             [
              0.5555555555555556,
              "#d8576b"
             ],
             [
              0.6666666666666666,
              "#ed7953"
             ],
             [
              0.7777777777777778,
              "#fb9f3a"
             ],
             [
              0.8888888888888888,
              "#fdca26"
             ],
             [
              1,
              "#f0f921"
             ]
            ],
            "type": "histogram2d"
           }
          ],
          "histogram2dcontour": [
           {
            "colorbar": {
             "outlinewidth": 0,
             "ticks": ""
            },
            "colorscale": [
             [
              0,
              "#0d0887"
             ],
             [
              0.1111111111111111,
              "#46039f"
             ],
             [
              0.2222222222222222,
              "#7201a8"
             ],
             [
              0.3333333333333333,
              "#9c179e"
             ],
             [
              0.4444444444444444,
              "#bd3786"
             ],
             [
              0.5555555555555556,
              "#d8576b"
             ],
             [
              0.6666666666666666,
              "#ed7953"
             ],
             [
              0.7777777777777778,
              "#fb9f3a"
             ],
             [
              0.8888888888888888,
              "#fdca26"
             ],
             [
              1,
              "#f0f921"
             ]
            ],
            "type": "histogram2dcontour"
           }
          ],
          "mesh3d": [
           {
            "colorbar": {
             "outlinewidth": 0,
             "ticks": ""
            },
            "type": "mesh3d"
           }
          ],
          "parcoords": [
           {
            "line": {
             "colorbar": {
              "outlinewidth": 0,
              "ticks": ""
             }
            },
            "type": "parcoords"
           }
          ],
          "pie": [
           {
            "automargin": true,
            "type": "pie"
           }
          ],
          "scatter": [
           {
            "fillpattern": {
             "fillmode": "overlay",
             "size": 10,
             "solidity": 0.2
            },
            "type": "scatter"
           }
          ],
          "scatter3d": [
           {
            "line": {
             "colorbar": {
              "outlinewidth": 0,
              "ticks": ""
             }
            },
            "marker": {
             "colorbar": {
              "outlinewidth": 0,
              "ticks": ""
             }
            },
            "type": "scatter3d"
           }
          ],
          "scattercarpet": [
           {
            "marker": {
             "colorbar": {
              "outlinewidth": 0,
              "ticks": ""
             }
            },
            "type": "scattercarpet"
           }
          ],
          "scattergeo": [
           {
            "marker": {
             "colorbar": {
              "outlinewidth": 0,
              "ticks": ""
             }
            },
            "type": "scattergeo"
           }
          ],
          "scattergl": [
           {
            "marker": {
             "colorbar": {
              "outlinewidth": 0,
              "ticks": ""
             }
            },
            "type": "scattergl"
           }
          ],
          "scattermapbox": [
           {
            "marker": {
             "colorbar": {
              "outlinewidth": 0,
              "ticks": ""
             }
            },
            "type": "scattermapbox"
           }
          ],
          "scatterpolar": [
           {
            "marker": {
             "colorbar": {
              "outlinewidth": 0,
              "ticks": ""
             }
            },
            "type": "scatterpolar"
           }
          ],
          "scatterpolargl": [
           {
            "marker": {
             "colorbar": {
              "outlinewidth": 0,
              "ticks": ""
             }
            },
            "type": "scatterpolargl"
           }
          ],
          "scatterternary": [
           {
            "marker": {
             "colorbar": {
              "outlinewidth": 0,
              "ticks": ""
             }
            },
            "type": "scatterternary"
           }
          ],
          "surface": [
           {
            "colorbar": {
             "outlinewidth": 0,
             "ticks": ""
            },
            "colorscale": [
             [
              0,
              "#0d0887"
             ],
             [
              0.1111111111111111,
              "#46039f"
             ],
             [
              0.2222222222222222,
              "#7201a8"
             ],
             [
              0.3333333333333333,
              "#9c179e"
             ],
             [
              0.4444444444444444,
              "#bd3786"
             ],
             [
              0.5555555555555556,
              "#d8576b"
             ],
             [
              0.6666666666666666,
              "#ed7953"
             ],
             [
              0.7777777777777778,
              "#fb9f3a"
             ],
             [
              0.8888888888888888,
              "#fdca26"
             ],
             [
              1,
              "#f0f921"
             ]
            ],
            "type": "surface"
           }
          ],
          "table": [
           {
            "cells": {
             "fill": {
              "color": "#EBF0F8"
             },
             "line": {
              "color": "white"
             }
            },
            "header": {
             "fill": {
              "color": "#C8D4E3"
             },
             "line": {
              "color": "white"
             }
            },
            "type": "table"
           }
          ]
         },
         "layout": {
          "annotationdefaults": {
           "arrowcolor": "#2a3f5f",
           "arrowhead": 0,
           "arrowwidth": 1
          },
          "autotypenumbers": "strict",
          "coloraxis": {
           "colorbar": {
            "outlinewidth": 0,
            "ticks": ""
           }
          },
          "colorscale": {
           "diverging": [
            [
             0,
             "#8e0152"
            ],
            [
             0.1,
             "#c51b7d"
            ],
            [
             0.2,
             "#de77ae"
            ],
            [
             0.3,
             "#f1b6da"
            ],
            [
             0.4,
             "#fde0ef"
            ],
            [
             0.5,
             "#f7f7f7"
            ],
            [
             0.6,
             "#e6f5d0"
            ],
            [
             0.7,
             "#b8e186"
            ],
            [
             0.8,
             "#7fbc41"
            ],
            [
             0.9,
             "#4d9221"
            ],
            [
             1,
             "#276419"
            ]
           ],
           "sequential": [
            [
             0,
             "#0d0887"
            ],
            [
             0.1111111111111111,
             "#46039f"
            ],
            [
             0.2222222222222222,
             "#7201a8"
            ],
            [
             0.3333333333333333,
             "#9c179e"
            ],
            [
             0.4444444444444444,
             "#bd3786"
            ],
            [
             0.5555555555555556,
             "#d8576b"
            ],
            [
             0.6666666666666666,
             "#ed7953"
            ],
            [
             0.7777777777777778,
             "#fb9f3a"
            ],
            [
             0.8888888888888888,
             "#fdca26"
            ],
            [
             1,
             "#f0f921"
            ]
           ],
           "sequentialminus": [
            [
             0,
             "#0d0887"
            ],
            [
             0.1111111111111111,
             "#46039f"
            ],
            [
             0.2222222222222222,
             "#7201a8"
            ],
            [
             0.3333333333333333,
             "#9c179e"
            ],
            [
             0.4444444444444444,
             "#bd3786"
            ],
            [
             0.5555555555555556,
             "#d8576b"
            ],
            [
             0.6666666666666666,
             "#ed7953"
            ],
            [
             0.7777777777777778,
             "#fb9f3a"
            ],
            [
             0.8888888888888888,
             "#fdca26"
            ],
            [
             1,
             "#f0f921"
            ]
           ]
          },
          "colorway": [
           "#636efa",
           "#EF553B",
           "#00cc96",
           "#ab63fa",
           "#FFA15A",
           "#19d3f3",
           "#FF6692",
           "#B6E880",
           "#FF97FF",
           "#FECB52"
          ],
          "font": {
           "color": "#2a3f5f"
          },
          "geo": {
           "bgcolor": "white",
           "lakecolor": "white",
           "landcolor": "#E5ECF6",
           "showlakes": true,
           "showland": true,
           "subunitcolor": "white"
          },
          "hoverlabel": {
           "align": "left"
          },
          "hovermode": "closest",
          "mapbox": {
           "style": "light"
          },
          "paper_bgcolor": "white",
          "plot_bgcolor": "#E5ECF6",
          "polar": {
           "angularaxis": {
            "gridcolor": "white",
            "linecolor": "white",
            "ticks": ""
           },
           "bgcolor": "#E5ECF6",
           "radialaxis": {
            "gridcolor": "white",
            "linecolor": "white",
            "ticks": ""
           }
          },
          "scene": {
           "xaxis": {
            "backgroundcolor": "#E5ECF6",
            "gridcolor": "white",
            "gridwidth": 2,
            "linecolor": "white",
            "showbackground": true,
            "ticks": "",
            "zerolinecolor": "white"
           },
           "yaxis": {
            "backgroundcolor": "#E5ECF6",
            "gridcolor": "white",
            "gridwidth": 2,
            "linecolor": "white",
            "showbackground": true,
            "ticks": "",
            "zerolinecolor": "white"
           },
           "zaxis": {
            "backgroundcolor": "#E5ECF6",
            "gridcolor": "white",
            "gridwidth": 2,
            "linecolor": "white",
            "showbackground": true,
            "ticks": "",
            "zerolinecolor": "white"
           }
          },
          "shapedefaults": {
           "line": {
            "color": "#2a3f5f"
           }
          },
          "ternary": {
           "aaxis": {
            "gridcolor": "white",
            "linecolor": "white",
            "ticks": ""
           },
           "baxis": {
            "gridcolor": "white",
            "linecolor": "white",
            "ticks": ""
           },
           "bgcolor": "#E5ECF6",
           "caxis": {
            "gridcolor": "white",
            "linecolor": "white",
            "ticks": ""
           }
          },
          "title": {
           "x": 0.05
          },
          "xaxis": {
           "automargin": true,
           "gridcolor": "white",
           "linecolor": "white",
           "ticks": "",
           "title": {
            "standoff": 15
           },
           "zerolinecolor": "white",
           "zerolinewidth": 2
          },
          "yaxis": {
           "automargin": true,
           "gridcolor": "white",
           "linecolor": "white",
           "ticks": "",
           "title": {
            "standoff": 15
           },
           "zerolinecolor": "white",
           "zerolinewidth": 2
          }
         }
        },
        "title": {
         "text": "Cluster-Topic Distribution Heatmap"
        },
        "width": 900,
        "xaxis": {
         "anchor": "y",
         "domain": [
          0,
          1
         ],
         "title": {
          "text": "Topic"
         }
        },
        "yaxis": {
         "anchor": "x",
         "autorange": "reversed",
         "domain": [
          0,
          1
         ],
         "title": {
          "text": "Cluster"
         }
        }
       }
      }
     },
     "metadata": {},
     "output_type": "display_data"
    }
   ],
   "source": [
    "def plot_user_clustering(num_clusters, show_cluster_stats, show_heatmap ):\n",
    "    from sklearn.manifold import TSNE\n",
    "    from sklearn.cluster import KMeans\n",
    "    \n",
    "    # Extract topic distributions for each user\n",
    "    X = np.array([\n",
    "        [user_topic_df.iloc[i][f'Topic_{j}'] for j in range(num_topics)]\n",
    "        for i in range(len(user_topic_df))\n",
    "    ])\n",
    "    \n",
    "    # Apply dimensionality reduction\n",
    "    tsne = TSNE(n_components=2, random_state=42, perplexity=min(30, len(X)-1))\n",
    "    X_tsne = tsne.fit_transform(X)\n",
    "    \n",
    "    # Apply clustering\n",
    "    n_clusters = num_clusters\n",
    "    kmeans = KMeans(n_clusters=n_clusters, random_state=42)\n",
    "    clusters = kmeans.fit_predict(X)\n",
    "    \n",
    "    # Create DataFrame for plotting\n",
    "    plot_df = pd.DataFrame({\n",
    "        'x': X_tsne[:, 0],\n",
    "        'y': X_tsne[:, 1],\n",
    "        'user_id': user_topic_df['user_id'],\n",
    "        'cluster': clusters,\n",
    "        'post_count': user_topic_df['post_count'],\n",
    "        'gini': user_topic_df['gini_coefficient']\n",
    "    })\n",
    "    \n",
    "    # Add suspicious flag if available\n",
    "    if 'suspicious' in suspicious_df.columns:\n",
    "        susp_dict = dict(zip(suspicious_df['user_id'], suspicious_df['suspicious']))\n",
    "        plot_df['suspicious'] = plot_df['user_id'].map(susp_dict).fillna(False)\n",
    "    \n",
    "    # Create scatter plot\n",
    "    fig = px.scatter(\n",
    "        plot_df,\n",
    "        x='x',\n",
    "        y='y',\n",
    "        color='cluster',\n",
    "        size='post_count',\n",
    "        hover_data=['user_id', 'gini', 'post_count'],\n",
    "        size_max=20,\n",
    "        opacity=0.7,\n",
    "        title=f'User Clustering based on Topic Distribution (K-means, {n_clusters} clusters)'\n",
    "    )\n",
    "    \n",
    "    # Highlight suspicious users if available\n",
    "    if 'suspicious' in plot_df.columns:\n",
    "        susp_df = plot_df[plot_df['suspicious']]\n",
    "        \n",
    "        fig.add_trace(\n",
    "            go.Scatter(\n",
    "                x=susp_df['x'],\n",
    "                y=susp_df['y'],\n",
    "                mode='markers',\n",
    "                marker=dict(\n",
    "                    color='red',\n",
    "                    size=15,\n",
    "                    line=dict(color='black', width=2)\n",
    "                ),\n",
    "                name='Suspicious',\n",
    "                text=susp_df['user_id'],\n",
    "                hoverinfo='text'\n",
    "            )\n",
    "        )\n",
    "    \n",
    "    fig.update_layout(\n",
    "        xaxis_title=\"t-SNE Dimension 1\",\n",
    "        yaxis_title=\"t-SNE Dimension 2\",\n",
    "        height=700,\n",
    "        width=900\n",
    "    )\n",
    "    \n",
    "    fig.show()\n",
    "    \n",
    "    # Show cluster statistics\n",
    "    if show_cluster_stats:\n",
    "        cluster_stats = plot_df.groupby('cluster').agg({\n",
    "            'user_id': 'count',\n",
    "            'gini': 'mean',\n",
    "            'post_count': 'mean'\n",
    "        }).reset_index()\n",
    "        \n",
    "        cluster_stats.columns = ['Cluster', 'User Count', 'Avg Gini', 'Avg Post Count']\n",
    "        display(cluster_stats.style.background_gradient(cmap='Blues'))\n",
    "        \n",
    "        # Show dominant topics per cluster\n",
    "        print(\"\\nDominant Topics per Cluster:\")\n",
    "        cluster_topic_means = []\n",
    "        \n",
    "        for cluster_id in range(n_clusters):\n",
    "            cluster_users = plot_df[plot_df['cluster'] == cluster_id]['user_id']\n",
    "            cluster_user_data = user_topic_df[user_topic_df['user_id'].isin(cluster_users)]\n",
    "            \n",
    "            # Calculate mean topic distribution for this cluster\n",
    "            topic_means = [cluster_user_data[f'Topic_{i}'].mean() for i in range(num_topics)]\n",
    "            \n",
    "            # Get top 3 topics\n",
    "            top_topics = np.argsort(topic_means)[-3:][::-1]\n",
    "            top_values = [topic_means[i] for i in top_topics]\n",
    "            \n",
    "            print(f\"Cluster {cluster_id}: Topic {top_topics[0]} ({top_values[0]:.3f}), \"\n",
    "                 f\"Topic {top_topics[1]} ({top_values[1]:.3f}), \"\n",
    "                 f\"Topic {top_topics[2]} ({top_values[2]:.3f})\")\n",
    "            \n",
    "            cluster_topic_means.append(topic_means)\n",
    "        \n",
    "        # Create heatmap of cluster-topic distributions\n",
    "        if show_heatmap:\n",
    "            cluster_topic_df = pd.DataFrame(\n",
    "                cluster_topic_means,\n",
    "                columns=[f'Topic {i}' for i in range(num_topics)]\n",
    "            )\n",
    "            \n",
    "            fig = px.imshow(\n",
    "                cluster_topic_df,\n",
    "                labels=dict(x=\"Topic\", y=\"Cluster\", color=\"Mean Weight\"),\n",
    "                x=[f'Topic {i}' for i in range(num_topics)],\n",
    "                y=[f'Cluster {i}' for i in range(n_clusters)],\n",
    "                color_continuous_scale='Viridis',\n",
    "                aspect=\"auto\"\n",
    "            )\n",
    "            \n",
    "            fig.update_layout(\n",
    "                title='Cluster-Topic Distribution Heatmap',\n",
    "                height=400,\n",
    "                width=900\n",
    "            )\n",
    "            \n",
    "            fig.show()\n",
    "\n",
    "# Create controls for user clustering visualization\n",
    "num_clusters = widgets.IntSlider(\n",
    "    value=5,\n",
    "    min=2,\n",
    "    max=15,\n",
    "    step=1,\n",
    "    description='Clusters:',\n",
    "    style={'description_width': 'initial'}\n",
    ")\n",
    "\n",
    "show_cluster_stats = widgets.Checkbox(\n",
    "    value=True,\n",
    "    description='Show Cluster Statistics',\n",
    "    style={'description_width': 'initial'}\n",
    ")\n",
    "\n",
    "show_heatmap = widgets.Checkbox(\n",
    "    value=True,\n",
    "    description='Show Cluster-Topic Heatmap',\n",
    "    style={'description_width': 'initial'}\n",
    ")\n",
    "\n",
    "# Display interactive widget\n",
    "display(widgets.VBox([\n",
    "    widgets.HTML('<h3>User Clustering Analysis</h3>'),\n",
    "    widgets.HBox([num_clusters, show_cluster_stats, show_heatmap]),\n",
    "    widgets.interactive_output(plot_user_clustering, {\n",
    "        'num_clusters': num_clusters,\n",
    "        'show_cluster_stats': show_cluster_stats,\n",
    "        'show_heatmap': show_heatmap\n",
    "    })\n",
    "]))"
   ]
  }
 ],
 "metadata": {
  "kernelspec": {
   "display_name": "nlp",
   "language": "python",
   "name": "python3"
  },
  "language_info": {
   "codemirror_mode": {
    "name": "ipython",
    "version": 3
   },
   "file_extension": ".py",
   "mimetype": "text/x-python",
   "name": "python",
   "nbconvert_exporter": "python",
   "pygments_lexer": "ipython3",
   "version": "3.9.20"
  }
 },
 "nbformat": 4,
 "nbformat_minor": 5
}
